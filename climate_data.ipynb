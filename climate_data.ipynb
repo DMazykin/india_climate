{
 "cells": [
  {
   "cell_type": "markdown",
   "metadata": {},
   "source": [
    "### Download data"
   ]
  },
  {
   "cell_type": "code",
   "execution_count": 10,
   "metadata": {},
   "outputs": [
    {
     "name": "stderr",
     "output_type": "stream",
     "text": [
      "2024-11-05 23:36:01,772 INFO [2024-09-28T00:00:00] **Welcome to the New Climate Data Store (CDS)!** This new system is in its early days of full operations and still undergoing enhancements and fine tuning. Some disruptions are to be expected. Your \n",
      "[feedback](https://jira.ecmwf.int/plugins/servlet/desk/portal/1/create/202) is key to improve the user experience on the new CDS for the benefit of everyone. Thank you.\n",
      "2024-11-05 23:36:01,773 WARNING [2024-09-26T00:00:00] Should you have not yet migrated from the old CDS system to the new CDS, please check our [informative page](https://confluence.ecmwf.int/x/uINmFw) for guidance.\n",
      "2024-11-05 23:36:01,774 INFO [2024-09-26T00:00:00] Watch our [Forum](https://forum.ecmwf.int/) for Announcements, news and other discussed topics.\n",
      "2024-11-05 23:36:01,775 INFO [2024-09-16T00:00:00] Remember that you need to have an ECMWF account to use the new CDS. **Your old CDS credentials will not work in new CDS!**\n",
      "2024-11-05 23:36:01,777 WARNING [2024-06-16T00:00:00] CDS API syntax is changed and some keys or parameter names may have also changed. To avoid requests failing, please use the \"Show API request code\" tool on the dataset Download Form to check you are using the correct syntax for your API request.\n",
      "2024-11-05 23:36:02,728 WARNING [2024-10-10T00:00:00] The final validated ERA5 differs from ERA5T in July 2024 - please refer to our\n",
      "[Forum announcement](https://forum.ecmwf.int/t/final-validated-era5-product-to-differ-from-era5t-in-july-2024/6685)\n",
      "for details and watch it for further updates on this.\n",
      "2024-11-05 23:36:02,731 INFO Request ID is f9e6ead6-e102-4b45-8490-66e6d31cd12e\n",
      "2024-11-05 23:36:02,782 INFO status has been updated to accepted\n",
      "2024-11-05 23:36:05,713 INFO status has been updated to running\n",
      "2024-11-05 23:37:46,159 INFO status has been updated to successful\n"
     ]
    },
    {
     "data": {
      "application/vnd.jupyter.widget-view+json": {
       "model_id": "347926cfcd264507b2fbc6d1bc6e763d",
       "version_major": 2,
       "version_minor": 0
      },
      "text/plain": [
       "2f34c2fddcdca9791f25bab9864902da.nc:   0%|          | 0.00/28.2M [00:00<?, ?B/s]"
      ]
     },
     "metadata": {},
     "output_type": "display_data"
    },
    {
     "data": {
      "text/plain": [
       "'era5_monthly_data_09_24.nc'"
      ]
     },
     "execution_count": 10,
     "metadata": {},
     "output_type": "execute_result"
    }
   ],
   "source": [
    "import cdsapi\n",
    "\n",
    "\n",
    "c = cdsapi.Client()\n",
    "\n",
    "c.retrieve(\n",
    "    'reanalysis-era5-single-levels-monthly-means',  # dataset for monthly averages\n",
    "    {\n",
    "        'product_type': 'monthly_averaged_reanalysis',\n",
    "        'variable': [\n",
    "            '2m_temperature',            # Average temperature at 2 meters\n",
    "            'total_precipitation',       # Total precipitation\n",
    "            'volumetric_soil_water_layer_1',  # Soil moisture\n",
    "            '10m_u_component_of_wind',   # Wind u-component at 10m\n",
    "            '10m_v_component_of_wind',   # Wind v-component at 10m\n",
    "            'surface_solar_radiation_downwards'  # Solar radiation\n",
    "        ],\n",
    "        'year': [str(year) for year in range(2009, 2024)],  # Last 15 years\n",
    "        'month': [\n",
    "            '01', '02', '03', '04', '05', '06', \n",
    "            '07', '08', '09', '10', '11', '12'\n",
    "        ],                              # Months for the entire year\n",
    "        'time': '00:00',\n",
    "        'area': [\n",
    "            38, 68, 6, 97,              # North, West, South, East for India\n",
    "        ],\n",
    "        'format': 'netcdf'              # Output format (netCDF is common for climate data)\n",
    "    },\n",
    "    'era5_monthly_data_09_24.nc')             # Save as file"
   ]
  },
  {
   "cell_type": "markdown",
   "metadata": {},
   "source": [
    "#### Save to database"
   ]
  },
  {
   "cell_type": "code",
   "execution_count": 1,
   "metadata": {},
   "outputs": [],
   "source": [
    "import xarray as xr\n",
    "import ibis\n",
    "import pandas as pd\n",
    "import lonboard\n",
    "\n",
    "ibis.options.interactive = True"
   ]
  },
  {
   "cell_type": "code",
   "execution_count": 2,
   "metadata": {},
   "outputs": [],
   "source": [
    "# Open the downloaded hourly data file\n",
    "ds = xr.open_dataset('era5_monthly_data_09_24.nc')"
   ]
  },
  {
   "cell_type": "code",
   "execution_count": 3,
   "metadata": {},
   "outputs": [
    {
     "data": {
      "text/html": [
       "<div><svg style=\"position: absolute; width: 0; height: 0; overflow: hidden\">\n",
       "<defs>\n",
       "<symbol id=\"icon-database\" viewBox=\"0 0 32 32\">\n",
       "<path d=\"M16 0c-8.837 0-16 2.239-16 5v4c0 2.761 7.163 5 16 5s16-2.239 16-5v-4c0-2.761-7.163-5-16-5z\"></path>\n",
       "<path d=\"M16 17c-8.837 0-16-2.239-16-5v6c0 2.761 7.163 5 16 5s16-2.239 16-5v-6c0 2.761-7.163 5-16 5z\"></path>\n",
       "<path d=\"M16 26c-8.837 0-16-2.239-16-5v6c0 2.761 7.163 5 16 5s16-2.239 16-5v-6c0 2.761-7.163 5-16 5z\"></path>\n",
       "</symbol>\n",
       "<symbol id=\"icon-file-text2\" viewBox=\"0 0 32 32\">\n",
       "<path d=\"M28.681 7.159c-0.694-0.947-1.662-2.053-2.724-3.116s-2.169-2.030-3.116-2.724c-1.612-1.182-2.393-1.319-2.841-1.319h-15.5c-1.378 0-2.5 1.121-2.5 2.5v27c0 1.378 1.122 2.5 2.5 2.5h23c1.378 0 2.5-1.122 2.5-2.5v-19.5c0-0.448-0.137-1.23-1.319-2.841zM24.543 5.457c0.959 0.959 1.712 1.825 2.268 2.543h-4.811v-4.811c0.718 0.556 1.584 1.309 2.543 2.268zM28 29.5c0 0.271-0.229 0.5-0.5 0.5h-23c-0.271 0-0.5-0.229-0.5-0.5v-27c0-0.271 0.229-0.5 0.5-0.5 0 0 15.499-0 15.5 0v7c0 0.552 0.448 1 1 1h7v19.5z\"></path>\n",
       "<path d=\"M23 26h-14c-0.552 0-1-0.448-1-1s0.448-1 1-1h14c0.552 0 1 0.448 1 1s-0.448 1-1 1z\"></path>\n",
       "<path d=\"M23 22h-14c-0.552 0-1-0.448-1-1s0.448-1 1-1h14c0.552 0 1 0.448 1 1s-0.448 1-1 1z\"></path>\n",
       "<path d=\"M23 18h-14c-0.552 0-1-0.448-1-1s0.448-1 1-1h14c0.552 0 1 0.448 1 1s-0.448 1-1 1z\"></path>\n",
       "</symbol>\n",
       "</defs>\n",
       "</svg>\n",
       "<style>/* CSS stylesheet for displaying xarray objects in jupyterlab.\n",
       " *\n",
       " */\n",
       "\n",
       ":root {\n",
       "  --xr-font-color0: var(\n",
       "    --jp-content-font-color0,\n",
       "    var(--pst-color-text-base rgba(0, 0, 0, 1))\n",
       "  );\n",
       "  --xr-font-color2: var(\n",
       "    --jp-content-font-color2,\n",
       "    var(--pst-color-text-base, rgba(0, 0, 0, 0.54))\n",
       "  );\n",
       "  --xr-font-color3: var(\n",
       "    --jp-content-font-color3,\n",
       "    var(--pst-color-text-base, rgba(0, 0, 0, 0.38))\n",
       "  );\n",
       "  --xr-border-color: var(\n",
       "    --jp-border-color2,\n",
       "    hsl(from var(--pst-color-on-background, white) h s calc(l - 10))\n",
       "  );\n",
       "  --xr-disabled-color: var(\n",
       "    --jp-layout-color3,\n",
       "    hsl(from var(--pst-color-on-background, white) h s calc(l - 40))\n",
       "  );\n",
       "  --xr-background-color: var(\n",
       "    --jp-layout-color0,\n",
       "    var(--pst-color-on-background, white)\n",
       "  );\n",
       "  --xr-background-color-row-even: var(\n",
       "    --jp-layout-color1,\n",
       "    hsl(from var(--pst-color-on-background, white) h s calc(l - 5))\n",
       "  );\n",
       "  --xr-background-color-row-odd: var(\n",
       "    --jp-layout-color2,\n",
       "    hsl(from var(--pst-color-on-background, white) h s calc(l - 15))\n",
       "  );\n",
       "}\n",
       "\n",
       "html[theme=\"dark\"],\n",
       "html[data-theme=\"dark\"],\n",
       "body[data-theme=\"dark\"],\n",
       "body.vscode-dark {\n",
       "  --xr-font-color0: var(\n",
       "    --jp-content-font-color0,\n",
       "    var(--pst-color-text-base, rgba(255, 255, 255, 1))\n",
       "  );\n",
       "  --xr-font-color2: var(\n",
       "    --jp-content-font-color2,\n",
       "    var(--pst-color-text-base, rgba(255, 255, 255, 0.54))\n",
       "  );\n",
       "  --xr-font-color3: var(\n",
       "    --jp-content-font-color3,\n",
       "    var(--pst-color-text-base, rgba(255, 255, 255, 0.38))\n",
       "  );\n",
       "  --xr-border-color: var(\n",
       "    --jp-border-color2,\n",
       "    hsl(from var(--pst-color-on-background, #111111) h s calc(l + 10))\n",
       "  );\n",
       "  --xr-disabled-color: var(\n",
       "    --jp-layout-color3,\n",
       "    hsl(from var(--pst-color-on-background, #111111) h s calc(l + 40))\n",
       "  );\n",
       "  --xr-background-color: var(\n",
       "    --jp-layout-color0,\n",
       "    var(--pst-color-on-background, #111111)\n",
       "  );\n",
       "  --xr-background-color-row-even: var(\n",
       "    --jp-layout-color1,\n",
       "    hsl(from var(--pst-color-on-background, #111111) h s calc(l + 5))\n",
       "  );\n",
       "  --xr-background-color-row-odd: var(\n",
       "    --jp-layout-color2,\n",
       "    hsl(from var(--pst-color-on-background, #111111) h s calc(l + 15))\n",
       "  );\n",
       "}\n",
       "\n",
       ".xr-wrap {\n",
       "  display: block !important;\n",
       "  min-width: 300px;\n",
       "  max-width: 700px;\n",
       "}\n",
       "\n",
       ".xr-text-repr-fallback {\n",
       "  /* fallback to plain text repr when CSS is not injected (untrusted notebook) */\n",
       "  display: none;\n",
       "}\n",
       "\n",
       ".xr-header {\n",
       "  padding-top: 6px;\n",
       "  padding-bottom: 6px;\n",
       "  margin-bottom: 4px;\n",
       "  border-bottom: solid 1px var(--xr-border-color);\n",
       "}\n",
       "\n",
       ".xr-header > div,\n",
       ".xr-header > ul {\n",
       "  display: inline;\n",
       "  margin-top: 0;\n",
       "  margin-bottom: 0;\n",
       "}\n",
       "\n",
       ".xr-obj-type,\n",
       ".xr-array-name {\n",
       "  margin-left: 2px;\n",
       "  margin-right: 10px;\n",
       "}\n",
       "\n",
       ".xr-obj-type {\n",
       "  color: var(--xr-font-color2);\n",
       "}\n",
       "\n",
       ".xr-sections {\n",
       "  padding-left: 0 !important;\n",
       "  display: grid;\n",
       "  grid-template-columns: 150px auto auto 1fr 0 20px 0 20px;\n",
       "}\n",
       "\n",
       ".xr-section-item {\n",
       "  display: contents;\n",
       "}\n",
       "\n",
       ".xr-section-item input {\n",
       "  display: inline-block;\n",
       "  opacity: 0;\n",
       "  height: 0;\n",
       "}\n",
       "\n",
       ".xr-section-item input + label {\n",
       "  color: var(--xr-disabled-color);\n",
       "  border: 2px solid transparent !important;\n",
       "}\n",
       "\n",
       ".xr-section-item input:enabled + label {\n",
       "  cursor: pointer;\n",
       "  color: var(--xr-font-color2);\n",
       "}\n",
       "\n",
       ".xr-section-item input:focus + label {\n",
       "  border: 2px solid var(--xr-font-color0) !important;\n",
       "}\n",
       "\n",
       ".xr-section-item input:enabled + label:hover {\n",
       "  color: var(--xr-font-color0);\n",
       "}\n",
       "\n",
       ".xr-section-summary {\n",
       "  grid-column: 1;\n",
       "  color: var(--xr-font-color2);\n",
       "  font-weight: 500;\n",
       "}\n",
       "\n",
       ".xr-section-summary > span {\n",
       "  display: inline-block;\n",
       "  padding-left: 0.5em;\n",
       "}\n",
       "\n",
       ".xr-section-summary-in:disabled + label {\n",
       "  color: var(--xr-font-color2);\n",
       "}\n",
       "\n",
       ".xr-section-summary-in + label:before {\n",
       "  display: inline-block;\n",
       "  content: \"►\";\n",
       "  font-size: 11px;\n",
       "  width: 15px;\n",
       "  text-align: center;\n",
       "}\n",
       "\n",
       ".xr-section-summary-in:disabled + label:before {\n",
       "  color: var(--xr-disabled-color);\n",
       "}\n",
       "\n",
       ".xr-section-summary-in:checked + label:before {\n",
       "  content: \"▼\";\n",
       "}\n",
       "\n",
       ".xr-section-summary-in:checked + label > span {\n",
       "  display: none;\n",
       "}\n",
       "\n",
       ".xr-section-summary,\n",
       ".xr-section-inline-details {\n",
       "  padding-top: 4px;\n",
       "  padding-bottom: 4px;\n",
       "}\n",
       "\n",
       ".xr-section-inline-details {\n",
       "  grid-column: 2 / -1;\n",
       "}\n",
       "\n",
       ".xr-section-details {\n",
       "  display: none;\n",
       "  grid-column: 1 / -1;\n",
       "  margin-bottom: 5px;\n",
       "}\n",
       "\n",
       ".xr-section-summary-in:checked ~ .xr-section-details {\n",
       "  display: contents;\n",
       "}\n",
       "\n",
       ".xr-array-wrap {\n",
       "  grid-column: 1 / -1;\n",
       "  display: grid;\n",
       "  grid-template-columns: 20px auto;\n",
       "}\n",
       "\n",
       ".xr-array-wrap > label {\n",
       "  grid-column: 1;\n",
       "  vertical-align: top;\n",
       "}\n",
       "\n",
       ".xr-preview {\n",
       "  color: var(--xr-font-color3);\n",
       "}\n",
       "\n",
       ".xr-array-preview,\n",
       ".xr-array-data {\n",
       "  padding: 0 5px !important;\n",
       "  grid-column: 2;\n",
       "}\n",
       "\n",
       ".xr-array-data,\n",
       ".xr-array-in:checked ~ .xr-array-preview {\n",
       "  display: none;\n",
       "}\n",
       "\n",
       ".xr-array-in:checked ~ .xr-array-data,\n",
       ".xr-array-preview {\n",
       "  display: inline-block;\n",
       "}\n",
       "\n",
       ".xr-dim-list {\n",
       "  display: inline-block !important;\n",
       "  list-style: none;\n",
       "  padding: 0 !important;\n",
       "  margin: 0;\n",
       "}\n",
       "\n",
       ".xr-dim-list li {\n",
       "  display: inline-block;\n",
       "  padding: 0;\n",
       "  margin: 0;\n",
       "}\n",
       "\n",
       ".xr-dim-list:before {\n",
       "  content: \"(\";\n",
       "}\n",
       "\n",
       ".xr-dim-list:after {\n",
       "  content: \")\";\n",
       "}\n",
       "\n",
       ".xr-dim-list li:not(:last-child):after {\n",
       "  content: \",\";\n",
       "  padding-right: 5px;\n",
       "}\n",
       "\n",
       ".xr-has-index {\n",
       "  font-weight: bold;\n",
       "}\n",
       "\n",
       ".xr-var-list,\n",
       ".xr-var-item {\n",
       "  display: contents;\n",
       "}\n",
       "\n",
       ".xr-var-item > div,\n",
       ".xr-var-item label,\n",
       ".xr-var-item > .xr-var-name span {\n",
       "  background-color: var(--xr-background-color-row-even);\n",
       "  border-color: var(--xr-background-color-row-odd);\n",
       "  margin-bottom: 0;\n",
       "  padding-top: 2px;\n",
       "}\n",
       "\n",
       ".xr-var-item > .xr-var-name:hover span {\n",
       "  padding-right: 5px;\n",
       "}\n",
       "\n",
       ".xr-var-list > li:nth-child(odd) > div,\n",
       ".xr-var-list > li:nth-child(odd) > label,\n",
       ".xr-var-list > li:nth-child(odd) > .xr-var-name span {\n",
       "  background-color: var(--xr-background-color-row-odd);\n",
       "  border-color: var(--xr-background-color-row-even);\n",
       "}\n",
       "\n",
       ".xr-var-name {\n",
       "  grid-column: 1;\n",
       "}\n",
       "\n",
       ".xr-var-dims {\n",
       "  grid-column: 2;\n",
       "}\n",
       "\n",
       ".xr-var-dtype {\n",
       "  grid-column: 3;\n",
       "  text-align: right;\n",
       "  color: var(--xr-font-color2);\n",
       "}\n",
       "\n",
       ".xr-var-preview {\n",
       "  grid-column: 4;\n",
       "}\n",
       "\n",
       ".xr-index-preview {\n",
       "  grid-column: 2 / 5;\n",
       "  color: var(--xr-font-color2);\n",
       "}\n",
       "\n",
       ".xr-var-name,\n",
       ".xr-var-dims,\n",
       ".xr-var-dtype,\n",
       ".xr-preview,\n",
       ".xr-attrs dt {\n",
       "  white-space: nowrap;\n",
       "  overflow: hidden;\n",
       "  text-overflow: ellipsis;\n",
       "  padding-right: 10px;\n",
       "}\n",
       "\n",
       ".xr-var-name:hover,\n",
       ".xr-var-dims:hover,\n",
       ".xr-var-dtype:hover,\n",
       ".xr-attrs dt:hover {\n",
       "  overflow: visible;\n",
       "  width: auto;\n",
       "  z-index: 1;\n",
       "}\n",
       "\n",
       ".xr-var-attrs,\n",
       ".xr-var-data,\n",
       ".xr-index-data {\n",
       "  display: none;\n",
       "  border-top: 2px dotted var(--xr-background-color);\n",
       "  padding-bottom: 20px !important;\n",
       "  padding-top: 10px !important;\n",
       "}\n",
       "\n",
       ".xr-var-attrs-in + label,\n",
       ".xr-var-data-in + label,\n",
       ".xr-index-data-in + label {\n",
       "  padding: 0 1px;\n",
       "}\n",
       "\n",
       ".xr-var-attrs-in:checked ~ .xr-var-attrs,\n",
       ".xr-var-data-in:checked ~ .xr-var-data,\n",
       ".xr-index-data-in:checked ~ .xr-index-data {\n",
       "  display: block;\n",
       "}\n",
       "\n",
       ".xr-var-data > table {\n",
       "  float: right;\n",
       "}\n",
       "\n",
       ".xr-var-data > pre,\n",
       ".xr-index-data > pre,\n",
       ".xr-var-data > table > tbody > tr {\n",
       "  background-color: transparent !important;\n",
       "}\n",
       "\n",
       ".xr-var-name span,\n",
       ".xr-var-data,\n",
       ".xr-index-name div,\n",
       ".xr-index-data,\n",
       ".xr-attrs {\n",
       "  padding-left: 25px !important;\n",
       "}\n",
       "\n",
       ".xr-attrs,\n",
       ".xr-var-attrs,\n",
       ".xr-var-data,\n",
       ".xr-index-data {\n",
       "  grid-column: 1 / -1;\n",
       "}\n",
       "\n",
       "dl.xr-attrs {\n",
       "  padding: 0;\n",
       "  margin: 0;\n",
       "  display: grid;\n",
       "  grid-template-columns: 125px auto;\n",
       "}\n",
       "\n",
       ".xr-attrs dt,\n",
       ".xr-attrs dd {\n",
       "  padding: 0;\n",
       "  margin: 0;\n",
       "  float: left;\n",
       "  padding-right: 10px;\n",
       "  width: auto;\n",
       "}\n",
       "\n",
       ".xr-attrs dt {\n",
       "  font-weight: normal;\n",
       "  grid-column: 1;\n",
       "}\n",
       "\n",
       ".xr-attrs dt:hover span {\n",
       "  display: inline-block;\n",
       "  background: var(--xr-background-color);\n",
       "  padding-right: 10px;\n",
       "}\n",
       "\n",
       ".xr-attrs dd {\n",
       "  grid-column: 2;\n",
       "  white-space: pre-wrap;\n",
       "  word-break: break-all;\n",
       "}\n",
       "\n",
       ".xr-icon-database,\n",
       ".xr-icon-file-text2,\n",
       ".xr-no-icon {\n",
       "  display: inline-block;\n",
       "  vertical-align: middle;\n",
       "  width: 1em;\n",
       "  height: 1.5em !important;\n",
       "  stroke-width: 0;\n",
       "  stroke: currentColor;\n",
       "  fill: currentColor;\n",
       "}\n",
       "\n",
       ".xr-var-attrs-in:checked + label > .xr-icon-file-text2,\n",
       ".xr-var-data-in:checked + label > .xr-icon-database,\n",
       ".xr-index-data-in:checked + label > .xr-icon-database {\n",
       "  color: var(--xr-font-color0);\n",
       "  filter: drop-shadow(1px 1px 5px var(--xr-font-color2));\n",
       "  stroke-width: 0.8px;\n",
       "}\n",
       "</style><pre class='xr-text-repr-fallback'>&lt;xarray.Dataset&gt; Size: 65MB\n",
       "Dimensions:    (date: 180, latitude: 129, longitude: 117)\n",
       "Coordinates:\n",
       "    number     int64 8B ...\n",
       "  * date       (date) int64 1kB 20090101 20090201 20090301 ... 20231101 20231201\n",
       "  * latitude   (latitude) float64 1kB 38.0 37.75 37.5 37.25 ... 6.5 6.25 6.0\n",
       "  * longitude  (longitude) float64 936B 68.0 68.25 68.5 ... 96.5 96.75 97.0\n",
       "    expver     (date) &lt;U4 3kB ...\n",
       "Data variables:\n",
       "    t2m        (date, latitude, longitude) float32 11MB ...\n",
       "    tp         (date, latitude, longitude) float32 11MB ...\n",
       "    swvl1      (date, latitude, longitude) float32 11MB ...\n",
       "    u10        (date, latitude, longitude) float32 11MB ...\n",
       "    v10        (date, latitude, longitude) float32 11MB ...\n",
       "    ssrd       (date, latitude, longitude) float32 11MB ...\n",
       "Attributes:\n",
       "    GRIB_centre:             ecmf\n",
       "    GRIB_centreDescription:  European Centre for Medium-Range Weather Forecasts\n",
       "    GRIB_subCentre:          0\n",
       "    Conventions:             CF-1.7\n",
       "    institution:             European Centre for Medium-Range Weather Forecasts\n",
       "    history:                 2024-11-05T22:37 GRIB to CDM+CF via cfgrib-0.9.1...</pre><div class='xr-wrap' style='display:none'><div class='xr-header'><div class='xr-obj-type'>xarray.Dataset</div></div><ul class='xr-sections'><li class='xr-section-item'><input id='section-9d8fe7fb-4c82-4138-9ab5-bdf823e8a917' class='xr-section-summary-in' type='checkbox' disabled ><label for='section-9d8fe7fb-4c82-4138-9ab5-bdf823e8a917' class='xr-section-summary'  title='Expand/collapse section'>Dimensions:</label><div class='xr-section-inline-details'><ul class='xr-dim-list'><li><span class='xr-has-index'>date</span>: 180</li><li><span class='xr-has-index'>latitude</span>: 129</li><li><span class='xr-has-index'>longitude</span>: 117</li></ul></div><div class='xr-section-details'></div></li><li class='xr-section-item'><input id='section-1b9cde16-5e01-4144-91f7-82dbbf70506c' class='xr-section-summary-in' type='checkbox'  checked><label for='section-1b9cde16-5e01-4144-91f7-82dbbf70506c' class='xr-section-summary' >Coordinates: <span>(5)</span></label><div class='xr-section-inline-details'></div><div class='xr-section-details'><ul class='xr-var-list'><li class='xr-var-item'><div class='xr-var-name'><span>number</span></div><div class='xr-var-dims'>()</div><div class='xr-var-dtype'>int64</div><div class='xr-var-preview xr-preview'>...</div><input id='attrs-0aa027f6-1160-4bfc-89e9-e320306e7a62' class='xr-var-attrs-in' type='checkbox' ><label for='attrs-0aa027f6-1160-4bfc-89e9-e320306e7a62' title='Show/Hide attributes'><svg class='icon xr-icon-file-text2'><use xlink:href='#icon-file-text2'></use></svg></label><input id='data-40b659e7-0035-473e-acda-0d4945ea2e28' class='xr-var-data-in' type='checkbox'><label for='data-40b659e7-0035-473e-acda-0d4945ea2e28' title='Show/Hide data repr'><svg class='icon xr-icon-database'><use xlink:href='#icon-database'></use></svg></label><div class='xr-var-attrs'><dl class='xr-attrs'><dt><span>long_name :</span></dt><dd>ensemble member numerical id</dd><dt><span>units :</span></dt><dd>1</dd><dt><span>standard_name :</span></dt><dd>realization</dd></dl></div><div class='xr-var-data'><pre>[1 values with dtype=int64]</pre></div></li><li class='xr-var-item'><div class='xr-var-name'><span class='xr-has-index'>date</span></div><div class='xr-var-dims'>(date)</div><div class='xr-var-dtype'>int64</div><div class='xr-var-preview xr-preview'>20090101 20090201 ... 20231201</div><input id='attrs-f2a02d3b-53f7-4f74-8871-73bc555b9909' class='xr-var-attrs-in' type='checkbox' ><label for='attrs-f2a02d3b-53f7-4f74-8871-73bc555b9909' title='Show/Hide attributes'><svg class='icon xr-icon-file-text2'><use xlink:href='#icon-file-text2'></use></svg></label><input id='data-dd640327-4014-4dd8-aa6e-d587b269fb8b' class='xr-var-data-in' type='checkbox'><label for='data-dd640327-4014-4dd8-aa6e-d587b269fb8b' title='Show/Hide data repr'><svg class='icon xr-icon-database'><use xlink:href='#icon-database'></use></svg></label><div class='xr-var-attrs'><dl class='xr-attrs'><dt><span>long_name :</span></dt><dd>original GRIB coordinate for key: date(date)</dd><dt><span>units :</span></dt><dd>1</dd></dl></div><div class='xr-var-data'><pre>array([20090101, 20090201, 20090301, 20090401, 20090501, 20090601, 20090701,\n",
       "       20090801, 20090901, 20091001, 20091101, 20091201, 20100101, 20100201,\n",
       "       20100301, 20100401, 20100501, 20100601, 20100701, 20100801, 20100901,\n",
       "       20101001, 20101101, 20101201, 20110101, 20110201, 20110301, 20110401,\n",
       "       20110501, 20110601, 20110701, 20110801, 20110901, 20111001, 20111101,\n",
       "       20111201, 20120101, 20120201, 20120301, 20120401, 20120501, 20120601,\n",
       "       20120701, 20120801, 20120901, 20121001, 20121101, 20121201, 20130101,\n",
       "       20130201, 20130301, 20130401, 20130501, 20130601, 20130701, 20130801,\n",
       "       20130901, 20131001, 20131101, 20131201, 20140101, 20140201, 20140301,\n",
       "       20140401, 20140501, 20140601, 20140701, 20140801, 20140901, 20141001,\n",
       "       20141101, 20141201, 20150101, 20150201, 20150301, 20150401, 20150501,\n",
       "       20150601, 20150701, 20150801, 20150901, 20151001, 20151101, 20151201,\n",
       "       20160101, 20160201, 20160301, 20160401, 20160501, 20160601, 20160701,\n",
       "       20160801, 20160901, 20161001, 20161101, 20161201, 20170101, 20170201,\n",
       "       20170301, 20170401, 20170501, 20170601, 20170701, 20170801, 20170901,\n",
       "       20171001, 20171101, 20171201, 20180101, 20180201, 20180301, 20180401,\n",
       "       20180501, 20180601, 20180701, 20180801, 20180901, 20181001, 20181101,\n",
       "       20181201, 20190101, 20190201, 20190301, 20190401, 20190501, 20190601,\n",
       "       20190701, 20190801, 20190901, 20191001, 20191101, 20191201, 20200101,\n",
       "       20200201, 20200301, 20200401, 20200501, 20200601, 20200701, 20200801,\n",
       "       20200901, 20201001, 20201101, 20201201, 20210101, 20210201, 20210301,\n",
       "       20210401, 20210501, 20210601, 20210701, 20210801, 20210901, 20211001,\n",
       "       20211101, 20211201, 20220101, 20220201, 20220301, 20220401, 20220501,\n",
       "       20220601, 20220701, 20220801, 20220901, 20221001, 20221101, 20221201,\n",
       "       20230101, 20230201, 20230301, 20230401, 20230501, 20230601, 20230701,\n",
       "       20230801, 20230901, 20231001, 20231101, 20231201])</pre></div></li><li class='xr-var-item'><div class='xr-var-name'><span class='xr-has-index'>latitude</span></div><div class='xr-var-dims'>(latitude)</div><div class='xr-var-dtype'>float64</div><div class='xr-var-preview xr-preview'>38.0 37.75 37.5 ... 6.5 6.25 6.0</div><input id='attrs-aeff6862-4b04-4364-b7ce-0c1c2e4cf193' class='xr-var-attrs-in' type='checkbox' ><label for='attrs-aeff6862-4b04-4364-b7ce-0c1c2e4cf193' title='Show/Hide attributes'><svg class='icon xr-icon-file-text2'><use xlink:href='#icon-file-text2'></use></svg></label><input id='data-c6a1827f-dcba-4064-99da-c791ebf8b0c2' class='xr-var-data-in' type='checkbox'><label for='data-c6a1827f-dcba-4064-99da-c791ebf8b0c2' title='Show/Hide data repr'><svg class='icon xr-icon-database'><use xlink:href='#icon-database'></use></svg></label><div class='xr-var-attrs'><dl class='xr-attrs'><dt><span>units :</span></dt><dd>degrees_north</dd><dt><span>standard_name :</span></dt><dd>latitude</dd><dt><span>long_name :</span></dt><dd>latitude</dd><dt><span>stored_direction :</span></dt><dd>decreasing</dd></dl></div><div class='xr-var-data'><pre>array([38.  , 37.75, 37.5 , 37.25, 37.  , 36.75, 36.5 , 36.25, 36.  , 35.75,\n",
       "       35.5 , 35.25, 35.  , 34.75, 34.5 , 34.25, 34.  , 33.75, 33.5 , 33.25,\n",
       "       33.  , 32.75, 32.5 , 32.25, 32.  , 31.75, 31.5 , 31.25, 31.  , 30.75,\n",
       "       30.5 , 30.25, 30.  , 29.75, 29.5 , 29.25, 29.  , 28.75, 28.5 , 28.25,\n",
       "       28.  , 27.75, 27.5 , 27.25, 27.  , 26.75, 26.5 , 26.25, 26.  , 25.75,\n",
       "       25.5 , 25.25, 25.  , 24.75, 24.5 , 24.25, 24.  , 23.75, 23.5 , 23.25,\n",
       "       23.  , 22.75, 22.5 , 22.25, 22.  , 21.75, 21.5 , 21.25, 21.  , 20.75,\n",
       "       20.5 , 20.25, 20.  , 19.75, 19.5 , 19.25, 19.  , 18.75, 18.5 , 18.25,\n",
       "       18.  , 17.75, 17.5 , 17.25, 17.  , 16.75, 16.5 , 16.25, 16.  , 15.75,\n",
       "       15.5 , 15.25, 15.  , 14.75, 14.5 , 14.25, 14.  , 13.75, 13.5 , 13.25,\n",
       "       13.  , 12.75, 12.5 , 12.25, 12.  , 11.75, 11.5 , 11.25, 11.  , 10.75,\n",
       "       10.5 , 10.25, 10.  ,  9.75,  9.5 ,  9.25,  9.  ,  8.75,  8.5 ,  8.25,\n",
       "        8.  ,  7.75,  7.5 ,  7.25,  7.  ,  6.75,  6.5 ,  6.25,  6.  ])</pre></div></li><li class='xr-var-item'><div class='xr-var-name'><span class='xr-has-index'>longitude</span></div><div class='xr-var-dims'>(longitude)</div><div class='xr-var-dtype'>float64</div><div class='xr-var-preview xr-preview'>68.0 68.25 68.5 ... 96.5 96.75 97.0</div><input id='attrs-995b8fe7-0ef2-4661-ad69-bcc315cd5ff5' class='xr-var-attrs-in' type='checkbox' ><label for='attrs-995b8fe7-0ef2-4661-ad69-bcc315cd5ff5' title='Show/Hide attributes'><svg class='icon xr-icon-file-text2'><use xlink:href='#icon-file-text2'></use></svg></label><input id='data-5d7400fb-10fb-4b3d-af67-cd4024793b73' class='xr-var-data-in' type='checkbox'><label for='data-5d7400fb-10fb-4b3d-af67-cd4024793b73' title='Show/Hide data repr'><svg class='icon xr-icon-database'><use xlink:href='#icon-database'></use></svg></label><div class='xr-var-attrs'><dl class='xr-attrs'><dt><span>units :</span></dt><dd>degrees_east</dd><dt><span>standard_name :</span></dt><dd>longitude</dd><dt><span>long_name :</span></dt><dd>longitude</dd></dl></div><div class='xr-var-data'><pre>array([68.  , 68.25, 68.5 , 68.75, 69.  , 69.25, 69.5 , 69.75, 70.  , 70.25,\n",
       "       70.5 , 70.75, 71.  , 71.25, 71.5 , 71.75, 72.  , 72.25, 72.5 , 72.75,\n",
       "       73.  , 73.25, 73.5 , 73.75, 74.  , 74.25, 74.5 , 74.75, 75.  , 75.25,\n",
       "       75.5 , 75.75, 76.  , 76.25, 76.5 , 76.75, 77.  , 77.25, 77.5 , 77.75,\n",
       "       78.  , 78.25, 78.5 , 78.75, 79.  , 79.25, 79.5 , 79.75, 80.  , 80.25,\n",
       "       80.5 , 80.75, 81.  , 81.25, 81.5 , 81.75, 82.  , 82.25, 82.5 , 82.75,\n",
       "       83.  , 83.25, 83.5 , 83.75, 84.  , 84.25, 84.5 , 84.75, 85.  , 85.25,\n",
       "       85.5 , 85.75, 86.  , 86.25, 86.5 , 86.75, 87.  , 87.25, 87.5 , 87.75,\n",
       "       88.  , 88.25, 88.5 , 88.75, 89.  , 89.25, 89.5 , 89.75, 90.  , 90.25,\n",
       "       90.5 , 90.75, 91.  , 91.25, 91.5 , 91.75, 92.  , 92.25, 92.5 , 92.75,\n",
       "       93.  , 93.25, 93.5 , 93.75, 94.  , 94.25, 94.5 , 94.75, 95.  , 95.25,\n",
       "       95.5 , 95.75, 96.  , 96.25, 96.5 , 96.75, 97.  ])</pre></div></li><li class='xr-var-item'><div class='xr-var-name'><span>expver</span></div><div class='xr-var-dims'>(date)</div><div class='xr-var-dtype'>&lt;U4</div><div class='xr-var-preview xr-preview'>...</div><input id='attrs-1faeb7d0-fb70-4e84-b303-ed84f2e3b1b4' class='xr-var-attrs-in' type='checkbox' disabled><label for='attrs-1faeb7d0-fb70-4e84-b303-ed84f2e3b1b4' title='Show/Hide attributes'><svg class='icon xr-icon-file-text2'><use xlink:href='#icon-file-text2'></use></svg></label><input id='data-eaa2252d-b901-4edc-acbd-3f6a059eb69c' class='xr-var-data-in' type='checkbox'><label for='data-eaa2252d-b901-4edc-acbd-3f6a059eb69c' title='Show/Hide data repr'><svg class='icon xr-icon-database'><use xlink:href='#icon-database'></use></svg></label><div class='xr-var-attrs'><dl class='xr-attrs'></dl></div><div class='xr-var-data'><pre>[180 values with dtype=&lt;U4]</pre></div></li></ul></div></li><li class='xr-section-item'><input id='section-9971f788-3d5a-483d-896f-cfaf6eb3fdb7' class='xr-section-summary-in' type='checkbox'  checked><label for='section-9971f788-3d5a-483d-896f-cfaf6eb3fdb7' class='xr-section-summary' >Data variables: <span>(6)</span></label><div class='xr-section-inline-details'></div><div class='xr-section-details'><ul class='xr-var-list'><li class='xr-var-item'><div class='xr-var-name'><span>t2m</span></div><div class='xr-var-dims'>(date, latitude, longitude)</div><div class='xr-var-dtype'>float32</div><div class='xr-var-preview xr-preview'>...</div><input id='attrs-0a853fb4-0997-4c8c-bf34-1c7fc97f0d64' class='xr-var-attrs-in' type='checkbox' ><label for='attrs-0a853fb4-0997-4c8c-bf34-1c7fc97f0d64' title='Show/Hide attributes'><svg class='icon xr-icon-file-text2'><use xlink:href='#icon-file-text2'></use></svg></label><input id='data-5b1c9842-eb40-429e-84a4-050ed2843ee6' class='xr-var-data-in' type='checkbox'><label for='data-5b1c9842-eb40-429e-84a4-050ed2843ee6' title='Show/Hide data repr'><svg class='icon xr-icon-database'><use xlink:href='#icon-database'></use></svg></label><div class='xr-var-attrs'><dl class='xr-attrs'><dt><span>GRIB_paramId :</span></dt><dd>167</dd><dt><span>GRIB_dataType :</span></dt><dd>an</dd><dt><span>GRIB_numberOfPoints :</span></dt><dd>15093</dd><dt><span>GRIB_typeOfLevel :</span></dt><dd>surface</dd><dt><span>GRIB_stepUnits :</span></dt><dd>1</dd><dt><span>GRIB_stepType :</span></dt><dd>avgua</dd><dt><span>GRIB_gridType :</span></dt><dd>regular_ll</dd><dt><span>GRIB_uvRelativeToGrid :</span></dt><dd>0</dd><dt><span>GRIB_NV :</span></dt><dd>0</dd><dt><span>GRIB_Nx :</span></dt><dd>117</dd><dt><span>GRIB_Ny :</span></dt><dd>129</dd><dt><span>GRIB_cfName :</span></dt><dd>unknown</dd><dt><span>GRIB_cfVarName :</span></dt><dd>t2m</dd><dt><span>GRIB_gridDefinitionDescription :</span></dt><dd>Latitude/Longitude Grid</dd><dt><span>GRIB_iDirectionIncrementInDegrees :</span></dt><dd>0.25</dd><dt><span>GRIB_iScansNegatively :</span></dt><dd>0</dd><dt><span>GRIB_jDirectionIncrementInDegrees :</span></dt><dd>0.25</dd><dt><span>GRIB_jPointsAreConsecutive :</span></dt><dd>0</dd><dt><span>GRIB_jScansPositively :</span></dt><dd>0</dd><dt><span>GRIB_latitudeOfFirstGridPointInDegrees :</span></dt><dd>38.0</dd><dt><span>GRIB_latitudeOfLastGridPointInDegrees :</span></dt><dd>6.0</dd><dt><span>GRIB_longitudeOfFirstGridPointInDegrees :</span></dt><dd>68.0</dd><dt><span>GRIB_longitudeOfLastGridPointInDegrees :</span></dt><dd>97.0</dd><dt><span>GRIB_missingValue :</span></dt><dd>3.4028234663852886e+38</dd><dt><span>GRIB_name :</span></dt><dd>2 metre temperature</dd><dt><span>GRIB_shortName :</span></dt><dd>2t</dd><dt><span>GRIB_totalNumber :</span></dt><dd>0</dd><dt><span>GRIB_units :</span></dt><dd>K</dd><dt><span>long_name :</span></dt><dd>2 metre temperature</dd><dt><span>units :</span></dt><dd>K</dd><dt><span>standard_name :</span></dt><dd>unknown</dd><dt><span>GRIB_surface :</span></dt><dd>0.0</dd></dl></div><div class='xr-var-data'><pre>[2716740 values with dtype=float32]</pre></div></li><li class='xr-var-item'><div class='xr-var-name'><span>tp</span></div><div class='xr-var-dims'>(date, latitude, longitude)</div><div class='xr-var-dtype'>float32</div><div class='xr-var-preview xr-preview'>...</div><input id='attrs-cd7bf7f2-de72-44e6-8f53-6a97f307839b' class='xr-var-attrs-in' type='checkbox' ><label for='attrs-cd7bf7f2-de72-44e6-8f53-6a97f307839b' title='Show/Hide attributes'><svg class='icon xr-icon-file-text2'><use xlink:href='#icon-file-text2'></use></svg></label><input id='data-42978655-28fc-4a20-b4df-ab236d26e10a' class='xr-var-data-in' type='checkbox'><label for='data-42978655-28fc-4a20-b4df-ab236d26e10a' title='Show/Hide data repr'><svg class='icon xr-icon-database'><use xlink:href='#icon-database'></use></svg></label><div class='xr-var-attrs'><dl class='xr-attrs'><dt><span>GRIB_paramId :</span></dt><dd>228</dd><dt><span>GRIB_dataType :</span></dt><dd>fc</dd><dt><span>GRIB_numberOfPoints :</span></dt><dd>15093</dd><dt><span>GRIB_typeOfLevel :</span></dt><dd>surface</dd><dt><span>GRIB_stepUnits :</span></dt><dd>1</dd><dt><span>GRIB_stepType :</span></dt><dd>avgad</dd><dt><span>GRIB_gridType :</span></dt><dd>regular_ll</dd><dt><span>GRIB_uvRelativeToGrid :</span></dt><dd>0</dd><dt><span>GRIB_NV :</span></dt><dd>0</dd><dt><span>GRIB_Nx :</span></dt><dd>117</dd><dt><span>GRIB_Ny :</span></dt><dd>129</dd><dt><span>GRIB_cfName :</span></dt><dd>unknown</dd><dt><span>GRIB_cfVarName :</span></dt><dd>tp</dd><dt><span>GRIB_gridDefinitionDescription :</span></dt><dd>Latitude/Longitude Grid</dd><dt><span>GRIB_iDirectionIncrementInDegrees :</span></dt><dd>0.25</dd><dt><span>GRIB_iScansNegatively :</span></dt><dd>0</dd><dt><span>GRIB_jDirectionIncrementInDegrees :</span></dt><dd>0.25</dd><dt><span>GRIB_jPointsAreConsecutive :</span></dt><dd>0</dd><dt><span>GRIB_jScansPositively :</span></dt><dd>0</dd><dt><span>GRIB_latitudeOfFirstGridPointInDegrees :</span></dt><dd>38.0</dd><dt><span>GRIB_latitudeOfLastGridPointInDegrees :</span></dt><dd>6.0</dd><dt><span>GRIB_longitudeOfFirstGridPointInDegrees :</span></dt><dd>68.0</dd><dt><span>GRIB_longitudeOfLastGridPointInDegrees :</span></dt><dd>97.0</dd><dt><span>GRIB_missingValue :</span></dt><dd>3.4028234663852886e+38</dd><dt><span>GRIB_name :</span></dt><dd>Total precipitation</dd><dt><span>GRIB_shortName :</span></dt><dd>tp</dd><dt><span>GRIB_totalNumber :</span></dt><dd>0</dd><dt><span>GRIB_units :</span></dt><dd>m</dd><dt><span>long_name :</span></dt><dd>Total precipitation</dd><dt><span>units :</span></dt><dd>m</dd><dt><span>standard_name :</span></dt><dd>unknown</dd><dt><span>GRIB_surface :</span></dt><dd>0.0</dd></dl></div><div class='xr-var-data'><pre>[2716740 values with dtype=float32]</pre></div></li><li class='xr-var-item'><div class='xr-var-name'><span>swvl1</span></div><div class='xr-var-dims'>(date, latitude, longitude)</div><div class='xr-var-dtype'>float32</div><div class='xr-var-preview xr-preview'>...</div><input id='attrs-66938ca8-a90c-43f5-b731-47d072a63755' class='xr-var-attrs-in' type='checkbox' ><label for='attrs-66938ca8-a90c-43f5-b731-47d072a63755' title='Show/Hide attributes'><svg class='icon xr-icon-file-text2'><use xlink:href='#icon-file-text2'></use></svg></label><input id='data-b891dee0-7b3d-4bed-bc93-99b0fd4b2738' class='xr-var-data-in' type='checkbox'><label for='data-b891dee0-7b3d-4bed-bc93-99b0fd4b2738' title='Show/Hide data repr'><svg class='icon xr-icon-database'><use xlink:href='#icon-database'></use></svg></label><div class='xr-var-attrs'><dl class='xr-attrs'><dt><span>GRIB_paramId :</span></dt><dd>39</dd><dt><span>GRIB_dataType :</span></dt><dd>an</dd><dt><span>GRIB_numberOfPoints :</span></dt><dd>15093</dd><dt><span>GRIB_typeOfLevel :</span></dt><dd>depthBelowLandLayer</dd><dt><span>GRIB_stepUnits :</span></dt><dd>1</dd><dt><span>GRIB_stepType :</span></dt><dd>avgua</dd><dt><span>GRIB_gridType :</span></dt><dd>regular_ll</dd><dt><span>GRIB_uvRelativeToGrid :</span></dt><dd>0</dd><dt><span>GRIB_NV :</span></dt><dd>0</dd><dt><span>GRIB_Nx :</span></dt><dd>117</dd><dt><span>GRIB_Ny :</span></dt><dd>129</dd><dt><span>GRIB_cfName :</span></dt><dd>unknown</dd><dt><span>GRIB_cfVarName :</span></dt><dd>swvl1</dd><dt><span>GRIB_gridDefinitionDescription :</span></dt><dd>Latitude/Longitude Grid</dd><dt><span>GRIB_iDirectionIncrementInDegrees :</span></dt><dd>0.25</dd><dt><span>GRIB_iScansNegatively :</span></dt><dd>0</dd><dt><span>GRIB_jDirectionIncrementInDegrees :</span></dt><dd>0.25</dd><dt><span>GRIB_jPointsAreConsecutive :</span></dt><dd>0</dd><dt><span>GRIB_jScansPositively :</span></dt><dd>0</dd><dt><span>GRIB_latitudeOfFirstGridPointInDegrees :</span></dt><dd>38.0</dd><dt><span>GRIB_latitudeOfLastGridPointInDegrees :</span></dt><dd>6.0</dd><dt><span>GRIB_longitudeOfFirstGridPointInDegrees :</span></dt><dd>68.0</dd><dt><span>GRIB_longitudeOfLastGridPointInDegrees :</span></dt><dd>97.0</dd><dt><span>GRIB_missingValue :</span></dt><dd>3.4028234663852886e+38</dd><dt><span>GRIB_name :</span></dt><dd>Volumetric soil water layer 1</dd><dt><span>GRIB_shortName :</span></dt><dd>swvl1</dd><dt><span>GRIB_totalNumber :</span></dt><dd>0</dd><dt><span>GRIB_units :</span></dt><dd>m**3 m**-3</dd><dt><span>long_name :</span></dt><dd>Volumetric soil water layer 1</dd><dt><span>units :</span></dt><dd>m**3 m**-3</dd><dt><span>standard_name :</span></dt><dd>unknown</dd><dt><span>GRIB_depthBelowLandLayer :</span></dt><dd>0.0</dd></dl></div><div class='xr-var-data'><pre>[2716740 values with dtype=float32]</pre></div></li><li class='xr-var-item'><div class='xr-var-name'><span>u10</span></div><div class='xr-var-dims'>(date, latitude, longitude)</div><div class='xr-var-dtype'>float32</div><div class='xr-var-preview xr-preview'>...</div><input id='attrs-0a3cc0de-e0b8-4887-8154-8f4c97e347e0' class='xr-var-attrs-in' type='checkbox' ><label for='attrs-0a3cc0de-e0b8-4887-8154-8f4c97e347e0' title='Show/Hide attributes'><svg class='icon xr-icon-file-text2'><use xlink:href='#icon-file-text2'></use></svg></label><input id='data-eb3a9788-bdaa-449f-b1bd-6bc4c68cb892' class='xr-var-data-in' type='checkbox'><label for='data-eb3a9788-bdaa-449f-b1bd-6bc4c68cb892' title='Show/Hide data repr'><svg class='icon xr-icon-database'><use xlink:href='#icon-database'></use></svg></label><div class='xr-var-attrs'><dl class='xr-attrs'><dt><span>GRIB_paramId :</span></dt><dd>165</dd><dt><span>GRIB_dataType :</span></dt><dd>an</dd><dt><span>GRIB_numberOfPoints :</span></dt><dd>15093</dd><dt><span>GRIB_typeOfLevel :</span></dt><dd>surface</dd><dt><span>GRIB_stepUnits :</span></dt><dd>1</dd><dt><span>GRIB_stepType :</span></dt><dd>avgua</dd><dt><span>GRIB_gridType :</span></dt><dd>regular_ll</dd><dt><span>GRIB_uvRelativeToGrid :</span></dt><dd>0</dd><dt><span>GRIB_NV :</span></dt><dd>0</dd><dt><span>GRIB_Nx :</span></dt><dd>117</dd><dt><span>GRIB_Ny :</span></dt><dd>129</dd><dt><span>GRIB_cfName :</span></dt><dd>unknown</dd><dt><span>GRIB_cfVarName :</span></dt><dd>u10</dd><dt><span>GRIB_gridDefinitionDescription :</span></dt><dd>Latitude/Longitude Grid</dd><dt><span>GRIB_iDirectionIncrementInDegrees :</span></dt><dd>0.25</dd><dt><span>GRIB_iScansNegatively :</span></dt><dd>0</dd><dt><span>GRIB_jDirectionIncrementInDegrees :</span></dt><dd>0.25</dd><dt><span>GRIB_jPointsAreConsecutive :</span></dt><dd>0</dd><dt><span>GRIB_jScansPositively :</span></dt><dd>0</dd><dt><span>GRIB_latitudeOfFirstGridPointInDegrees :</span></dt><dd>38.0</dd><dt><span>GRIB_latitudeOfLastGridPointInDegrees :</span></dt><dd>6.0</dd><dt><span>GRIB_longitudeOfFirstGridPointInDegrees :</span></dt><dd>68.0</dd><dt><span>GRIB_longitudeOfLastGridPointInDegrees :</span></dt><dd>97.0</dd><dt><span>GRIB_missingValue :</span></dt><dd>3.4028234663852886e+38</dd><dt><span>GRIB_name :</span></dt><dd>10 metre U wind component</dd><dt><span>GRIB_shortName :</span></dt><dd>10u</dd><dt><span>GRIB_totalNumber :</span></dt><dd>0</dd><dt><span>GRIB_units :</span></dt><dd>m s**-1</dd><dt><span>long_name :</span></dt><dd>10 metre U wind component</dd><dt><span>units :</span></dt><dd>m s**-1</dd><dt><span>standard_name :</span></dt><dd>unknown</dd><dt><span>GRIB_surface :</span></dt><dd>0.0</dd></dl></div><div class='xr-var-data'><pre>[2716740 values with dtype=float32]</pre></div></li><li class='xr-var-item'><div class='xr-var-name'><span>v10</span></div><div class='xr-var-dims'>(date, latitude, longitude)</div><div class='xr-var-dtype'>float32</div><div class='xr-var-preview xr-preview'>...</div><input id='attrs-1d71d2ca-e255-47ba-889d-a8cdca7339b6' class='xr-var-attrs-in' type='checkbox' ><label for='attrs-1d71d2ca-e255-47ba-889d-a8cdca7339b6' title='Show/Hide attributes'><svg class='icon xr-icon-file-text2'><use xlink:href='#icon-file-text2'></use></svg></label><input id='data-c8199cfd-099e-489c-88bb-f63a12c3ec37' class='xr-var-data-in' type='checkbox'><label for='data-c8199cfd-099e-489c-88bb-f63a12c3ec37' title='Show/Hide data repr'><svg class='icon xr-icon-database'><use xlink:href='#icon-database'></use></svg></label><div class='xr-var-attrs'><dl class='xr-attrs'><dt><span>GRIB_paramId :</span></dt><dd>166</dd><dt><span>GRIB_dataType :</span></dt><dd>an</dd><dt><span>GRIB_numberOfPoints :</span></dt><dd>15093</dd><dt><span>GRIB_typeOfLevel :</span></dt><dd>surface</dd><dt><span>GRIB_stepUnits :</span></dt><dd>1</dd><dt><span>GRIB_stepType :</span></dt><dd>avgua</dd><dt><span>GRIB_gridType :</span></dt><dd>regular_ll</dd><dt><span>GRIB_uvRelativeToGrid :</span></dt><dd>0</dd><dt><span>GRIB_NV :</span></dt><dd>0</dd><dt><span>GRIB_Nx :</span></dt><dd>117</dd><dt><span>GRIB_Ny :</span></dt><dd>129</dd><dt><span>GRIB_cfName :</span></dt><dd>unknown</dd><dt><span>GRIB_cfVarName :</span></dt><dd>v10</dd><dt><span>GRIB_gridDefinitionDescription :</span></dt><dd>Latitude/Longitude Grid</dd><dt><span>GRIB_iDirectionIncrementInDegrees :</span></dt><dd>0.25</dd><dt><span>GRIB_iScansNegatively :</span></dt><dd>0</dd><dt><span>GRIB_jDirectionIncrementInDegrees :</span></dt><dd>0.25</dd><dt><span>GRIB_jPointsAreConsecutive :</span></dt><dd>0</dd><dt><span>GRIB_jScansPositively :</span></dt><dd>0</dd><dt><span>GRIB_latitudeOfFirstGridPointInDegrees :</span></dt><dd>38.0</dd><dt><span>GRIB_latitudeOfLastGridPointInDegrees :</span></dt><dd>6.0</dd><dt><span>GRIB_longitudeOfFirstGridPointInDegrees :</span></dt><dd>68.0</dd><dt><span>GRIB_longitudeOfLastGridPointInDegrees :</span></dt><dd>97.0</dd><dt><span>GRIB_missingValue :</span></dt><dd>3.4028234663852886e+38</dd><dt><span>GRIB_name :</span></dt><dd>10 metre V wind component</dd><dt><span>GRIB_shortName :</span></dt><dd>10v</dd><dt><span>GRIB_totalNumber :</span></dt><dd>0</dd><dt><span>GRIB_units :</span></dt><dd>m s**-1</dd><dt><span>long_name :</span></dt><dd>10 metre V wind component</dd><dt><span>units :</span></dt><dd>m s**-1</dd><dt><span>standard_name :</span></dt><dd>unknown</dd><dt><span>GRIB_surface :</span></dt><dd>0.0</dd></dl></div><div class='xr-var-data'><pre>[2716740 values with dtype=float32]</pre></div></li><li class='xr-var-item'><div class='xr-var-name'><span>ssrd</span></div><div class='xr-var-dims'>(date, latitude, longitude)</div><div class='xr-var-dtype'>float32</div><div class='xr-var-preview xr-preview'>...</div><input id='attrs-d36e83ba-554f-4e2c-adcf-1d77d4130243' class='xr-var-attrs-in' type='checkbox' ><label for='attrs-d36e83ba-554f-4e2c-adcf-1d77d4130243' title='Show/Hide attributes'><svg class='icon xr-icon-file-text2'><use xlink:href='#icon-file-text2'></use></svg></label><input id='data-cef9de08-03cd-486c-b2c1-f9f8f67106d0' class='xr-var-data-in' type='checkbox'><label for='data-cef9de08-03cd-486c-b2c1-f9f8f67106d0' title='Show/Hide data repr'><svg class='icon xr-icon-database'><use xlink:href='#icon-database'></use></svg></label><div class='xr-var-attrs'><dl class='xr-attrs'><dt><span>GRIB_paramId :</span></dt><dd>169</dd><dt><span>GRIB_dataType :</span></dt><dd>fc</dd><dt><span>GRIB_numberOfPoints :</span></dt><dd>15093</dd><dt><span>GRIB_typeOfLevel :</span></dt><dd>surface</dd><dt><span>GRIB_stepUnits :</span></dt><dd>1</dd><dt><span>GRIB_stepType :</span></dt><dd>avgad</dd><dt><span>GRIB_gridType :</span></dt><dd>regular_ll</dd><dt><span>GRIB_uvRelativeToGrid :</span></dt><dd>0</dd><dt><span>GRIB_NV :</span></dt><dd>0</dd><dt><span>GRIB_Nx :</span></dt><dd>117</dd><dt><span>GRIB_Ny :</span></dt><dd>129</dd><dt><span>GRIB_cfName :</span></dt><dd>surface_downwelling_shortwave_flux_in_air</dd><dt><span>GRIB_cfVarName :</span></dt><dd>ssrd</dd><dt><span>GRIB_gridDefinitionDescription :</span></dt><dd>Latitude/Longitude Grid</dd><dt><span>GRIB_iDirectionIncrementInDegrees :</span></dt><dd>0.25</dd><dt><span>GRIB_iScansNegatively :</span></dt><dd>0</dd><dt><span>GRIB_jDirectionIncrementInDegrees :</span></dt><dd>0.25</dd><dt><span>GRIB_jPointsAreConsecutive :</span></dt><dd>0</dd><dt><span>GRIB_jScansPositively :</span></dt><dd>0</dd><dt><span>GRIB_latitudeOfFirstGridPointInDegrees :</span></dt><dd>38.0</dd><dt><span>GRIB_latitudeOfLastGridPointInDegrees :</span></dt><dd>6.0</dd><dt><span>GRIB_longitudeOfFirstGridPointInDegrees :</span></dt><dd>68.0</dd><dt><span>GRIB_longitudeOfLastGridPointInDegrees :</span></dt><dd>97.0</dd><dt><span>GRIB_missingValue :</span></dt><dd>3.4028234663852886e+38</dd><dt><span>GRIB_name :</span></dt><dd>Surface short-wave (solar) radiation downwards</dd><dt><span>GRIB_shortName :</span></dt><dd>ssrd</dd><dt><span>GRIB_totalNumber :</span></dt><dd>0</dd><dt><span>GRIB_units :</span></dt><dd>J m**-2</dd><dt><span>long_name :</span></dt><dd>Surface short-wave (solar) radiation downwards</dd><dt><span>units :</span></dt><dd>J m**-2</dd><dt><span>standard_name :</span></dt><dd>surface_downwelling_shortwave_flux_in_air</dd><dt><span>GRIB_surface :</span></dt><dd>0.0</dd></dl></div><div class='xr-var-data'><pre>[2716740 values with dtype=float32]</pre></div></li></ul></div></li><li class='xr-section-item'><input id='section-bc26753b-6192-4f7d-9784-34c92f09c60a' class='xr-section-summary-in' type='checkbox'  ><label for='section-bc26753b-6192-4f7d-9784-34c92f09c60a' class='xr-section-summary' >Indexes: <span>(3)</span></label><div class='xr-section-inline-details'></div><div class='xr-section-details'><ul class='xr-var-list'><li class='xr-var-item'><div class='xr-index-name'><div>date</div></div><div class='xr-index-preview'>PandasIndex</div><input type='checkbox' disabled/><label></label><input id='index-c98fb1a7-3f95-4242-adfe-96199b2487b0' class='xr-index-data-in' type='checkbox'/><label for='index-c98fb1a7-3f95-4242-adfe-96199b2487b0' title='Show/Hide index repr'><svg class='icon xr-icon-database'><use xlink:href='#icon-database'></use></svg></label><div class='xr-index-data'><pre>PandasIndex(Index([20090101, 20090201, 20090301, 20090401, 20090501, 20090601, 20090701,\n",
       "       20090801, 20090901, 20091001,\n",
       "       ...\n",
       "       20230301, 20230401, 20230501, 20230601, 20230701, 20230801, 20230901,\n",
       "       20231001, 20231101, 20231201],\n",
       "      dtype=&#x27;int64&#x27;, name=&#x27;date&#x27;, length=180))</pre></div></li><li class='xr-var-item'><div class='xr-index-name'><div>latitude</div></div><div class='xr-index-preview'>PandasIndex</div><input type='checkbox' disabled/><label></label><input id='index-5ace6836-df7d-43da-a08f-c6b9a4789d68' class='xr-index-data-in' type='checkbox'/><label for='index-5ace6836-df7d-43da-a08f-c6b9a4789d68' title='Show/Hide index repr'><svg class='icon xr-icon-database'><use xlink:href='#icon-database'></use></svg></label><div class='xr-index-data'><pre>PandasIndex(Index([ 38.0, 37.75,  37.5, 37.25,  37.0, 36.75,  36.5, 36.25,  36.0, 35.75,\n",
       "       ...\n",
       "        8.25,   8.0,  7.75,   7.5,  7.25,   7.0,  6.75,   6.5,  6.25,   6.0],\n",
       "      dtype=&#x27;float64&#x27;, name=&#x27;latitude&#x27;, length=129))</pre></div></li><li class='xr-var-item'><div class='xr-index-name'><div>longitude</div></div><div class='xr-index-preview'>PandasIndex</div><input type='checkbox' disabled/><label></label><input id='index-79924edc-3df9-484b-8c93-f258a5c41f10' class='xr-index-data-in' type='checkbox'/><label for='index-79924edc-3df9-484b-8c93-f258a5c41f10' title='Show/Hide index repr'><svg class='icon xr-icon-database'><use xlink:href='#icon-database'></use></svg></label><div class='xr-index-data'><pre>PandasIndex(Index([ 68.0, 68.25,  68.5, 68.75,  69.0, 69.25,  69.5, 69.75,  70.0, 70.25,\n",
       "       ...\n",
       "       94.75,  95.0, 95.25,  95.5, 95.75,  96.0, 96.25,  96.5, 96.75,  97.0],\n",
       "      dtype=&#x27;float64&#x27;, name=&#x27;longitude&#x27;, length=117))</pre></div></li></ul></div></li><li class='xr-section-item'><input id='section-81ca2ea1-7aa8-4f19-8cb8-6c2e3acb0a9c' class='xr-section-summary-in' type='checkbox'  checked><label for='section-81ca2ea1-7aa8-4f19-8cb8-6c2e3acb0a9c' class='xr-section-summary' >Attributes: <span>(6)</span></label><div class='xr-section-inline-details'></div><div class='xr-section-details'><dl class='xr-attrs'><dt><span>GRIB_centre :</span></dt><dd>ecmf</dd><dt><span>GRIB_centreDescription :</span></dt><dd>European Centre for Medium-Range Weather Forecasts</dd><dt><span>GRIB_subCentre :</span></dt><dd>0</dd><dt><span>Conventions :</span></dt><dd>CF-1.7</dd><dt><span>institution :</span></dt><dd>European Centre for Medium-Range Weather Forecasts</dd><dt><span>history :</span></dt><dd>2024-11-05T22:37 GRIB to CDM+CF via cfgrib-0.9.14.1/ecCodes-2.36.0 with {&quot;source&quot;: &quot;data.grib&quot;, &quot;filter_by_keys&quot;: {}, &quot;encode_cf&quot;: [&quot;parameter&quot;, &quot;time&quot;, &quot;geography&quot;, &quot;vertical&quot;]}</dd></dl></div></li></ul></div></div>"
      ],
      "text/plain": [
       "<xarray.Dataset> Size: 65MB\n",
       "Dimensions:    (date: 180, latitude: 129, longitude: 117)\n",
       "Coordinates:\n",
       "    number     int64 8B ...\n",
       "  * date       (date) int64 1kB 20090101 20090201 20090301 ... 20231101 20231201\n",
       "  * latitude   (latitude) float64 1kB 38.0 37.75 37.5 37.25 ... 6.5 6.25 6.0\n",
       "  * longitude  (longitude) float64 936B 68.0 68.25 68.5 ... 96.5 96.75 97.0\n",
       "    expver     (date) <U4 3kB ...\n",
       "Data variables:\n",
       "    t2m        (date, latitude, longitude) float32 11MB ...\n",
       "    tp         (date, latitude, longitude) float32 11MB ...\n",
       "    swvl1      (date, latitude, longitude) float32 11MB ...\n",
       "    u10        (date, latitude, longitude) float32 11MB ...\n",
       "    v10        (date, latitude, longitude) float32 11MB ...\n",
       "    ssrd       (date, latitude, longitude) float32 11MB ...\n",
       "Attributes:\n",
       "    GRIB_centre:             ecmf\n",
       "    GRIB_centreDescription:  European Centre for Medium-Range Weather Forecasts\n",
       "    GRIB_subCentre:          0\n",
       "    Conventions:             CF-1.7\n",
       "    institution:             European Centre for Medium-Range Weather Forecasts\n",
       "    history:                 2024-11-05T22:37 GRIB to CDM+CF via cfgrib-0.9.1..."
      ]
     },
     "execution_count": 3,
     "metadata": {},
     "output_type": "execute_result"
    }
   ],
   "source": [
    "ds"
   ]
  },
  {
   "cell_type": "code",
   "execution_count": 4,
   "metadata": {},
   "outputs": [],
   "source": [
    "climate_df = ds.to_dataframe().reset_index()\n",
    "climate_df['date'] = pd.to_datetime(climate_df['date'].astype(str), format='%Y%m%d')"
   ]
  },
  {
   "cell_type": "code",
   "execution_count": 6,
   "metadata": {},
   "outputs": [
    {
     "data": {
      "text/plain": [
       "<duckdb.duckdb.DuckDBPyConnection at 0x7f58ab224af0>"
      ]
     },
     "execution_count": 6,
     "metadata": {},
     "output_type": "execute_result"
    }
   ],
   "source": [
    "import duckdb\n",
    "\n",
    "# Connect to DuckDB database\n",
    "con = duckdb.connect('db/india_model_1.ddb')\n",
    "\n",
    "# Load the spatial extension to enable spatial functions like ST_Contains\n",
    "con.execute(\"INSTALL spatial; LOAD spatial;\")"
   ]
  },
  {
   "cell_type": "code",
   "execution_count": 8,
   "metadata": {},
   "outputs": [
    {
     "data": {
      "text/plain": [
       "<duckdb.duckdb.DuckDBPyConnection at 0x7f58ab224af0>"
      ]
     },
     "execution_count": 8,
     "metadata": {},
     "output_type": "execute_result"
    }
   ],
   "source": [
    "# Create a view for unique ERA5 lat/lon points\n",
    "con.execute(\"\"\"\n",
    "    CREATE VIEW unique_era5_points AS\n",
    "    SELECT DISTINCT latitude, longitude\n",
    "    FROM climate_df;\n",
    "\"\"\")"
   ]
  },
  {
   "cell_type": "code",
   "execution_count": 9,
   "metadata": {},
   "outputs": [
    {
     "ename": "CatalogException",
     "evalue": "Catalog Error: Table with name ADM_ADM_3 does not exist!\nDid you mean \"sqlite_temp_master or unique_era5_points\"?\n\nLINE 5:     LEFT JOIN ADM_ADM_3 AS t\n                      ^",
     "output_type": "error",
     "traceback": [
      "\u001b[31m---------------------------------------------------------------------------\u001b[39m",
      "\u001b[31mCatalogException\u001b[39m                          Traceback (most recent call last)",
      "\u001b[36mCell\u001b[39m\u001b[36m \u001b[39m\u001b[32mIn[9]\u001b[39m\u001b[32m, line 2\u001b[39m\n\u001b[32m      1\u001b[39m \u001b[38;5;66;03m# Create the point-to-region mapping table using the view\u001b[39;00m\n\u001b[32m----> \u001b[39m\u001b[32m2\u001b[39m \u001b[43mcon\u001b[49m\u001b[43m.\u001b[49m\u001b[43mexecute\u001b[49m\u001b[43m(\u001b[49m\u001b[33;43m\"\"\"\u001b[39;49m\n\u001b[32m      3\u001b[39m \u001b[33;43m    CREATE TABLE point_to_region_mapping AS\u001b[39;49m\n\u001b[32m      4\u001b[39m \u001b[33;43m    SELECT p.latitude, p.longitude, t.GID_3, t.NAME_3, t.GID_2, t.NAME_2, t.GID_1, t.NAME_1\u001b[39;49m\n\u001b[32m      5\u001b[39m \u001b[33;43m    FROM unique_era5_points AS p\u001b[39;49m\n\u001b[32m      6\u001b[39m \u001b[33;43m    LEFT JOIN ADM_ADM_3 AS t\u001b[39;49m\n\u001b[32m      7\u001b[39m \u001b[33;43m    ON ST_Contains(t.geometry, ST_Point(p.longitude, p.latitude));\u001b[39;49m\n\u001b[32m      8\u001b[39m \u001b[33;43m\"\"\"\u001b[39;49m\u001b[43m)\u001b[49m\n",
      "\u001b[31mCatalogException\u001b[39m: Catalog Error: Table with name ADM_ADM_3 does not exist!\nDid you mean \"sqlite_temp_master or unique_era5_points\"?\n\nLINE 5:     LEFT JOIN ADM_ADM_3 AS t\n                      ^"
     ]
    }
   ],
   "source": [
    "# Create the point-to-region mapping table using the view\n",
    "con.execute(\"\"\"\n",
    "    CREATE TABLE point_to_region_mapping AS\n",
    "    SELECT p.latitude, p.longitude, t.GID_3, t.NAME_3, t.GID_2, t.NAME_2, t.GID_1, t.NAME_1\n",
    "    FROM unique_era5_points AS p\n",
    "    LEFT JOIN ADM_ADM_3 AS t\n",
    "    ON ST_Contains(t.geometry, ST_Point(p.longitude, p.latitude));\n",
    "\"\"\")"
   ]
  },
  {
   "cell_type": "code",
   "execution_count": 44,
   "metadata": {},
   "outputs": [
    {
     "data": {
      "text/plain": [
       "<duckdb.duckdb.DuckDBPyConnection at 0x7f18c0e0bd70>"
      ]
     },
     "execution_count": 44,
     "metadata": {},
     "output_type": "execute_result"
    }
   ],
   "source": [
    "# Create a view that joins climate data with region information\n",
    "con.execute(\"\"\"\n",
    "    CREATE VIEW climate_data_by_region AS\n",
    "    SELECT c.*,\n",
    "           m.GID_3, m.NAME_3, m.GID_2, m.NAME_2, m.GID_1, m.NAME_1\n",
    "    FROM climate_data AS c\n",
    "    LEFT JOIN point_to_region_mapping AS m\n",
    "    ON c.latitude = m.latitude AND c.longitude = m.longitude\n",
    "    WHERE m.GID_3 IS NOT NULL\n",
    "\"\"\")"
   ]
  },
  {
   "cell_type": "code",
   "execution_count": 43,
   "metadata": {},
   "outputs": [
    {
     "data": {
      "text/plain": [
       "<duckdb.duckdb.DuckDBPyConnection at 0x7f18c0e0bd70>"
      ]
     },
     "execution_count": 43,
     "metadata": {},
     "output_type": "execute_result"
    }
   ],
   "source": [
    "# Drop the existing view if it exists\n",
    "con.execute(\"DROP VIEW IF EXISTS climate_data_by_region\")"
   ]
  },
  {
   "cell_type": "code",
   "execution_count": 9,
   "metadata": {},
   "outputs": [],
   "source": [
    "# Connect to DB\n",
    "con = ibis.duckdb.connect('db/india_model.ddb', extensions = ['spatial'])"
   ]
  },
  {
   "cell_type": "code",
   "execution_count": 23,
   "metadata": {},
   "outputs": [
    {
     "data": {
      "text/plain": [
       "['ADM_ADM_0',\n",
       " 'ADM_ADM_1',\n",
       " 'ADM_ADM_2',\n",
       " 'ADM_ADM_3',\n",
       " 'climate_data',\n",
       " 'climate_data_by_region',\n",
       " 'climate_data_with_districts',\n",
       " 'point_to_region_mapping',\n",
       " 'unique_era5_points']"
      ]
     },
     "execution_count": 23,
     "metadata": {},
     "output_type": "execute_result"
    }
   ],
   "source": [
    "con.list_tables()"
   ]
  },
  {
   "cell_type": "code",
   "execution_count": 17,
   "metadata": {},
   "outputs": [],
   "source": [
    "import lonboard"
   ]
  },
  {
   "cell_type": "code",
   "execution_count": 49,
   "metadata": {},
   "outputs": [
    {
     "data": {
      "text/html": [
       "<pre style=\"white-space:pre;overflow-x:auto;line-height:normal;font-family:Menlo,'DejaVu Sans Mono',consolas,'Courier New',monospace\">┏━━━━━━━━━━━━━━━━━━━━━┳━━━━━━━━━━┳━━━━━━━━━━━┳━━━━━━━━┳━━━━━━━━┳━━━━━━━━━━━━┳━━━━━━━━━━┳━━━━━━━━━━┳━━━━━━━━━━━┳━━━━━━━━━━━┳━━━━━━━━━━━━━━┳━━━━━━━━━━━━━━━━━━━━━━━┳━━━━━━━━━━━━━━━┳━━━━━━━━━━━┳━━━━━━━━━━━━━┳━━━━━━━━━━━━━━┳━━━━━━━━━━┳━━━━━━━━━━━━━━━━━━━┓\n",
       "┃<span style=\"font-weight: bold\"> date                </span>┃<span style=\"font-weight: bold\"> latitude </span>┃<span style=\"font-weight: bold\"> longitude </span>┃<span style=\"font-weight: bold\"> number </span>┃<span style=\"font-weight: bold\"> expver </span>┃<span style=\"font-weight: bold\"> t2m        </span>┃<span style=\"font-weight: bold\"> tp       </span>┃<span style=\"font-weight: bold\"> swvl1    </span>┃<span style=\"font-weight: bold\"> u10       </span>┃<span style=\"font-weight: bold\"> v10       </span>┃<span style=\"font-weight: bold\"> ssrd         </span>┃<span style=\"font-weight: bold\"> point                 </span>┃<span style=\"font-weight: bold\"> GID_3         </span>┃<span style=\"font-weight: bold\"> NAME_3    </span>┃<span style=\"font-weight: bold\"> GID_2       </span>┃<span style=\"font-weight: bold\"> NAME_2       </span>┃<span style=\"font-weight: bold\"> GID_1    </span>┃<span style=\"font-weight: bold\"> NAME_1            </span>┃\n",
       "┡━━━━━━━━━━━━━━━━━━━━━╇━━━━━━━━━━╇━━━━━━━━━━━╇━━━━━━━━╇━━━━━━━━╇━━━━━━━━━━━━╇━━━━━━━━━━╇━━━━━━━━━━╇━━━━━━━━━━━╇━━━━━━━━━━━╇━━━━━━━━━━━━━━╇━━━━━━━━━━━━━━━━━━━━━━━╇━━━━━━━━━━━━━━━╇━━━━━━━━━━━╇━━━━━━━━━━━━━╇━━━━━━━━━━━━━━╇━━━━━━━━━━╇━━━━━━━━━━━━━━━━━━━┩\n",
       "│ <span style=\"color: #7f7f7f; text-decoration-color: #7f7f7f\">timestamp(9)</span>        │ <span style=\"color: #7f7f7f; text-decoration-color: #7f7f7f\">float64</span>  │ <span style=\"color: #7f7f7f; text-decoration-color: #7f7f7f\">float64</span>   │ <span style=\"color: #7f7f7f; text-decoration-color: #7f7f7f\">int64</span>  │ <span style=\"color: #7f7f7f; text-decoration-color: #7f7f7f\">string</span> │ <span style=\"color: #7f7f7f; text-decoration-color: #7f7f7f\">float32</span>    │ <span style=\"color: #7f7f7f; text-decoration-color: #7f7f7f\">float32</span>  │ <span style=\"color: #7f7f7f; text-decoration-color: #7f7f7f\">float32</span>  │ <span style=\"color: #7f7f7f; text-decoration-color: #7f7f7f\">float32</span>   │ <span style=\"color: #7f7f7f; text-decoration-color: #7f7f7f\">float32</span>   │ <span style=\"color: #7f7f7f; text-decoration-color: #7f7f7f\">float32</span>      │ <span style=\"color: #7f7f7f; text-decoration-color: #7f7f7f\">geospatial:geometry</span>   │ <span style=\"color: #7f7f7f; text-decoration-color: #7f7f7f\">string</span>        │ <span style=\"color: #7f7f7f; text-decoration-color: #7f7f7f\">string</span>    │ <span style=\"color: #7f7f7f; text-decoration-color: #7f7f7f\">string</span>      │ <span style=\"color: #7f7f7f; text-decoration-color: #7f7f7f\">string</span>       │ <span style=\"color: #7f7f7f; text-decoration-color: #7f7f7f\">string</span>   │ <span style=\"color: #7f7f7f; text-decoration-color: #7f7f7f\">string</span>            │\n",
       "├─────────────────────┼──────────┼───────────┼────────┼────────┼────────────┼──────────┼──────────┼───────────┼───────────┼──────────────┼───────────────────────┼───────────────┼───────────┼─────────────┼──────────────┼──────────┼───────────────────┤\n",
       "│ <span style=\"color: #800080; text-decoration-color: #800080\">2012-07-01 00:00:00</span> │    <span style=\"color: #008080; text-decoration-color: #008080; font-weight: bold\">35.25</span> │     <span style=\"color: #008080; text-decoration-color: #008080; font-weight: bold\">77.50</span> │      <span style=\"color: #008080; text-decoration-color: #008080; font-weight: bold\">0</span> │ <span style=\"color: #008000; text-decoration-color: #008000\">0001  </span> │ <span style=\"color: #008080; text-decoration-color: #008080; font-weight: bold\">267.140869</span> │ <span style=\"color: #008080; text-decoration-color: #008080; font-weight: bold\">0.000246</span> │ <span style=\"color: #008080; text-decoration-color: #008080; font-weight: bold\">0.225364</span> │  <span style=\"color: #008080; text-decoration-color: #008080; font-weight: bold\">0.521592</span> │ <span style=\"color: #008080; text-decoration-color: #008080; font-weight: bold\">-0.367738</span> │ <span style=\"color: #008080; text-decoration-color: #008080; font-weight: bold\">3.056077e+07</span> │ <span style=\"font-weight: bold\">&lt;</span><span style=\"color: #ff00ff; text-decoration-color: #ff00ff; font-weight: bold\">POINT</span><span style=\"color: #000000; text-decoration-color: #000000\"> </span><span style=\"color: #000000; text-decoration-color: #000000; font-weight: bold\">(</span><span style=\"color: #008080; text-decoration-color: #008080; font-weight: bold\">77.5</span><span style=\"color: #000000; text-decoration-color: #000000\"> </span><span style=\"color: #008080; text-decoration-color: #008080; font-weight: bold\">35.25</span><span style=\"color: #000000; text-decoration-color: #000000; font-weight: bold\">)</span><span style=\"font-weight: bold\">&gt;</span>  │ <span style=\"color: #008000; text-decoration-color: #008000\">Z01.14.13.1_1</span> │ <span style=\"color: #008000; text-decoration-color: #008000\">n.a. ( 1)</span> │ <span style=\"color: #008000; text-decoration-color: #008000\">Z01.14.13_1</span> │ <span style=\"color: #008000; text-decoration-color: #008000\">Leh (Ladakh)</span> │ <span style=\"color: #008000; text-decoration-color: #008000\">Z01.14_1</span> │ <span style=\"color: #008000; text-decoration-color: #008000\">Jammu and Kashmir</span> │\n",
       "│ <span style=\"color: #800080; text-decoration-color: #800080\">2012-07-01 00:00:00</span> │    <span style=\"color: #008080; text-decoration-color: #008080; font-weight: bold\">35.25</span> │     <span style=\"color: #008080; text-decoration-color: #008080; font-weight: bold\">77.75</span> │      <span style=\"color: #008080; text-decoration-color: #008080; font-weight: bold\">0</span> │ <span style=\"color: #008000; text-decoration-color: #008000\">0001  </span> │ <span style=\"color: #008080; text-decoration-color: #008080; font-weight: bold\">270.275635</span> │ <span style=\"color: #008080; text-decoration-color: #008080; font-weight: bold\">0.000242</span> │ <span style=\"color: #008080; text-decoration-color: #008080; font-weight: bold\">0.183127</span> │  <span style=\"color: #008080; text-decoration-color: #008080; font-weight: bold\">0.983506</span> │  <span style=\"color: #008080; text-decoration-color: #008080; font-weight: bold\">0.149840</span> │ <span style=\"color: #008080; text-decoration-color: #008080; font-weight: bold\">2.989414e+07</span> │ <span style=\"font-weight: bold\">&lt;</span><span style=\"color: #ff00ff; text-decoration-color: #ff00ff; font-weight: bold\">POINT</span><span style=\"color: #000000; text-decoration-color: #000000\"> </span><span style=\"color: #000000; text-decoration-color: #000000; font-weight: bold\">(</span><span style=\"color: #008080; text-decoration-color: #008080; font-weight: bold\">77.75</span><span style=\"color: #000000; text-decoration-color: #000000\"> </span><span style=\"color: #008080; text-decoration-color: #008080; font-weight: bold\">35.25</span><span style=\"color: #000000; text-decoration-color: #000000; font-weight: bold\">)</span><span style=\"font-weight: bold\">&gt;</span> │ <span style=\"color: #008000; text-decoration-color: #008000\">Z01.14.13.1_1</span> │ <span style=\"color: #008000; text-decoration-color: #008000\">n.a. ( 1)</span> │ <span style=\"color: #008000; text-decoration-color: #008000\">Z01.14.13_1</span> │ <span style=\"color: #008000; text-decoration-color: #008000\">Leh (Ladakh)</span> │ <span style=\"color: #008000; text-decoration-color: #008000\">Z01.14_1</span> │ <span style=\"color: #008000; text-decoration-color: #008000\">Jammu and Kashmir</span> │\n",
       "│ <span style=\"color: #800080; text-decoration-color: #800080\">2012-07-01 00:00:00</span> │    <span style=\"color: #008080; text-decoration-color: #008080; font-weight: bold\">35.25</span> │     <span style=\"color: #008080; text-decoration-color: #008080; font-weight: bold\">78.00</span> │      <span style=\"color: #008080; text-decoration-color: #008080; font-weight: bold\">0</span> │ <span style=\"color: #008000; text-decoration-color: #008000\">0001  </span> │ <span style=\"color: #008080; text-decoration-color: #008080; font-weight: bold\">272.779541</span> │ <span style=\"color: #008080; text-decoration-color: #008080; font-weight: bold\">0.000275</span> │ <span style=\"color: #008080; text-decoration-color: #008080; font-weight: bold\">0.173774</span> │  <span style=\"color: #008080; text-decoration-color: #008080; font-weight: bold\">1.265244</span> │  <span style=\"color: #008080; text-decoration-color: #008080; font-weight: bold\">0.700133</span> │ <span style=\"color: #008080; text-decoration-color: #008080; font-weight: bold\">2.951782e+07</span> │ <span style=\"font-weight: bold\">&lt;</span><span style=\"color: #ff00ff; text-decoration-color: #ff00ff; font-weight: bold\">POINT</span><span style=\"color: #000000; text-decoration-color: #000000\"> </span><span style=\"color: #000000; text-decoration-color: #000000; font-weight: bold\">(</span><span style=\"color: #008080; text-decoration-color: #008080; font-weight: bold\">78</span><span style=\"color: #000000; text-decoration-color: #000000\"> </span><span style=\"color: #008080; text-decoration-color: #008080; font-weight: bold\">35.25</span><span style=\"color: #000000; text-decoration-color: #000000; font-weight: bold\">)</span><span style=\"font-weight: bold\">&gt;</span>    │ <span style=\"color: #008000; text-decoration-color: #008000\">Z01.14.13.1_1</span> │ <span style=\"color: #008000; text-decoration-color: #008000\">n.a. ( 1)</span> │ <span style=\"color: #008000; text-decoration-color: #008000\">Z01.14.13_1</span> │ <span style=\"color: #008000; text-decoration-color: #008000\">Leh (Ladakh)</span> │ <span style=\"color: #008000; text-decoration-color: #008000\">Z01.14_1</span> │ <span style=\"color: #008000; text-decoration-color: #008000\">Jammu and Kashmir</span> │\n",
       "│ <span style=\"color: #800080; text-decoration-color: #800080\">2012-07-01 00:00:00</span> │    <span style=\"color: #008080; text-decoration-color: #008080; font-weight: bold\">35.00</span> │     <span style=\"color: #008080; text-decoration-color: #008080; font-weight: bold\">77.25</span> │      <span style=\"color: #008080; text-decoration-color: #008080; font-weight: bold\">0</span> │ <span style=\"color: #008000; text-decoration-color: #008000\">0001  </span> │ <span style=\"color: #008080; text-decoration-color: #008080; font-weight: bold\">270.109619</span> │ <span style=\"color: #008080; text-decoration-color: #008080; font-weight: bold\">0.000299</span> │ <span style=\"color: #008080; text-decoration-color: #008080; font-weight: bold\">0.364722</span> │ <span style=\"color: #008080; text-decoration-color: #008080; font-weight: bold\">-0.238173</span> │ <span style=\"color: #008080; text-decoration-color: #008080; font-weight: bold\">-0.765687</span> │ <span style=\"color: #008080; text-decoration-color: #008080; font-weight: bold\">2.892134e+07</span> │ <span style=\"font-weight: bold\">&lt;</span><span style=\"color: #ff00ff; text-decoration-color: #ff00ff; font-weight: bold\">POINT</span><span style=\"color: #000000; text-decoration-color: #000000\"> </span><span style=\"color: #000000; text-decoration-color: #000000; font-weight: bold\">(</span><span style=\"color: #008080; text-decoration-color: #008080; font-weight: bold\">77.25</span><span style=\"color: #000000; text-decoration-color: #000000\"> </span><span style=\"color: #008080; text-decoration-color: #008080; font-weight: bold\">35</span><span style=\"color: #000000; text-decoration-color: #000000; font-weight: bold\">)</span><span style=\"font-weight: bold\">&gt;</span>    │ <span style=\"color: #008000; text-decoration-color: #008000\">Z01.14.13.1_1</span> │ <span style=\"color: #008000; text-decoration-color: #008000\">n.a. ( 1)</span> │ <span style=\"color: #008000; text-decoration-color: #008000\">Z01.14.13_1</span> │ <span style=\"color: #008000; text-decoration-color: #008000\">Leh (Ladakh)</span> │ <span style=\"color: #008000; text-decoration-color: #008000\">Z01.14_1</span> │ <span style=\"color: #008000; text-decoration-color: #008000\">Jammu and Kashmir</span> │\n",
       "│ <span style=\"color: #800080; text-decoration-color: #800080\">2012-07-01 00:00:00</span> │    <span style=\"color: #008080; text-decoration-color: #008080; font-weight: bold\">35.00</span> │     <span style=\"color: #008080; text-decoration-color: #008080; font-weight: bold\">77.50</span> │      <span style=\"color: #008080; text-decoration-color: #008080; font-weight: bold\">0</span> │ <span style=\"color: #008000; text-decoration-color: #008000\">0001  </span> │ <span style=\"color: #008080; text-decoration-color: #008080; font-weight: bold\">270.629150</span> │ <span style=\"color: #008080; text-decoration-color: #008080; font-weight: bold\">0.000292</span> │ <span style=\"color: #008080; text-decoration-color: #008080; font-weight: bold\">0.340033</span> │ <span style=\"color: #008080; text-decoration-color: #008080; font-weight: bold\">-0.162490</span> │ <span style=\"color: #008080; text-decoration-color: #008080; font-weight: bold\">-0.552308</span> │ <span style=\"color: #008080; text-decoration-color: #008080; font-weight: bold\">2.911437e+07</span> │ <span style=\"font-weight: bold\">&lt;</span><span style=\"color: #ff00ff; text-decoration-color: #ff00ff; font-weight: bold\">POINT</span><span style=\"color: #000000; text-decoration-color: #000000\"> </span><span style=\"color: #000000; text-decoration-color: #000000; font-weight: bold\">(</span><span style=\"color: #008080; text-decoration-color: #008080; font-weight: bold\">77.5</span><span style=\"color: #000000; text-decoration-color: #000000\"> </span><span style=\"color: #008080; text-decoration-color: #008080; font-weight: bold\">35</span><span style=\"color: #000000; text-decoration-color: #000000; font-weight: bold\">)</span><span style=\"font-weight: bold\">&gt;</span>     │ <span style=\"color: #008000; text-decoration-color: #008000\">Z01.14.13.1_1</span> │ <span style=\"color: #008000; text-decoration-color: #008000\">n.a. ( 1)</span> │ <span style=\"color: #008000; text-decoration-color: #008000\">Z01.14.13_1</span> │ <span style=\"color: #008000; text-decoration-color: #008000\">Leh (Ladakh)</span> │ <span style=\"color: #008000; text-decoration-color: #008000\">Z01.14_1</span> │ <span style=\"color: #008000; text-decoration-color: #008000\">Jammu and Kashmir</span> │\n",
       "│ <span style=\"color: #800080; text-decoration-color: #800080\">2012-07-01 00:00:00</span> │    <span style=\"color: #008080; text-decoration-color: #008080; font-weight: bold\">35.00</span> │     <span style=\"color: #008080; text-decoration-color: #008080; font-weight: bold\">77.75</span> │      <span style=\"color: #008080; text-decoration-color: #008080; font-weight: bold\">0</span> │ <span style=\"color: #008000; text-decoration-color: #008000\">0001  </span> │ <span style=\"color: #008080; text-decoration-color: #008080; font-weight: bold\">271.080322</span> │ <span style=\"color: #008080; text-decoration-color: #008080; font-weight: bold\">0.000326</span> │ <span style=\"color: #008080; text-decoration-color: #008080; font-weight: bold\">0.311591</span> │ <span style=\"color: #008080; text-decoration-color: #008080; font-weight: bold\">-0.019423</span> │ <span style=\"color: #008080; text-decoration-color: #008080; font-weight: bold\">-0.161683</span> │ <span style=\"color: #008080; text-decoration-color: #008080; font-weight: bold\">2.922803e+07</span> │ <span style=\"font-weight: bold\">&lt;</span><span style=\"color: #ff00ff; text-decoration-color: #ff00ff; font-weight: bold\">POINT</span><span style=\"color: #000000; text-decoration-color: #000000\"> </span><span style=\"color: #000000; text-decoration-color: #000000; font-weight: bold\">(</span><span style=\"color: #008080; text-decoration-color: #008080; font-weight: bold\">77.75</span><span style=\"color: #000000; text-decoration-color: #000000\"> </span><span style=\"color: #008080; text-decoration-color: #008080; font-weight: bold\">35</span><span style=\"color: #000000; text-decoration-color: #000000; font-weight: bold\">)</span><span style=\"font-weight: bold\">&gt;</span>    │ <span style=\"color: #008000; text-decoration-color: #008000\">Z01.14.13.1_1</span> │ <span style=\"color: #008000; text-decoration-color: #008000\">n.a. ( 1)</span> │ <span style=\"color: #008000; text-decoration-color: #008000\">Z01.14.13_1</span> │ <span style=\"color: #008000; text-decoration-color: #008000\">Leh (Ladakh)</span> │ <span style=\"color: #008000; text-decoration-color: #008000\">Z01.14_1</span> │ <span style=\"color: #008000; text-decoration-color: #008000\">Jammu and Kashmir</span> │\n",
       "│ <span style=\"color: #800080; text-decoration-color: #800080\">2012-07-01 00:00:00</span> │    <span style=\"color: #008080; text-decoration-color: #008080; font-weight: bold\">35.00</span> │     <span style=\"color: #008080; text-decoration-color: #008080; font-weight: bold\">78.00</span> │      <span style=\"color: #008080; text-decoration-color: #008080; font-weight: bold\">0</span> │ <span style=\"color: #008000; text-decoration-color: #008000\">0001  </span> │ <span style=\"color: #008080; text-decoration-color: #008080; font-weight: bold\">271.472900</span> │ <span style=\"color: #008080; text-decoration-color: #008080; font-weight: bold\">0.000467</span> │ <span style=\"color: #008080; text-decoration-color: #008080; font-weight: bold\">0.267981</span> │  <span style=\"color: #008080; text-decoration-color: #008080; font-weight: bold\">0.510850</span> │  <span style=\"color: #008080; text-decoration-color: #008080; font-weight: bold\">0.372497</span> │ <span style=\"color: #008080; text-decoration-color: #008080; font-weight: bold\">2.925466e+07</span> │ <span style=\"font-weight: bold\">&lt;</span><span style=\"color: #ff00ff; text-decoration-color: #ff00ff; font-weight: bold\">POINT</span><span style=\"color: #000000; text-decoration-color: #000000\"> </span><span style=\"color: #000000; text-decoration-color: #000000; font-weight: bold\">(</span><span style=\"color: #008080; text-decoration-color: #008080; font-weight: bold\">78</span><span style=\"color: #000000; text-decoration-color: #000000\"> </span><span style=\"color: #008080; text-decoration-color: #008080; font-weight: bold\">35</span><span style=\"color: #000000; text-decoration-color: #000000; font-weight: bold\">)</span><span style=\"font-weight: bold\">&gt;</span>       │ <span style=\"color: #008000; text-decoration-color: #008000\">Z01.14.13.1_1</span> │ <span style=\"color: #008000; text-decoration-color: #008000\">n.a. ( 1)</span> │ <span style=\"color: #008000; text-decoration-color: #008000\">Z01.14.13_1</span> │ <span style=\"color: #008000; text-decoration-color: #008000\">Leh (Ladakh)</span> │ <span style=\"color: #008000; text-decoration-color: #008000\">Z01.14_1</span> │ <span style=\"color: #008000; text-decoration-color: #008000\">Jammu and Kashmir</span> │\n",
       "│ <span style=\"color: #800080; text-decoration-color: #800080\">2012-07-01 00:00:00</span> │    <span style=\"color: #008080; text-decoration-color: #008080; font-weight: bold\">34.75</span> │     <span style=\"color: #008080; text-decoration-color: #008080; font-weight: bold\">74.25</span> │      <span style=\"color: #008080; text-decoration-color: #008080; font-weight: bold\">0</span> │ <span style=\"color: #008000; text-decoration-color: #008000\">0001  </span> │ <span style=\"color: #008080; text-decoration-color: #008080; font-weight: bold\">287.480713</span> │ <span style=\"color: #008080; text-decoration-color: #008080; font-weight: bold\">0.004389</span> │ <span style=\"color: #008080; text-decoration-color: #008080; font-weight: bold\">0.352073</span> │  <span style=\"color: #008080; text-decoration-color: #008080; font-weight: bold\">0.083116</span> │ <span style=\"color: #008080; text-decoration-color: #008080; font-weight: bold\">-0.075257</span> │ <span style=\"color: #008080; text-decoration-color: #008080; font-weight: bold\">2.423194e+07</span> │ <span style=\"font-weight: bold\">&lt;</span><span style=\"color: #ff00ff; text-decoration-color: #ff00ff; font-weight: bold\">POINT</span><span style=\"color: #000000; text-decoration-color: #000000\"> </span><span style=\"color: #000000; text-decoration-color: #000000; font-weight: bold\">(</span><span style=\"color: #008080; text-decoration-color: #008080; font-weight: bold\">74.25</span><span style=\"color: #000000; text-decoration-color: #000000\"> </span><span style=\"color: #008080; text-decoration-color: #008080; font-weight: bold\">34.75</span><span style=\"color: #000000; text-decoration-color: #000000; font-weight: bold\">)</span><span style=\"font-weight: bold\">&gt;</span> │ <span style=\"color: #008000; text-decoration-color: #008000\">Z01.14.12.1_1</span> │ <span style=\"color: #008000; text-decoration-color: #008000\">n.a. ( 2)</span> │ <span style=\"color: #008000; text-decoration-color: #008000\">Z01.14.12_1</span> │ <span style=\"color: #008000; text-decoration-color: #008000\">Kupwara     </span> │ <span style=\"color: #008000; text-decoration-color: #008000\">Z01.14_1</span> │ <span style=\"color: #008000; text-decoration-color: #008000\">Jammu and Kashmir</span> │\n",
       "│ <span style=\"color: #800080; text-decoration-color: #800080\">2012-07-01 00:00:00</span> │    <span style=\"color: #008080; text-decoration-color: #008080; font-weight: bold\">34.75</span> │     <span style=\"color: #008080; text-decoration-color: #008080; font-weight: bold\">74.50</span> │      <span style=\"color: #008080; text-decoration-color: #008080; font-weight: bold\">0</span> │ <span style=\"color: #008000; text-decoration-color: #008000\">0001  </span> │ <span style=\"color: #008080; text-decoration-color: #008080; font-weight: bold\">286.588135</span> │ <span style=\"color: #008080; text-decoration-color: #008080; font-weight: bold\">0.002911</span> │ <span style=\"color: #008080; text-decoration-color: #008080; font-weight: bold\">0.330985</span> │  <span style=\"color: #008080; text-decoration-color: #008080; font-weight: bold\">0.041123</span> │ <span style=\"color: #008080; text-decoration-color: #008080; font-weight: bold\">-0.037171</span> │ <span style=\"color: #008080; text-decoration-color: #008080; font-weight: bold\">2.441984e+07</span> │ <span style=\"font-weight: bold\">&lt;</span><span style=\"color: #ff00ff; text-decoration-color: #ff00ff; font-weight: bold\">POINT</span><span style=\"color: #000000; text-decoration-color: #000000\"> </span><span style=\"color: #000000; text-decoration-color: #000000; font-weight: bold\">(</span><span style=\"color: #008080; text-decoration-color: #008080; font-weight: bold\">74.5</span><span style=\"color: #000000; text-decoration-color: #000000\"> </span><span style=\"color: #008080; text-decoration-color: #008080; font-weight: bold\">34.75</span><span style=\"color: #000000; text-decoration-color: #000000; font-weight: bold\">)</span><span style=\"font-weight: bold\">&gt;</span>  │ <span style=\"color: #008000; text-decoration-color: #008000\">Z01.14.12.1_1</span> │ <span style=\"color: #008000; text-decoration-color: #008000\">n.a. ( 2)</span> │ <span style=\"color: #008000; text-decoration-color: #008000\">Z01.14.12_1</span> │ <span style=\"color: #008000; text-decoration-color: #008000\">Kupwara     </span> │ <span style=\"color: #008000; text-decoration-color: #008000\">Z01.14_1</span> │ <span style=\"color: #008000; text-decoration-color: #008000\">Jammu and Kashmir</span> │\n",
       "│ <span style=\"color: #800080; text-decoration-color: #800080\">2012-07-01 00:00:00</span> │    <span style=\"color: #008080; text-decoration-color: #008080; font-weight: bold\">34.75</span> │     <span style=\"color: #008080; text-decoration-color: #008080; font-weight: bold\">76.50</span> │      <span style=\"color: #008080; text-decoration-color: #008080; font-weight: bold\">0</span> │ <span style=\"color: #008000; text-decoration-color: #008000\">0001  </span> │ <span style=\"color: #008080; text-decoration-color: #008080; font-weight: bold\">279.220947</span> │ <span style=\"color: #008080; text-decoration-color: #008080; font-weight: bold\">0.001089</span> │ <span style=\"color: #008080; text-decoration-color: #008080; font-weight: bold\">0.190299</span> │  <span style=\"color: #008080; text-decoration-color: #008080; font-weight: bold\">0.123643</span> │ <span style=\"color: #008080; text-decoration-color: #008080; font-weight: bold\">-0.347230</span> │ <span style=\"color: #008080; text-decoration-color: #008080; font-weight: bold\">2.596557e+07</span> │ <span style=\"font-weight: bold\">&lt;</span><span style=\"color: #ff00ff; text-decoration-color: #ff00ff; font-weight: bold\">POINT</span><span style=\"color: #000000; text-decoration-color: #000000\"> </span><span style=\"color: #000000; text-decoration-color: #000000; font-weight: bold\">(</span><span style=\"color: #008080; text-decoration-color: #008080; font-weight: bold\">76.5</span><span style=\"color: #000000; text-decoration-color: #000000\"> </span><span style=\"color: #008080; text-decoration-color: #008080; font-weight: bold\">34.75</span><span style=\"color: #000000; text-decoration-color: #000000; font-weight: bold\">)</span><span style=\"font-weight: bold\">&gt;</span>  │ <span style=\"color: #008000; text-decoration-color: #008000\">Z01.14.13.1_1</span> │ <span style=\"color: #008000; text-decoration-color: #008000\">n.a. ( 1)</span> │ <span style=\"color: #008000; text-decoration-color: #008000\">Z01.14.13_1</span> │ <span style=\"color: #008000; text-decoration-color: #008000\">Leh (Ladakh)</span> │ <span style=\"color: #008000; text-decoration-color: #008000\">Z01.14_1</span> │ <span style=\"color: #008000; text-decoration-color: #008000\">Jammu and Kashmir</span> │\n",
       "│ <span style=\"color: #7f7f7f; text-decoration-color: #7f7f7f\">…</span>                   │        <span style=\"color: #7f7f7f; text-decoration-color: #7f7f7f\">…</span> │         <span style=\"color: #7f7f7f; text-decoration-color: #7f7f7f\">…</span> │      <span style=\"color: #7f7f7f; text-decoration-color: #7f7f7f\">…</span> │ <span style=\"color: #7f7f7f; text-decoration-color: #7f7f7f\">…</span>      │          <span style=\"color: #7f7f7f; text-decoration-color: #7f7f7f\">…</span> │        <span style=\"color: #7f7f7f; text-decoration-color: #7f7f7f\">…</span> │        <span style=\"color: #7f7f7f; text-decoration-color: #7f7f7f\">…</span> │         <span style=\"color: #7f7f7f; text-decoration-color: #7f7f7f\">…</span> │         <span style=\"color: #7f7f7f; text-decoration-color: #7f7f7f\">…</span> │            <span style=\"color: #7f7f7f; text-decoration-color: #7f7f7f\">…</span> │ <span style=\"color: #7f7f7f; text-decoration-color: #7f7f7f\">…</span>                     │ <span style=\"color: #7f7f7f; text-decoration-color: #7f7f7f\">…</span>             │ <span style=\"color: #7f7f7f; text-decoration-color: #7f7f7f\">…</span>         │ <span style=\"color: #7f7f7f; text-decoration-color: #7f7f7f\">…</span>           │ <span style=\"color: #7f7f7f; text-decoration-color: #7f7f7f\">…</span>            │ <span style=\"color: #7f7f7f; text-decoration-color: #7f7f7f\">…</span>        │ <span style=\"color: #7f7f7f; text-decoration-color: #7f7f7f\">…</span>                 │\n",
       "└─────────────────────┴──────────┴───────────┴────────┴────────┴────────────┴──────────┴──────────┴───────────┴───────────┴──────────────┴───────────────────────┴───────────────┴───────────┴─────────────┴──────────────┴──────────┴───────────────────┘\n",
       "</pre>\n"
      ],
      "text/plain": [
       "┏━━━━━━━━━━━━━━━━━━━━━┳━━━━━━━━━━┳━━━━━━━━━━━┳━━━━━━━━┳━━━━━━━━┳━━━━━━━━━━━━┳━━━━━━━━━━┳━━━━━━━━━━┳━━━━━━━━━━━┳━━━━━━━━━━━┳━━━━━━━━━━━━━━┳━━━━━━━━━━━━━━━━━━━━━━━┳━━━━━━━━━━━━━━━┳━━━━━━━━━━━┳━━━━━━━━━━━━━┳━━━━━━━━━━━━━━┳━━━━━━━━━━┳━━━━━━━━━━━━━━━━━━━┓\n",
       "┃\u001b[1m \u001b[0m\u001b[1mdate\u001b[0m\u001b[1m               \u001b[0m\u001b[1m \u001b[0m┃\u001b[1m \u001b[0m\u001b[1mlatitude\u001b[0m\u001b[1m \u001b[0m┃\u001b[1m \u001b[0m\u001b[1mlongitude\u001b[0m\u001b[1m \u001b[0m┃\u001b[1m \u001b[0m\u001b[1mnumber\u001b[0m\u001b[1m \u001b[0m┃\u001b[1m \u001b[0m\u001b[1mexpver\u001b[0m\u001b[1m \u001b[0m┃\u001b[1m \u001b[0m\u001b[1mt2m\u001b[0m\u001b[1m       \u001b[0m\u001b[1m \u001b[0m┃\u001b[1m \u001b[0m\u001b[1mtp\u001b[0m\u001b[1m      \u001b[0m\u001b[1m \u001b[0m┃\u001b[1m \u001b[0m\u001b[1mswvl1\u001b[0m\u001b[1m   \u001b[0m\u001b[1m \u001b[0m┃\u001b[1m \u001b[0m\u001b[1mu10\u001b[0m\u001b[1m      \u001b[0m\u001b[1m \u001b[0m┃\u001b[1m \u001b[0m\u001b[1mv10\u001b[0m\u001b[1m      \u001b[0m\u001b[1m \u001b[0m┃\u001b[1m \u001b[0m\u001b[1mssrd\u001b[0m\u001b[1m        \u001b[0m\u001b[1m \u001b[0m┃\u001b[1m \u001b[0m\u001b[1mpoint\u001b[0m\u001b[1m                \u001b[0m\u001b[1m \u001b[0m┃\u001b[1m \u001b[0m\u001b[1mGID_3\u001b[0m\u001b[1m        \u001b[0m\u001b[1m \u001b[0m┃\u001b[1m \u001b[0m\u001b[1mNAME_3\u001b[0m\u001b[1m   \u001b[0m\u001b[1m \u001b[0m┃\u001b[1m \u001b[0m\u001b[1mGID_2\u001b[0m\u001b[1m      \u001b[0m\u001b[1m \u001b[0m┃\u001b[1m \u001b[0m\u001b[1mNAME_2\u001b[0m\u001b[1m      \u001b[0m\u001b[1m \u001b[0m┃\u001b[1m \u001b[0m\u001b[1mGID_1\u001b[0m\u001b[1m   \u001b[0m\u001b[1m \u001b[0m┃\u001b[1m \u001b[0m\u001b[1mNAME_1\u001b[0m\u001b[1m           \u001b[0m\u001b[1m \u001b[0m┃\n",
       "┡━━━━━━━━━━━━━━━━━━━━━╇━━━━━━━━━━╇━━━━━━━━━━━╇━━━━━━━━╇━━━━━━━━╇━━━━━━━━━━━━╇━━━━━━━━━━╇━━━━━━━━━━╇━━━━━━━━━━━╇━━━━━━━━━━━╇━━━━━━━━━━━━━━╇━━━━━━━━━━━━━━━━━━━━━━━╇━━━━━━━━━━━━━━━╇━━━━━━━━━━━╇━━━━━━━━━━━━━╇━━━━━━━━━━━━━━╇━━━━━━━━━━╇━━━━━━━━━━━━━━━━━━━┩\n",
       "│ \u001b[2mtimestamp(9)\u001b[0m        │ \u001b[2mfloat64\u001b[0m  │ \u001b[2mfloat64\u001b[0m   │ \u001b[2mint64\u001b[0m  │ \u001b[2mstring\u001b[0m │ \u001b[2mfloat32\u001b[0m    │ \u001b[2mfloat32\u001b[0m  │ \u001b[2mfloat32\u001b[0m  │ \u001b[2mfloat32\u001b[0m   │ \u001b[2mfloat32\u001b[0m   │ \u001b[2mfloat32\u001b[0m      │ \u001b[2mgeospatial:geometry\u001b[0m   │ \u001b[2mstring\u001b[0m        │ \u001b[2mstring\u001b[0m    │ \u001b[2mstring\u001b[0m      │ \u001b[2mstring\u001b[0m       │ \u001b[2mstring\u001b[0m   │ \u001b[2mstring\u001b[0m            │\n",
       "├─────────────────────┼──────────┼───────────┼────────┼────────┼────────────┼──────────┼──────────┼───────────┼───────────┼──────────────┼───────────────────────┼───────────────┼───────────┼─────────────┼──────────────┼──────────┼───────────────────┤\n",
       "│ \u001b[35m2012-07-01 00:00:00\u001b[0m │    \u001b[1;36m35.25\u001b[0m │     \u001b[1;36m77.50\u001b[0m │      \u001b[1;36m0\u001b[0m │ \u001b[32m0001  \u001b[0m │ \u001b[1;36m267.140869\u001b[0m │ \u001b[1;36m0.000246\u001b[0m │ \u001b[1;36m0.225364\u001b[0m │  \u001b[1;36m0.521592\u001b[0m │ \u001b[1;36m-0.367738\u001b[0m │ \u001b[1;36m3.056077e+07\u001b[0m │ \u001b[1m<\u001b[0m\u001b[1;95mPOINT\u001b[0m\u001b[39m \u001b[0m\u001b[1;39m(\u001b[0m\u001b[1;36m77.5\u001b[0m\u001b[39m \u001b[0m\u001b[1;36m35.25\u001b[0m\u001b[1;39m)\u001b[0m\u001b[1m>\u001b[0m  │ \u001b[32mZ01.14.13.1_1\u001b[0m │ \u001b[32mn.a. ( 1)\u001b[0m │ \u001b[32mZ01.14.13_1\u001b[0m │ \u001b[32mLeh (Ladakh)\u001b[0m │ \u001b[32mZ01.14_1\u001b[0m │ \u001b[32mJammu and Kashmir\u001b[0m │\n",
       "│ \u001b[35m2012-07-01 00:00:00\u001b[0m │    \u001b[1;36m35.25\u001b[0m │     \u001b[1;36m77.75\u001b[0m │      \u001b[1;36m0\u001b[0m │ \u001b[32m0001  \u001b[0m │ \u001b[1;36m270.275635\u001b[0m │ \u001b[1;36m0.000242\u001b[0m │ \u001b[1;36m0.183127\u001b[0m │  \u001b[1;36m0.983506\u001b[0m │  \u001b[1;36m0.149840\u001b[0m │ \u001b[1;36m2.989414e+07\u001b[0m │ \u001b[1m<\u001b[0m\u001b[1;95mPOINT\u001b[0m\u001b[39m \u001b[0m\u001b[1;39m(\u001b[0m\u001b[1;36m77.75\u001b[0m\u001b[39m \u001b[0m\u001b[1;36m35.25\u001b[0m\u001b[1;39m)\u001b[0m\u001b[1m>\u001b[0m │ \u001b[32mZ01.14.13.1_1\u001b[0m │ \u001b[32mn.a. ( 1)\u001b[0m │ \u001b[32mZ01.14.13_1\u001b[0m │ \u001b[32mLeh (Ladakh)\u001b[0m │ \u001b[32mZ01.14_1\u001b[0m │ \u001b[32mJammu and Kashmir\u001b[0m │\n",
       "│ \u001b[35m2012-07-01 00:00:00\u001b[0m │    \u001b[1;36m35.25\u001b[0m │     \u001b[1;36m78.00\u001b[0m │      \u001b[1;36m0\u001b[0m │ \u001b[32m0001  \u001b[0m │ \u001b[1;36m272.779541\u001b[0m │ \u001b[1;36m0.000275\u001b[0m │ \u001b[1;36m0.173774\u001b[0m │  \u001b[1;36m1.265244\u001b[0m │  \u001b[1;36m0.700133\u001b[0m │ \u001b[1;36m2.951782e+07\u001b[0m │ \u001b[1m<\u001b[0m\u001b[1;95mPOINT\u001b[0m\u001b[39m \u001b[0m\u001b[1;39m(\u001b[0m\u001b[1;36m78\u001b[0m\u001b[39m \u001b[0m\u001b[1;36m35.25\u001b[0m\u001b[1;39m)\u001b[0m\u001b[1m>\u001b[0m    │ \u001b[32mZ01.14.13.1_1\u001b[0m │ \u001b[32mn.a. ( 1)\u001b[0m │ \u001b[32mZ01.14.13_1\u001b[0m │ \u001b[32mLeh (Ladakh)\u001b[0m │ \u001b[32mZ01.14_1\u001b[0m │ \u001b[32mJammu and Kashmir\u001b[0m │\n",
       "│ \u001b[35m2012-07-01 00:00:00\u001b[0m │    \u001b[1;36m35.00\u001b[0m │     \u001b[1;36m77.25\u001b[0m │      \u001b[1;36m0\u001b[0m │ \u001b[32m0001  \u001b[0m │ \u001b[1;36m270.109619\u001b[0m │ \u001b[1;36m0.000299\u001b[0m │ \u001b[1;36m0.364722\u001b[0m │ \u001b[1;36m-0.238173\u001b[0m │ \u001b[1;36m-0.765687\u001b[0m │ \u001b[1;36m2.892134e+07\u001b[0m │ \u001b[1m<\u001b[0m\u001b[1;95mPOINT\u001b[0m\u001b[39m \u001b[0m\u001b[1;39m(\u001b[0m\u001b[1;36m77.25\u001b[0m\u001b[39m \u001b[0m\u001b[1;36m35\u001b[0m\u001b[1;39m)\u001b[0m\u001b[1m>\u001b[0m    │ \u001b[32mZ01.14.13.1_1\u001b[0m │ \u001b[32mn.a. ( 1)\u001b[0m │ \u001b[32mZ01.14.13_1\u001b[0m │ \u001b[32mLeh (Ladakh)\u001b[0m │ \u001b[32mZ01.14_1\u001b[0m │ \u001b[32mJammu and Kashmir\u001b[0m │\n",
       "│ \u001b[35m2012-07-01 00:00:00\u001b[0m │    \u001b[1;36m35.00\u001b[0m │     \u001b[1;36m77.50\u001b[0m │      \u001b[1;36m0\u001b[0m │ \u001b[32m0001  \u001b[0m │ \u001b[1;36m270.629150\u001b[0m │ \u001b[1;36m0.000292\u001b[0m │ \u001b[1;36m0.340033\u001b[0m │ \u001b[1;36m-0.162490\u001b[0m │ \u001b[1;36m-0.552308\u001b[0m │ \u001b[1;36m2.911437e+07\u001b[0m │ \u001b[1m<\u001b[0m\u001b[1;95mPOINT\u001b[0m\u001b[39m \u001b[0m\u001b[1;39m(\u001b[0m\u001b[1;36m77.5\u001b[0m\u001b[39m \u001b[0m\u001b[1;36m35\u001b[0m\u001b[1;39m)\u001b[0m\u001b[1m>\u001b[0m     │ \u001b[32mZ01.14.13.1_1\u001b[0m │ \u001b[32mn.a. ( 1)\u001b[0m │ \u001b[32mZ01.14.13_1\u001b[0m │ \u001b[32mLeh (Ladakh)\u001b[0m │ \u001b[32mZ01.14_1\u001b[0m │ \u001b[32mJammu and Kashmir\u001b[0m │\n",
       "│ \u001b[35m2012-07-01 00:00:00\u001b[0m │    \u001b[1;36m35.00\u001b[0m │     \u001b[1;36m77.75\u001b[0m │      \u001b[1;36m0\u001b[0m │ \u001b[32m0001  \u001b[0m │ \u001b[1;36m271.080322\u001b[0m │ \u001b[1;36m0.000326\u001b[0m │ \u001b[1;36m0.311591\u001b[0m │ \u001b[1;36m-0.019423\u001b[0m │ \u001b[1;36m-0.161683\u001b[0m │ \u001b[1;36m2.922803e+07\u001b[0m │ \u001b[1m<\u001b[0m\u001b[1;95mPOINT\u001b[0m\u001b[39m \u001b[0m\u001b[1;39m(\u001b[0m\u001b[1;36m77.75\u001b[0m\u001b[39m \u001b[0m\u001b[1;36m35\u001b[0m\u001b[1;39m)\u001b[0m\u001b[1m>\u001b[0m    │ \u001b[32mZ01.14.13.1_1\u001b[0m │ \u001b[32mn.a. ( 1)\u001b[0m │ \u001b[32mZ01.14.13_1\u001b[0m │ \u001b[32mLeh (Ladakh)\u001b[0m │ \u001b[32mZ01.14_1\u001b[0m │ \u001b[32mJammu and Kashmir\u001b[0m │\n",
       "│ \u001b[35m2012-07-01 00:00:00\u001b[0m │    \u001b[1;36m35.00\u001b[0m │     \u001b[1;36m78.00\u001b[0m │      \u001b[1;36m0\u001b[0m │ \u001b[32m0001  \u001b[0m │ \u001b[1;36m271.472900\u001b[0m │ \u001b[1;36m0.000467\u001b[0m │ \u001b[1;36m0.267981\u001b[0m │  \u001b[1;36m0.510850\u001b[0m │  \u001b[1;36m0.372497\u001b[0m │ \u001b[1;36m2.925466e+07\u001b[0m │ \u001b[1m<\u001b[0m\u001b[1;95mPOINT\u001b[0m\u001b[39m \u001b[0m\u001b[1;39m(\u001b[0m\u001b[1;36m78\u001b[0m\u001b[39m \u001b[0m\u001b[1;36m35\u001b[0m\u001b[1;39m)\u001b[0m\u001b[1m>\u001b[0m       │ \u001b[32mZ01.14.13.1_1\u001b[0m │ \u001b[32mn.a. ( 1)\u001b[0m │ \u001b[32mZ01.14.13_1\u001b[0m │ \u001b[32mLeh (Ladakh)\u001b[0m │ \u001b[32mZ01.14_1\u001b[0m │ \u001b[32mJammu and Kashmir\u001b[0m │\n",
       "│ \u001b[35m2012-07-01 00:00:00\u001b[0m │    \u001b[1;36m34.75\u001b[0m │     \u001b[1;36m74.25\u001b[0m │      \u001b[1;36m0\u001b[0m │ \u001b[32m0001  \u001b[0m │ \u001b[1;36m287.480713\u001b[0m │ \u001b[1;36m0.004389\u001b[0m │ \u001b[1;36m0.352073\u001b[0m │  \u001b[1;36m0.083116\u001b[0m │ \u001b[1;36m-0.075257\u001b[0m │ \u001b[1;36m2.423194e+07\u001b[0m │ \u001b[1m<\u001b[0m\u001b[1;95mPOINT\u001b[0m\u001b[39m \u001b[0m\u001b[1;39m(\u001b[0m\u001b[1;36m74.25\u001b[0m\u001b[39m \u001b[0m\u001b[1;36m34.75\u001b[0m\u001b[1;39m)\u001b[0m\u001b[1m>\u001b[0m │ \u001b[32mZ01.14.12.1_1\u001b[0m │ \u001b[32mn.a. ( 2)\u001b[0m │ \u001b[32mZ01.14.12_1\u001b[0m │ \u001b[32mKupwara     \u001b[0m │ \u001b[32mZ01.14_1\u001b[0m │ \u001b[32mJammu and Kashmir\u001b[0m │\n",
       "│ \u001b[35m2012-07-01 00:00:00\u001b[0m │    \u001b[1;36m34.75\u001b[0m │     \u001b[1;36m74.50\u001b[0m │      \u001b[1;36m0\u001b[0m │ \u001b[32m0001  \u001b[0m │ \u001b[1;36m286.588135\u001b[0m │ \u001b[1;36m0.002911\u001b[0m │ \u001b[1;36m0.330985\u001b[0m │  \u001b[1;36m0.041123\u001b[0m │ \u001b[1;36m-0.037171\u001b[0m │ \u001b[1;36m2.441984e+07\u001b[0m │ \u001b[1m<\u001b[0m\u001b[1;95mPOINT\u001b[0m\u001b[39m \u001b[0m\u001b[1;39m(\u001b[0m\u001b[1;36m74.5\u001b[0m\u001b[39m \u001b[0m\u001b[1;36m34.75\u001b[0m\u001b[1;39m)\u001b[0m\u001b[1m>\u001b[0m  │ \u001b[32mZ01.14.12.1_1\u001b[0m │ \u001b[32mn.a. ( 2)\u001b[0m │ \u001b[32mZ01.14.12_1\u001b[0m │ \u001b[32mKupwara     \u001b[0m │ \u001b[32mZ01.14_1\u001b[0m │ \u001b[32mJammu and Kashmir\u001b[0m │\n",
       "│ \u001b[35m2012-07-01 00:00:00\u001b[0m │    \u001b[1;36m34.75\u001b[0m │     \u001b[1;36m76.50\u001b[0m │      \u001b[1;36m0\u001b[0m │ \u001b[32m0001  \u001b[0m │ \u001b[1;36m279.220947\u001b[0m │ \u001b[1;36m0.001089\u001b[0m │ \u001b[1;36m0.190299\u001b[0m │  \u001b[1;36m0.123643\u001b[0m │ \u001b[1;36m-0.347230\u001b[0m │ \u001b[1;36m2.596557e+07\u001b[0m │ \u001b[1m<\u001b[0m\u001b[1;95mPOINT\u001b[0m\u001b[39m \u001b[0m\u001b[1;39m(\u001b[0m\u001b[1;36m76.5\u001b[0m\u001b[39m \u001b[0m\u001b[1;36m34.75\u001b[0m\u001b[1;39m)\u001b[0m\u001b[1m>\u001b[0m  │ \u001b[32mZ01.14.13.1_1\u001b[0m │ \u001b[32mn.a. ( 1)\u001b[0m │ \u001b[32mZ01.14.13_1\u001b[0m │ \u001b[32mLeh (Ladakh)\u001b[0m │ \u001b[32mZ01.14_1\u001b[0m │ \u001b[32mJammu and Kashmir\u001b[0m │\n",
       "│ \u001b[2m…\u001b[0m                   │        \u001b[2m…\u001b[0m │         \u001b[2m…\u001b[0m │      \u001b[2m…\u001b[0m │ \u001b[2m…\u001b[0m      │          \u001b[2m…\u001b[0m │        \u001b[2m…\u001b[0m │        \u001b[2m…\u001b[0m │         \u001b[2m…\u001b[0m │         \u001b[2m…\u001b[0m │            \u001b[2m…\u001b[0m │ \u001b[2m…\u001b[0m                     │ \u001b[2m…\u001b[0m             │ \u001b[2m…\u001b[0m         │ \u001b[2m…\u001b[0m           │ \u001b[2m…\u001b[0m            │ \u001b[2m…\u001b[0m        │ \u001b[2m…\u001b[0m                 │\n",
       "└─────────────────────┴──────────┴───────────┴────────┴────────┴────────────┴──────────┴──────────┴───────────┴───────────┴──────────────┴───────────────────────┴───────────────┴───────────┴─────────────┴──────────────┴──────────┴───────────────────┘"
      ]
     },
     "execution_count": 49,
     "metadata": {},
     "output_type": "execute_result"
    }
   ],
   "source": [
    "t = con.table('climate_data_by_region')\n",
    "t"
   ]
  },
  {
   "cell_type": "code",
   "execution_count": 50,
   "metadata": {},
   "outputs": [
    {
     "name": "stderr",
     "output_type": "stream",
     "text": [
      "/home/denis/.cache/pypoetry/virtualenvs/india-climate-agri-database-dWLTZUkq-py3.12/lib/python3.12/site-packages/lonboard/_geoarrow/ops/reproject.py:33: UserWarning: No CRS exists on data. If no data is shown on the map, double check that your CRS is WGS84.\n",
      "  warn(\n"
     ]
    },
    {
     "data": {
      "application/vnd.jupyter.widget-view+json": {
       "model_id": "1f4dd7535217413880e36c1172082912",
       "version_major": 2,
       "version_minor": 1
      },
      "text/plain": [
       "Map(basemap_style=<CartoBasemap.DarkMatter: 'https://basemaps.cartocdn.com/gl/dark-matter-gl-style/style.json'…"
      ]
     },
     "execution_count": 50,
     "metadata": {},
     "output_type": "execute_result"
    }
   ],
   "source": [
    "lonboard.viz(t)"
   ]
  },
  {
   "cell_type": "code",
   "execution_count": null,
   "metadata": {},
   "outputs": [],
   "source": []
  },
  {
   "cell_type": "markdown",
   "metadata": {},
   "source": [
    "## Link data"
   ]
  },
  {
   "cell_type": "code",
   "execution_count": 9,
   "metadata": {},
   "outputs": [],
   "source": [
    "import ibis\n",
    "import lonboard\n",
    "\n",
    "ibis.options.interactive = True"
   ]
  },
  {
   "cell_type": "code",
   "execution_count": 47,
   "metadata": {},
   "outputs": [],
   "source": [
    "# Connect to DB\n",
    "con = ibis.duckdb.connect('db/india_model.ddb', extensions = ['spatial'])"
   ]
  },
  {
   "cell_type": "code",
   "execution_count": 29,
   "metadata": {},
   "outputs": [
    {
     "data": {
      "text/plain": [
       "['ADM_ADM_0',\n",
       " 'ADM_ADM_1',\n",
       " 'ADM_ADM_2',\n",
       " 'ADM_ADM_3',\n",
       " 'climate_data',\n",
       " 'climate_data_by_region',\n",
       " 'climate_data_with_districts',\n",
       " 'point_to_region_mapping',\n",
       " 'unique_era5_points']"
      ]
     },
     "execution_count": 29,
     "metadata": {},
     "output_type": "execute_result"
    }
   ],
   "source": [
    "con.list_tables()"
   ]
  },
  {
   "cell_type": "code",
   "execution_count": 39,
   "metadata": {},
   "outputs": [
    {
     "data": {
      "text/html": [
       "<pre style=\"white-space:pre;overflow-x:auto;line-height:normal;font-family:Menlo,'DejaVu Sans Mono',consolas,'Courier New',monospace\">┏━━━━━━━━━━━━━━━━━━━━━┳━━━━━━━━━━┳━━━━━━━━━━━┳━━━━━━━━┳━━━━━━━━┳━━━━━━━━━━━━┳━━━━━━━━━━┳━━━━━━━━━━┳━━━━━━━━━━━┳━━━━━━━━━━━┳━━━━━━━━━━━━━━┳━━━━━━━━━━━━━━━━━━━━━┓\n",
       "┃<span style=\"font-weight: bold\"> date                </span>┃<span style=\"font-weight: bold\"> latitude </span>┃<span style=\"font-weight: bold\"> longitude </span>┃<span style=\"font-weight: bold\"> number </span>┃<span style=\"font-weight: bold\"> expver </span>┃<span style=\"font-weight: bold\"> t2m        </span>┃<span style=\"font-weight: bold\"> tp       </span>┃<span style=\"font-weight: bold\"> swvl1    </span>┃<span style=\"font-weight: bold\"> u10       </span>┃<span style=\"font-weight: bold\"> v10       </span>┃<span style=\"font-weight: bold\"> ssrd         </span>┃<span style=\"font-weight: bold\"> point               </span>┃\n",
       "┡━━━━━━━━━━━━━━━━━━━━━╇━━━━━━━━━━╇━━━━━━━━━━━╇━━━━━━━━╇━━━━━━━━╇━━━━━━━━━━━━╇━━━━━━━━━━╇━━━━━━━━━━╇━━━━━━━━━━━╇━━━━━━━━━━━╇━━━━━━━━━━━━━━╇━━━━━━━━━━━━━━━━━━━━━┩\n",
       "│ <span style=\"color: #7f7f7f; text-decoration-color: #7f7f7f\">timestamp(9)</span>        │ <span style=\"color: #7f7f7f; text-decoration-color: #7f7f7f\">float64</span>  │ <span style=\"color: #7f7f7f; text-decoration-color: #7f7f7f\">float64</span>   │ <span style=\"color: #7f7f7f; text-decoration-color: #7f7f7f\">int64</span>  │ <span style=\"color: #7f7f7f; text-decoration-color: #7f7f7f\">string</span> │ <span style=\"color: #7f7f7f; text-decoration-color: #7f7f7f\">float32</span>    │ <span style=\"color: #7f7f7f; text-decoration-color: #7f7f7f\">float32</span>  │ <span style=\"color: #7f7f7f; text-decoration-color: #7f7f7f\">float32</span>  │ <span style=\"color: #7f7f7f; text-decoration-color: #7f7f7f\">float32</span>   │ <span style=\"color: #7f7f7f; text-decoration-color: #7f7f7f\">float32</span>   │ <span style=\"color: #7f7f7f; text-decoration-color: #7f7f7f\">float32</span>      │ <span style=\"color: #7f7f7f; text-decoration-color: #7f7f7f\">geospatial:geometry</span> │\n",
       "├─────────────────────┼──────────┼───────────┼────────┼────────┼────────────┼──────────┼──────────┼───────────┼───────────┼──────────────┼─────────────────────┤\n",
       "│ <span style=\"color: #800080; text-decoration-color: #800080\">2009-01-01 00:00:00</span> │     <span style=\"color: #008080; text-decoration-color: #008080; font-weight: bold\">38.0</span> │     <span style=\"color: #008080; text-decoration-color: #008080; font-weight: bold\">68.00</span> │      <span style=\"color: #008080; text-decoration-color: #008080; font-weight: bold\">0</span> │ <span style=\"color: #008000; text-decoration-color: #008000\">0001  </span> │ <span style=\"color: #008080; text-decoration-color: #008080; font-weight: bold\">277.231384</span> │ <span style=\"color: #008080; text-decoration-color: #008080; font-weight: bold\">0.001331</span> │ <span style=\"color: #008080; text-decoration-color: #008080; font-weight: bold\">0.332615</span> │ <span style=\"color: #008080; text-decoration-color: #008080; font-weight: bold\">-0.864261</span> │  <span style=\"color: #008080; text-decoration-color: #008080; font-weight: bold\">0.268668</span> │ <span style=\"color: #008080; text-decoration-color: #008080; font-weight: bold\">8.384512e+06</span> │ <span style=\"font-weight: bold\">&lt;</span><span style=\"color: #ff00ff; text-decoration-color: #ff00ff; font-weight: bold\">POINT</span><span style=\"color: #000000; text-decoration-color: #000000\"> </span><span style=\"color: #000000; text-decoration-color: #000000; font-weight: bold\">(</span><span style=\"color: #008080; text-decoration-color: #008080; font-weight: bold\">68</span><span style=\"color: #000000; text-decoration-color: #000000\"> </span><span style=\"color: #008080; text-decoration-color: #008080; font-weight: bold\">38</span><span style=\"color: #000000; text-decoration-color: #000000; font-weight: bold\">)</span><span style=\"font-weight: bold\">&gt;</span>     │\n",
       "│ <span style=\"color: #800080; text-decoration-color: #800080\">2009-01-01 00:00:00</span> │     <span style=\"color: #008080; text-decoration-color: #008080; font-weight: bold\">38.0</span> │     <span style=\"color: #008080; text-decoration-color: #008080; font-weight: bold\">68.25</span> │      <span style=\"color: #008080; text-decoration-color: #008080; font-weight: bold\">0</span> │ <span style=\"color: #008000; text-decoration-color: #008000\">0001  </span> │ <span style=\"color: #008080; text-decoration-color: #008080; font-weight: bold\">276.663025</span> │ <span style=\"color: #008080; text-decoration-color: #008080; font-weight: bold\">0.001937</span> │ <span style=\"color: #008080; text-decoration-color: #008080; font-weight: bold\">0.325382</span> │ <span style=\"color: #008080; text-decoration-color: #008080; font-weight: bold\">-0.652835</span> │ <span style=\"color: #008080; text-decoration-color: #008080; font-weight: bold\">-0.024789</span> │ <span style=\"color: #008080; text-decoration-color: #008080; font-weight: bold\">8.363008e+06</span> │ <span style=\"font-weight: bold\">&lt;</span><span style=\"color: #ff00ff; text-decoration-color: #ff00ff; font-weight: bold\">POINT</span><span style=\"color: #000000; text-decoration-color: #000000\"> </span><span style=\"color: #000000; text-decoration-color: #000000; font-weight: bold\">(</span><span style=\"color: #008080; text-decoration-color: #008080; font-weight: bold\">68.25</span><span style=\"color: #000000; text-decoration-color: #000000\"> </span><span style=\"color: #008080; text-decoration-color: #008080; font-weight: bold\">38</span><span style=\"color: #000000; text-decoration-color: #000000; font-weight: bold\">)</span><span style=\"font-weight: bold\">&gt;</span>  │\n",
       "│ <span style=\"color: #800080; text-decoration-color: #800080\">2009-01-01 00:00:00</span> │     <span style=\"color: #008080; text-decoration-color: #008080; font-weight: bold\">38.0</span> │     <span style=\"color: #008080; text-decoration-color: #008080; font-weight: bold\">68.50</span> │      <span style=\"color: #008080; text-decoration-color: #008080; font-weight: bold\">0</span> │ <span style=\"color: #008000; text-decoration-color: #008000\">0001  </span> │ <span style=\"color: #008080; text-decoration-color: #008080; font-weight: bold\">277.217712</span> │ <span style=\"color: #008080; text-decoration-color: #008080; font-weight: bold\">0.001918</span> │ <span style=\"color: #008080; text-decoration-color: #008080; font-weight: bold\">0.341892</span> │ <span style=\"color: #008080; text-decoration-color: #008080; font-weight: bold\">-0.188479</span> │ <span style=\"color: #008080; text-decoration-color: #008080; font-weight: bold\">-0.416879</span> │ <span style=\"color: #008080; text-decoration-color: #008080; font-weight: bold\">8.260608e+06</span> │ <span style=\"font-weight: bold\">&lt;</span><span style=\"color: #ff00ff; text-decoration-color: #ff00ff; font-weight: bold\">POINT</span><span style=\"color: #000000; text-decoration-color: #000000\"> </span><span style=\"color: #000000; text-decoration-color: #000000; font-weight: bold\">(</span><span style=\"color: #008080; text-decoration-color: #008080; font-weight: bold\">68.5</span><span style=\"color: #000000; text-decoration-color: #000000\"> </span><span style=\"color: #008080; text-decoration-color: #008080; font-weight: bold\">38</span><span style=\"color: #000000; text-decoration-color: #000000; font-weight: bold\">)</span><span style=\"font-weight: bold\">&gt;</span>   │\n",
       "│ <span style=\"color: #800080; text-decoration-color: #800080\">2009-01-01 00:00:00</span> │     <span style=\"color: #008080; text-decoration-color: #008080; font-weight: bold\">38.0</span> │     <span style=\"color: #008080; text-decoration-color: #008080; font-weight: bold\">68.75</span> │      <span style=\"color: #008080; text-decoration-color: #008080; font-weight: bold\">0</span> │ <span style=\"color: #008000; text-decoration-color: #008000\">0001  </span> │ <span style=\"color: #008080; text-decoration-color: #008080; font-weight: bold\">277.536072</span> │ <span style=\"color: #008080; text-decoration-color: #008080; font-weight: bold\">0.001812</span> │ <span style=\"color: #008080; text-decoration-color: #008080; font-weight: bold\">0.354267</span> │  <span style=\"color: #008080; text-decoration-color: #008080; font-weight: bold\">0.037107</span> │ <span style=\"color: #008080; text-decoration-color: #008080; font-weight: bold\">-0.877816</span> │ <span style=\"color: #008080; text-decoration-color: #008080; font-weight: bold\">8.176640e+06</span> │ <span style=\"font-weight: bold\">&lt;</span><span style=\"color: #ff00ff; text-decoration-color: #ff00ff; font-weight: bold\">POINT</span><span style=\"color: #000000; text-decoration-color: #000000\"> </span><span style=\"color: #000000; text-decoration-color: #000000; font-weight: bold\">(</span><span style=\"color: #008080; text-decoration-color: #008080; font-weight: bold\">68.75</span><span style=\"color: #000000; text-decoration-color: #000000\"> </span><span style=\"color: #008080; text-decoration-color: #008080; font-weight: bold\">38</span><span style=\"color: #000000; text-decoration-color: #000000; font-weight: bold\">)</span><span style=\"font-weight: bold\">&gt;</span>  │\n",
       "│ <span style=\"color: #800080; text-decoration-color: #800080\">2009-01-01 00:00:00</span> │     <span style=\"color: #008080; text-decoration-color: #008080; font-weight: bold\">38.0</span> │     <span style=\"color: #008080; text-decoration-color: #008080; font-weight: bold\">69.00</span> │      <span style=\"color: #008080; text-decoration-color: #008080; font-weight: bold\">0</span> │ <span style=\"color: #008000; text-decoration-color: #008000\">0001  </span> │ <span style=\"color: #008080; text-decoration-color: #008080; font-weight: bold\">277.125916</span> │ <span style=\"color: #008080; text-decoration-color: #008080; font-weight: bold\">0.001613</span> │ <span style=\"color: #008080; text-decoration-color: #008080; font-weight: bold\">0.341449</span> │ <span style=\"color: #008080; text-decoration-color: #008080; font-weight: bold\">-0.784671</span> │ <span style=\"color: #008080; text-decoration-color: #008080; font-weight: bold\">-0.818246</span> │ <span style=\"color: #008080; text-decoration-color: #008080; font-weight: bold\">8.110080e+06</span> │ <span style=\"font-weight: bold\">&lt;</span><span style=\"color: #ff00ff; text-decoration-color: #ff00ff; font-weight: bold\">POINT</span><span style=\"color: #000000; text-decoration-color: #000000\"> </span><span style=\"color: #000000; text-decoration-color: #000000; font-weight: bold\">(</span><span style=\"color: #008080; text-decoration-color: #008080; font-weight: bold\">69</span><span style=\"color: #000000; text-decoration-color: #000000\"> </span><span style=\"color: #008080; text-decoration-color: #008080; font-weight: bold\">38</span><span style=\"color: #000000; text-decoration-color: #000000; font-weight: bold\">)</span><span style=\"font-weight: bold\">&gt;</span>     │\n",
       "│ <span style=\"color: #800080; text-decoration-color: #800080\">2009-01-01 00:00:00</span> │     <span style=\"color: #008080; text-decoration-color: #008080; font-weight: bold\">38.0</span> │     <span style=\"color: #008080; text-decoration-color: #008080; font-weight: bold\">69.25</span> │      <span style=\"color: #008080; text-decoration-color: #008080; font-weight: bold\">0</span> │ <span style=\"color: #008000; text-decoration-color: #008000\">0001  </span> │ <span style=\"color: #008080; text-decoration-color: #008080; font-weight: bold\">277.079041</span> │ <span style=\"color: #008080; text-decoration-color: #008080; font-weight: bold\">0.002290</span> │ <span style=\"color: #008080; text-decoration-color: #008080; font-weight: bold\">0.361194</span> │ <span style=\"color: #008080; text-decoration-color: #008080; font-weight: bold\">-0.111331</span> │ <span style=\"color: #008080; text-decoration-color: #008080; font-weight: bold\">-0.950570</span> │ <span style=\"color: #008080; text-decoration-color: #008080; font-weight: bold\">8.222720e+06</span> │ <span style=\"font-weight: bold\">&lt;</span><span style=\"color: #ff00ff; text-decoration-color: #ff00ff; font-weight: bold\">POINT</span><span style=\"color: #000000; text-decoration-color: #000000\"> </span><span style=\"color: #000000; text-decoration-color: #000000; font-weight: bold\">(</span><span style=\"color: #008080; text-decoration-color: #008080; font-weight: bold\">69.25</span><span style=\"color: #000000; text-decoration-color: #000000\"> </span><span style=\"color: #008080; text-decoration-color: #008080; font-weight: bold\">38</span><span style=\"color: #000000; text-decoration-color: #000000; font-weight: bold\">)</span><span style=\"font-weight: bold\">&gt;</span>  │\n",
       "│ <span style=\"color: #800080; text-decoration-color: #800080\">2009-01-01 00:00:00</span> │     <span style=\"color: #008080; text-decoration-color: #008080; font-weight: bold\">38.0</span> │     <span style=\"color: #008080; text-decoration-color: #008080; font-weight: bold\">69.50</span> │      <span style=\"color: #008080; text-decoration-color: #008080; font-weight: bold\">0</span> │ <span style=\"color: #008000; text-decoration-color: #008000\">0001  </span> │ <span style=\"color: #008080; text-decoration-color: #008080; font-weight: bold\">276.530212</span> │ <span style=\"color: #008080; text-decoration-color: #008080; font-weight: bold\">0.002611</span> │ <span style=\"color: #008080; text-decoration-color: #008080; font-weight: bold\">0.369693</span> │ <span style=\"color: #008080; text-decoration-color: #008080; font-weight: bold\">-0.426272</span> │ <span style=\"color: #008080; text-decoration-color: #008080; font-weight: bold\">-0.682504</span> │ <span style=\"color: #008080; text-decoration-color: #008080; font-weight: bold\">8.436736e+06</span> │ <span style=\"font-weight: bold\">&lt;</span><span style=\"color: #ff00ff; text-decoration-color: #ff00ff; font-weight: bold\">POINT</span><span style=\"color: #000000; text-decoration-color: #000000\"> </span><span style=\"color: #000000; text-decoration-color: #000000; font-weight: bold\">(</span><span style=\"color: #008080; text-decoration-color: #008080; font-weight: bold\">69.5</span><span style=\"color: #000000; text-decoration-color: #000000\"> </span><span style=\"color: #008080; text-decoration-color: #008080; font-weight: bold\">38</span><span style=\"color: #000000; text-decoration-color: #000000; font-weight: bold\">)</span><span style=\"font-weight: bold\">&gt;</span>   │\n",
       "│ <span style=\"color: #800080; text-decoration-color: #800080\">2009-01-01 00:00:00</span> │     <span style=\"color: #008080; text-decoration-color: #008080; font-weight: bold\">38.0</span> │     <span style=\"color: #008080; text-decoration-color: #008080; font-weight: bold\">69.75</span> │      <span style=\"color: #008080; text-decoration-color: #008080; font-weight: bold\">0</span> │ <span style=\"color: #008000; text-decoration-color: #008000\">0001  </span> │ <span style=\"color: #008080; text-decoration-color: #008080; font-weight: bold\">275.141541</span> │ <span style=\"color: #008080; text-decoration-color: #008080; font-weight: bold\">0.002796</span> │ <span style=\"color: #008080; text-decoration-color: #008080; font-weight: bold\">0.371570</span> │ <span style=\"color: #008080; text-decoration-color: #008080; font-weight: bold\">-0.933108</span> │ <span style=\"color: #008080; text-decoration-color: #008080; font-weight: bold\">-0.304086</span> │ <span style=\"color: #008080; text-decoration-color: #008080; font-weight: bold\">8.851456e+06</span> │ <span style=\"font-weight: bold\">&lt;</span><span style=\"color: #ff00ff; text-decoration-color: #ff00ff; font-weight: bold\">POINT</span><span style=\"color: #000000; text-decoration-color: #000000\"> </span><span style=\"color: #000000; text-decoration-color: #000000; font-weight: bold\">(</span><span style=\"color: #008080; text-decoration-color: #008080; font-weight: bold\">69.75</span><span style=\"color: #000000; text-decoration-color: #000000\"> </span><span style=\"color: #008080; text-decoration-color: #008080; font-weight: bold\">38</span><span style=\"color: #000000; text-decoration-color: #000000; font-weight: bold\">)</span><span style=\"font-weight: bold\">&gt;</span>  │\n",
       "│ <span style=\"color: #800080; text-decoration-color: #800080\">2009-01-01 00:00:00</span> │     <span style=\"color: #008080; text-decoration-color: #008080; font-weight: bold\">38.0</span> │     <span style=\"color: #008080; text-decoration-color: #008080; font-weight: bold\">70.00</span> │      <span style=\"color: #008080; text-decoration-color: #008080; font-weight: bold\">0</span> │ <span style=\"color: #008000; text-decoration-color: #008000\">0001  </span> │ <span style=\"color: #008080; text-decoration-color: #008080; font-weight: bold\">272.657166</span> │ <span style=\"color: #008080; text-decoration-color: #008080; font-weight: bold\">0.003097</span> │ <span style=\"color: #008080; text-decoration-color: #008080; font-weight: bold\">0.371051</span> │ <span style=\"color: #008080; text-decoration-color: #008080; font-weight: bold\">-1.045901</span> │ <span style=\"color: #008080; text-decoration-color: #008080; font-weight: bold\">-0.027719</span> │ <span style=\"color: #008080; text-decoration-color: #008080; font-weight: bold\">9.189376e+06</span> │ <span style=\"font-weight: bold\">&lt;</span><span style=\"color: #ff00ff; text-decoration-color: #ff00ff; font-weight: bold\">POINT</span><span style=\"color: #000000; text-decoration-color: #000000\"> </span><span style=\"color: #000000; text-decoration-color: #000000; font-weight: bold\">(</span><span style=\"color: #008080; text-decoration-color: #008080; font-weight: bold\">70</span><span style=\"color: #000000; text-decoration-color: #000000\"> </span><span style=\"color: #008080; text-decoration-color: #008080; font-weight: bold\">38</span><span style=\"color: #000000; text-decoration-color: #000000; font-weight: bold\">)</span><span style=\"font-weight: bold\">&gt;</span>     │\n",
       "│ <span style=\"color: #800080; text-decoration-color: #800080\">2009-01-01 00:00:00</span> │     <span style=\"color: #008080; text-decoration-color: #008080; font-weight: bold\">38.0</span> │     <span style=\"color: #008080; text-decoration-color: #008080; font-weight: bold\">70.25</span> │      <span style=\"color: #008080; text-decoration-color: #008080; font-weight: bold\">0</span> │ <span style=\"color: #008000; text-decoration-color: #008000\">0001  </span> │ <span style=\"color: #008080; text-decoration-color: #008080; font-weight: bold\">269.862244</span> │ <span style=\"color: #008080; text-decoration-color: #008080; font-weight: bold\">0.003202</span> │ <span style=\"color: #008080; text-decoration-color: #008080; font-weight: bold\">0.347065</span> │ <span style=\"color: #008080; text-decoration-color: #008080; font-weight: bold\">-1.169925</span> │  <span style=\"color: #008080; text-decoration-color: #008080; font-weight: bold\">0.094352</span> │ <span style=\"color: #008080; text-decoration-color: #008080; font-weight: bold\">1.004851e+07</span> │ <span style=\"font-weight: bold\">&lt;</span><span style=\"color: #ff00ff; text-decoration-color: #ff00ff; font-weight: bold\">POINT</span><span style=\"color: #000000; text-decoration-color: #000000\"> </span><span style=\"color: #000000; text-decoration-color: #000000; font-weight: bold\">(</span><span style=\"color: #008080; text-decoration-color: #008080; font-weight: bold\">70.25</span><span style=\"color: #000000; text-decoration-color: #000000\"> </span><span style=\"color: #008080; text-decoration-color: #008080; font-weight: bold\">38</span><span style=\"color: #000000; text-decoration-color: #000000; font-weight: bold\">)</span><span style=\"font-weight: bold\">&gt;</span>  │\n",
       "│ <span style=\"color: #7f7f7f; text-decoration-color: #7f7f7f\">…</span>                   │        <span style=\"color: #7f7f7f; text-decoration-color: #7f7f7f\">…</span> │         <span style=\"color: #7f7f7f; text-decoration-color: #7f7f7f\">…</span> │      <span style=\"color: #7f7f7f; text-decoration-color: #7f7f7f\">…</span> │ <span style=\"color: #7f7f7f; text-decoration-color: #7f7f7f\">…</span>      │          <span style=\"color: #7f7f7f; text-decoration-color: #7f7f7f\">…</span> │        <span style=\"color: #7f7f7f; text-decoration-color: #7f7f7f\">…</span> │        <span style=\"color: #7f7f7f; text-decoration-color: #7f7f7f\">…</span> │         <span style=\"color: #7f7f7f; text-decoration-color: #7f7f7f\">…</span> │         <span style=\"color: #7f7f7f; text-decoration-color: #7f7f7f\">…</span> │            <span style=\"color: #7f7f7f; text-decoration-color: #7f7f7f\">…</span> │ <span style=\"color: #7f7f7f; text-decoration-color: #7f7f7f\">…</span>                   │\n",
       "└─────────────────────┴──────────┴───────────┴────────┴────────┴────────────┴──────────┴──────────┴───────────┴───────────┴──────────────┴─────────────────────┘\n",
       "</pre>\n"
      ],
      "text/plain": [
       "┏━━━━━━━━━━━━━━━━━━━━━┳━━━━━━━━━━┳━━━━━━━━━━━┳━━━━━━━━┳━━━━━━━━┳━━━━━━━━━━━━┳━━━━━━━━━━┳━━━━━━━━━━┳━━━━━━━━━━━┳━━━━━━━━━━━┳━━━━━━━━━━━━━━┳━━━━━━━━━━━━━━━━━━━━━┓\n",
       "┃\u001b[1m \u001b[0m\u001b[1mdate\u001b[0m\u001b[1m               \u001b[0m\u001b[1m \u001b[0m┃\u001b[1m \u001b[0m\u001b[1mlatitude\u001b[0m\u001b[1m \u001b[0m┃\u001b[1m \u001b[0m\u001b[1mlongitude\u001b[0m\u001b[1m \u001b[0m┃\u001b[1m \u001b[0m\u001b[1mnumber\u001b[0m\u001b[1m \u001b[0m┃\u001b[1m \u001b[0m\u001b[1mexpver\u001b[0m\u001b[1m \u001b[0m┃\u001b[1m \u001b[0m\u001b[1mt2m\u001b[0m\u001b[1m       \u001b[0m\u001b[1m \u001b[0m┃\u001b[1m \u001b[0m\u001b[1mtp\u001b[0m\u001b[1m      \u001b[0m\u001b[1m \u001b[0m┃\u001b[1m \u001b[0m\u001b[1mswvl1\u001b[0m\u001b[1m   \u001b[0m\u001b[1m \u001b[0m┃\u001b[1m \u001b[0m\u001b[1mu10\u001b[0m\u001b[1m      \u001b[0m\u001b[1m \u001b[0m┃\u001b[1m \u001b[0m\u001b[1mv10\u001b[0m\u001b[1m      \u001b[0m\u001b[1m \u001b[0m┃\u001b[1m \u001b[0m\u001b[1mssrd\u001b[0m\u001b[1m        \u001b[0m\u001b[1m \u001b[0m┃\u001b[1m \u001b[0m\u001b[1mpoint\u001b[0m\u001b[1m              \u001b[0m\u001b[1m \u001b[0m┃\n",
       "┡━━━━━━━━━━━━━━━━━━━━━╇━━━━━━━━━━╇━━━━━━━━━━━╇━━━━━━━━╇━━━━━━━━╇━━━━━━━━━━━━╇━━━━━━━━━━╇━━━━━━━━━━╇━━━━━━━━━━━╇━━━━━━━━━━━╇━━━━━━━━━━━━━━╇━━━━━━━━━━━━━━━━━━━━━┩\n",
       "│ \u001b[2mtimestamp(9)\u001b[0m        │ \u001b[2mfloat64\u001b[0m  │ \u001b[2mfloat64\u001b[0m   │ \u001b[2mint64\u001b[0m  │ \u001b[2mstring\u001b[0m │ \u001b[2mfloat32\u001b[0m    │ \u001b[2mfloat32\u001b[0m  │ \u001b[2mfloat32\u001b[0m  │ \u001b[2mfloat32\u001b[0m   │ \u001b[2mfloat32\u001b[0m   │ \u001b[2mfloat32\u001b[0m      │ \u001b[2mgeospatial:geometry\u001b[0m │\n",
       "├─────────────────────┼──────────┼───────────┼────────┼────────┼────────────┼──────────┼──────────┼───────────┼───────────┼──────────────┼─────────────────────┤\n",
       "│ \u001b[35m2009-01-01 00:00:00\u001b[0m │     \u001b[1;36m38.0\u001b[0m │     \u001b[1;36m68.00\u001b[0m │      \u001b[1;36m0\u001b[0m │ \u001b[32m0001  \u001b[0m │ \u001b[1;36m277.231384\u001b[0m │ \u001b[1;36m0.001331\u001b[0m │ \u001b[1;36m0.332615\u001b[0m │ \u001b[1;36m-0.864261\u001b[0m │  \u001b[1;36m0.268668\u001b[0m │ \u001b[1;36m8.384512e+06\u001b[0m │ \u001b[1m<\u001b[0m\u001b[1;95mPOINT\u001b[0m\u001b[39m \u001b[0m\u001b[1;39m(\u001b[0m\u001b[1;36m68\u001b[0m\u001b[39m \u001b[0m\u001b[1;36m38\u001b[0m\u001b[1;39m)\u001b[0m\u001b[1m>\u001b[0m     │\n",
       "│ \u001b[35m2009-01-01 00:00:00\u001b[0m │     \u001b[1;36m38.0\u001b[0m │     \u001b[1;36m68.25\u001b[0m │      \u001b[1;36m0\u001b[0m │ \u001b[32m0001  \u001b[0m │ \u001b[1;36m276.663025\u001b[0m │ \u001b[1;36m0.001937\u001b[0m │ \u001b[1;36m0.325382\u001b[0m │ \u001b[1;36m-0.652835\u001b[0m │ \u001b[1;36m-0.024789\u001b[0m │ \u001b[1;36m8.363008e+06\u001b[0m │ \u001b[1m<\u001b[0m\u001b[1;95mPOINT\u001b[0m\u001b[39m \u001b[0m\u001b[1;39m(\u001b[0m\u001b[1;36m68.25\u001b[0m\u001b[39m \u001b[0m\u001b[1;36m38\u001b[0m\u001b[1;39m)\u001b[0m\u001b[1m>\u001b[0m  │\n",
       "│ \u001b[35m2009-01-01 00:00:00\u001b[0m │     \u001b[1;36m38.0\u001b[0m │     \u001b[1;36m68.50\u001b[0m │      \u001b[1;36m0\u001b[0m │ \u001b[32m0001  \u001b[0m │ \u001b[1;36m277.217712\u001b[0m │ \u001b[1;36m0.001918\u001b[0m │ \u001b[1;36m0.341892\u001b[0m │ \u001b[1;36m-0.188479\u001b[0m │ \u001b[1;36m-0.416879\u001b[0m │ \u001b[1;36m8.260608e+06\u001b[0m │ \u001b[1m<\u001b[0m\u001b[1;95mPOINT\u001b[0m\u001b[39m \u001b[0m\u001b[1;39m(\u001b[0m\u001b[1;36m68.5\u001b[0m\u001b[39m \u001b[0m\u001b[1;36m38\u001b[0m\u001b[1;39m)\u001b[0m\u001b[1m>\u001b[0m   │\n",
       "│ \u001b[35m2009-01-01 00:00:00\u001b[0m │     \u001b[1;36m38.0\u001b[0m │     \u001b[1;36m68.75\u001b[0m │      \u001b[1;36m0\u001b[0m │ \u001b[32m0001  \u001b[0m │ \u001b[1;36m277.536072\u001b[0m │ \u001b[1;36m0.001812\u001b[0m │ \u001b[1;36m0.354267\u001b[0m │  \u001b[1;36m0.037107\u001b[0m │ \u001b[1;36m-0.877816\u001b[0m │ \u001b[1;36m8.176640e+06\u001b[0m │ \u001b[1m<\u001b[0m\u001b[1;95mPOINT\u001b[0m\u001b[39m \u001b[0m\u001b[1;39m(\u001b[0m\u001b[1;36m68.75\u001b[0m\u001b[39m \u001b[0m\u001b[1;36m38\u001b[0m\u001b[1;39m)\u001b[0m\u001b[1m>\u001b[0m  │\n",
       "│ \u001b[35m2009-01-01 00:00:00\u001b[0m │     \u001b[1;36m38.0\u001b[0m │     \u001b[1;36m69.00\u001b[0m │      \u001b[1;36m0\u001b[0m │ \u001b[32m0001  \u001b[0m │ \u001b[1;36m277.125916\u001b[0m │ \u001b[1;36m0.001613\u001b[0m │ \u001b[1;36m0.341449\u001b[0m │ \u001b[1;36m-0.784671\u001b[0m │ \u001b[1;36m-0.818246\u001b[0m │ \u001b[1;36m8.110080e+06\u001b[0m │ \u001b[1m<\u001b[0m\u001b[1;95mPOINT\u001b[0m\u001b[39m \u001b[0m\u001b[1;39m(\u001b[0m\u001b[1;36m69\u001b[0m\u001b[39m \u001b[0m\u001b[1;36m38\u001b[0m\u001b[1;39m)\u001b[0m\u001b[1m>\u001b[0m     │\n",
       "│ \u001b[35m2009-01-01 00:00:00\u001b[0m │     \u001b[1;36m38.0\u001b[0m │     \u001b[1;36m69.25\u001b[0m │      \u001b[1;36m0\u001b[0m │ \u001b[32m0001  \u001b[0m │ \u001b[1;36m277.079041\u001b[0m │ \u001b[1;36m0.002290\u001b[0m │ \u001b[1;36m0.361194\u001b[0m │ \u001b[1;36m-0.111331\u001b[0m │ \u001b[1;36m-0.950570\u001b[0m │ \u001b[1;36m8.222720e+06\u001b[0m │ \u001b[1m<\u001b[0m\u001b[1;95mPOINT\u001b[0m\u001b[39m \u001b[0m\u001b[1;39m(\u001b[0m\u001b[1;36m69.25\u001b[0m\u001b[39m \u001b[0m\u001b[1;36m38\u001b[0m\u001b[1;39m)\u001b[0m\u001b[1m>\u001b[0m  │\n",
       "│ \u001b[35m2009-01-01 00:00:00\u001b[0m │     \u001b[1;36m38.0\u001b[0m │     \u001b[1;36m69.50\u001b[0m │      \u001b[1;36m0\u001b[0m │ \u001b[32m0001  \u001b[0m │ \u001b[1;36m276.530212\u001b[0m │ \u001b[1;36m0.002611\u001b[0m │ \u001b[1;36m0.369693\u001b[0m │ \u001b[1;36m-0.426272\u001b[0m │ \u001b[1;36m-0.682504\u001b[0m │ \u001b[1;36m8.436736e+06\u001b[0m │ \u001b[1m<\u001b[0m\u001b[1;95mPOINT\u001b[0m\u001b[39m \u001b[0m\u001b[1;39m(\u001b[0m\u001b[1;36m69.5\u001b[0m\u001b[39m \u001b[0m\u001b[1;36m38\u001b[0m\u001b[1;39m)\u001b[0m\u001b[1m>\u001b[0m   │\n",
       "│ \u001b[35m2009-01-01 00:00:00\u001b[0m │     \u001b[1;36m38.0\u001b[0m │     \u001b[1;36m69.75\u001b[0m │      \u001b[1;36m0\u001b[0m │ \u001b[32m0001  \u001b[0m │ \u001b[1;36m275.141541\u001b[0m │ \u001b[1;36m0.002796\u001b[0m │ \u001b[1;36m0.371570\u001b[0m │ \u001b[1;36m-0.933108\u001b[0m │ \u001b[1;36m-0.304086\u001b[0m │ \u001b[1;36m8.851456e+06\u001b[0m │ \u001b[1m<\u001b[0m\u001b[1;95mPOINT\u001b[0m\u001b[39m \u001b[0m\u001b[1;39m(\u001b[0m\u001b[1;36m69.75\u001b[0m\u001b[39m \u001b[0m\u001b[1;36m38\u001b[0m\u001b[1;39m)\u001b[0m\u001b[1m>\u001b[0m  │\n",
       "│ \u001b[35m2009-01-01 00:00:00\u001b[0m │     \u001b[1;36m38.0\u001b[0m │     \u001b[1;36m70.00\u001b[0m │      \u001b[1;36m0\u001b[0m │ \u001b[32m0001  \u001b[0m │ \u001b[1;36m272.657166\u001b[0m │ \u001b[1;36m0.003097\u001b[0m │ \u001b[1;36m0.371051\u001b[0m │ \u001b[1;36m-1.045901\u001b[0m │ \u001b[1;36m-0.027719\u001b[0m │ \u001b[1;36m9.189376e+06\u001b[0m │ \u001b[1m<\u001b[0m\u001b[1;95mPOINT\u001b[0m\u001b[39m \u001b[0m\u001b[1;39m(\u001b[0m\u001b[1;36m70\u001b[0m\u001b[39m \u001b[0m\u001b[1;36m38\u001b[0m\u001b[1;39m)\u001b[0m\u001b[1m>\u001b[0m     │\n",
       "│ \u001b[35m2009-01-01 00:00:00\u001b[0m │     \u001b[1;36m38.0\u001b[0m │     \u001b[1;36m70.25\u001b[0m │      \u001b[1;36m0\u001b[0m │ \u001b[32m0001  \u001b[0m │ \u001b[1;36m269.862244\u001b[0m │ \u001b[1;36m0.003202\u001b[0m │ \u001b[1;36m0.347065\u001b[0m │ \u001b[1;36m-1.169925\u001b[0m │  \u001b[1;36m0.094352\u001b[0m │ \u001b[1;36m1.004851e+07\u001b[0m │ \u001b[1m<\u001b[0m\u001b[1;95mPOINT\u001b[0m\u001b[39m \u001b[0m\u001b[1;39m(\u001b[0m\u001b[1;36m70.25\u001b[0m\u001b[39m \u001b[0m\u001b[1;36m38\u001b[0m\u001b[1;39m)\u001b[0m\u001b[1m>\u001b[0m  │\n",
       "│ \u001b[2m…\u001b[0m                   │        \u001b[2m…\u001b[0m │         \u001b[2m…\u001b[0m │      \u001b[2m…\u001b[0m │ \u001b[2m…\u001b[0m      │          \u001b[2m…\u001b[0m │        \u001b[2m…\u001b[0m │        \u001b[2m…\u001b[0m │         \u001b[2m…\u001b[0m │         \u001b[2m…\u001b[0m │            \u001b[2m…\u001b[0m │ \u001b[2m…\u001b[0m                   │\n",
       "└─────────────────────┴──────────┴───────────┴────────┴────────┴────────────┴──────────┴──────────┴───────────┴───────────┴──────────────┴─────────────────────┘"
      ]
     },
     "execution_count": 39,
     "metadata": {},
     "output_type": "execute_result"
    }
   ],
   "source": [
    "con.table('climate_data')"
   ]
  },
  {
   "cell_type": "code",
   "execution_count": 40,
   "metadata": {},
   "outputs": [
    {
     "data": {
      "text/html": [
       "<pre style=\"white-space:pre;overflow-x:auto;line-height:normal;font-family:Menlo,'DejaVu Sans Mono',consolas,'Courier New',monospace\">┏━━━━━━━━━━━━━━━━━━━━━┳━━━━━━━━━━┳━━━━━━━━━━━┳━━━━━━━━┳━━━━━━━━┳━━━━━━━━━━━━┳━━━━━━━━━━┳━━━━━━━━━━┳━━━━━━━━━━━┳━━━━━━━━━━━┳━━━━━━━━━━━━━━┳━━━━━━━━━━━━━━━━━━━━━━┳━━━━━━━━━━━━━━┳━━━━━━━━━━━━┳━━━━━━━━━━━━┳━━━━━━━━━━━━━━━┳━━━━━━━━━━┳━━━━━━━━━┓\n",
       "┃<span style=\"font-weight: bold\"> date                </span>┃<span style=\"font-weight: bold\"> latitude </span>┃<span style=\"font-weight: bold\"> longitude </span>┃<span style=\"font-weight: bold\"> number </span>┃<span style=\"font-weight: bold\"> expver </span>┃<span style=\"font-weight: bold\"> t2m        </span>┃<span style=\"font-weight: bold\"> tp       </span>┃<span style=\"font-weight: bold\"> swvl1    </span>┃<span style=\"font-weight: bold\"> u10       </span>┃<span style=\"font-weight: bold\"> v10       </span>┃<span style=\"font-weight: bold\"> ssrd         </span>┃<span style=\"font-weight: bold\"> point                </span>┃<span style=\"font-weight: bold\"> GID_3        </span>┃<span style=\"font-weight: bold\"> NAME_3     </span>┃<span style=\"font-weight: bold\"> GID_2      </span>┃<span style=\"font-weight: bold\"> NAME_2        </span>┃<span style=\"font-weight: bold\"> GID_1    </span>┃<span style=\"font-weight: bold\"> NAME_1  </span>┃\n",
       "┡━━━━━━━━━━━━━━━━━━━━━╇━━━━━━━━━━╇━━━━━━━━━━━╇━━━━━━━━╇━━━━━━━━╇━━━━━━━━━━━━╇━━━━━━━━━━╇━━━━━━━━━━╇━━━━━━━━━━━╇━━━━━━━━━━━╇━━━━━━━━━━━━━━╇━━━━━━━━━━━━━━━━━━━━━━╇━━━━━━━━━━━━━━╇━━━━━━━━━━━━╇━━━━━━━━━━━━╇━━━━━━━━━━━━━━━╇━━━━━━━━━━╇━━━━━━━━━┩\n",
       "│ <span style=\"color: #7f7f7f; text-decoration-color: #7f7f7f\">timestamp(9)</span>        │ <span style=\"color: #7f7f7f; text-decoration-color: #7f7f7f\">float64</span>  │ <span style=\"color: #7f7f7f; text-decoration-color: #7f7f7f\">float64</span>   │ <span style=\"color: #7f7f7f; text-decoration-color: #7f7f7f\">int64</span>  │ <span style=\"color: #7f7f7f; text-decoration-color: #7f7f7f\">string</span> │ <span style=\"color: #7f7f7f; text-decoration-color: #7f7f7f\">float32</span>    │ <span style=\"color: #7f7f7f; text-decoration-color: #7f7f7f\">float32</span>  │ <span style=\"color: #7f7f7f; text-decoration-color: #7f7f7f\">float32</span>  │ <span style=\"color: #7f7f7f; text-decoration-color: #7f7f7f\">float32</span>   │ <span style=\"color: #7f7f7f; text-decoration-color: #7f7f7f\">float32</span>   │ <span style=\"color: #7f7f7f; text-decoration-color: #7f7f7f\">float32</span>      │ <span style=\"color: #7f7f7f; text-decoration-color: #7f7f7f\">geospatial:geometry</span>  │ <span style=\"color: #7f7f7f; text-decoration-color: #7f7f7f\">string</span>       │ <span style=\"color: #7f7f7f; text-decoration-color: #7f7f7f\">string</span>     │ <span style=\"color: #7f7f7f; text-decoration-color: #7f7f7f\">string</span>     │ <span style=\"color: #7f7f7f; text-decoration-color: #7f7f7f\">string</span>        │ <span style=\"color: #7f7f7f; text-decoration-color: #7f7f7f\">string</span>   │ <span style=\"color: #7f7f7f; text-decoration-color: #7f7f7f\">string</span>  │\n",
       "├─────────────────────┼──────────┼───────────┼────────┼────────┼────────────┼──────────┼──────────┼───────────┼───────────┼──────────────┼──────────────────────┼──────────────┼────────────┼────────────┼───────────────┼──────────┼─────────┤\n",
       "│ <span style=\"color: #800080; text-decoration-color: #800080\">2011-01-01 00:00:00</span> │     <span style=\"color: #008080; text-decoration-color: #008080; font-weight: bold\">24.5</span> │     <span style=\"color: #008080; text-decoration-color: #008080; font-weight: bold\">90.50</span> │      <span style=\"color: #008080; text-decoration-color: #008080; font-weight: bold\">0</span> │ <span style=\"color: #008000; text-decoration-color: #008000\">0001  </span> │ <span style=\"color: #008080; text-decoration-color: #008080; font-weight: bold\">289.479614</span> │ <span style=\"color: #008080; text-decoration-color: #008080; font-weight: bold\">0.000292</span> │ <span style=\"color: #008080; text-decoration-color: #008080; font-weight: bold\">0.307126</span> │  <span style=\"color: #008080; text-decoration-color: #008080; font-weight: bold\">0.716167</span> │ <span style=\"color: #008080; text-decoration-color: #008080; font-weight: bold\">-0.597644</span> │ <span style=\"color: #008080; text-decoration-color: #008080; font-weight: bold\">1.615258e+07</span> │ <span style=\"font-weight: bold\">&lt;</span><span style=\"color: #ff00ff; text-decoration-color: #ff00ff; font-weight: bold\">POINT</span><span style=\"color: #000000; text-decoration-color: #000000\"> </span><span style=\"color: #000000; text-decoration-color: #000000; font-weight: bold\">(</span><span style=\"color: #008080; text-decoration-color: #008080; font-weight: bold\">90.5</span><span style=\"color: #000000; text-decoration-color: #000000\"> </span><span style=\"color: #008080; text-decoration-color: #008080; font-weight: bold\">24.5</span><span style=\"color: #000000; text-decoration-color: #000000; font-weight: bold\">)</span><span style=\"font-weight: bold\">&gt;</span>  │ <span style=\"color: #7f7f7f; text-decoration-color: #7f7f7f\">NULL</span>         │ <span style=\"color: #7f7f7f; text-decoration-color: #7f7f7f\">NULL</span>       │ <span style=\"color: #7f7f7f; text-decoration-color: #7f7f7f\">NULL</span>       │ <span style=\"color: #7f7f7f; text-decoration-color: #7f7f7f\">NULL</span>          │ <span style=\"color: #7f7f7f; text-decoration-color: #7f7f7f\">NULL</span>     │ <span style=\"color: #7f7f7f; text-decoration-color: #7f7f7f\">NULL</span>    │\n",
       "│ <span style=\"color: #800080; text-decoration-color: #800080\">2011-01-01 00:00:00</span> │     <span style=\"color: #008080; text-decoration-color: #008080; font-weight: bold\">24.5</span> │     <span style=\"color: #008080; text-decoration-color: #008080; font-weight: bold\">90.75</span> │      <span style=\"color: #008080; text-decoration-color: #008080; font-weight: bold\">0</span> │ <span style=\"color: #008000; text-decoration-color: #008000\">0001  </span> │ <span style=\"color: #008080; text-decoration-color: #008080; font-weight: bold\">289.657349</span> │ <span style=\"color: #008080; text-decoration-color: #008080; font-weight: bold\">0.000238</span> │ <span style=\"color: #008080; text-decoration-color: #008080; font-weight: bold\">0.260602</span> │  <span style=\"color: #008080; text-decoration-color: #008080; font-weight: bold\">0.550640</span> │ <span style=\"color: #008080; text-decoration-color: #008080; font-weight: bold\">-0.493640</span> │ <span style=\"color: #008080; text-decoration-color: #008080; font-weight: bold\">1.609114e+07</span> │ <span style=\"font-weight: bold\">&lt;</span><span style=\"color: #ff00ff; text-decoration-color: #ff00ff; font-weight: bold\">POINT</span><span style=\"color: #000000; text-decoration-color: #000000\"> </span><span style=\"color: #000000; text-decoration-color: #000000; font-weight: bold\">(</span><span style=\"color: #008080; text-decoration-color: #008080; font-weight: bold\">90.75</span><span style=\"color: #000000; text-decoration-color: #000000\"> </span><span style=\"color: #008080; text-decoration-color: #008080; font-weight: bold\">24.5</span><span style=\"color: #000000; text-decoration-color: #000000; font-weight: bold\">)</span><span style=\"font-weight: bold\">&gt;</span> │ <span style=\"color: #7f7f7f; text-decoration-color: #7f7f7f\">NULL</span>         │ <span style=\"color: #7f7f7f; text-decoration-color: #7f7f7f\">NULL</span>       │ <span style=\"color: #7f7f7f; text-decoration-color: #7f7f7f\">NULL</span>       │ <span style=\"color: #7f7f7f; text-decoration-color: #7f7f7f\">NULL</span>          │ <span style=\"color: #7f7f7f; text-decoration-color: #7f7f7f\">NULL</span>     │ <span style=\"color: #7f7f7f; text-decoration-color: #7f7f7f\">NULL</span>    │\n",
       "│ <span style=\"color: #800080; text-decoration-color: #800080\">2011-01-01 00:00:00</span> │     <span style=\"color: #008080; text-decoration-color: #008080; font-weight: bold\">24.5</span> │     <span style=\"color: #008080; text-decoration-color: #008080; font-weight: bold\">91.25</span> │      <span style=\"color: #008080; text-decoration-color: #008080; font-weight: bold\">0</span> │ <span style=\"color: #008000; text-decoration-color: #008000\">0001  </span> │ <span style=\"color: #008080; text-decoration-color: #008080; font-weight: bold\">289.979614</span> │ <span style=\"color: #008080; text-decoration-color: #008080; font-weight: bold\">0.000292</span> │ <span style=\"color: #008080; text-decoration-color: #008080; font-weight: bold\">0.222349</span> │  <span style=\"color: #008080; text-decoration-color: #008080; font-weight: bold\">0.190777</span> │ <span style=\"color: #008080; text-decoration-color: #008080; font-weight: bold\">-0.283191</span> │ <span style=\"color: #008080; text-decoration-color: #008080; font-weight: bold\">1.595392e+07</span> │ <span style=\"font-weight: bold\">&lt;</span><span style=\"color: #ff00ff; text-decoration-color: #ff00ff; font-weight: bold\">POINT</span><span style=\"color: #000000; text-decoration-color: #000000\"> </span><span style=\"color: #000000; text-decoration-color: #000000; font-weight: bold\">(</span><span style=\"color: #008080; text-decoration-color: #008080; font-weight: bold\">91.25</span><span style=\"color: #000000; text-decoration-color: #000000\"> </span><span style=\"color: #008080; text-decoration-color: #008080; font-weight: bold\">24.5</span><span style=\"color: #000000; text-decoration-color: #000000; font-weight: bold\">)</span><span style=\"font-weight: bold\">&gt;</span> │ <span style=\"color: #7f7f7f; text-decoration-color: #7f7f7f\">NULL</span>         │ <span style=\"color: #7f7f7f; text-decoration-color: #7f7f7f\">NULL</span>       │ <span style=\"color: #7f7f7f; text-decoration-color: #7f7f7f\">NULL</span>       │ <span style=\"color: #7f7f7f; text-decoration-color: #7f7f7f\">NULL</span>          │ <span style=\"color: #7f7f7f; text-decoration-color: #7f7f7f\">NULL</span>     │ <span style=\"color: #7f7f7f; text-decoration-color: #7f7f7f\">NULL</span>    │\n",
       "│ <span style=\"color: #800080; text-decoration-color: #800080\">2011-01-01 00:00:00</span> │     <span style=\"color: #008080; text-decoration-color: #008080; font-weight: bold\">24.5</span> │     <span style=\"color: #008080; text-decoration-color: #008080; font-weight: bold\">91.50</span> │      <span style=\"color: #008080; text-decoration-color: #008080; font-weight: bold\">0</span> │ <span style=\"color: #008000; text-decoration-color: #008000\">0001  </span> │ <span style=\"color: #008080; text-decoration-color: #008080; font-weight: bold\">289.655396</span> │ <span style=\"color: #008080; text-decoration-color: #008080; font-weight: bold\">0.000322</span> │ <span style=\"color: #008080; text-decoration-color: #008080; font-weight: bold\">0.229276</span> │ <span style=\"color: #008080; text-decoration-color: #008080; font-weight: bold\">-0.033344</span> │ <span style=\"color: #008080; text-decoration-color: #008080; font-weight: bold\">-0.294909</span> │ <span style=\"color: #008080; text-decoration-color: #008080; font-weight: bold\">1.593446e+07</span> │ <span style=\"font-weight: bold\">&lt;</span><span style=\"color: #ff00ff; text-decoration-color: #ff00ff; font-weight: bold\">POINT</span><span style=\"color: #000000; text-decoration-color: #000000\"> </span><span style=\"color: #000000; text-decoration-color: #000000; font-weight: bold\">(</span><span style=\"color: #008080; text-decoration-color: #008080; font-weight: bold\">91.5</span><span style=\"color: #000000; text-decoration-color: #000000\"> </span><span style=\"color: #008080; text-decoration-color: #008080; font-weight: bold\">24.5</span><span style=\"color: #000000; text-decoration-color: #000000; font-weight: bold\">)</span><span style=\"font-weight: bold\">&gt;</span>  │ <span style=\"color: #7f7f7f; text-decoration-color: #7f7f7f\">NULL</span>         │ <span style=\"color: #7f7f7f; text-decoration-color: #7f7f7f\">NULL</span>       │ <span style=\"color: #7f7f7f; text-decoration-color: #7f7f7f\">NULL</span>       │ <span style=\"color: #7f7f7f; text-decoration-color: #7f7f7f\">NULL</span>          │ <span style=\"color: #7f7f7f; text-decoration-color: #7f7f7f\">NULL</span>     │ <span style=\"color: #7f7f7f; text-decoration-color: #7f7f7f\">NULL</span>    │\n",
       "│ <span style=\"color: #800080; text-decoration-color: #800080\">2011-01-01 00:00:00</span> │     <span style=\"color: #008080; text-decoration-color: #008080; font-weight: bold\">24.5</span> │     <span style=\"color: #008080; text-decoration-color: #008080; font-weight: bold\">91.75</span> │      <span style=\"color: #008080; text-decoration-color: #008080; font-weight: bold\">0</span> │ <span style=\"color: #008000; text-decoration-color: #008000\">0001  </span> │ <span style=\"color: #008080; text-decoration-color: #008080; font-weight: bold\">289.778442</span> │ <span style=\"color: #008080; text-decoration-color: #008080; font-weight: bold\">0.000324</span> │ <span style=\"color: #008080; text-decoration-color: #008080; font-weight: bold\">0.231473</span> │ <span style=\"color: #008080; text-decoration-color: #008080; font-weight: bold\">-0.174458</span> │ <span style=\"color: #008080; text-decoration-color: #008080; font-weight: bold\">-0.467761</span> │ <span style=\"color: #008080; text-decoration-color: #008080; font-weight: bold\">1.593549e+07</span> │ <span style=\"font-weight: bold\">&lt;</span><span style=\"color: #ff00ff; text-decoration-color: #ff00ff; font-weight: bold\">POINT</span><span style=\"color: #000000; text-decoration-color: #000000\"> </span><span style=\"color: #000000; text-decoration-color: #000000; font-weight: bold\">(</span><span style=\"color: #008080; text-decoration-color: #008080; font-weight: bold\">91.75</span><span style=\"color: #000000; text-decoration-color: #000000\"> </span><span style=\"color: #008080; text-decoration-color: #008080; font-weight: bold\">24.5</span><span style=\"color: #000000; text-decoration-color: #000000; font-weight: bold\">)</span><span style=\"font-weight: bold\">&gt;</span> │ <span style=\"color: #7f7f7f; text-decoration-color: #7f7f7f\">NULL</span>         │ <span style=\"color: #7f7f7f; text-decoration-color: #7f7f7f\">NULL</span>       │ <span style=\"color: #7f7f7f; text-decoration-color: #7f7f7f\">NULL</span>       │ <span style=\"color: #7f7f7f; text-decoration-color: #7f7f7f\">NULL</span>          │ <span style=\"color: #7f7f7f; text-decoration-color: #7f7f7f\">NULL</span>     │ <span style=\"color: #7f7f7f; text-decoration-color: #7f7f7f\">NULL</span>    │\n",
       "│ <span style=\"color: #800080; text-decoration-color: #800080\">2011-01-01 00:00:00</span> │     <span style=\"color: #008080; text-decoration-color: #008080; font-weight: bold\">24.5</span> │     <span style=\"color: #008080; text-decoration-color: #008080; font-weight: bold\">92.25</span> │      <span style=\"color: #008080; text-decoration-color: #008080; font-weight: bold\">0</span> │ <span style=\"color: #008000; text-decoration-color: #008000\">0001  </span> │ <span style=\"color: #008080; text-decoration-color: #008080; font-weight: bold\">289.885864</span> │ <span style=\"color: #008080; text-decoration-color: #008080; font-weight: bold\">0.000309</span> │ <span style=\"color: #008080; text-decoration-color: #008080; font-weight: bold\">0.264814</span> │ <span style=\"color: #008080; text-decoration-color: #008080; font-weight: bold\">-0.121723</span> │ <span style=\"color: #008080; text-decoration-color: #008080; font-weight: bold\">-0.291003</span> │ <span style=\"color: #008080; text-decoration-color: #008080; font-weight: bold\">1.589862e+07</span> │ <span style=\"font-weight: bold\">&lt;</span><span style=\"color: #ff00ff; text-decoration-color: #ff00ff; font-weight: bold\">POINT</span><span style=\"color: #000000; text-decoration-color: #000000\"> </span><span style=\"color: #000000; text-decoration-color: #000000; font-weight: bold\">(</span><span style=\"color: #008080; text-decoration-color: #008080; font-weight: bold\">92.25</span><span style=\"color: #000000; text-decoration-color: #000000\"> </span><span style=\"color: #008080; text-decoration-color: #008080; font-weight: bold\">24.5</span><span style=\"color: #000000; text-decoration-color: #000000; font-weight: bold\">)</span><span style=\"font-weight: bold\">&gt;</span> │ <span style=\"color: #008000; text-decoration-color: #008000\">IND.4.18.1_1</span> │ <span style=\"color: #008000; text-decoration-color: #008000\">Karimganj </span> │ <span style=\"color: #008000; text-decoration-color: #008000\">IND.4.18_1</span> │ <span style=\"color: #008000; text-decoration-color: #008000\">Karimganj    </span> │ <span style=\"color: #008000; text-decoration-color: #008000\">IND.4_1 </span> │ <span style=\"color: #008000; text-decoration-color: #008000\">Assam  </span> │\n",
       "│ <span style=\"color: #800080; text-decoration-color: #800080\">2011-01-01 00:00:00</span> │     <span style=\"color: #008080; text-decoration-color: #008080; font-weight: bold\">24.5</span> │     <span style=\"color: #008080; text-decoration-color: #008080; font-weight: bold\">92.50</span> │      <span style=\"color: #008080; text-decoration-color: #008080; font-weight: bold\">0</span> │ <span style=\"color: #008000; text-decoration-color: #008000\">0001  </span> │ <span style=\"color: #008080; text-decoration-color: #008080; font-weight: bold\">289.909302</span> │ <span style=\"color: #008080; text-decoration-color: #008080; font-weight: bold\">0.000299</span> │ <span style=\"color: #008080; text-decoration-color: #008080; font-weight: bold\">0.297498</span> │  <span style=\"color: #008080; text-decoration-color: #008080; font-weight: bold\">0.032085</span> │  <span style=\"color: #008080; text-decoration-color: #008080; font-weight: bold\">0.082532</span> │ <span style=\"color: #008080; text-decoration-color: #008080; font-weight: bold\">1.592013e+07</span> │ <span style=\"font-weight: bold\">&lt;</span><span style=\"color: #ff00ff; text-decoration-color: #ff00ff; font-weight: bold\">POINT</span><span style=\"color: #000000; text-decoration-color: #000000\"> </span><span style=\"color: #000000; text-decoration-color: #000000; font-weight: bold\">(</span><span style=\"color: #008080; text-decoration-color: #008080; font-weight: bold\">92.5</span><span style=\"color: #000000; text-decoration-color: #000000\"> </span><span style=\"color: #008080; text-decoration-color: #008080; font-weight: bold\">24.5</span><span style=\"color: #000000; text-decoration-color: #000000; font-weight: bold\">)</span><span style=\"font-weight: bold\">&gt;</span>  │ <span style=\"color: #008000; text-decoration-color: #008000\">IND.4.18.1_1</span> │ <span style=\"color: #008000; text-decoration-color: #008000\">Karimganj </span> │ <span style=\"color: #008000; text-decoration-color: #008000\">IND.4.18_1</span> │ <span style=\"color: #008000; text-decoration-color: #008000\">Karimganj    </span> │ <span style=\"color: #008000; text-decoration-color: #008000\">IND.4_1 </span> │ <span style=\"color: #008000; text-decoration-color: #008000\">Assam  </span> │\n",
       "│ <span style=\"color: #800080; text-decoration-color: #800080\">2011-01-01 00:00:00</span> │     <span style=\"color: #008080; text-decoration-color: #008080; font-weight: bold\">24.5</span> │     <span style=\"color: #008080; text-decoration-color: #008080; font-weight: bold\">92.75</span> │      <span style=\"color: #008080; text-decoration-color: #008080; font-weight: bold\">0</span> │ <span style=\"color: #008000; text-decoration-color: #008000\">0001  </span> │ <span style=\"color: #008080; text-decoration-color: #008080; font-weight: bold\">289.542114</span> │ <span style=\"color: #008080; text-decoration-color: #008080; font-weight: bold\">0.000397</span> │ <span style=\"color: #008080; text-decoration-color: #008080; font-weight: bold\">0.281812</span> │  <span style=\"color: #008080; text-decoration-color: #008080; font-weight: bold\">0.028667</span> │  <span style=\"color: #008080; text-decoration-color: #008080; font-weight: bold\">0.256848</span> │ <span style=\"color: #008080; text-decoration-color: #008080; font-weight: bold\">1.590682e+07</span> │ <span style=\"font-weight: bold\">&lt;</span><span style=\"color: #ff00ff; text-decoration-color: #ff00ff; font-weight: bold\">POINT</span><span style=\"color: #000000; text-decoration-color: #000000\"> </span><span style=\"color: #000000; text-decoration-color: #000000; font-weight: bold\">(</span><span style=\"color: #008080; text-decoration-color: #008080; font-weight: bold\">92.75</span><span style=\"color: #000000; text-decoration-color: #000000\"> </span><span style=\"color: #008080; text-decoration-color: #008080; font-weight: bold\">24.5</span><span style=\"color: #000000; text-decoration-color: #000000; font-weight: bold\">)</span><span style=\"font-weight: bold\">&gt;</span> │ <span style=\"color: #008000; text-decoration-color: #008000\">IND.4.13.1_1</span> │ <span style=\"color: #008000; text-decoration-color: #008000\">Hailakandi</span> │ <span style=\"color: #008000; text-decoration-color: #008000\">IND.4.13_1</span> │ <span style=\"color: #008000; text-decoration-color: #008000\">Hailakandi   </span> │ <span style=\"color: #008000; text-decoration-color: #008000\">IND.4_1 </span> │ <span style=\"color: #008000; text-decoration-color: #008000\">Assam  </span> │\n",
       "│ <span style=\"color: #800080; text-decoration-color: #800080\">2011-01-01 00:00:00</span> │     <span style=\"color: #008080; text-decoration-color: #008080; font-weight: bold\">24.5</span> │     <span style=\"color: #008080; text-decoration-color: #008080; font-weight: bold\">93.00</span> │      <span style=\"color: #008080; text-decoration-color: #008080; font-weight: bold\">0</span> │ <span style=\"color: #008000; text-decoration-color: #008000\">0001  </span> │ <span style=\"color: #008080; text-decoration-color: #008080; font-weight: bold\">289.067505</span> │ <span style=\"color: #008080; text-decoration-color: #008080; font-weight: bold\">0.000397</span> │ <span style=\"color: #008080; text-decoration-color: #008080; font-weight: bold\">0.314054</span> │ <span style=\"color: #008080; text-decoration-color: #008080; font-weight: bold\">-0.196918</span> │  <span style=\"color: #008080; text-decoration-color: #008080; font-weight: bold\">0.375012</span> │ <span style=\"color: #008080; text-decoration-color: #008080; font-weight: bold\">1.591194e+07</span> │ <span style=\"font-weight: bold\">&lt;</span><span style=\"color: #ff00ff; text-decoration-color: #ff00ff; font-weight: bold\">POINT</span><span style=\"color: #000000; text-decoration-color: #000000\"> </span><span style=\"color: #000000; text-decoration-color: #000000; font-weight: bold\">(</span><span style=\"color: #008080; text-decoration-color: #008080; font-weight: bold\">93</span><span style=\"color: #000000; text-decoration-color: #000000\"> </span><span style=\"color: #008080; text-decoration-color: #008080; font-weight: bold\">24.5</span><span style=\"color: #000000; text-decoration-color: #000000; font-weight: bold\">)</span><span style=\"font-weight: bold\">&gt;</span>    │ <span style=\"color: #008000; text-decoration-color: #008000\">IND.4.4.1_1 </span> │ <span style=\"color: #008000; text-decoration-color: #008000\">Silchar   </span> │ <span style=\"color: #008000; text-decoration-color: #008000\">IND.4.4_1 </span> │ <span style=\"color: #008000; text-decoration-color: #008000\">Cachar       </span> │ <span style=\"color: #008000; text-decoration-color: #008000\">IND.4_1 </span> │ <span style=\"color: #008000; text-decoration-color: #008000\">Assam  </span> │\n",
       "│ <span style=\"color: #800080; text-decoration-color: #800080\">2011-01-01 00:00:00</span> │     <span style=\"color: #008080; text-decoration-color: #008080; font-weight: bold\">24.5</span> │     <span style=\"color: #008080; text-decoration-color: #008080; font-weight: bold\">93.25</span> │      <span style=\"color: #008080; text-decoration-color: #008080; font-weight: bold\">0</span> │ <span style=\"color: #008000; text-decoration-color: #008000\">0001  </span> │ <span style=\"color: #008080; text-decoration-color: #008080; font-weight: bold\">287.512817</span> │ <span style=\"color: #008080; text-decoration-color: #008080; font-weight: bold\">0.000536</span> │ <span style=\"color: #008080; text-decoration-color: #008080; font-weight: bold\">0.323987</span> │ <span style=\"color: #008080; text-decoration-color: #008080; font-weight: bold\">-0.267231</span> │  <span style=\"color: #008080; text-decoration-color: #008080; font-weight: bold\">0.216809</span> │ <span style=\"color: #008080; text-decoration-color: #008080; font-weight: bold\">1.581568e+07</span> │ <span style=\"font-weight: bold\">&lt;</span><span style=\"color: #ff00ff; text-decoration-color: #ff00ff; font-weight: bold\">POINT</span><span style=\"color: #000000; text-decoration-color: #000000\"> </span><span style=\"color: #000000; text-decoration-color: #000000; font-weight: bold\">(</span><span style=\"color: #008080; text-decoration-color: #008080; font-weight: bold\">93.25</span><span style=\"color: #000000; text-decoration-color: #000000\"> </span><span style=\"color: #008080; text-decoration-color: #008080; font-weight: bold\">24.5</span><span style=\"color: #000000; text-decoration-color: #000000; font-weight: bold\">)</span><span style=\"font-weight: bold\">&gt;</span> │ <span style=\"color: #008000; text-decoration-color: #008000\">IND.21.3.4_1</span> │ <span style=\"color: #008000; text-decoration-color: #008000\">Thanlon   </span> │ <span style=\"color: #008000; text-decoration-color: #008000\">IND.21.3_1</span> │ <span style=\"color: #008000; text-decoration-color: #008000\">Churachandpur</span> │ <span style=\"color: #008000; text-decoration-color: #008000\">IND.21_1</span> │ <span style=\"color: #008000; text-decoration-color: #008000\">Manipur</span> │\n",
       "│ <span style=\"color: #7f7f7f; text-decoration-color: #7f7f7f\">…</span>                   │        <span style=\"color: #7f7f7f; text-decoration-color: #7f7f7f\">…</span> │         <span style=\"color: #7f7f7f; text-decoration-color: #7f7f7f\">…</span> │      <span style=\"color: #7f7f7f; text-decoration-color: #7f7f7f\">…</span> │ <span style=\"color: #7f7f7f; text-decoration-color: #7f7f7f\">…</span>      │          <span style=\"color: #7f7f7f; text-decoration-color: #7f7f7f\">…</span> │        <span style=\"color: #7f7f7f; text-decoration-color: #7f7f7f\">…</span> │        <span style=\"color: #7f7f7f; text-decoration-color: #7f7f7f\">…</span> │         <span style=\"color: #7f7f7f; text-decoration-color: #7f7f7f\">…</span> │         <span style=\"color: #7f7f7f; text-decoration-color: #7f7f7f\">…</span> │            <span style=\"color: #7f7f7f; text-decoration-color: #7f7f7f\">…</span> │ <span style=\"color: #7f7f7f; text-decoration-color: #7f7f7f\">…</span>                    │ <span style=\"color: #7f7f7f; text-decoration-color: #7f7f7f\">…</span>            │ <span style=\"color: #7f7f7f; text-decoration-color: #7f7f7f\">…</span>          │ <span style=\"color: #7f7f7f; text-decoration-color: #7f7f7f\">…</span>          │ <span style=\"color: #7f7f7f; text-decoration-color: #7f7f7f\">…</span>             │ <span style=\"color: #7f7f7f; text-decoration-color: #7f7f7f\">…</span>        │ <span style=\"color: #7f7f7f; text-decoration-color: #7f7f7f\">…</span>       │\n",
       "└─────────────────────┴──────────┴───────────┴────────┴────────┴────────────┴──────────┴──────────┴───────────┴───────────┴──────────────┴──────────────────────┴──────────────┴────────────┴────────────┴───────────────┴──────────┴─────────┘\n",
       "</pre>\n"
      ],
      "text/plain": [
       "┏━━━━━━━━━━━━━━━━━━━━━┳━━━━━━━━━━┳━━━━━━━━━━━┳━━━━━━━━┳━━━━━━━━┳━━━━━━━━━━━━┳━━━━━━━━━━┳━━━━━━━━━━┳━━━━━━━━━━━┳━━━━━━━━━━━┳━━━━━━━━━━━━━━┳━━━━━━━━━━━━━━━━━━━━━━┳━━━━━━━━━━━━━━┳━━━━━━━━━━━━┳━━━━━━━━━━━━┳━━━━━━━━━━━━━━━┳━━━━━━━━━━┳━━━━━━━━━┓\n",
       "┃\u001b[1m \u001b[0m\u001b[1mdate\u001b[0m\u001b[1m               \u001b[0m\u001b[1m \u001b[0m┃\u001b[1m \u001b[0m\u001b[1mlatitude\u001b[0m\u001b[1m \u001b[0m┃\u001b[1m \u001b[0m\u001b[1mlongitude\u001b[0m\u001b[1m \u001b[0m┃\u001b[1m \u001b[0m\u001b[1mnumber\u001b[0m\u001b[1m \u001b[0m┃\u001b[1m \u001b[0m\u001b[1mexpver\u001b[0m\u001b[1m \u001b[0m┃\u001b[1m \u001b[0m\u001b[1mt2m\u001b[0m\u001b[1m       \u001b[0m\u001b[1m \u001b[0m┃\u001b[1m \u001b[0m\u001b[1mtp\u001b[0m\u001b[1m      \u001b[0m\u001b[1m \u001b[0m┃\u001b[1m \u001b[0m\u001b[1mswvl1\u001b[0m\u001b[1m   \u001b[0m\u001b[1m \u001b[0m┃\u001b[1m \u001b[0m\u001b[1mu10\u001b[0m\u001b[1m      \u001b[0m\u001b[1m \u001b[0m┃\u001b[1m \u001b[0m\u001b[1mv10\u001b[0m\u001b[1m      \u001b[0m\u001b[1m \u001b[0m┃\u001b[1m \u001b[0m\u001b[1mssrd\u001b[0m\u001b[1m        \u001b[0m\u001b[1m \u001b[0m┃\u001b[1m \u001b[0m\u001b[1mpoint\u001b[0m\u001b[1m               \u001b[0m\u001b[1m \u001b[0m┃\u001b[1m \u001b[0m\u001b[1mGID_3\u001b[0m\u001b[1m       \u001b[0m\u001b[1m \u001b[0m┃\u001b[1m \u001b[0m\u001b[1mNAME_3\u001b[0m\u001b[1m    \u001b[0m\u001b[1m \u001b[0m┃\u001b[1m \u001b[0m\u001b[1mGID_2\u001b[0m\u001b[1m     \u001b[0m\u001b[1m \u001b[0m┃\u001b[1m \u001b[0m\u001b[1mNAME_2\u001b[0m\u001b[1m       \u001b[0m\u001b[1m \u001b[0m┃\u001b[1m \u001b[0m\u001b[1mGID_1\u001b[0m\u001b[1m   \u001b[0m\u001b[1m \u001b[0m┃\u001b[1m \u001b[0m\u001b[1mNAME_1\u001b[0m\u001b[1m \u001b[0m\u001b[1m \u001b[0m┃\n",
       "┡━━━━━━━━━━━━━━━━━━━━━╇━━━━━━━━━━╇━━━━━━━━━━━╇━━━━━━━━╇━━━━━━━━╇━━━━━━━━━━━━╇━━━━━━━━━━╇━━━━━━━━━━╇━━━━━━━━━━━╇━━━━━━━━━━━╇━━━━━━━━━━━━━━╇━━━━━━━━━━━━━━━━━━━━━━╇━━━━━━━━━━━━━━╇━━━━━━━━━━━━╇━━━━━━━━━━━━╇━━━━━━━━━━━━━━━╇━━━━━━━━━━╇━━━━━━━━━┩\n",
       "│ \u001b[2mtimestamp(9)\u001b[0m        │ \u001b[2mfloat64\u001b[0m  │ \u001b[2mfloat64\u001b[0m   │ \u001b[2mint64\u001b[0m  │ \u001b[2mstring\u001b[0m │ \u001b[2mfloat32\u001b[0m    │ \u001b[2mfloat32\u001b[0m  │ \u001b[2mfloat32\u001b[0m  │ \u001b[2mfloat32\u001b[0m   │ \u001b[2mfloat32\u001b[0m   │ \u001b[2mfloat32\u001b[0m      │ \u001b[2mgeospatial:geometry\u001b[0m  │ \u001b[2mstring\u001b[0m       │ \u001b[2mstring\u001b[0m     │ \u001b[2mstring\u001b[0m     │ \u001b[2mstring\u001b[0m        │ \u001b[2mstring\u001b[0m   │ \u001b[2mstring\u001b[0m  │\n",
       "├─────────────────────┼──────────┼───────────┼────────┼────────┼────────────┼──────────┼──────────┼───────────┼───────────┼──────────────┼──────────────────────┼──────────────┼────────────┼────────────┼───────────────┼──────────┼─────────┤\n",
       "│ \u001b[35m2011-01-01 00:00:00\u001b[0m │     \u001b[1;36m24.5\u001b[0m │     \u001b[1;36m90.50\u001b[0m │      \u001b[1;36m0\u001b[0m │ \u001b[32m0001  \u001b[0m │ \u001b[1;36m289.479614\u001b[0m │ \u001b[1;36m0.000292\u001b[0m │ \u001b[1;36m0.307126\u001b[0m │  \u001b[1;36m0.716167\u001b[0m │ \u001b[1;36m-0.597644\u001b[0m │ \u001b[1;36m1.615258e+07\u001b[0m │ \u001b[1m<\u001b[0m\u001b[1;95mPOINT\u001b[0m\u001b[39m \u001b[0m\u001b[1;39m(\u001b[0m\u001b[1;36m90.5\u001b[0m\u001b[39m \u001b[0m\u001b[1;36m24.5\u001b[0m\u001b[1;39m)\u001b[0m\u001b[1m>\u001b[0m  │ \u001b[2mNULL\u001b[0m         │ \u001b[2mNULL\u001b[0m       │ \u001b[2mNULL\u001b[0m       │ \u001b[2mNULL\u001b[0m          │ \u001b[2mNULL\u001b[0m     │ \u001b[2mNULL\u001b[0m    │\n",
       "│ \u001b[35m2011-01-01 00:00:00\u001b[0m │     \u001b[1;36m24.5\u001b[0m │     \u001b[1;36m90.75\u001b[0m │      \u001b[1;36m0\u001b[0m │ \u001b[32m0001  \u001b[0m │ \u001b[1;36m289.657349\u001b[0m │ \u001b[1;36m0.000238\u001b[0m │ \u001b[1;36m0.260602\u001b[0m │  \u001b[1;36m0.550640\u001b[0m │ \u001b[1;36m-0.493640\u001b[0m │ \u001b[1;36m1.609114e+07\u001b[0m │ \u001b[1m<\u001b[0m\u001b[1;95mPOINT\u001b[0m\u001b[39m \u001b[0m\u001b[1;39m(\u001b[0m\u001b[1;36m90.75\u001b[0m\u001b[39m \u001b[0m\u001b[1;36m24.5\u001b[0m\u001b[1;39m)\u001b[0m\u001b[1m>\u001b[0m │ \u001b[2mNULL\u001b[0m         │ \u001b[2mNULL\u001b[0m       │ \u001b[2mNULL\u001b[0m       │ \u001b[2mNULL\u001b[0m          │ \u001b[2mNULL\u001b[0m     │ \u001b[2mNULL\u001b[0m    │\n",
       "│ \u001b[35m2011-01-01 00:00:00\u001b[0m │     \u001b[1;36m24.5\u001b[0m │     \u001b[1;36m91.25\u001b[0m │      \u001b[1;36m0\u001b[0m │ \u001b[32m0001  \u001b[0m │ \u001b[1;36m289.979614\u001b[0m │ \u001b[1;36m0.000292\u001b[0m │ \u001b[1;36m0.222349\u001b[0m │  \u001b[1;36m0.190777\u001b[0m │ \u001b[1;36m-0.283191\u001b[0m │ \u001b[1;36m1.595392e+07\u001b[0m │ \u001b[1m<\u001b[0m\u001b[1;95mPOINT\u001b[0m\u001b[39m \u001b[0m\u001b[1;39m(\u001b[0m\u001b[1;36m91.25\u001b[0m\u001b[39m \u001b[0m\u001b[1;36m24.5\u001b[0m\u001b[1;39m)\u001b[0m\u001b[1m>\u001b[0m │ \u001b[2mNULL\u001b[0m         │ \u001b[2mNULL\u001b[0m       │ \u001b[2mNULL\u001b[0m       │ \u001b[2mNULL\u001b[0m          │ \u001b[2mNULL\u001b[0m     │ \u001b[2mNULL\u001b[0m    │\n",
       "│ \u001b[35m2011-01-01 00:00:00\u001b[0m │     \u001b[1;36m24.5\u001b[0m │     \u001b[1;36m91.50\u001b[0m │      \u001b[1;36m0\u001b[0m │ \u001b[32m0001  \u001b[0m │ \u001b[1;36m289.655396\u001b[0m │ \u001b[1;36m0.000322\u001b[0m │ \u001b[1;36m0.229276\u001b[0m │ \u001b[1;36m-0.033344\u001b[0m │ \u001b[1;36m-0.294909\u001b[0m │ \u001b[1;36m1.593446e+07\u001b[0m │ \u001b[1m<\u001b[0m\u001b[1;95mPOINT\u001b[0m\u001b[39m \u001b[0m\u001b[1;39m(\u001b[0m\u001b[1;36m91.5\u001b[0m\u001b[39m \u001b[0m\u001b[1;36m24.5\u001b[0m\u001b[1;39m)\u001b[0m\u001b[1m>\u001b[0m  │ \u001b[2mNULL\u001b[0m         │ \u001b[2mNULL\u001b[0m       │ \u001b[2mNULL\u001b[0m       │ \u001b[2mNULL\u001b[0m          │ \u001b[2mNULL\u001b[0m     │ \u001b[2mNULL\u001b[0m    │\n",
       "│ \u001b[35m2011-01-01 00:00:00\u001b[0m │     \u001b[1;36m24.5\u001b[0m │     \u001b[1;36m91.75\u001b[0m │      \u001b[1;36m0\u001b[0m │ \u001b[32m0001  \u001b[0m │ \u001b[1;36m289.778442\u001b[0m │ \u001b[1;36m0.000324\u001b[0m │ \u001b[1;36m0.231473\u001b[0m │ \u001b[1;36m-0.174458\u001b[0m │ \u001b[1;36m-0.467761\u001b[0m │ \u001b[1;36m1.593549e+07\u001b[0m │ \u001b[1m<\u001b[0m\u001b[1;95mPOINT\u001b[0m\u001b[39m \u001b[0m\u001b[1;39m(\u001b[0m\u001b[1;36m91.75\u001b[0m\u001b[39m \u001b[0m\u001b[1;36m24.5\u001b[0m\u001b[1;39m)\u001b[0m\u001b[1m>\u001b[0m │ \u001b[2mNULL\u001b[0m         │ \u001b[2mNULL\u001b[0m       │ \u001b[2mNULL\u001b[0m       │ \u001b[2mNULL\u001b[0m          │ \u001b[2mNULL\u001b[0m     │ \u001b[2mNULL\u001b[0m    │\n",
       "│ \u001b[35m2011-01-01 00:00:00\u001b[0m │     \u001b[1;36m24.5\u001b[0m │     \u001b[1;36m92.25\u001b[0m │      \u001b[1;36m0\u001b[0m │ \u001b[32m0001  \u001b[0m │ \u001b[1;36m289.885864\u001b[0m │ \u001b[1;36m0.000309\u001b[0m │ \u001b[1;36m0.264814\u001b[0m │ \u001b[1;36m-0.121723\u001b[0m │ \u001b[1;36m-0.291003\u001b[0m │ \u001b[1;36m1.589862e+07\u001b[0m │ \u001b[1m<\u001b[0m\u001b[1;95mPOINT\u001b[0m\u001b[39m \u001b[0m\u001b[1;39m(\u001b[0m\u001b[1;36m92.25\u001b[0m\u001b[39m \u001b[0m\u001b[1;36m24.5\u001b[0m\u001b[1;39m)\u001b[0m\u001b[1m>\u001b[0m │ \u001b[32mIND.4.18.1_1\u001b[0m │ \u001b[32mKarimganj \u001b[0m │ \u001b[32mIND.4.18_1\u001b[0m │ \u001b[32mKarimganj    \u001b[0m │ \u001b[32mIND.4_1 \u001b[0m │ \u001b[32mAssam  \u001b[0m │\n",
       "│ \u001b[35m2011-01-01 00:00:00\u001b[0m │     \u001b[1;36m24.5\u001b[0m │     \u001b[1;36m92.50\u001b[0m │      \u001b[1;36m0\u001b[0m │ \u001b[32m0001  \u001b[0m │ \u001b[1;36m289.909302\u001b[0m │ \u001b[1;36m0.000299\u001b[0m │ \u001b[1;36m0.297498\u001b[0m │  \u001b[1;36m0.032085\u001b[0m │  \u001b[1;36m0.082532\u001b[0m │ \u001b[1;36m1.592013e+07\u001b[0m │ \u001b[1m<\u001b[0m\u001b[1;95mPOINT\u001b[0m\u001b[39m \u001b[0m\u001b[1;39m(\u001b[0m\u001b[1;36m92.5\u001b[0m\u001b[39m \u001b[0m\u001b[1;36m24.5\u001b[0m\u001b[1;39m)\u001b[0m\u001b[1m>\u001b[0m  │ \u001b[32mIND.4.18.1_1\u001b[0m │ \u001b[32mKarimganj \u001b[0m │ \u001b[32mIND.4.18_1\u001b[0m │ \u001b[32mKarimganj    \u001b[0m │ \u001b[32mIND.4_1 \u001b[0m │ \u001b[32mAssam  \u001b[0m │\n",
       "│ \u001b[35m2011-01-01 00:00:00\u001b[0m │     \u001b[1;36m24.5\u001b[0m │     \u001b[1;36m92.75\u001b[0m │      \u001b[1;36m0\u001b[0m │ \u001b[32m0001  \u001b[0m │ \u001b[1;36m289.542114\u001b[0m │ \u001b[1;36m0.000397\u001b[0m │ \u001b[1;36m0.281812\u001b[0m │  \u001b[1;36m0.028667\u001b[0m │  \u001b[1;36m0.256848\u001b[0m │ \u001b[1;36m1.590682e+07\u001b[0m │ \u001b[1m<\u001b[0m\u001b[1;95mPOINT\u001b[0m\u001b[39m \u001b[0m\u001b[1;39m(\u001b[0m\u001b[1;36m92.75\u001b[0m\u001b[39m \u001b[0m\u001b[1;36m24.5\u001b[0m\u001b[1;39m)\u001b[0m\u001b[1m>\u001b[0m │ \u001b[32mIND.4.13.1_1\u001b[0m │ \u001b[32mHailakandi\u001b[0m │ \u001b[32mIND.4.13_1\u001b[0m │ \u001b[32mHailakandi   \u001b[0m │ \u001b[32mIND.4_1 \u001b[0m │ \u001b[32mAssam  \u001b[0m │\n",
       "│ \u001b[35m2011-01-01 00:00:00\u001b[0m │     \u001b[1;36m24.5\u001b[0m │     \u001b[1;36m93.00\u001b[0m │      \u001b[1;36m0\u001b[0m │ \u001b[32m0001  \u001b[0m │ \u001b[1;36m289.067505\u001b[0m │ \u001b[1;36m0.000397\u001b[0m │ \u001b[1;36m0.314054\u001b[0m │ \u001b[1;36m-0.196918\u001b[0m │  \u001b[1;36m0.375012\u001b[0m │ \u001b[1;36m1.591194e+07\u001b[0m │ \u001b[1m<\u001b[0m\u001b[1;95mPOINT\u001b[0m\u001b[39m \u001b[0m\u001b[1;39m(\u001b[0m\u001b[1;36m93\u001b[0m\u001b[39m \u001b[0m\u001b[1;36m24.5\u001b[0m\u001b[1;39m)\u001b[0m\u001b[1m>\u001b[0m    │ \u001b[32mIND.4.4.1_1 \u001b[0m │ \u001b[32mSilchar   \u001b[0m │ \u001b[32mIND.4.4_1 \u001b[0m │ \u001b[32mCachar       \u001b[0m │ \u001b[32mIND.4_1 \u001b[0m │ \u001b[32mAssam  \u001b[0m │\n",
       "│ \u001b[35m2011-01-01 00:00:00\u001b[0m │     \u001b[1;36m24.5\u001b[0m │     \u001b[1;36m93.25\u001b[0m │      \u001b[1;36m0\u001b[0m │ \u001b[32m0001  \u001b[0m │ \u001b[1;36m287.512817\u001b[0m │ \u001b[1;36m0.000536\u001b[0m │ \u001b[1;36m0.323987\u001b[0m │ \u001b[1;36m-0.267231\u001b[0m │  \u001b[1;36m0.216809\u001b[0m │ \u001b[1;36m1.581568e+07\u001b[0m │ \u001b[1m<\u001b[0m\u001b[1;95mPOINT\u001b[0m\u001b[39m \u001b[0m\u001b[1;39m(\u001b[0m\u001b[1;36m93.25\u001b[0m\u001b[39m \u001b[0m\u001b[1;36m24.5\u001b[0m\u001b[1;39m)\u001b[0m\u001b[1m>\u001b[0m │ \u001b[32mIND.21.3.4_1\u001b[0m │ \u001b[32mThanlon   \u001b[0m │ \u001b[32mIND.21.3_1\u001b[0m │ \u001b[32mChurachandpur\u001b[0m │ \u001b[32mIND.21_1\u001b[0m │ \u001b[32mManipur\u001b[0m │\n",
       "│ \u001b[2m…\u001b[0m                   │        \u001b[2m…\u001b[0m │         \u001b[2m…\u001b[0m │      \u001b[2m…\u001b[0m │ \u001b[2m…\u001b[0m      │          \u001b[2m…\u001b[0m │        \u001b[2m…\u001b[0m │        \u001b[2m…\u001b[0m │         \u001b[2m…\u001b[0m │         \u001b[2m…\u001b[0m │            \u001b[2m…\u001b[0m │ \u001b[2m…\u001b[0m                    │ \u001b[2m…\u001b[0m            │ \u001b[2m…\u001b[0m          │ \u001b[2m…\u001b[0m          │ \u001b[2m…\u001b[0m             │ \u001b[2m…\u001b[0m        │ \u001b[2m…\u001b[0m       │\n",
       "└─────────────────────┴──────────┴───────────┴────────┴────────┴────────────┴──────────┴──────────┴───────────┴───────────┴──────────────┴──────────────────────┴──────────────┴────────────┴────────────┴───────────────┴──────────┴─────────┘"
      ]
     },
     "execution_count": 40,
     "metadata": {},
     "output_type": "execute_result"
    }
   ],
   "source": [
    "con.table('climate_data_by_region')"
   ]
  },
  {
   "cell_type": "code",
   "execution_count": 21,
   "metadata": {},
   "outputs": [],
   "source": [
    "con.drop_table('wind_v_component_10m')"
   ]
  },
  {
   "cell_type": "code",
   "execution_count": 22,
   "metadata": {},
   "outputs": [
    {
     "data": {
      "text/plain": [
       "['soil_water_layer1',\n",
       " 'surface_solar_radiation_downwards',\n",
       " 'temperature_2m',\n",
       " 'total_precipitation',\n",
       " 'wind_u_component_10m',\n",
       " 'wind_v_component_10m']"
      ]
     },
     "execution_count": 22,
     "metadata": {},
     "output_type": "execute_result"
    }
   ],
   "source": [
    "climate_tables = con.list_tables(database='climate')\n",
    "climate_tables"
   ]
  },
  {
   "cell_type": "code",
   "execution_count": 6,
   "metadata": {},
   "outputs": [
    {
     "data": {
      "text/html": [
       "<pre style=\"white-space:pre;overflow-x:auto;line-height:normal;font-family:Menlo,'DejaVu Sans Mono',consolas,'Courier New',monospace\">┏━━━━━━━━━━┳━━━━━━━━━━┳━━━━━━━━━━━┳━━━━━━━━┳━━━━━━━━┳━━━━━━━━━━┓\n",
       "┃<span style=\"font-weight: bold\"> date     </span>┃<span style=\"font-weight: bold\"> latitude </span>┃<span style=\"font-weight: bold\"> longitude </span>┃<span style=\"font-weight: bold\"> number </span>┃<span style=\"font-weight: bold\"> expver </span>┃<span style=\"font-weight: bold\"> tp       </span>┃\n",
       "┡━━━━━━━━━━╇━━━━━━━━━━╇━━━━━━━━━━━╇━━━━━━━━╇━━━━━━━━╇━━━━━━━━━━┩\n",
       "│ <span style=\"color: #7f7f7f; text-decoration-color: #7f7f7f\">int64</span>    │ <span style=\"color: #7f7f7f; text-decoration-color: #7f7f7f\">float64</span>  │ <span style=\"color: #7f7f7f; text-decoration-color: #7f7f7f\">float64</span>   │ <span style=\"color: #7f7f7f; text-decoration-color: #7f7f7f\">int64</span>  │ <span style=\"color: #7f7f7f; text-decoration-color: #7f7f7f\">string</span> │ <span style=\"color: #7f7f7f; text-decoration-color: #7f7f7f\">float32</span>  │\n",
       "├──────────┼──────────┼───────────┼────────┼────────┼──────────┤\n",
       "│ <span style=\"color: #008080; text-decoration-color: #008080; font-weight: bold\">20090101</span> │     <span style=\"color: #008080; text-decoration-color: #008080; font-weight: bold\">38.0</span> │     <span style=\"color: #008080; text-decoration-color: #008080; font-weight: bold\">68.00</span> │      <span style=\"color: #008080; text-decoration-color: #008080; font-weight: bold\">0</span> │ <span style=\"color: #008000; text-decoration-color: #008000\">0001  </span> │ <span style=\"color: #008080; text-decoration-color: #008080; font-weight: bold\">0.001331</span> │\n",
       "│ <span style=\"color: #008080; text-decoration-color: #008080; font-weight: bold\">20090101</span> │     <span style=\"color: #008080; text-decoration-color: #008080; font-weight: bold\">38.0</span> │     <span style=\"color: #008080; text-decoration-color: #008080; font-weight: bold\">68.25</span> │      <span style=\"color: #008080; text-decoration-color: #008080; font-weight: bold\">0</span> │ <span style=\"color: #008000; text-decoration-color: #008000\">0001  </span> │ <span style=\"color: #008080; text-decoration-color: #008080; font-weight: bold\">0.001937</span> │\n",
       "│ <span style=\"color: #008080; text-decoration-color: #008080; font-weight: bold\">20090101</span> │     <span style=\"color: #008080; text-decoration-color: #008080; font-weight: bold\">38.0</span> │     <span style=\"color: #008080; text-decoration-color: #008080; font-weight: bold\">68.50</span> │      <span style=\"color: #008080; text-decoration-color: #008080; font-weight: bold\">0</span> │ <span style=\"color: #008000; text-decoration-color: #008000\">0001  </span> │ <span style=\"color: #008080; text-decoration-color: #008080; font-weight: bold\">0.001918</span> │\n",
       "│ <span style=\"color: #008080; text-decoration-color: #008080; font-weight: bold\">20090101</span> │     <span style=\"color: #008080; text-decoration-color: #008080; font-weight: bold\">38.0</span> │     <span style=\"color: #008080; text-decoration-color: #008080; font-weight: bold\">68.75</span> │      <span style=\"color: #008080; text-decoration-color: #008080; font-weight: bold\">0</span> │ <span style=\"color: #008000; text-decoration-color: #008000\">0001  </span> │ <span style=\"color: #008080; text-decoration-color: #008080; font-weight: bold\">0.001812</span> │\n",
       "│ <span style=\"color: #008080; text-decoration-color: #008080; font-weight: bold\">20090101</span> │     <span style=\"color: #008080; text-decoration-color: #008080; font-weight: bold\">38.0</span> │     <span style=\"color: #008080; text-decoration-color: #008080; font-weight: bold\">69.00</span> │      <span style=\"color: #008080; text-decoration-color: #008080; font-weight: bold\">0</span> │ <span style=\"color: #008000; text-decoration-color: #008000\">0001  </span> │ <span style=\"color: #008080; text-decoration-color: #008080; font-weight: bold\">0.001613</span> │\n",
       "│ <span style=\"color: #008080; text-decoration-color: #008080; font-weight: bold\">20090101</span> │     <span style=\"color: #008080; text-decoration-color: #008080; font-weight: bold\">38.0</span> │     <span style=\"color: #008080; text-decoration-color: #008080; font-weight: bold\">69.25</span> │      <span style=\"color: #008080; text-decoration-color: #008080; font-weight: bold\">0</span> │ <span style=\"color: #008000; text-decoration-color: #008000\">0001  </span> │ <span style=\"color: #008080; text-decoration-color: #008080; font-weight: bold\">0.002290</span> │\n",
       "│ <span style=\"color: #008080; text-decoration-color: #008080; font-weight: bold\">20090101</span> │     <span style=\"color: #008080; text-decoration-color: #008080; font-weight: bold\">38.0</span> │     <span style=\"color: #008080; text-decoration-color: #008080; font-weight: bold\">69.50</span> │      <span style=\"color: #008080; text-decoration-color: #008080; font-weight: bold\">0</span> │ <span style=\"color: #008000; text-decoration-color: #008000\">0001  </span> │ <span style=\"color: #008080; text-decoration-color: #008080; font-weight: bold\">0.002611</span> │\n",
       "│ <span style=\"color: #008080; text-decoration-color: #008080; font-weight: bold\">20090101</span> │     <span style=\"color: #008080; text-decoration-color: #008080; font-weight: bold\">38.0</span> │     <span style=\"color: #008080; text-decoration-color: #008080; font-weight: bold\">69.75</span> │      <span style=\"color: #008080; text-decoration-color: #008080; font-weight: bold\">0</span> │ <span style=\"color: #008000; text-decoration-color: #008000\">0001  </span> │ <span style=\"color: #008080; text-decoration-color: #008080; font-weight: bold\">0.002796</span> │\n",
       "│ <span style=\"color: #008080; text-decoration-color: #008080; font-weight: bold\">20090101</span> │     <span style=\"color: #008080; text-decoration-color: #008080; font-weight: bold\">38.0</span> │     <span style=\"color: #008080; text-decoration-color: #008080; font-weight: bold\">70.00</span> │      <span style=\"color: #008080; text-decoration-color: #008080; font-weight: bold\">0</span> │ <span style=\"color: #008000; text-decoration-color: #008000\">0001  </span> │ <span style=\"color: #008080; text-decoration-color: #008080; font-weight: bold\">0.003097</span> │\n",
       "│ <span style=\"color: #008080; text-decoration-color: #008080; font-weight: bold\">20090101</span> │     <span style=\"color: #008080; text-decoration-color: #008080; font-weight: bold\">38.0</span> │     <span style=\"color: #008080; text-decoration-color: #008080; font-weight: bold\">70.25</span> │      <span style=\"color: #008080; text-decoration-color: #008080; font-weight: bold\">0</span> │ <span style=\"color: #008000; text-decoration-color: #008000\">0001  </span> │ <span style=\"color: #008080; text-decoration-color: #008080; font-weight: bold\">0.003202</span> │\n",
       "│        <span style=\"color: #7f7f7f; text-decoration-color: #7f7f7f\">…</span> │        <span style=\"color: #7f7f7f; text-decoration-color: #7f7f7f\">…</span> │         <span style=\"color: #7f7f7f; text-decoration-color: #7f7f7f\">…</span> │      <span style=\"color: #7f7f7f; text-decoration-color: #7f7f7f\">…</span> │ <span style=\"color: #7f7f7f; text-decoration-color: #7f7f7f\">…</span>      │        <span style=\"color: #7f7f7f; text-decoration-color: #7f7f7f\">…</span> │\n",
       "└──────────┴──────────┴───────────┴────────┴────────┴──────────┘\n",
       "</pre>\n"
      ],
      "text/plain": [
       "┏━━━━━━━━━━┳━━━━━━━━━━┳━━━━━━━━━━━┳━━━━━━━━┳━━━━━━━━┳━━━━━━━━━━┓\n",
       "┃\u001b[1m \u001b[0m\u001b[1mdate\u001b[0m\u001b[1m    \u001b[0m\u001b[1m \u001b[0m┃\u001b[1m \u001b[0m\u001b[1mlatitude\u001b[0m\u001b[1m \u001b[0m┃\u001b[1m \u001b[0m\u001b[1mlongitude\u001b[0m\u001b[1m \u001b[0m┃\u001b[1m \u001b[0m\u001b[1mnumber\u001b[0m\u001b[1m \u001b[0m┃\u001b[1m \u001b[0m\u001b[1mexpver\u001b[0m\u001b[1m \u001b[0m┃\u001b[1m \u001b[0m\u001b[1mtp\u001b[0m\u001b[1m      \u001b[0m\u001b[1m \u001b[0m┃\n",
       "┡━━━━━━━━━━╇━━━━━━━━━━╇━━━━━━━━━━━╇━━━━━━━━╇━━━━━━━━╇━━━━━━━━━━┩\n",
       "│ \u001b[2mint64\u001b[0m    │ \u001b[2mfloat64\u001b[0m  │ \u001b[2mfloat64\u001b[0m   │ \u001b[2mint64\u001b[0m  │ \u001b[2mstring\u001b[0m │ \u001b[2mfloat32\u001b[0m  │\n",
       "├──────────┼──────────┼───────────┼────────┼────────┼──────────┤\n",
       "│ \u001b[1;36m20090101\u001b[0m │     \u001b[1;36m38.0\u001b[0m │     \u001b[1;36m68.00\u001b[0m │      \u001b[1;36m0\u001b[0m │ \u001b[32m0001  \u001b[0m │ \u001b[1;36m0.001331\u001b[0m │\n",
       "│ \u001b[1;36m20090101\u001b[0m │     \u001b[1;36m38.0\u001b[0m │     \u001b[1;36m68.25\u001b[0m │      \u001b[1;36m0\u001b[0m │ \u001b[32m0001  \u001b[0m │ \u001b[1;36m0.001937\u001b[0m │\n",
       "│ \u001b[1;36m20090101\u001b[0m │     \u001b[1;36m38.0\u001b[0m │     \u001b[1;36m68.50\u001b[0m │      \u001b[1;36m0\u001b[0m │ \u001b[32m0001  \u001b[0m │ \u001b[1;36m0.001918\u001b[0m │\n",
       "│ \u001b[1;36m20090101\u001b[0m │     \u001b[1;36m38.0\u001b[0m │     \u001b[1;36m68.75\u001b[0m │      \u001b[1;36m0\u001b[0m │ \u001b[32m0001  \u001b[0m │ \u001b[1;36m0.001812\u001b[0m │\n",
       "│ \u001b[1;36m20090101\u001b[0m │     \u001b[1;36m38.0\u001b[0m │     \u001b[1;36m69.00\u001b[0m │      \u001b[1;36m0\u001b[0m │ \u001b[32m0001  \u001b[0m │ \u001b[1;36m0.001613\u001b[0m │\n",
       "│ \u001b[1;36m20090101\u001b[0m │     \u001b[1;36m38.0\u001b[0m │     \u001b[1;36m69.25\u001b[0m │      \u001b[1;36m0\u001b[0m │ \u001b[32m0001  \u001b[0m │ \u001b[1;36m0.002290\u001b[0m │\n",
       "│ \u001b[1;36m20090101\u001b[0m │     \u001b[1;36m38.0\u001b[0m │     \u001b[1;36m69.50\u001b[0m │      \u001b[1;36m0\u001b[0m │ \u001b[32m0001  \u001b[0m │ \u001b[1;36m0.002611\u001b[0m │\n",
       "│ \u001b[1;36m20090101\u001b[0m │     \u001b[1;36m38.0\u001b[0m │     \u001b[1;36m69.75\u001b[0m │      \u001b[1;36m0\u001b[0m │ \u001b[32m0001  \u001b[0m │ \u001b[1;36m0.002796\u001b[0m │\n",
       "│ \u001b[1;36m20090101\u001b[0m │     \u001b[1;36m38.0\u001b[0m │     \u001b[1;36m70.00\u001b[0m │      \u001b[1;36m0\u001b[0m │ \u001b[32m0001  \u001b[0m │ \u001b[1;36m0.003097\u001b[0m │\n",
       "│ \u001b[1;36m20090101\u001b[0m │     \u001b[1;36m38.0\u001b[0m │     \u001b[1;36m70.25\u001b[0m │      \u001b[1;36m0\u001b[0m │ \u001b[32m0001  \u001b[0m │ \u001b[1;36m0.003202\u001b[0m │\n",
       "│        \u001b[2m…\u001b[0m │        \u001b[2m…\u001b[0m │         \u001b[2m…\u001b[0m │      \u001b[2m…\u001b[0m │ \u001b[2m…\u001b[0m      │        \u001b[2m…\u001b[0m │\n",
       "└──────────┴──────────┴───────────┴────────┴────────┴──────────┘"
      ]
     },
     "execution_count": 6,
     "metadata": {},
     "output_type": "execute_result"
    }
   ],
   "source": [
    "con.table('total_precipitation')"
   ]
  },
  {
   "cell_type": "code",
   "execution_count": 8,
   "metadata": {},
   "outputs": [],
   "source": [
    "t = con.table('temperature_2m', database='climate')"
   ]
  },
  {
   "cell_type": "code",
   "execution_count": 10,
   "metadata": {},
   "outputs": [],
   "source": [
    "date_column_as_date = t.date.cast(\"string\").substr(0, 4) + '-' + \\\n",
    "                      t.date.cast(\"string\").substr(4, 2) + '-' + \\\n",
    "                      t.date.cast(\"string\").substr(6, 2)"
   ]
  },
  {
   "cell_type": "code",
   "execution_count": 57,
   "metadata": {},
   "outputs": [
    {
     "data": {
      "text/html": [
       "<pre style=\"white-space:pre;overflow-x:auto;line-height:normal;font-family:Menlo,'DejaVu Sans Mono',consolas,'Courier New',monospace\">┏━━━━━━━━━━━━━━━━━━━━━━━━━━━━━━━━━━━━━━━━━━━━━━━━━━━━━━━━━━━━━━━━━━━━━━━━━━━━━━━━━━━━━━━━━━━━━━━━━━━━━━━━━━━━━━━━━━━━━━━━━━━━━━━━━━━━━━━━━━━━━━━━━━━━━━━━━━━━━━━━━━━━━━━━━━━━━━━━━━━━━━━━━┓\n",
       "┃<span style=\"font-weight: bold\"> StringConcat((StringConcat((StringConcat((StringConcat((Substring(Cast(date, string), 0, 4), '-')), Substring(Cast(date, string), 4, 2))), '-')), Substring(Cast(date, string), 6, 2))) </span>┃\n",
       "┡━━━━━━━━━━━━━━━━━━━━━━━━━━━━━━━━━━━━━━━━━━━━━━━━━━━━━━━━━━━━━━━━━━━━━━━━━━━━━━━━━━━━━━━━━━━━━━━━━━━━━━━━━━━━━━━━━━━━━━━━━━━━━━━━━━━━━━━━━━━━━━━━━━━━━━━━━━━━━━━━━━━━━━━━━━━━━━━━━━━━━━━━━┩\n",
       "│ <span style=\"color: #7f7f7f; text-decoration-color: #7f7f7f\">string</span>                                                                                                                                                                                  │\n",
       "├─────────────────────────────────────────────────────────────────────────────────────────────────────────────────────────────────────────────────────────────────────────────────────────┤\n",
       "│ <span style=\"color: #008000; text-decoration-color: #008000\">2009-01-01                                                                                                                                                                             </span> │\n",
       "│ <span style=\"color: #008000; text-decoration-color: #008000\">2009-01-01                                                                                                                                                                             </span> │\n",
       "│ <span style=\"color: #008000; text-decoration-color: #008000\">2009-01-01                                                                                                                                                                             </span> │\n",
       "│ <span style=\"color: #008000; text-decoration-color: #008000\">2009-01-01                                                                                                                                                                             </span> │\n",
       "│ <span style=\"color: #008000; text-decoration-color: #008000\">2009-01-01                                                                                                                                                                             </span> │\n",
       "│ <span style=\"color: #008000; text-decoration-color: #008000\">2009-01-01                                                                                                                                                                             </span> │\n",
       "│ <span style=\"color: #008000; text-decoration-color: #008000\">2009-01-01                                                                                                                                                                             </span> │\n",
       "│ <span style=\"color: #008000; text-decoration-color: #008000\">2009-01-01                                                                                                                                                                             </span> │\n",
       "│ <span style=\"color: #008000; text-decoration-color: #008000\">2009-01-01                                                                                                                                                                             </span> │\n",
       "│ <span style=\"color: #008000; text-decoration-color: #008000\">2009-01-01                                                                                                                                                                             </span> │\n",
       "│ <span style=\"color: #7f7f7f; text-decoration-color: #7f7f7f\">…</span>                                                                                                                                                                                       │\n",
       "└─────────────────────────────────────────────────────────────────────────────────────────────────────────────────────────────────────────────────────────────────────────────────────────┘\n",
       "</pre>\n"
      ],
      "text/plain": [
       "┏━━━━━━━━━━━━━━━━━━━━━━━━━━━━━━━━━━━━━━━━━━━━━━━━━━━━━━━━━━━━━━━━━━━━━━━━━━━━━━━━━━━━━━━━━━━━━━━━━━━━━━━━━━━━━━━━━━━━━━━━━━━━━━━━━━━━━━━━━━━━━━━━━━━━━━━━━━━━━━━━━━━━━━━━━━━━━━━━━━━━━━━━━┓\n",
       "┃\u001b[1m \u001b[0m\u001b[1mStringConcat((StringConcat((StringConcat((StringConcat((Substring(Cast(date, string), 0, 4), '-')), Substring(Cast(date, string), 4, 2))), '-')), Substring(Cast(date, string), 6, 2)))\u001b[0m\u001b[1m \u001b[0m┃\n",
       "┡━━━━━━━━━━━━━━━━━━━━━━━━━━━━━━━━━━━━━━━━━━━━━━━━━━━━━━━━━━━━━━━━━━━━━━━━━━━━━━━━━━━━━━━━━━━━━━━━━━━━━━━━━━━━━━━━━━━━━━━━━━━━━━━━━━━━━━━━━━━━━━━━━━━━━━━━━━━━━━━━━━━━━━━━━━━━━━━━━━━━━━━━━┩\n",
       "│ \u001b[2mstring\u001b[0m                                                                                                                                                                                  │\n",
       "├─────────────────────────────────────────────────────────────────────────────────────────────────────────────────────────────────────────────────────────────────────────────────────────┤\n",
       "│ \u001b[32m2009-01-01                                                                                                                                                                             \u001b[0m │\n",
       "│ \u001b[32m2009-01-01                                                                                                                                                                             \u001b[0m │\n",
       "│ \u001b[32m2009-01-01                                                                                                                                                                             \u001b[0m │\n",
       "│ \u001b[32m2009-01-01                                                                                                                                                                             \u001b[0m │\n",
       "│ \u001b[32m2009-01-01                                                                                                                                                                             \u001b[0m │\n",
       "│ \u001b[32m2009-01-01                                                                                                                                                                             \u001b[0m │\n",
       "│ \u001b[32m2009-01-01                                                                                                                                                                             \u001b[0m │\n",
       "│ \u001b[32m2009-01-01                                                                                                                                                                             \u001b[0m │\n",
       "│ \u001b[32m2009-01-01                                                                                                                                                                             \u001b[0m │\n",
       "│ \u001b[32m2009-01-01                                                                                                                                                                             \u001b[0m │\n",
       "│ \u001b[2m…\u001b[0m                                                                                                                                                                                       │\n",
       "└─────────────────────────────────────────────────────────────────────────────────────────────────────────────────────────────────────────────────────────────────────────────────────────┘"
      ]
     },
     "execution_count": 57,
     "metadata": {},
     "output_type": "execute_result"
    }
   ],
   "source": [
    "date_column_as_date"
   ]
  },
  {
   "cell_type": "code",
   "execution_count": 11,
   "metadata": {},
   "outputs": [],
   "source": [
    "t = t.mutate(\n",
    "    point = t.longitude.point(t.latitude),\n",
    "    date=date_column_as_date\n",
    "    )"
   ]
  },
  {
   "cell_type": "code",
   "execution_count": 13,
   "metadata": {},
   "outputs": [
    {
     "data": {
      "text/html": [
       "<pre style=\"white-space:pre;overflow-x:auto;line-height:normal;font-family:Menlo,'DejaVu Sans Mono',consolas,'Courier New',monospace\">┏━━━━━━━━━━━━━┳━━━━━━━━┳━━━━━━━━━┳━━━━━━━━━┳━━━━━━━━━━━━━━━━━━━━━┳━━━━━━━━━━━┳━━━━━━━━━━━┳━━━━━━━━━━━━━━━━━━━━━━━━━━┳━━━━━━━━━━━┳━━━━━━━━━━━━━━┳━━━━━━━━━━━┳━━━━━━━━━━━┳━━━━━━━━┳━━━━━━━━━━━┳━━━━━━━━┳━━━━━━━━┳━━━━━━━━━━━━━━━━━━━━━━━━━━━━━━━━━━━━━━━━━━━━━━━━━━━━━━━━━━━━━━━━━━━━━━━━━━━━━━━━━━┓\n",
       "┃<span style=\"font-weight: bold\"> GID_3       </span>┃<span style=\"font-weight: bold\"> GID_0  </span>┃<span style=\"font-weight: bold\"> COUNTRY </span>┃<span style=\"font-weight: bold\"> GID_1   </span>┃<span style=\"font-weight: bold\"> NAME_1              </span>┃<span style=\"font-weight: bold\"> NL_NAME_1 </span>┃<span style=\"font-weight: bold\"> GID_2     </span>┃<span style=\"font-weight: bold\"> NAME_2                   </span>┃<span style=\"font-weight: bold\"> NL_NAME_2 </span>┃<span style=\"font-weight: bold\"> NAME_3       </span>┃<span style=\"font-weight: bold\"> VARNAME_3 </span>┃<span style=\"font-weight: bold\"> NL_NAME_3 </span>┃<span style=\"font-weight: bold\"> TYPE_3 </span>┃<span style=\"font-weight: bold\"> ENGTYPE_3 </span>┃<span style=\"font-weight: bold\"> CC_3   </span>┃<span style=\"font-weight: bold\"> HASC_3 </span>┃<span style=\"font-weight: bold\"> geometry                                                                         </span>┃\n",
       "┡━━━━━━━━━━━━━╇━━━━━━━━╇━━━━━━━━━╇━━━━━━━━━╇━━━━━━━━━━━━━━━━━━━━━╇━━━━━━━━━━━╇━━━━━━━━━━━╇━━━━━━━━━━━━━━━━━━━━━━━━━━╇━━━━━━━━━━━╇━━━━━━━━━━━━━━╇━━━━━━━━━━━╇━━━━━━━━━━━╇━━━━━━━━╇━━━━━━━━━━━╇━━━━━━━━╇━━━━━━━━╇━━━━━━━━━━━━━━━━━━━━━━━━━━━━━━━━━━━━━━━━━━━━━━━━━━━━━━━━━━━━━━━━━━━━━━━━━━━━━━━━━━┩\n",
       "│ <span style=\"color: #7f7f7f; text-decoration-color: #7f7f7f\">string</span>      │ <span style=\"color: #7f7f7f; text-decoration-color: #7f7f7f\">string</span> │ <span style=\"color: #7f7f7f; text-decoration-color: #7f7f7f\">string</span>  │ <span style=\"color: #7f7f7f; text-decoration-color: #7f7f7f\">string</span>  │ <span style=\"color: #7f7f7f; text-decoration-color: #7f7f7f\">string</span>              │ <span style=\"color: #7f7f7f; text-decoration-color: #7f7f7f\">string</span>    │ <span style=\"color: #7f7f7f; text-decoration-color: #7f7f7f\">string</span>    │ <span style=\"color: #7f7f7f; text-decoration-color: #7f7f7f\">string</span>                   │ <span style=\"color: #7f7f7f; text-decoration-color: #7f7f7f\">string</span>    │ <span style=\"color: #7f7f7f; text-decoration-color: #7f7f7f\">string</span>       │ <span style=\"color: #7f7f7f; text-decoration-color: #7f7f7f\">string</span>    │ <span style=\"color: #7f7f7f; text-decoration-color: #7f7f7f\">string</span>    │ <span style=\"color: #7f7f7f; text-decoration-color: #7f7f7f\">string</span> │ <span style=\"color: #7f7f7f; text-decoration-color: #7f7f7f\">string</span>    │ <span style=\"color: #7f7f7f; text-decoration-color: #7f7f7f\">string</span> │ <span style=\"color: #7f7f7f; text-decoration-color: #7f7f7f\">string</span> │ <span style=\"color: #7f7f7f; text-decoration-color: #7f7f7f\">geospatial:geometry</span>                                                              │\n",
       "├─────────────┼────────┼─────────┼─────────┼─────────────────────┼───────────┼───────────┼──────────────────────────┼───────────┼──────────────┼───────────┼───────────┼────────┼───────────┼────────┼────────┼──────────────────────────────────────────────────────────────────────────────────┤\n",
       "│ <span style=\"color: #008000; text-decoration-color: #008000\">IND.1.1.1_1</span> │ <span style=\"color: #008000; text-decoration-color: #008000\">IND   </span> │ <span style=\"color: #008000; text-decoration-color: #008000\">India  </span> │ <span style=\"color: #008000; text-decoration-color: #008000\">IND.1_1</span> │ <span style=\"color: #008000; text-decoration-color: #008000\">Andaman and Nicobar</span> │ <span style=\"color: #008000; text-decoration-color: #008000\">NA       </span> │ <span style=\"color: #008000; text-decoration-color: #008000\">IND.1.1_1</span> │ <span style=\"color: #008000; text-decoration-color: #008000\">Nicobar Islands         </span> │ <span style=\"color: #008000; text-decoration-color: #008000\">NA       </span> │ <span style=\"color: #008000; text-decoration-color: #008000\">n.a. ( 2304)</span> │ <span style=\"color: #008000; text-decoration-color: #008000\">NA       </span> │ <span style=\"color: #008000; text-decoration-color: #008000\">NA       </span> │ <span style=\"color: #008000; text-decoration-color: #008000\">Taluk </span> │ <span style=\"color: #008000; text-decoration-color: #008000\">Taluk    </span> │ <span style=\"color: #008000; text-decoration-color: #008000\">NA    </span> │ <span style=\"color: #008000; text-decoration-color: #008000\">NA    </span> │ <span style=\"font-weight: bold\">&lt;</span><span style=\"color: #ff00ff; text-decoration-color: #ff00ff; font-weight: bold\">MULTIPOLYGON</span><span style=\"color: #000000; text-decoration-color: #000000\"> </span><span style=\"color: #000000; text-decoration-color: #000000; font-weight: bold\">(((</span><span style=\"color: #008080; text-decoration-color: #008080; font-weight: bold\">93.79</span><span style=\"color: #000000; text-decoration-color: #000000\"> </span><span style=\"color: #008080; text-decoration-color: #008080; font-weight: bold\">6.852</span><span style=\"color: #000000; text-decoration-color: #000000\">, </span><span style=\"color: #008080; text-decoration-color: #008080; font-weight: bold\">93.79</span><span style=\"color: #000000; text-decoration-color: #000000\"> </span><span style=\"color: #008080; text-decoration-color: #008080; font-weight: bold\">6.852</span><span style=\"color: #000000; text-decoration-color: #000000\">, </span><span style=\"color: #008080; text-decoration-color: #008080; font-weight: bold\">93.791</span><span style=\"color: #000000; text-decoration-color: #000000\"> </span><span style=\"color: #008080; text-decoration-color: #008080; font-weight: bold\">6.852</span><span style=\"color: #000000; text-decoration-color: #000000\">, </span><span style=\"color: #008080; text-decoration-color: #008080; font-weight: bold\">93.791</span><span style=\"color: #000000; text-decoration-color: #000000\"> </span><span style=\"color: #008080; text-decoration-color: #008080; font-weight: bold\">6.851</span><span style=\"color: #000000; text-decoration-color: #000000\">, </span><span style=\"color: #008080; text-decoration-color: #008080; font-weight: bold\">93.79</span><span style=\"color: #808000; text-decoration-color: #808000\">...</span><span style=\"font-weight: bold\">&gt;</span> │\n",
       "│ <span style=\"color: #008000; text-decoration-color: #008000\">IND.1.2.1_1</span> │ <span style=\"color: #008000; text-decoration-color: #008000\">IND   </span> │ <span style=\"color: #008000; text-decoration-color: #008000\">India  </span> │ <span style=\"color: #008000; text-decoration-color: #008000\">IND.1_1</span> │ <span style=\"color: #008000; text-decoration-color: #008000\">Andaman and Nicobar</span> │ <span style=\"color: #008000; text-decoration-color: #008000\">NA       </span> │ <span style=\"color: #008000; text-decoration-color: #008000\">IND.1.2_1</span> │ <span style=\"color: #008000; text-decoration-color: #008000\">North and Middle Andaman</span> │ <span style=\"color: #008000; text-decoration-color: #008000\">NA       </span> │ <span style=\"color: #008000; text-decoration-color: #008000\">n.a. ( 2178)</span> │ <span style=\"color: #008000; text-decoration-color: #008000\">NA       </span> │ <span style=\"color: #008000; text-decoration-color: #008000\">NA       </span> │ <span style=\"color: #008000; text-decoration-color: #008000\">Taluk </span> │ <span style=\"color: #008000; text-decoration-color: #008000\">Taluk    </span> │ <span style=\"color: #008000; text-decoration-color: #008000\">NA    </span> │ <span style=\"color: #008000; text-decoration-color: #008000\">NA    </span> │ <span style=\"font-weight: bold\">&lt;</span><span style=\"color: #ff00ff; text-decoration-color: #ff00ff; font-weight: bold\">MULTIPOLYGON</span><span style=\"color: #000000; text-decoration-color: #000000\"> </span><span style=\"color: #000000; text-decoration-color: #000000; font-weight: bold\">(((</span><span style=\"color: #008080; text-decoration-color: #008080; font-weight: bold\">92.844</span><span style=\"color: #000000; text-decoration-color: #000000\"> </span><span style=\"color: #008080; text-decoration-color: #008080; font-weight: bold\">12.15</span><span style=\"color: #000000; text-decoration-color: #000000\">, </span><span style=\"color: #008080; text-decoration-color: #008080; font-weight: bold\">92.845</span><span style=\"color: #000000; text-decoration-color: #000000\"> </span><span style=\"color: #008080; text-decoration-color: #008080; font-weight: bold\">12.15</span><span style=\"color: #000000; text-decoration-color: #000000\">, </span><span style=\"color: #008080; text-decoration-color: #008080; font-weight: bold\">92.845</span><span style=\"color: #000000; text-decoration-color: #000000\"> </span><span style=\"color: #008080; text-decoration-color: #008080; font-weight: bold\">12.15</span><span style=\"color: #000000; text-decoration-color: #000000\">, </span><span style=\"color: #008080; text-decoration-color: #008080; font-weight: bold\">92.845</span><span style=\"color: #000000; text-decoration-color: #000000\"> </span><span style=\"color: #008080; text-decoration-color: #008080; font-weight: bold\">12.15</span><span style=\"color: #000000; text-decoration-color: #000000\">, </span><span style=\"color: #008080; text-decoration-color: #008080; font-weight: bold\">92</span><span style=\"color: #808000; text-decoration-color: #808000\">...</span><span style=\"color: #000000; text-decoration-color: #000000\">.</span><span style=\"font-weight: bold\">&gt;</span> │\n",
       "│ <span style=\"color: #008000; text-decoration-color: #008000\">IND.1.3.1_1</span> │ <span style=\"color: #008000; text-decoration-color: #008000\">IND   </span> │ <span style=\"color: #008000; text-decoration-color: #008000\">India  </span> │ <span style=\"color: #008000; text-decoration-color: #008000\">IND.1_1</span> │ <span style=\"color: #008000; text-decoration-color: #008000\">Andaman and Nicobar</span> │ <span style=\"color: #008000; text-decoration-color: #008000\">NA       </span> │ <span style=\"color: #008000; text-decoration-color: #008000\">IND.1.3_1</span> │ <span style=\"color: #008000; text-decoration-color: #008000\">South Andaman           </span> │ <span style=\"color: #008000; text-decoration-color: #008000\">NA       </span> │ <span style=\"color: #008000; text-decoration-color: #008000\">n.a. ( 2178)</span> │ <span style=\"color: #008000; text-decoration-color: #008000\">NA       </span> │ <span style=\"color: #008000; text-decoration-color: #008000\">NA       </span> │ <span style=\"color: #008000; text-decoration-color: #008000\">Taluk </span> │ <span style=\"color: #008000; text-decoration-color: #008000\">Taluk    </span> │ <span style=\"color: #008000; text-decoration-color: #008000\">NA    </span> │ <span style=\"color: #008000; text-decoration-color: #008000\">NA    </span> │ <span style=\"font-weight: bold\">&lt;</span><span style=\"color: #ff00ff; text-decoration-color: #ff00ff; font-weight: bold\">MULTIPOLYGON</span><span style=\"color: #000000; text-decoration-color: #000000\"> </span><span style=\"color: #000000; text-decoration-color: #000000; font-weight: bold\">(((</span><span style=\"color: #008080; text-decoration-color: #008080; font-weight: bold\">92.521</span><span style=\"color: #000000; text-decoration-color: #000000\"> </span><span style=\"color: #008080; text-decoration-color: #008080; font-weight: bold\">10.897</span><span style=\"color: #000000; text-decoration-color: #000000\">, </span><span style=\"color: #008080; text-decoration-color: #008080; font-weight: bold\">92.523</span><span style=\"color: #000000; text-decoration-color: #000000\"> </span><span style=\"color: #008080; text-decoration-color: #008080; font-weight: bold\">10.895</span><span style=\"color: #000000; text-decoration-color: #000000\">, </span><span style=\"color: #008080; text-decoration-color: #008080; font-weight: bold\">92.523</span><span style=\"color: #000000; text-decoration-color: #000000\"> </span><span style=\"color: #008080; text-decoration-color: #008080; font-weight: bold\">10.895</span><span style=\"color: #000000; text-decoration-color: #000000\">, </span><span style=\"color: #008080; text-decoration-color: #008080; font-weight: bold\">92.526</span><span style=\"color: #000000; text-decoration-color: #000000\"> </span><span style=\"color: #008080; text-decoration-color: #008080; font-weight: bold\">10.891</span><span style=\"color: #000000; text-decoration-color: #000000\">,</span><span style=\"color: #808000; text-decoration-color: #808000\">...</span><span style=\"font-weight: bold\">&gt;</span> │\n",
       "│ <span style=\"color: #008000; text-decoration-color: #008000\">IND.2.1.1_1</span> │ <span style=\"color: #008000; text-decoration-color: #008000\">IND   </span> │ <span style=\"color: #008000; text-decoration-color: #008000\">India  </span> │ <span style=\"color: #008000; text-decoration-color: #008000\">IND.2_1</span> │ <span style=\"color: #008000; text-decoration-color: #008000\">Andhra Pradesh     </span> │ <span style=\"color: #008000; text-decoration-color: #008000\">NA       </span> │ <span style=\"color: #008000; text-decoration-color: #008000\">IND.2.1_1</span> │ <span style=\"color: #008000; text-decoration-color: #008000\">Anantapur               </span> │ <span style=\"color: #008000; text-decoration-color: #008000\">NA       </span> │ <span style=\"color: #008000; text-decoration-color: #008000\">Anantapur   </span> │ <span style=\"color: #008000; text-decoration-color: #008000\">NA       </span> │ <span style=\"color: #008000; text-decoration-color: #008000\">NA       </span> │ <span style=\"color: #008000; text-decoration-color: #008000\">Taluk </span> │ <span style=\"color: #008000; text-decoration-color: #008000\">Taluk    </span> │ <span style=\"color: #008000; text-decoration-color: #008000\">NA    </span> │ <span style=\"color: #008000; text-decoration-color: #008000\">NA    </span> │ <span style=\"font-weight: bold\">&lt;</span><span style=\"color: #ff00ff; text-decoration-color: #ff00ff; font-weight: bold\">MULTIPOLYGON</span><span style=\"color: #000000; text-decoration-color: #000000\"> </span><span style=\"color: #000000; text-decoration-color: #000000; font-weight: bold\">(((</span><span style=\"color: #008080; text-decoration-color: #008080; font-weight: bold\">77.845</span><span style=\"color: #000000; text-decoration-color: #000000\"> </span><span style=\"color: #008080; text-decoration-color: #008080; font-weight: bold\">14.586</span><span style=\"color: #000000; text-decoration-color: #000000\">, </span><span style=\"color: #008080; text-decoration-color: #008080; font-weight: bold\">77.839</span><span style=\"color: #000000; text-decoration-color: #000000\"> </span><span style=\"color: #008080; text-decoration-color: #008080; font-weight: bold\">14.588</span><span style=\"color: #000000; text-decoration-color: #000000\">, </span><span style=\"color: #008080; text-decoration-color: #008080; font-weight: bold\">77.836</span><span style=\"color: #000000; text-decoration-color: #000000\"> </span><span style=\"color: #008080; text-decoration-color: #008080; font-weight: bold\">14.589</span><span style=\"color: #000000; text-decoration-color: #000000\">, </span><span style=\"color: #008080; text-decoration-color: #008080; font-weight: bold\">77.83</span><span style=\"color: #000000; text-decoration-color: #000000\"> </span><span style=\"color: #008080; text-decoration-color: #008080; font-weight: bold\">14.591</span><span style=\"color: #000000; text-decoration-color: #000000\">, </span><span style=\"color: #808000; text-decoration-color: #808000\">...</span><span style=\"font-weight: bold\">&gt;</span> │\n",
       "│ <span style=\"color: #008000; text-decoration-color: #008000\">IND.2.1.2_1</span> │ <span style=\"color: #008000; text-decoration-color: #008000\">IND   </span> │ <span style=\"color: #008000; text-decoration-color: #008000\">India  </span> │ <span style=\"color: #008000; text-decoration-color: #008000\">IND.2_1</span> │ <span style=\"color: #008000; text-decoration-color: #008000\">Andhra Pradesh     </span> │ <span style=\"color: #008000; text-decoration-color: #008000\">NA       </span> │ <span style=\"color: #008000; text-decoration-color: #008000\">IND.2.1_1</span> │ <span style=\"color: #008000; text-decoration-color: #008000\">Anantapur               </span> │ <span style=\"color: #008000; text-decoration-color: #008000\">NA       </span> │ <span style=\"color: #008000; text-decoration-color: #008000\">Dharmavaram </span> │ <span style=\"color: #008000; text-decoration-color: #008000\">NA       </span> │ <span style=\"color: #008000; text-decoration-color: #008000\">NA       </span> │ <span style=\"color: #008000; text-decoration-color: #008000\">Taluk </span> │ <span style=\"color: #008000; text-decoration-color: #008000\">Taluk    </span> │ <span style=\"color: #008000; text-decoration-color: #008000\">NA    </span> │ <span style=\"color: #008000; text-decoration-color: #008000\">NA    </span> │ <span style=\"font-weight: bold\">&lt;</span><span style=\"color: #ff00ff; text-decoration-color: #ff00ff; font-weight: bold\">MULTIPOLYGON</span><span style=\"color: #000000; text-decoration-color: #000000\"> </span><span style=\"color: #000000; text-decoration-color: #000000; font-weight: bold\">(((</span><span style=\"color: #008080; text-decoration-color: #008080; font-weight: bold\">77.355</span><span style=\"color: #000000; text-decoration-color: #000000\"> </span><span style=\"color: #008080; text-decoration-color: #008080; font-weight: bold\">14.522</span><span style=\"color: #000000; text-decoration-color: #000000\">, </span><span style=\"color: #008080; text-decoration-color: #008080; font-weight: bold\">77.355</span><span style=\"color: #000000; text-decoration-color: #000000\"> </span><span style=\"color: #008080; text-decoration-color: #008080; font-weight: bold\">14.533</span><span style=\"color: #000000; text-decoration-color: #000000\">, </span><span style=\"color: #008080; text-decoration-color: #008080; font-weight: bold\">77.375</span><span style=\"color: #000000; text-decoration-color: #000000\"> </span><span style=\"color: #008080; text-decoration-color: #008080; font-weight: bold\">14.536</span><span style=\"color: #000000; text-decoration-color: #000000\">, </span><span style=\"color: #008080; text-decoration-color: #008080; font-weight: bold\">77.388</span><span style=\"color: #000000; text-decoration-color: #000000\"> </span><span style=\"color: #008080; text-decoration-color: #008080; font-weight: bold\">14.545</span><span style=\"color: #000000; text-decoration-color: #000000\">,</span><span style=\"color: #808000; text-decoration-color: #808000\">...</span><span style=\"font-weight: bold\">&gt;</span> │\n",
       "│ <span style=\"color: #008000; text-decoration-color: #008000\">IND.2.1.3_1</span> │ <span style=\"color: #008000; text-decoration-color: #008000\">IND   </span> │ <span style=\"color: #008000; text-decoration-color: #008000\">India  </span> │ <span style=\"color: #008000; text-decoration-color: #008000\">IND.2_1</span> │ <span style=\"color: #008000; text-decoration-color: #008000\">Andhra Pradesh     </span> │ <span style=\"color: #008000; text-decoration-color: #008000\">NA       </span> │ <span style=\"color: #008000; text-decoration-color: #008000\">IND.2.1_1</span> │ <span style=\"color: #008000; text-decoration-color: #008000\">Anantapur               </span> │ <span style=\"color: #008000; text-decoration-color: #008000\">NA       </span> │ <span style=\"color: #008000; text-decoration-color: #008000\">Gooty       </span> │ <span style=\"color: #008000; text-decoration-color: #008000\">NA       </span> │ <span style=\"color: #008000; text-decoration-color: #008000\">NA       </span> │ <span style=\"color: #008000; text-decoration-color: #008000\">Taluk </span> │ <span style=\"color: #008000; text-decoration-color: #008000\">Taluk    </span> │ <span style=\"color: #008000; text-decoration-color: #008000\">NA    </span> │ <span style=\"color: #008000; text-decoration-color: #008000\">NA    </span> │ <span style=\"font-weight: bold\">&lt;</span><span style=\"color: #ff00ff; text-decoration-color: #ff00ff; font-weight: bold\">MULTIPOLYGON</span><span style=\"color: #000000; text-decoration-color: #000000\"> </span><span style=\"color: #000000; text-decoration-color: #000000; font-weight: bold\">(((</span><span style=\"color: #008080; text-decoration-color: #008080; font-weight: bold\">77.754</span><span style=\"color: #000000; text-decoration-color: #000000\"> </span><span style=\"color: #008080; text-decoration-color: #008080; font-weight: bold\">14.889</span><span style=\"color: #000000; text-decoration-color: #000000\">, </span><span style=\"color: #008080; text-decoration-color: #008080; font-weight: bold\">77.742</span><span style=\"color: #000000; text-decoration-color: #000000\"> </span><span style=\"color: #008080; text-decoration-color: #008080; font-weight: bold\">14.893</span><span style=\"color: #000000; text-decoration-color: #000000\">, </span><span style=\"color: #008080; text-decoration-color: #008080; font-weight: bold\">77.719</span><span style=\"color: #000000; text-decoration-color: #000000\"> </span><span style=\"color: #008080; text-decoration-color: #008080; font-weight: bold\">14.904</span><span style=\"color: #000000; text-decoration-color: #000000\">, </span><span style=\"color: #008080; text-decoration-color: #008080; font-weight: bold\">77.714</span><span style=\"color: #000000; text-decoration-color: #000000\"> </span><span style=\"color: #008080; text-decoration-color: #008080; font-weight: bold\">14.91</span><span style=\"color: #000000; text-decoration-color: #000000\">, </span><span style=\"color: #808000; text-decoration-color: #808000\">...</span><span style=\"font-weight: bold\">&gt;</span> │\n",
       "│ <span style=\"color: #008000; text-decoration-color: #008000\">IND.2.1.4_1</span> │ <span style=\"color: #008000; text-decoration-color: #008000\">IND   </span> │ <span style=\"color: #008000; text-decoration-color: #008000\">India  </span> │ <span style=\"color: #008000; text-decoration-color: #008000\">IND.2_1</span> │ <span style=\"color: #008000; text-decoration-color: #008000\">Andhra Pradesh     </span> │ <span style=\"color: #008000; text-decoration-color: #008000\">NA       </span> │ <span style=\"color: #008000; text-decoration-color: #008000\">IND.2.1_1</span> │ <span style=\"color: #008000; text-decoration-color: #008000\">Anantapur               </span> │ <span style=\"color: #008000; text-decoration-color: #008000\">NA       </span> │ <span style=\"color: #008000; text-decoration-color: #008000\">Hindupur    </span> │ <span style=\"color: #008000; text-decoration-color: #008000\">NA       </span> │ <span style=\"color: #008000; text-decoration-color: #008000\">NA       </span> │ <span style=\"color: #008000; text-decoration-color: #008000\">Taluk </span> │ <span style=\"color: #008000; text-decoration-color: #008000\">Taluk    </span> │ <span style=\"color: #008000; text-decoration-color: #008000\">NA    </span> │ <span style=\"color: #008000; text-decoration-color: #008000\">NA    </span> │ <span style=\"font-weight: bold\">&lt;</span><span style=\"color: #ff00ff; text-decoration-color: #ff00ff; font-weight: bold\">MULTIPOLYGON</span><span style=\"color: #000000; text-decoration-color: #000000\"> </span><span style=\"color: #000000; text-decoration-color: #000000; font-weight: bold\">(((</span><span style=\"color: #008080; text-decoration-color: #008080; font-weight: bold\">77.904</span><span style=\"color: #000000; text-decoration-color: #000000\"> </span><span style=\"color: #008080; text-decoration-color: #008080; font-weight: bold\">14.024</span><span style=\"color: #000000; text-decoration-color: #000000\">, </span><span style=\"color: #008080; text-decoration-color: #008080; font-weight: bold\">77.899</span><span style=\"color: #000000; text-decoration-color: #000000\"> </span><span style=\"color: #008080; text-decoration-color: #008080; font-weight: bold\">14.012</span><span style=\"color: #000000; text-decoration-color: #000000\">, </span><span style=\"color: #008080; text-decoration-color: #008080; font-weight: bold\">77.899</span><span style=\"color: #000000; text-decoration-color: #000000\"> </span><span style=\"color: #008080; text-decoration-color: #008080; font-weight: bold\">14.006</span><span style=\"color: #000000; text-decoration-color: #000000\">, </span><span style=\"color: #008080; text-decoration-color: #008080; font-weight: bold\">77.897</span><span style=\"color: #000000; text-decoration-color: #000000\"> </span><span style=\"color: #008080; text-decoration-color: #008080; font-weight: bold\">14.003</span><span style=\"color: #000000; text-decoration-color: #000000\">,</span><span style=\"color: #808000; text-decoration-color: #808000\">...</span><span style=\"font-weight: bold\">&gt;</span> │\n",
       "│ <span style=\"color: #008000; text-decoration-color: #008000\">IND.2.1.5_1</span> │ <span style=\"color: #008000; text-decoration-color: #008000\">IND   </span> │ <span style=\"color: #008000; text-decoration-color: #008000\">India  </span> │ <span style=\"color: #008000; text-decoration-color: #008000\">IND.2_1</span> │ <span style=\"color: #008000; text-decoration-color: #008000\">Andhra Pradesh     </span> │ <span style=\"color: #008000; text-decoration-color: #008000\">NA       </span> │ <span style=\"color: #008000; text-decoration-color: #008000\">IND.2.1_1</span> │ <span style=\"color: #008000; text-decoration-color: #008000\">Anantapur               </span> │ <span style=\"color: #008000; text-decoration-color: #008000\">NA       </span> │ <span style=\"color: #008000; text-decoration-color: #008000\">Kadiri      </span> │ <span style=\"color: #008000; text-decoration-color: #008000\">NA       </span> │ <span style=\"color: #008000; text-decoration-color: #008000\">NA       </span> │ <span style=\"color: #008000; text-decoration-color: #008000\">Taluk </span> │ <span style=\"color: #008000; text-decoration-color: #008000\">Taluk    </span> │ <span style=\"color: #008000; text-decoration-color: #008000\">NA    </span> │ <span style=\"color: #008000; text-decoration-color: #008000\">NA    </span> │ <span style=\"font-weight: bold\">&lt;</span><span style=\"color: #ff00ff; text-decoration-color: #ff00ff; font-weight: bold\">MULTIPOLYGON</span><span style=\"color: #000000; text-decoration-color: #000000\"> </span><span style=\"color: #000000; text-decoration-color: #000000; font-weight: bold\">(((</span><span style=\"color: #008080; text-decoration-color: #008080; font-weight: bold\">77.86</span><span style=\"color: #000000; text-decoration-color: #000000\"> </span><span style=\"color: #008080; text-decoration-color: #008080; font-weight: bold\">14.35</span><span style=\"color: #000000; text-decoration-color: #000000\">, </span><span style=\"color: #008080; text-decoration-color: #008080; font-weight: bold\">77.86</span><span style=\"color: #000000; text-decoration-color: #000000\"> </span><span style=\"color: #008080; text-decoration-color: #008080; font-weight: bold\">14.356</span><span style=\"color: #000000; text-decoration-color: #000000\">, </span><span style=\"color: #008080; text-decoration-color: #008080; font-weight: bold\">77.857</span><span style=\"color: #000000; text-decoration-color: #000000\"> </span><span style=\"color: #008080; text-decoration-color: #008080; font-weight: bold\">14.364</span><span style=\"color: #000000; text-decoration-color: #000000\">, </span><span style=\"color: #008080; text-decoration-color: #008080; font-weight: bold\">77.857</span><span style=\"color: #000000; text-decoration-color: #000000\"> </span><span style=\"color: #008080; text-decoration-color: #008080; font-weight: bold\">14.367</span><span style=\"color: #000000; text-decoration-color: #000000\">, </span><span style=\"color: #008080; text-decoration-color: #008080; font-weight: bold\">77</span><span style=\"color: #808000; text-decoration-color: #808000\">...</span><span style=\"font-weight: bold\">&gt;</span> │\n",
       "│ <span style=\"color: #008000; text-decoration-color: #008000\">IND.2.1.6_1</span> │ <span style=\"color: #008000; text-decoration-color: #008000\">IND   </span> │ <span style=\"color: #008000; text-decoration-color: #008000\">India  </span> │ <span style=\"color: #008000; text-decoration-color: #008000\">IND.2_1</span> │ <span style=\"color: #008000; text-decoration-color: #008000\">Andhra Pradesh     </span> │ <span style=\"color: #008000; text-decoration-color: #008000\">NA       </span> │ <span style=\"color: #008000; text-decoration-color: #008000\">IND.2.1_1</span> │ <span style=\"color: #008000; text-decoration-color: #008000\">Anantapur               </span> │ <span style=\"color: #008000; text-decoration-color: #008000\">NA       </span> │ <span style=\"color: #008000; text-decoration-color: #008000\">Kalyandurg  </span> │ <span style=\"color: #008000; text-decoration-color: #008000\">NA       </span> │ <span style=\"color: #008000; text-decoration-color: #008000\">NA       </span> │ <span style=\"color: #008000; text-decoration-color: #008000\">Taluk </span> │ <span style=\"color: #008000; text-decoration-color: #008000\">Taluk    </span> │ <span style=\"color: #008000; text-decoration-color: #008000\">NA    </span> │ <span style=\"color: #008000; text-decoration-color: #008000\">NA    </span> │ <span style=\"font-weight: bold\">&lt;</span><span style=\"color: #ff00ff; text-decoration-color: #ff00ff; font-weight: bold\">MULTIPOLYGON</span><span style=\"color: #000000; text-decoration-color: #000000\"> </span><span style=\"color: #000000; text-decoration-color: #000000; font-weight: bold\">(((</span><span style=\"color: #008080; text-decoration-color: #008080; font-weight: bold\">77.283</span><span style=\"color: #000000; text-decoration-color: #000000\"> </span><span style=\"color: #008080; text-decoration-color: #008080; font-weight: bold\">14.734</span><span style=\"color: #000000; text-decoration-color: #000000\">, </span><span style=\"color: #008080; text-decoration-color: #008080; font-weight: bold\">77.289</span><span style=\"color: #000000; text-decoration-color: #000000\"> </span><span style=\"color: #008080; text-decoration-color: #008080; font-weight: bold\">14.729</span><span style=\"color: #000000; text-decoration-color: #000000\">, </span><span style=\"color: #008080; text-decoration-color: #008080; font-weight: bold\">77.286</span><span style=\"color: #000000; text-decoration-color: #000000\"> </span><span style=\"color: #008080; text-decoration-color: #008080; font-weight: bold\">14.726</span><span style=\"color: #000000; text-decoration-color: #000000\">, </span><span style=\"color: #008080; text-decoration-color: #008080; font-weight: bold\">77.286</span><span style=\"color: #000000; text-decoration-color: #000000\"> </span><span style=\"color: #008080; text-decoration-color: #008080; font-weight: bold\">14.721</span><span style=\"color: #000000; text-decoration-color: #000000\">,</span><span style=\"color: #808000; text-decoration-color: #808000\">...</span><span style=\"font-weight: bold\">&gt;</span> │\n",
       "│ <span style=\"color: #008000; text-decoration-color: #008000\">IND.2.1.7_1</span> │ <span style=\"color: #008000; text-decoration-color: #008000\">IND   </span> │ <span style=\"color: #008000; text-decoration-color: #008000\">India  </span> │ <span style=\"color: #008000; text-decoration-color: #008000\">IND.2_1</span> │ <span style=\"color: #008000; text-decoration-color: #008000\">Andhra Pradesh     </span> │ <span style=\"color: #008000; text-decoration-color: #008000\">NA       </span> │ <span style=\"color: #008000; text-decoration-color: #008000\">IND.2.1_1</span> │ <span style=\"color: #008000; text-decoration-color: #008000\">Anantapur               </span> │ <span style=\"color: #008000; text-decoration-color: #008000\">NA       </span> │ <span style=\"color: #008000; text-decoration-color: #008000\">Madakasira  </span> │ <span style=\"color: #008000; text-decoration-color: #008000\">NA       </span> │ <span style=\"color: #008000; text-decoration-color: #008000\">NA       </span> │ <span style=\"color: #008000; text-decoration-color: #008000\">Taluk </span> │ <span style=\"color: #008000; text-decoration-color: #008000\">Taluk    </span> │ <span style=\"color: #008000; text-decoration-color: #008000\">NA    </span> │ <span style=\"color: #008000; text-decoration-color: #008000\">NA    </span> │ <span style=\"font-weight: bold\">&lt;</span><span style=\"color: #ff00ff; text-decoration-color: #ff00ff; font-weight: bold\">MULTIPOLYGON</span><span style=\"color: #000000; text-decoration-color: #000000\"> </span><span style=\"color: #000000; text-decoration-color: #000000; font-weight: bold\">(((</span><span style=\"color: #008080; text-decoration-color: #008080; font-weight: bold\">77.397</span><span style=\"color: #000000; text-decoration-color: #000000\"> </span><span style=\"color: #008080; text-decoration-color: #008080; font-weight: bold\">13.881</span><span style=\"color: #000000; text-decoration-color: #000000\">, </span><span style=\"color: #008080; text-decoration-color: #008080; font-weight: bold\">77.4</span><span style=\"color: #000000; text-decoration-color: #000000\"> </span><span style=\"color: #008080; text-decoration-color: #008080; font-weight: bold\">13.875</span><span style=\"color: #000000; text-decoration-color: #000000\">, </span><span style=\"color: #008080; text-decoration-color: #008080; font-weight: bold\">77.399</span><span style=\"color: #000000; text-decoration-color: #000000\"> </span><span style=\"color: #008080; text-decoration-color: #008080; font-weight: bold\">13.871</span><span style=\"color: #000000; text-decoration-color: #000000\">, </span><span style=\"color: #008080; text-decoration-color: #008080; font-weight: bold\">77.399</span><span style=\"color: #000000; text-decoration-color: #000000\"> </span><span style=\"color: #008080; text-decoration-color: #008080; font-weight: bold\">13.867</span><span style=\"color: #000000; text-decoration-color: #000000\">, </span><span style=\"color: #008080; text-decoration-color: #008080; font-weight: bold\">7</span><span style=\"color: #808000; text-decoration-color: #808000\">...</span><span style=\"font-weight: bold\">&gt;</span> │\n",
       "│ <span style=\"color: #7f7f7f; text-decoration-color: #7f7f7f\">…</span>           │ <span style=\"color: #7f7f7f; text-decoration-color: #7f7f7f\">…</span>      │ <span style=\"color: #7f7f7f; text-decoration-color: #7f7f7f\">…</span>       │ <span style=\"color: #7f7f7f; text-decoration-color: #7f7f7f\">…</span>       │ <span style=\"color: #7f7f7f; text-decoration-color: #7f7f7f\">…</span>                   │ <span style=\"color: #7f7f7f; text-decoration-color: #7f7f7f\">…</span>         │ <span style=\"color: #7f7f7f; text-decoration-color: #7f7f7f\">…</span>         │ <span style=\"color: #7f7f7f; text-decoration-color: #7f7f7f\">…</span>                        │ <span style=\"color: #7f7f7f; text-decoration-color: #7f7f7f\">…</span>         │ <span style=\"color: #7f7f7f; text-decoration-color: #7f7f7f\">…</span>            │ <span style=\"color: #7f7f7f; text-decoration-color: #7f7f7f\">…</span>         │ <span style=\"color: #7f7f7f; text-decoration-color: #7f7f7f\">…</span>         │ <span style=\"color: #7f7f7f; text-decoration-color: #7f7f7f\">…</span>      │ <span style=\"color: #7f7f7f; text-decoration-color: #7f7f7f\">…</span>         │ <span style=\"color: #7f7f7f; text-decoration-color: #7f7f7f\">…</span>      │ <span style=\"color: #7f7f7f; text-decoration-color: #7f7f7f\">…</span>      │ <span style=\"color: #7f7f7f; text-decoration-color: #7f7f7f\">…</span>                                                                                │\n",
       "└─────────────┴────────┴─────────┴─────────┴─────────────────────┴───────────┴───────────┴──────────────────────────┴───────────┴──────────────┴───────────┴───────────┴────────┴───────────┴────────┴────────┴──────────────────────────────────────────────────────────────────────────────────┘\n",
       "</pre>\n"
      ],
      "text/plain": [
       "┏━━━━━━━━━━━━━┳━━━━━━━━┳━━━━━━━━━┳━━━━━━━━━┳━━━━━━━━━━━━━━━━━━━━━┳━━━━━━━━━━━┳━━━━━━━━━━━┳━━━━━━━━━━━━━━━━━━━━━━━━━━┳━━━━━━━━━━━┳━━━━━━━━━━━━━━┳━━━━━━━━━━━┳━━━━━━━━━━━┳━━━━━━━━┳━━━━━━━━━━━┳━━━━━━━━┳━━━━━━━━┳━━━━━━━━━━━━━━━━━━━━━━━━━━━━━━━━━━━━━━━━━━━━━━━━━━━━━━━━━━━━━━━━━━━━━━━━━━━━━━━━━━┓\n",
       "┃\u001b[1m \u001b[0m\u001b[1mGID_3\u001b[0m\u001b[1m      \u001b[0m\u001b[1m \u001b[0m┃\u001b[1m \u001b[0m\u001b[1mGID_0\u001b[0m\u001b[1m \u001b[0m\u001b[1m \u001b[0m┃\u001b[1m \u001b[0m\u001b[1mCOUNTRY\u001b[0m\u001b[1m \u001b[0m┃\u001b[1m \u001b[0m\u001b[1mGID_1\u001b[0m\u001b[1m  \u001b[0m\u001b[1m \u001b[0m┃\u001b[1m \u001b[0m\u001b[1mNAME_1\u001b[0m\u001b[1m             \u001b[0m\u001b[1m \u001b[0m┃\u001b[1m \u001b[0m\u001b[1mNL_NAME_1\u001b[0m\u001b[1m \u001b[0m┃\u001b[1m \u001b[0m\u001b[1mGID_2\u001b[0m\u001b[1m    \u001b[0m\u001b[1m \u001b[0m┃\u001b[1m \u001b[0m\u001b[1mNAME_2\u001b[0m\u001b[1m                  \u001b[0m\u001b[1m \u001b[0m┃\u001b[1m \u001b[0m\u001b[1mNL_NAME_2\u001b[0m\u001b[1m \u001b[0m┃\u001b[1m \u001b[0m\u001b[1mNAME_3\u001b[0m\u001b[1m      \u001b[0m\u001b[1m \u001b[0m┃\u001b[1m \u001b[0m\u001b[1mVARNAME_3\u001b[0m\u001b[1m \u001b[0m┃\u001b[1m \u001b[0m\u001b[1mNL_NAME_3\u001b[0m\u001b[1m \u001b[0m┃\u001b[1m \u001b[0m\u001b[1mTYPE_3\u001b[0m\u001b[1m \u001b[0m┃\u001b[1m \u001b[0m\u001b[1mENGTYPE_3\u001b[0m\u001b[1m \u001b[0m┃\u001b[1m \u001b[0m\u001b[1mCC_3\u001b[0m\u001b[1m  \u001b[0m\u001b[1m \u001b[0m┃\u001b[1m \u001b[0m\u001b[1mHASC_3\u001b[0m\u001b[1m \u001b[0m┃\u001b[1m \u001b[0m\u001b[1mgeometry\u001b[0m\u001b[1m                                                                        \u001b[0m\u001b[1m \u001b[0m┃\n",
       "┡━━━━━━━━━━━━━╇━━━━━━━━╇━━━━━━━━━╇━━━━━━━━━╇━━━━━━━━━━━━━━━━━━━━━╇━━━━━━━━━━━╇━━━━━━━━━━━╇━━━━━━━━━━━━━━━━━━━━━━━━━━╇━━━━━━━━━━━╇━━━━━━━━━━━━━━╇━━━━━━━━━━━╇━━━━━━━━━━━╇━━━━━━━━╇━━━━━━━━━━━╇━━━━━━━━╇━━━━━━━━╇━━━━━━━━━━━━━━━━━━━━━━━━━━━━━━━━━━━━━━━━━━━━━━━━━━━━━━━━━━━━━━━━━━━━━━━━━━━━━━━━━━┩\n",
       "│ \u001b[2mstring\u001b[0m      │ \u001b[2mstring\u001b[0m │ \u001b[2mstring\u001b[0m  │ \u001b[2mstring\u001b[0m  │ \u001b[2mstring\u001b[0m              │ \u001b[2mstring\u001b[0m    │ \u001b[2mstring\u001b[0m    │ \u001b[2mstring\u001b[0m                   │ \u001b[2mstring\u001b[0m    │ \u001b[2mstring\u001b[0m       │ \u001b[2mstring\u001b[0m    │ \u001b[2mstring\u001b[0m    │ \u001b[2mstring\u001b[0m │ \u001b[2mstring\u001b[0m    │ \u001b[2mstring\u001b[0m │ \u001b[2mstring\u001b[0m │ \u001b[2mgeospatial:geometry\u001b[0m                                                              │\n",
       "├─────────────┼────────┼─────────┼─────────┼─────────────────────┼───────────┼───────────┼──────────────────────────┼───────────┼──────────────┼───────────┼───────────┼────────┼───────────┼────────┼────────┼──────────────────────────────────────────────────────────────────────────────────┤\n",
       "│ \u001b[32mIND.1.1.1_1\u001b[0m │ \u001b[32mIND   \u001b[0m │ \u001b[32mIndia  \u001b[0m │ \u001b[32mIND.1_1\u001b[0m │ \u001b[32mAndaman and Nicobar\u001b[0m │ \u001b[32mNA       \u001b[0m │ \u001b[32mIND.1.1_1\u001b[0m │ \u001b[32mNicobar Islands         \u001b[0m │ \u001b[32mNA       \u001b[0m │ \u001b[32mn.a. ( 2304)\u001b[0m │ \u001b[32mNA       \u001b[0m │ \u001b[32mNA       \u001b[0m │ \u001b[32mTaluk \u001b[0m │ \u001b[32mTaluk    \u001b[0m │ \u001b[32mNA    \u001b[0m │ \u001b[32mNA    \u001b[0m │ \u001b[1m<\u001b[0m\u001b[1;95mMULTIPOLYGON\u001b[0m\u001b[39m \u001b[0m\u001b[1;39m(\u001b[0m\u001b[1;39m(\u001b[0m\u001b[1;39m(\u001b[0m\u001b[1;36m93.79\u001b[0m\u001b[39m \u001b[0m\u001b[1;36m6.852\u001b[0m\u001b[39m, \u001b[0m\u001b[1;36m93.79\u001b[0m\u001b[39m \u001b[0m\u001b[1;36m6.852\u001b[0m\u001b[39m, \u001b[0m\u001b[1;36m93.791\u001b[0m\u001b[39m \u001b[0m\u001b[1;36m6.852\u001b[0m\u001b[39m, \u001b[0m\u001b[1;36m93.791\u001b[0m\u001b[39m \u001b[0m\u001b[1;36m6.851\u001b[0m\u001b[39m, \u001b[0m\u001b[1;36m93.79\u001b[0m\u001b[33m...\u001b[0m\u001b[1m>\u001b[0m │\n",
       "│ \u001b[32mIND.1.2.1_1\u001b[0m │ \u001b[32mIND   \u001b[0m │ \u001b[32mIndia  \u001b[0m │ \u001b[32mIND.1_1\u001b[0m │ \u001b[32mAndaman and Nicobar\u001b[0m │ \u001b[32mNA       \u001b[0m │ \u001b[32mIND.1.2_1\u001b[0m │ \u001b[32mNorth and Middle Andaman\u001b[0m │ \u001b[32mNA       \u001b[0m │ \u001b[32mn.a. ( 2178)\u001b[0m │ \u001b[32mNA       \u001b[0m │ \u001b[32mNA       \u001b[0m │ \u001b[32mTaluk \u001b[0m │ \u001b[32mTaluk    \u001b[0m │ \u001b[32mNA    \u001b[0m │ \u001b[32mNA    \u001b[0m │ \u001b[1m<\u001b[0m\u001b[1;95mMULTIPOLYGON\u001b[0m\u001b[39m \u001b[0m\u001b[1;39m(\u001b[0m\u001b[1;39m(\u001b[0m\u001b[1;39m(\u001b[0m\u001b[1;36m92.844\u001b[0m\u001b[39m \u001b[0m\u001b[1;36m12.15\u001b[0m\u001b[39m, \u001b[0m\u001b[1;36m92.845\u001b[0m\u001b[39m \u001b[0m\u001b[1;36m12.15\u001b[0m\u001b[39m, \u001b[0m\u001b[1;36m92.845\u001b[0m\u001b[39m \u001b[0m\u001b[1;36m12.15\u001b[0m\u001b[39m, \u001b[0m\u001b[1;36m92.845\u001b[0m\u001b[39m \u001b[0m\u001b[1;36m12.15\u001b[0m\u001b[39m, \u001b[0m\u001b[1;36m92\u001b[0m\u001b[33m...\u001b[0m\u001b[39m.\u001b[0m\u001b[1m>\u001b[0m │\n",
       "│ \u001b[32mIND.1.3.1_1\u001b[0m │ \u001b[32mIND   \u001b[0m │ \u001b[32mIndia  \u001b[0m │ \u001b[32mIND.1_1\u001b[0m │ \u001b[32mAndaman and Nicobar\u001b[0m │ \u001b[32mNA       \u001b[0m │ \u001b[32mIND.1.3_1\u001b[0m │ \u001b[32mSouth Andaman           \u001b[0m │ \u001b[32mNA       \u001b[0m │ \u001b[32mn.a. ( 2178)\u001b[0m │ \u001b[32mNA       \u001b[0m │ \u001b[32mNA       \u001b[0m │ \u001b[32mTaluk \u001b[0m │ \u001b[32mTaluk    \u001b[0m │ \u001b[32mNA    \u001b[0m │ \u001b[32mNA    \u001b[0m │ \u001b[1m<\u001b[0m\u001b[1;95mMULTIPOLYGON\u001b[0m\u001b[39m \u001b[0m\u001b[1;39m(\u001b[0m\u001b[1;39m(\u001b[0m\u001b[1;39m(\u001b[0m\u001b[1;36m92.521\u001b[0m\u001b[39m \u001b[0m\u001b[1;36m10.897\u001b[0m\u001b[39m, \u001b[0m\u001b[1;36m92.523\u001b[0m\u001b[39m \u001b[0m\u001b[1;36m10.895\u001b[0m\u001b[39m, \u001b[0m\u001b[1;36m92.523\u001b[0m\u001b[39m \u001b[0m\u001b[1;36m10.895\u001b[0m\u001b[39m, \u001b[0m\u001b[1;36m92.526\u001b[0m\u001b[39m \u001b[0m\u001b[1;36m10.891\u001b[0m\u001b[39m,\u001b[0m\u001b[33m...\u001b[0m\u001b[1m>\u001b[0m │\n",
       "│ \u001b[32mIND.2.1.1_1\u001b[0m │ \u001b[32mIND   \u001b[0m │ \u001b[32mIndia  \u001b[0m │ \u001b[32mIND.2_1\u001b[0m │ \u001b[32mAndhra Pradesh     \u001b[0m │ \u001b[32mNA       \u001b[0m │ \u001b[32mIND.2.1_1\u001b[0m │ \u001b[32mAnantapur               \u001b[0m │ \u001b[32mNA       \u001b[0m │ \u001b[32mAnantapur   \u001b[0m │ \u001b[32mNA       \u001b[0m │ \u001b[32mNA       \u001b[0m │ \u001b[32mTaluk \u001b[0m │ \u001b[32mTaluk    \u001b[0m │ \u001b[32mNA    \u001b[0m │ \u001b[32mNA    \u001b[0m │ \u001b[1m<\u001b[0m\u001b[1;95mMULTIPOLYGON\u001b[0m\u001b[39m \u001b[0m\u001b[1;39m(\u001b[0m\u001b[1;39m(\u001b[0m\u001b[1;39m(\u001b[0m\u001b[1;36m77.845\u001b[0m\u001b[39m \u001b[0m\u001b[1;36m14.586\u001b[0m\u001b[39m, \u001b[0m\u001b[1;36m77.839\u001b[0m\u001b[39m \u001b[0m\u001b[1;36m14.588\u001b[0m\u001b[39m, \u001b[0m\u001b[1;36m77.836\u001b[0m\u001b[39m \u001b[0m\u001b[1;36m14.589\u001b[0m\u001b[39m, \u001b[0m\u001b[1;36m77.83\u001b[0m\u001b[39m \u001b[0m\u001b[1;36m14.591\u001b[0m\u001b[39m, \u001b[0m\u001b[33m...\u001b[0m\u001b[1m>\u001b[0m │\n",
       "│ \u001b[32mIND.2.1.2_1\u001b[0m │ \u001b[32mIND   \u001b[0m │ \u001b[32mIndia  \u001b[0m │ \u001b[32mIND.2_1\u001b[0m │ \u001b[32mAndhra Pradesh     \u001b[0m │ \u001b[32mNA       \u001b[0m │ \u001b[32mIND.2.1_1\u001b[0m │ \u001b[32mAnantapur               \u001b[0m │ \u001b[32mNA       \u001b[0m │ \u001b[32mDharmavaram \u001b[0m │ \u001b[32mNA       \u001b[0m │ \u001b[32mNA       \u001b[0m │ \u001b[32mTaluk \u001b[0m │ \u001b[32mTaluk    \u001b[0m │ \u001b[32mNA    \u001b[0m │ \u001b[32mNA    \u001b[0m │ \u001b[1m<\u001b[0m\u001b[1;95mMULTIPOLYGON\u001b[0m\u001b[39m \u001b[0m\u001b[1;39m(\u001b[0m\u001b[1;39m(\u001b[0m\u001b[1;39m(\u001b[0m\u001b[1;36m77.355\u001b[0m\u001b[39m \u001b[0m\u001b[1;36m14.522\u001b[0m\u001b[39m, \u001b[0m\u001b[1;36m77.355\u001b[0m\u001b[39m \u001b[0m\u001b[1;36m14.533\u001b[0m\u001b[39m, \u001b[0m\u001b[1;36m77.375\u001b[0m\u001b[39m \u001b[0m\u001b[1;36m14.536\u001b[0m\u001b[39m, \u001b[0m\u001b[1;36m77.388\u001b[0m\u001b[39m \u001b[0m\u001b[1;36m14.545\u001b[0m\u001b[39m,\u001b[0m\u001b[33m...\u001b[0m\u001b[1m>\u001b[0m │\n",
       "│ \u001b[32mIND.2.1.3_1\u001b[0m │ \u001b[32mIND   \u001b[0m │ \u001b[32mIndia  \u001b[0m │ \u001b[32mIND.2_1\u001b[0m │ \u001b[32mAndhra Pradesh     \u001b[0m │ \u001b[32mNA       \u001b[0m │ \u001b[32mIND.2.1_1\u001b[0m │ \u001b[32mAnantapur               \u001b[0m │ \u001b[32mNA       \u001b[0m │ \u001b[32mGooty       \u001b[0m │ \u001b[32mNA       \u001b[0m │ \u001b[32mNA       \u001b[0m │ \u001b[32mTaluk \u001b[0m │ \u001b[32mTaluk    \u001b[0m │ \u001b[32mNA    \u001b[0m │ \u001b[32mNA    \u001b[0m │ \u001b[1m<\u001b[0m\u001b[1;95mMULTIPOLYGON\u001b[0m\u001b[39m \u001b[0m\u001b[1;39m(\u001b[0m\u001b[1;39m(\u001b[0m\u001b[1;39m(\u001b[0m\u001b[1;36m77.754\u001b[0m\u001b[39m \u001b[0m\u001b[1;36m14.889\u001b[0m\u001b[39m, \u001b[0m\u001b[1;36m77.742\u001b[0m\u001b[39m \u001b[0m\u001b[1;36m14.893\u001b[0m\u001b[39m, \u001b[0m\u001b[1;36m77.719\u001b[0m\u001b[39m \u001b[0m\u001b[1;36m14.904\u001b[0m\u001b[39m, \u001b[0m\u001b[1;36m77.714\u001b[0m\u001b[39m \u001b[0m\u001b[1;36m14.91\u001b[0m\u001b[39m, \u001b[0m\u001b[33m...\u001b[0m\u001b[1m>\u001b[0m │\n",
       "│ \u001b[32mIND.2.1.4_1\u001b[0m │ \u001b[32mIND   \u001b[0m │ \u001b[32mIndia  \u001b[0m │ \u001b[32mIND.2_1\u001b[0m │ \u001b[32mAndhra Pradesh     \u001b[0m │ \u001b[32mNA       \u001b[0m │ \u001b[32mIND.2.1_1\u001b[0m │ \u001b[32mAnantapur               \u001b[0m │ \u001b[32mNA       \u001b[0m │ \u001b[32mHindupur    \u001b[0m │ \u001b[32mNA       \u001b[0m │ \u001b[32mNA       \u001b[0m │ \u001b[32mTaluk \u001b[0m │ \u001b[32mTaluk    \u001b[0m │ \u001b[32mNA    \u001b[0m │ \u001b[32mNA    \u001b[0m │ \u001b[1m<\u001b[0m\u001b[1;95mMULTIPOLYGON\u001b[0m\u001b[39m \u001b[0m\u001b[1;39m(\u001b[0m\u001b[1;39m(\u001b[0m\u001b[1;39m(\u001b[0m\u001b[1;36m77.904\u001b[0m\u001b[39m \u001b[0m\u001b[1;36m14.024\u001b[0m\u001b[39m, \u001b[0m\u001b[1;36m77.899\u001b[0m\u001b[39m \u001b[0m\u001b[1;36m14.012\u001b[0m\u001b[39m, \u001b[0m\u001b[1;36m77.899\u001b[0m\u001b[39m \u001b[0m\u001b[1;36m14.006\u001b[0m\u001b[39m, \u001b[0m\u001b[1;36m77.897\u001b[0m\u001b[39m \u001b[0m\u001b[1;36m14.003\u001b[0m\u001b[39m,\u001b[0m\u001b[33m...\u001b[0m\u001b[1m>\u001b[0m │\n",
       "│ \u001b[32mIND.2.1.5_1\u001b[0m │ \u001b[32mIND   \u001b[0m │ \u001b[32mIndia  \u001b[0m │ \u001b[32mIND.2_1\u001b[0m │ \u001b[32mAndhra Pradesh     \u001b[0m │ \u001b[32mNA       \u001b[0m │ \u001b[32mIND.2.1_1\u001b[0m │ \u001b[32mAnantapur               \u001b[0m │ \u001b[32mNA       \u001b[0m │ \u001b[32mKadiri      \u001b[0m │ \u001b[32mNA       \u001b[0m │ \u001b[32mNA       \u001b[0m │ \u001b[32mTaluk \u001b[0m │ \u001b[32mTaluk    \u001b[0m │ \u001b[32mNA    \u001b[0m │ \u001b[32mNA    \u001b[0m │ \u001b[1m<\u001b[0m\u001b[1;95mMULTIPOLYGON\u001b[0m\u001b[39m \u001b[0m\u001b[1;39m(\u001b[0m\u001b[1;39m(\u001b[0m\u001b[1;39m(\u001b[0m\u001b[1;36m77.86\u001b[0m\u001b[39m \u001b[0m\u001b[1;36m14.35\u001b[0m\u001b[39m, \u001b[0m\u001b[1;36m77.86\u001b[0m\u001b[39m \u001b[0m\u001b[1;36m14.356\u001b[0m\u001b[39m, \u001b[0m\u001b[1;36m77.857\u001b[0m\u001b[39m \u001b[0m\u001b[1;36m14.364\u001b[0m\u001b[39m, \u001b[0m\u001b[1;36m77.857\u001b[0m\u001b[39m \u001b[0m\u001b[1;36m14.367\u001b[0m\u001b[39m, \u001b[0m\u001b[1;36m77\u001b[0m\u001b[33m...\u001b[0m\u001b[1m>\u001b[0m │\n",
       "│ \u001b[32mIND.2.1.6_1\u001b[0m │ \u001b[32mIND   \u001b[0m │ \u001b[32mIndia  \u001b[0m │ \u001b[32mIND.2_1\u001b[0m │ \u001b[32mAndhra Pradesh     \u001b[0m │ \u001b[32mNA       \u001b[0m │ \u001b[32mIND.2.1_1\u001b[0m │ \u001b[32mAnantapur               \u001b[0m │ \u001b[32mNA       \u001b[0m │ \u001b[32mKalyandurg  \u001b[0m │ \u001b[32mNA       \u001b[0m │ \u001b[32mNA       \u001b[0m │ \u001b[32mTaluk \u001b[0m │ \u001b[32mTaluk    \u001b[0m │ \u001b[32mNA    \u001b[0m │ \u001b[32mNA    \u001b[0m │ \u001b[1m<\u001b[0m\u001b[1;95mMULTIPOLYGON\u001b[0m\u001b[39m \u001b[0m\u001b[1;39m(\u001b[0m\u001b[1;39m(\u001b[0m\u001b[1;39m(\u001b[0m\u001b[1;36m77.283\u001b[0m\u001b[39m \u001b[0m\u001b[1;36m14.734\u001b[0m\u001b[39m, \u001b[0m\u001b[1;36m77.289\u001b[0m\u001b[39m \u001b[0m\u001b[1;36m14.729\u001b[0m\u001b[39m, \u001b[0m\u001b[1;36m77.286\u001b[0m\u001b[39m \u001b[0m\u001b[1;36m14.726\u001b[0m\u001b[39m, \u001b[0m\u001b[1;36m77.286\u001b[0m\u001b[39m \u001b[0m\u001b[1;36m14.721\u001b[0m\u001b[39m,\u001b[0m\u001b[33m...\u001b[0m\u001b[1m>\u001b[0m │\n",
       "│ \u001b[32mIND.2.1.7_1\u001b[0m │ \u001b[32mIND   \u001b[0m │ \u001b[32mIndia  \u001b[0m │ \u001b[32mIND.2_1\u001b[0m │ \u001b[32mAndhra Pradesh     \u001b[0m │ \u001b[32mNA       \u001b[0m │ \u001b[32mIND.2.1_1\u001b[0m │ \u001b[32mAnantapur               \u001b[0m │ \u001b[32mNA       \u001b[0m │ \u001b[32mMadakasira  \u001b[0m │ \u001b[32mNA       \u001b[0m │ \u001b[32mNA       \u001b[0m │ \u001b[32mTaluk \u001b[0m │ \u001b[32mTaluk    \u001b[0m │ \u001b[32mNA    \u001b[0m │ \u001b[32mNA    \u001b[0m │ \u001b[1m<\u001b[0m\u001b[1;95mMULTIPOLYGON\u001b[0m\u001b[39m \u001b[0m\u001b[1;39m(\u001b[0m\u001b[1;39m(\u001b[0m\u001b[1;39m(\u001b[0m\u001b[1;36m77.397\u001b[0m\u001b[39m \u001b[0m\u001b[1;36m13.881\u001b[0m\u001b[39m, \u001b[0m\u001b[1;36m77.4\u001b[0m\u001b[39m \u001b[0m\u001b[1;36m13.875\u001b[0m\u001b[39m, \u001b[0m\u001b[1;36m77.399\u001b[0m\u001b[39m \u001b[0m\u001b[1;36m13.871\u001b[0m\u001b[39m, \u001b[0m\u001b[1;36m77.399\u001b[0m\u001b[39m \u001b[0m\u001b[1;36m13.867\u001b[0m\u001b[39m, \u001b[0m\u001b[1;36m7\u001b[0m\u001b[33m...\u001b[0m\u001b[1m>\u001b[0m │\n",
       "│ \u001b[2m…\u001b[0m           │ \u001b[2m…\u001b[0m      │ \u001b[2m…\u001b[0m       │ \u001b[2m…\u001b[0m       │ \u001b[2m…\u001b[0m                   │ \u001b[2m…\u001b[0m         │ \u001b[2m…\u001b[0m         │ \u001b[2m…\u001b[0m                        │ \u001b[2m…\u001b[0m         │ \u001b[2m…\u001b[0m            │ \u001b[2m…\u001b[0m         │ \u001b[2m…\u001b[0m         │ \u001b[2m…\u001b[0m      │ \u001b[2m…\u001b[0m         │ \u001b[2m…\u001b[0m      │ \u001b[2m…\u001b[0m      │ \u001b[2m…\u001b[0m                                                                                │\n",
       "└─────────────┴────────┴─────────┴─────────┴─────────────────────┴───────────┴───────────┴──────────────────────────┴───────────┴──────────────┴───────────┴───────────┴────────┴───────────┴────────┴────────┴──────────────────────────────────────────────────────────────────────────────────┘"
      ]
     },
     "execution_count": 13,
     "metadata": {},
     "output_type": "execute_result"
    }
   ],
   "source": [
    "taluks = con.table('ADM_ADM_3')\n",
    "taluks"
   ]
  },
  {
   "cell_type": "code",
   "execution_count": 14,
   "metadata": {},
   "outputs": [],
   "source": [
    "combined = t.join(\n",
    "    taluks,\n",
    "    predicates=[taluks.geometry.contains(t.point)],\n",
    "    how='left'\n",
    ").select(\n",
    "    t,  # Select station fields\n",
    "    taluks['GID_3'],\n",
    "    taluks['NAME_3'],\n",
    "    taluks['GID_2'],\n",
    "    taluks['NAME_2'],\n",
    "    taluks['GID_1'],\n",
    "    taluks['NAME_1'],\n",
    "    taluks['geometry']\n",
    ")"
   ]
  },
  {
   "cell_type": "code",
   "execution_count": null,
   "metadata": {},
   "outputs": [
    {
     "data": {
      "application/vnd.jupyter.widget-view+json": {
       "model_id": "31e8d251dd634ec096d5ee5949b43723",
       "version_major": 2,
       "version_minor": 0
      },
      "text/plain": [
       "FloatProgress(value=0.0, layout=Layout(width='auto'), style=ProgressStyle(bar_color='black'))"
      ]
     },
     "metadata": {},
     "output_type": "display_data"
    }
   ],
   "source": [
    "t.join(\n",
    "    taluks,\n",
    "    predicates=[taluks.geometry.contains(t.point)],\n",
    "    how='left'\n",
    ").describe()"
   ]
  },
  {
   "cell_type": "code",
   "execution_count": null,
   "metadata": {},
   "outputs": [
    {
     "data": {
      "text/html": [
       "<pre style=\"white-space:pre;overflow-x:auto;line-height:normal;font-family:Menlo,'DejaVu Sans Mono',consolas,'Courier New',monospace\">┏━━━━━━━━━━┳━━━━━━━━━━┳━━━━━━━━━━━┳━━━━━━━━┳━━━━━━━━┳━━━━━━━━━━━━┳━━━━━━━━━━━━━━━━━━━━━━━┳━━━━━━━━━━━━━━┳━━━━━━━━━━━┳━━━━━━━━━━━━┳━━━━━━━━━━━┳━━━━━━━━━━┳━━━━━━━━━━━━━━━━━━━┳━━━━━━━━━━━━━━━━━━━━━━━━━━━━━━━━━━━━━━━━━━━━━━━━━━━━━━━━━━━━━━━━━━━━━━━━━━━━━━━━━━┓\n",
       "┃<span style=\"font-weight: bold\"> date     </span>┃<span style=\"font-weight: bold\"> latitude </span>┃<span style=\"font-weight: bold\"> longitude </span>┃<span style=\"font-weight: bold\"> number </span>┃<span style=\"font-weight: bold\"> expver </span>┃<span style=\"font-weight: bold\"> t2m        </span>┃<span style=\"font-weight: bold\"> point                 </span>┃<span style=\"font-weight: bold\"> GID_3        </span>┃<span style=\"font-weight: bold\"> NAME_3    </span>┃<span style=\"font-weight: bold\"> GID_2      </span>┃<span style=\"font-weight: bold\"> NAME_2    </span>┃<span style=\"font-weight: bold\"> GID_1    </span>┃<span style=\"font-weight: bold\"> NAME_1            </span>┃<span style=\"font-weight: bold\"> geometry                                                                         </span>┃\n",
       "┡━━━━━━━━━━╇━━━━━━━━━━╇━━━━━━━━━━━╇━━━━━━━━╇━━━━━━━━╇━━━━━━━━━━━━╇━━━━━━━━━━━━━━━━━━━━━━━╇━━━━━━━━━━━━━━╇━━━━━━━━━━━╇━━━━━━━━━━━━╇━━━━━━━━━━━╇━━━━━━━━━━╇━━━━━━━━━━━━━━━━━━━╇━━━━━━━━━━━━━━━━━━━━━━━━━━━━━━━━━━━━━━━━━━━━━━━━━━━━━━━━━━━━━━━━━━━━━━━━━━━━━━━━━━┩\n",
       "│ <span style=\"color: #7f7f7f; text-decoration-color: #7f7f7f\">int64</span>    │ <span style=\"color: #7f7f7f; text-decoration-color: #7f7f7f\">float64</span>  │ <span style=\"color: #7f7f7f; text-decoration-color: #7f7f7f\">float64</span>   │ <span style=\"color: #7f7f7f; text-decoration-color: #7f7f7f\">int64</span>  │ <span style=\"color: #7f7f7f; text-decoration-color: #7f7f7f\">string</span> │ <span style=\"color: #7f7f7f; text-decoration-color: #7f7f7f\">float32</span>    │ <span style=\"color: #7f7f7f; text-decoration-color: #7f7f7f\">point:geometry</span>        │ <span style=\"color: #7f7f7f; text-decoration-color: #7f7f7f\">string</span>       │ <span style=\"color: #7f7f7f; text-decoration-color: #7f7f7f\">string</span>    │ <span style=\"color: #7f7f7f; text-decoration-color: #7f7f7f\">string</span>     │ <span style=\"color: #7f7f7f; text-decoration-color: #7f7f7f\">string</span>    │ <span style=\"color: #7f7f7f; text-decoration-color: #7f7f7f\">string</span>   │ <span style=\"color: #7f7f7f; text-decoration-color: #7f7f7f\">string</span>            │ <span style=\"color: #7f7f7f; text-decoration-color: #7f7f7f\">geospatial:geometry</span>                                                              │\n",
       "├──────────┼──────────┼───────────┼────────┼────────┼────────────┼───────────────────────┼──────────────┼───────────┼────────────┼───────────┼──────────┼───────────────────┼──────────────────────────────────────────────────────────────────────────────────┤\n",
       "│ <span style=\"color: #008080; text-decoration-color: #008080; font-weight: bold\">20090101</span> │    <span style=\"color: #008080; text-decoration-color: #008080; font-weight: bold\">34.00</span> │     <span style=\"color: #008080; text-decoration-color: #008080; font-weight: bold\">75.25</span> │      <span style=\"color: #008080; text-decoration-color: #008080; font-weight: bold\">0</span> │ <span style=\"color: #008000; text-decoration-color: #008000\">0001  </span> │ <span style=\"color: #008080; text-decoration-color: #008080; font-weight: bold\">266.682556</span> │ <span style=\"font-weight: bold\">&lt;</span><span style=\"color: #ff00ff; text-decoration-color: #ff00ff; font-weight: bold\">POINT</span><span style=\"color: #000000; text-decoration-color: #000000\"> </span><span style=\"color: #000000; text-decoration-color: #000000; font-weight: bold\">(</span><span style=\"color: #008080; text-decoration-color: #008080; font-weight: bold\">75.25</span><span style=\"color: #000000; text-decoration-color: #000000\"> </span><span style=\"color: #008080; text-decoration-color: #008080; font-weight: bold\">34</span><span style=\"color: #000000; text-decoration-color: #000000; font-weight: bold\">)</span><span style=\"font-weight: bold\">&gt;</span>    │ <span style=\"color: #008000; text-decoration-color: #008000\">Z01.14.1.1_1</span> │ <span style=\"color: #008000; text-decoration-color: #008000\">n.a. ( 6)</span> │ <span style=\"color: #008000; text-decoration-color: #008000\">Z01.14.1_1</span> │ <span style=\"color: #008000; text-decoration-color: #008000\">Anantnag </span> │ <span style=\"color: #008000; text-decoration-color: #008000\">Z01.14_1</span> │ <span style=\"color: #008000; text-decoration-color: #008000\">Jammu and Kashmir</span> │ <span style=\"font-weight: bold\">&lt;</span><span style=\"color: #ff00ff; text-decoration-color: #ff00ff; font-weight: bold\">MULTIPOLYGON</span><span style=\"color: #000000; text-decoration-color: #000000\"> </span><span style=\"color: #000000; text-decoration-color: #000000; font-weight: bold\">(((</span><span style=\"color: #008080; text-decoration-color: #008080; font-weight: bold\">75.486</span><span style=\"color: #000000; text-decoration-color: #000000\"> </span><span style=\"color: #008080; text-decoration-color: #008080; font-weight: bold\">33.41</span><span style=\"color: #000000; text-decoration-color: #000000\">, </span><span style=\"color: #008080; text-decoration-color: #008080; font-weight: bold\">75.478</span><span style=\"color: #000000; text-decoration-color: #000000\"> </span><span style=\"color: #008080; text-decoration-color: #008080; font-weight: bold\">33.398</span><span style=\"color: #000000; text-decoration-color: #000000\">, </span><span style=\"color: #008080; text-decoration-color: #008080; font-weight: bold\">75.462</span><span style=\"color: #000000; text-decoration-color: #000000\"> </span><span style=\"color: #008080; text-decoration-color: #008080; font-weight: bold\">33.398</span><span style=\"color: #000000; text-decoration-color: #000000\">, </span><span style=\"color: #008080; text-decoration-color: #008080; font-weight: bold\">75.456</span><span style=\"color: #000000; text-decoration-color: #000000\"> </span><span style=\"color: #008080; text-decoration-color: #008080; font-weight: bold\">33.387</span><span style=\"color: #000000; text-decoration-color: #000000\">, </span><span style=\"color: #808000; text-decoration-color: #808000\">...</span><span style=\"font-weight: bold\">&gt;</span> │\n",
       "│ <span style=\"color: #008080; text-decoration-color: #008080; font-weight: bold\">20090101</span> │    <span style=\"color: #008080; text-decoration-color: #008080; font-weight: bold\">33.75</span> │     <span style=\"color: #008080; text-decoration-color: #008080; font-weight: bold\">75.25</span> │      <span style=\"color: #008080; text-decoration-color: #008080; font-weight: bold\">0</span> │ <span style=\"color: #008000; text-decoration-color: #008000\">0001  </span> │ <span style=\"color: #008080; text-decoration-color: #008080; font-weight: bold\">270.426697</span> │ <span style=\"font-weight: bold\">&lt;</span><span style=\"color: #ff00ff; text-decoration-color: #ff00ff; font-weight: bold\">POINT</span><span style=\"color: #000000; text-decoration-color: #000000\"> </span><span style=\"color: #000000; text-decoration-color: #000000; font-weight: bold\">(</span><span style=\"color: #008080; text-decoration-color: #008080; font-weight: bold\">75.25</span><span style=\"color: #000000; text-decoration-color: #000000\"> </span><span style=\"color: #008080; text-decoration-color: #008080; font-weight: bold\">33.75</span><span style=\"color: #000000; text-decoration-color: #000000; font-weight: bold\">)</span><span style=\"font-weight: bold\">&gt;</span> │ <span style=\"color: #008000; text-decoration-color: #008000\">Z01.14.1.1_1</span> │ <span style=\"color: #008000; text-decoration-color: #008000\">n.a. ( 6)</span> │ <span style=\"color: #008000; text-decoration-color: #008000\">Z01.14.1_1</span> │ <span style=\"color: #008000; text-decoration-color: #008000\">Anantnag </span> │ <span style=\"color: #008000; text-decoration-color: #008000\">Z01.14_1</span> │ <span style=\"color: #008000; text-decoration-color: #008000\">Jammu and Kashmir</span> │ <span style=\"font-weight: bold\">&lt;</span><span style=\"color: #ff00ff; text-decoration-color: #ff00ff; font-weight: bold\">MULTIPOLYGON</span><span style=\"color: #000000; text-decoration-color: #000000\"> </span><span style=\"color: #000000; text-decoration-color: #000000; font-weight: bold\">(((</span><span style=\"color: #008080; text-decoration-color: #008080; font-weight: bold\">75.486</span><span style=\"color: #000000; text-decoration-color: #000000\"> </span><span style=\"color: #008080; text-decoration-color: #008080; font-weight: bold\">33.41</span><span style=\"color: #000000; text-decoration-color: #000000\">, </span><span style=\"color: #008080; text-decoration-color: #008080; font-weight: bold\">75.478</span><span style=\"color: #000000; text-decoration-color: #000000\"> </span><span style=\"color: #008080; text-decoration-color: #008080; font-weight: bold\">33.398</span><span style=\"color: #000000; text-decoration-color: #000000\">, </span><span style=\"color: #008080; text-decoration-color: #008080; font-weight: bold\">75.462</span><span style=\"color: #000000; text-decoration-color: #000000\"> </span><span style=\"color: #008080; text-decoration-color: #008080; font-weight: bold\">33.398</span><span style=\"color: #000000; text-decoration-color: #000000\">, </span><span style=\"color: #008080; text-decoration-color: #008080; font-weight: bold\">75.456</span><span style=\"color: #000000; text-decoration-color: #000000\"> </span><span style=\"color: #008080; text-decoration-color: #008080; font-weight: bold\">33.387</span><span style=\"color: #000000; text-decoration-color: #000000\">, </span><span style=\"color: #808000; text-decoration-color: #808000\">...</span><span style=\"font-weight: bold\">&gt;</span> │\n",
       "│ <span style=\"color: #008080; text-decoration-color: #008080; font-weight: bold\">20090101</span> │    <span style=\"color: #008080; text-decoration-color: #008080; font-weight: bold\">34.00</span> │     <span style=\"color: #008080; text-decoration-color: #008080; font-weight: bold\">74.50</span> │      <span style=\"color: #008080; text-decoration-color: #008080; font-weight: bold\">0</span> │ <span style=\"color: #008000; text-decoration-color: #008000\">0001  </span> │ <span style=\"color: #008080; text-decoration-color: #008080; font-weight: bold\">271.473572</span> │ <span style=\"font-weight: bold\">&lt;</span><span style=\"color: #ff00ff; text-decoration-color: #ff00ff; font-weight: bold\">POINT</span><span style=\"color: #000000; text-decoration-color: #000000\"> </span><span style=\"color: #000000; text-decoration-color: #000000; font-weight: bold\">(</span><span style=\"color: #008080; text-decoration-color: #008080; font-weight: bold\">74.5</span><span style=\"color: #000000; text-decoration-color: #000000\"> </span><span style=\"color: #008080; text-decoration-color: #008080; font-weight: bold\">34</span><span style=\"color: #000000; text-decoration-color: #000000; font-weight: bold\">)</span><span style=\"font-weight: bold\">&gt;</span>     │ <span style=\"color: #008000; text-decoration-color: #008000\">Z01.14.2.1_1</span> │ <span style=\"color: #008000; text-decoration-color: #008000\">n.a. ( 8)</span> │ <span style=\"color: #008000; text-decoration-color: #008000\">Z01.14.2_1</span> │ <span style=\"color: #008000; text-decoration-color: #008000\">Badgam   </span> │ <span style=\"color: #008000; text-decoration-color: #008000\">Z01.14_1</span> │ <span style=\"color: #008000; text-decoration-color: #008000\">Jammu and Kashmir</span> │ <span style=\"font-weight: bold\">&lt;</span><span style=\"color: #ff00ff; text-decoration-color: #ff00ff; font-weight: bold\">MULTIPOLYGON</span><span style=\"color: #000000; text-decoration-color: #000000\"> </span><span style=\"color: #000000; text-decoration-color: #000000; font-weight: bold\">(((</span><span style=\"color: #008080; text-decoration-color: #008080; font-weight: bold\">74.561</span><span style=\"color: #000000; text-decoration-color: #000000\"> </span><span style=\"color: #008080; text-decoration-color: #008080; font-weight: bold\">33.703</span><span style=\"color: #000000; text-decoration-color: #000000\">, </span><span style=\"color: #008080; text-decoration-color: #008080; font-weight: bold\">74.552</span><span style=\"color: #000000; text-decoration-color: #000000\"> </span><span style=\"color: #008080; text-decoration-color: #008080; font-weight: bold\">33.696</span><span style=\"color: #000000; text-decoration-color: #000000\">, </span><span style=\"color: #008080; text-decoration-color: #008080; font-weight: bold\">74.544</span><span style=\"color: #000000; text-decoration-color: #000000\"> </span><span style=\"color: #008080; text-decoration-color: #008080; font-weight: bold\">33.691</span><span style=\"color: #000000; text-decoration-color: #000000\">, </span><span style=\"color: #008080; text-decoration-color: #008080; font-weight: bold\">74.535</span><span style=\"color: #000000; text-decoration-color: #000000\"> </span><span style=\"color: #008080; text-decoration-color: #008080; font-weight: bold\">33.686</span><span style=\"color: #000000; text-decoration-color: #000000\">,</span><span style=\"color: #808000; text-decoration-color: #808000\">...</span><span style=\"font-weight: bold\">&gt;</span> │\n",
       "│ <span style=\"color: #008080; text-decoration-color: #008080; font-weight: bold\">20090101</span> │    <span style=\"color: #008080; text-decoration-color: #008080; font-weight: bold\">34.00</span> │     <span style=\"color: #008080; text-decoration-color: #008080; font-weight: bold\">74.75</span> │      <span style=\"color: #008080; text-decoration-color: #008080; font-weight: bold\">0</span> │ <span style=\"color: #008000; text-decoration-color: #008000\">0001  </span> │ <span style=\"color: #008080; text-decoration-color: #008080; font-weight: bold\">273.565369</span> │ <span style=\"font-weight: bold\">&lt;</span><span style=\"color: #ff00ff; text-decoration-color: #ff00ff; font-weight: bold\">POINT</span><span style=\"color: #000000; text-decoration-color: #000000\"> </span><span style=\"color: #000000; text-decoration-color: #000000; font-weight: bold\">(</span><span style=\"color: #008080; text-decoration-color: #008080; font-weight: bold\">74.75</span><span style=\"color: #000000; text-decoration-color: #000000\"> </span><span style=\"color: #008080; text-decoration-color: #008080; font-weight: bold\">34</span><span style=\"color: #000000; text-decoration-color: #000000; font-weight: bold\">)</span><span style=\"font-weight: bold\">&gt;</span>    │ <span style=\"color: #008000; text-decoration-color: #008000\">Z01.14.2.1_1</span> │ <span style=\"color: #008000; text-decoration-color: #008000\">n.a. ( 8)</span> │ <span style=\"color: #008000; text-decoration-color: #008000\">Z01.14.2_1</span> │ <span style=\"color: #008000; text-decoration-color: #008000\">Badgam   </span> │ <span style=\"color: #008000; text-decoration-color: #008000\">Z01.14_1</span> │ <span style=\"color: #008000; text-decoration-color: #008000\">Jammu and Kashmir</span> │ <span style=\"font-weight: bold\">&lt;</span><span style=\"color: #ff00ff; text-decoration-color: #ff00ff; font-weight: bold\">MULTIPOLYGON</span><span style=\"color: #000000; text-decoration-color: #000000\"> </span><span style=\"color: #000000; text-decoration-color: #000000; font-weight: bold\">(((</span><span style=\"color: #008080; text-decoration-color: #008080; font-weight: bold\">74.561</span><span style=\"color: #000000; text-decoration-color: #000000\"> </span><span style=\"color: #008080; text-decoration-color: #008080; font-weight: bold\">33.703</span><span style=\"color: #000000; text-decoration-color: #000000\">, </span><span style=\"color: #008080; text-decoration-color: #008080; font-weight: bold\">74.552</span><span style=\"color: #000000; text-decoration-color: #000000\"> </span><span style=\"color: #008080; text-decoration-color: #008080; font-weight: bold\">33.696</span><span style=\"color: #000000; text-decoration-color: #000000\">, </span><span style=\"color: #008080; text-decoration-color: #008080; font-weight: bold\">74.544</span><span style=\"color: #000000; text-decoration-color: #000000\"> </span><span style=\"color: #008080; text-decoration-color: #008080; font-weight: bold\">33.691</span><span style=\"color: #000000; text-decoration-color: #000000\">, </span><span style=\"color: #008080; text-decoration-color: #008080; font-weight: bold\">74.535</span><span style=\"color: #000000; text-decoration-color: #000000\"> </span><span style=\"color: #008080; text-decoration-color: #008080; font-weight: bold\">33.686</span><span style=\"color: #000000; text-decoration-color: #000000\">,</span><span style=\"color: #808000; text-decoration-color: #808000\">...</span><span style=\"font-weight: bold\">&gt;</span> │\n",
       "│ <span style=\"color: #008080; text-decoration-color: #008080; font-weight: bold\">20090101</span> │    <span style=\"color: #008080; text-decoration-color: #008080; font-weight: bold\">33.75</span> │     <span style=\"color: #008080; text-decoration-color: #008080; font-weight: bold\">74.50</span> │      <span style=\"color: #008080; text-decoration-color: #008080; font-weight: bold\">0</span> │ <span style=\"color: #008000; text-decoration-color: #008000\">0001  </span> │ <span style=\"color: #008080; text-decoration-color: #008080; font-weight: bold\">269.899353</span> │ <span style=\"font-weight: bold\">&lt;</span><span style=\"color: #ff00ff; text-decoration-color: #ff00ff; font-weight: bold\">POINT</span><span style=\"color: #000000; text-decoration-color: #000000\"> </span><span style=\"color: #000000; text-decoration-color: #000000; font-weight: bold\">(</span><span style=\"color: #008080; text-decoration-color: #008080; font-weight: bold\">74.5</span><span style=\"color: #000000; text-decoration-color: #000000\"> </span><span style=\"color: #008080; text-decoration-color: #008080; font-weight: bold\">33.75</span><span style=\"color: #000000; text-decoration-color: #000000; font-weight: bold\">)</span><span style=\"font-weight: bold\">&gt;</span>  │ <span style=\"color: #008000; text-decoration-color: #008000\">Z01.14.2.1_1</span> │ <span style=\"color: #008000; text-decoration-color: #008000\">n.a. ( 8)</span> │ <span style=\"color: #008000; text-decoration-color: #008000\">Z01.14.2_1</span> │ <span style=\"color: #008000; text-decoration-color: #008000\">Badgam   </span> │ <span style=\"color: #008000; text-decoration-color: #008000\">Z01.14_1</span> │ <span style=\"color: #008000; text-decoration-color: #008000\">Jammu and Kashmir</span> │ <span style=\"font-weight: bold\">&lt;</span><span style=\"color: #ff00ff; text-decoration-color: #ff00ff; font-weight: bold\">MULTIPOLYGON</span><span style=\"color: #000000; text-decoration-color: #000000\"> </span><span style=\"color: #000000; text-decoration-color: #000000; font-weight: bold\">(((</span><span style=\"color: #008080; text-decoration-color: #008080; font-weight: bold\">74.561</span><span style=\"color: #000000; text-decoration-color: #000000\"> </span><span style=\"color: #008080; text-decoration-color: #008080; font-weight: bold\">33.703</span><span style=\"color: #000000; text-decoration-color: #000000\">, </span><span style=\"color: #008080; text-decoration-color: #008080; font-weight: bold\">74.552</span><span style=\"color: #000000; text-decoration-color: #000000\"> </span><span style=\"color: #008080; text-decoration-color: #008080; font-weight: bold\">33.696</span><span style=\"color: #000000; text-decoration-color: #000000\">, </span><span style=\"color: #008080; text-decoration-color: #008080; font-weight: bold\">74.544</span><span style=\"color: #000000; text-decoration-color: #000000\"> </span><span style=\"color: #008080; text-decoration-color: #008080; font-weight: bold\">33.691</span><span style=\"color: #000000; text-decoration-color: #000000\">, </span><span style=\"color: #008080; text-decoration-color: #008080; font-weight: bold\">74.535</span><span style=\"color: #000000; text-decoration-color: #000000\"> </span><span style=\"color: #008080; text-decoration-color: #008080; font-weight: bold\">33.686</span><span style=\"color: #000000; text-decoration-color: #000000\">,</span><span style=\"color: #808000; text-decoration-color: #808000\">...</span><span style=\"font-weight: bold\">&gt;</span> │\n",
       "│ <span style=\"color: #008080; text-decoration-color: #008080; font-weight: bold\">20090101</span> │    <span style=\"color: #008080; text-decoration-color: #008080; font-weight: bold\">34.50</span> │     <span style=\"color: #008080; text-decoration-color: #008080; font-weight: bold\">74.75</span> │      <span style=\"color: #008080; text-decoration-color: #008080; font-weight: bold\">0</span> │ <span style=\"color: #008000; text-decoration-color: #008000\">0001  </span> │ <span style=\"color: #008080; text-decoration-color: #008080; font-weight: bold\">267.184509</span> │ <span style=\"font-weight: bold\">&lt;</span><span style=\"color: #ff00ff; text-decoration-color: #ff00ff; font-weight: bold\">POINT</span><span style=\"color: #000000; text-decoration-color: #000000\"> </span><span style=\"color: #000000; text-decoration-color: #000000; font-weight: bold\">(</span><span style=\"color: #008080; text-decoration-color: #008080; font-weight: bold\">74.75</span><span style=\"color: #000000; text-decoration-color: #000000\"> </span><span style=\"color: #008080; text-decoration-color: #008080; font-weight: bold\">34.5</span><span style=\"color: #000000; text-decoration-color: #000000; font-weight: bold\">)</span><span style=\"font-weight: bold\">&gt;</span>  │ <span style=\"color: #008000; text-decoration-color: #008000\">Z01.14.3.1_1</span> │ <span style=\"color: #008000; text-decoration-color: #008000\">n.a. ( 4)</span> │ <span style=\"color: #008000; text-decoration-color: #008000\">Z01.14.3_1</span> │ <span style=\"color: #008000; text-decoration-color: #008000\">Bandipore</span> │ <span style=\"color: #008000; text-decoration-color: #008000\">Z01.14_1</span> │ <span style=\"color: #008000; text-decoration-color: #008000\">Jammu and Kashmir</span> │ <span style=\"font-weight: bold\">&lt;</span><span style=\"color: #ff00ff; text-decoration-color: #ff00ff; font-weight: bold\">MULTIPOLYGON</span><span style=\"color: #000000; text-decoration-color: #000000\"> </span><span style=\"color: #000000; text-decoration-color: #000000; font-weight: bold\">(((</span><span style=\"color: #008080; text-decoration-color: #008080; font-weight: bold\">74.577</span><span style=\"color: #000000; text-decoration-color: #000000\"> </span><span style=\"color: #008080; text-decoration-color: #008080; font-weight: bold\">34.769</span><span style=\"color: #000000; text-decoration-color: #000000\">, </span><span style=\"color: #008080; text-decoration-color: #008080; font-weight: bold\">74.58</span><span style=\"color: #000000; text-decoration-color: #000000\"> </span><span style=\"color: #008080; text-decoration-color: #008080; font-weight: bold\">34.77</span><span style=\"color: #000000; text-decoration-color: #000000\">, </span><span style=\"color: #008080; text-decoration-color: #008080; font-weight: bold\">74.612</span><span style=\"color: #000000; text-decoration-color: #000000\"> </span><span style=\"color: #008080; text-decoration-color: #008080; font-weight: bold\">34.746</span><span style=\"color: #000000; text-decoration-color: #000000\">, </span><span style=\"color: #008080; text-decoration-color: #008080; font-weight: bold\">74.618</span><span style=\"color: #000000; text-decoration-color: #000000\"> </span><span style=\"color: #008080; text-decoration-color: #008080; font-weight: bold\">34.742</span><span style=\"color: #000000; text-decoration-color: #000000\">, </span><span style=\"color: #008080; text-decoration-color: #008080; font-weight: bold\">7</span><span style=\"color: #808000; text-decoration-color: #808000\">...</span><span style=\"font-weight: bold\">&gt;</span> │\n",
       "│ <span style=\"color: #008080; text-decoration-color: #008080; font-weight: bold\">20090101</span> │    <span style=\"color: #008080; text-decoration-color: #008080; font-weight: bold\">34.50</span> │     <span style=\"color: #008080; text-decoration-color: #008080; font-weight: bold\">75.00</span> │      <span style=\"color: #008080; text-decoration-color: #008080; font-weight: bold\">0</span> │ <span style=\"color: #008000; text-decoration-color: #008000\">0001  </span> │ <span style=\"color: #008080; text-decoration-color: #008080; font-weight: bold\">261.362244</span> │ <span style=\"font-weight: bold\">&lt;</span><span style=\"color: #ff00ff; text-decoration-color: #ff00ff; font-weight: bold\">POINT</span><span style=\"color: #000000; text-decoration-color: #000000\"> </span><span style=\"color: #000000; text-decoration-color: #000000; font-weight: bold\">(</span><span style=\"color: #008080; text-decoration-color: #008080; font-weight: bold\">75</span><span style=\"color: #000000; text-decoration-color: #000000\"> </span><span style=\"color: #008080; text-decoration-color: #008080; font-weight: bold\">34.5</span><span style=\"color: #000000; text-decoration-color: #000000; font-weight: bold\">)</span><span style=\"font-weight: bold\">&gt;</span>     │ <span style=\"color: #008000; text-decoration-color: #008000\">Z01.14.3.1_1</span> │ <span style=\"color: #008000; text-decoration-color: #008000\">n.a. ( 4)</span> │ <span style=\"color: #008000; text-decoration-color: #008000\">Z01.14.3_1</span> │ <span style=\"color: #008000; text-decoration-color: #008000\">Bandipore</span> │ <span style=\"color: #008000; text-decoration-color: #008000\">Z01.14_1</span> │ <span style=\"color: #008000; text-decoration-color: #008000\">Jammu and Kashmir</span> │ <span style=\"font-weight: bold\">&lt;</span><span style=\"color: #ff00ff; text-decoration-color: #ff00ff; font-weight: bold\">MULTIPOLYGON</span><span style=\"color: #000000; text-decoration-color: #000000\"> </span><span style=\"color: #000000; text-decoration-color: #000000; font-weight: bold\">(((</span><span style=\"color: #008080; text-decoration-color: #008080; font-weight: bold\">74.577</span><span style=\"color: #000000; text-decoration-color: #000000\"> </span><span style=\"color: #008080; text-decoration-color: #008080; font-weight: bold\">34.769</span><span style=\"color: #000000; text-decoration-color: #000000\">, </span><span style=\"color: #008080; text-decoration-color: #008080; font-weight: bold\">74.58</span><span style=\"color: #000000; text-decoration-color: #000000\"> </span><span style=\"color: #008080; text-decoration-color: #008080; font-weight: bold\">34.77</span><span style=\"color: #000000; text-decoration-color: #000000\">, </span><span style=\"color: #008080; text-decoration-color: #008080; font-weight: bold\">74.612</span><span style=\"color: #000000; text-decoration-color: #000000\"> </span><span style=\"color: #008080; text-decoration-color: #008080; font-weight: bold\">34.746</span><span style=\"color: #000000; text-decoration-color: #000000\">, </span><span style=\"color: #008080; text-decoration-color: #008080; font-weight: bold\">74.618</span><span style=\"color: #000000; text-decoration-color: #000000\"> </span><span style=\"color: #008080; text-decoration-color: #008080; font-weight: bold\">34.742</span><span style=\"color: #000000; text-decoration-color: #000000\">, </span><span style=\"color: #008080; text-decoration-color: #008080; font-weight: bold\">7</span><span style=\"color: #808000; text-decoration-color: #808000\">...</span><span style=\"font-weight: bold\">&gt;</span> │\n",
       "│ <span style=\"color: #008080; text-decoration-color: #008080; font-weight: bold\">20090101</span> │    <span style=\"color: #008080; text-decoration-color: #008080; font-weight: bold\">34.50</span> │     <span style=\"color: #008080; text-decoration-color: #008080; font-weight: bold\">75.25</span> │      <span style=\"color: #008080; text-decoration-color: #008080; font-weight: bold\">0</span> │ <span style=\"color: #008000; text-decoration-color: #008000\">0001  </span> │ <span style=\"color: #008080; text-decoration-color: #008080; font-weight: bold\">258.766541</span> │ <span style=\"font-weight: bold\">&lt;</span><span style=\"color: #ff00ff; text-decoration-color: #ff00ff; font-weight: bold\">POINT</span><span style=\"color: #000000; text-decoration-color: #000000\"> </span><span style=\"color: #000000; text-decoration-color: #000000; font-weight: bold\">(</span><span style=\"color: #008080; text-decoration-color: #008080; font-weight: bold\">75.25</span><span style=\"color: #000000; text-decoration-color: #000000\"> </span><span style=\"color: #008080; text-decoration-color: #008080; font-weight: bold\">34.5</span><span style=\"color: #000000; text-decoration-color: #000000; font-weight: bold\">)</span><span style=\"font-weight: bold\">&gt;</span>  │ <span style=\"color: #008000; text-decoration-color: #008000\">Z01.14.3.1_1</span> │ <span style=\"color: #008000; text-decoration-color: #008000\">n.a. ( 4)</span> │ <span style=\"color: #008000; text-decoration-color: #008000\">Z01.14.3_1</span> │ <span style=\"color: #008000; text-decoration-color: #008000\">Bandipore</span> │ <span style=\"color: #008000; text-decoration-color: #008000\">Z01.14_1</span> │ <span style=\"color: #008000; text-decoration-color: #008000\">Jammu and Kashmir</span> │ <span style=\"font-weight: bold\">&lt;</span><span style=\"color: #ff00ff; text-decoration-color: #ff00ff; font-weight: bold\">MULTIPOLYGON</span><span style=\"color: #000000; text-decoration-color: #000000\"> </span><span style=\"color: #000000; text-decoration-color: #000000; font-weight: bold\">(((</span><span style=\"color: #008080; text-decoration-color: #008080; font-weight: bold\">74.577</span><span style=\"color: #000000; text-decoration-color: #000000\"> </span><span style=\"color: #008080; text-decoration-color: #008080; font-weight: bold\">34.769</span><span style=\"color: #000000; text-decoration-color: #000000\">, </span><span style=\"color: #008080; text-decoration-color: #008080; font-weight: bold\">74.58</span><span style=\"color: #000000; text-decoration-color: #000000\"> </span><span style=\"color: #008080; text-decoration-color: #008080; font-weight: bold\">34.77</span><span style=\"color: #000000; text-decoration-color: #000000\">, </span><span style=\"color: #008080; text-decoration-color: #008080; font-weight: bold\">74.612</span><span style=\"color: #000000; text-decoration-color: #000000\"> </span><span style=\"color: #008080; text-decoration-color: #008080; font-weight: bold\">34.746</span><span style=\"color: #000000; text-decoration-color: #000000\">, </span><span style=\"color: #008080; text-decoration-color: #008080; font-weight: bold\">74.618</span><span style=\"color: #000000; text-decoration-color: #000000\"> </span><span style=\"color: #008080; text-decoration-color: #008080; font-weight: bold\">34.742</span><span style=\"color: #000000; text-decoration-color: #000000\">, </span><span style=\"color: #008080; text-decoration-color: #008080; font-weight: bold\">7</span><span style=\"color: #808000; text-decoration-color: #808000\">...</span><span style=\"font-weight: bold\">&gt;</span> │\n",
       "│ <span style=\"color: #008080; text-decoration-color: #008080; font-weight: bold\">20090101</span> │    <span style=\"color: #008080; text-decoration-color: #008080; font-weight: bold\">34.50</span> │     <span style=\"color: #008080; text-decoration-color: #008080; font-weight: bold\">74.50</span> │      <span style=\"color: #008080; text-decoration-color: #008080; font-weight: bold\">0</span> │ <span style=\"color: #008000; text-decoration-color: #008000\">0001  </span> │ <span style=\"color: #008080; text-decoration-color: #008080; font-weight: bold\">268.680603</span> │ <span style=\"font-weight: bold\">&lt;</span><span style=\"color: #ff00ff; text-decoration-color: #ff00ff; font-weight: bold\">POINT</span><span style=\"color: #000000; text-decoration-color: #000000\"> </span><span style=\"color: #000000; text-decoration-color: #000000; font-weight: bold\">(</span><span style=\"color: #008080; text-decoration-color: #008080; font-weight: bold\">74.5</span><span style=\"color: #000000; text-decoration-color: #000000\"> </span><span style=\"color: #008080; text-decoration-color: #008080; font-weight: bold\">34.5</span><span style=\"color: #000000; text-decoration-color: #000000; font-weight: bold\">)</span><span style=\"font-weight: bold\">&gt;</span>   │ <span style=\"color: #008000; text-decoration-color: #008000\">Z01.14.4.1_1</span> │ <span style=\"color: #008000; text-decoration-color: #008000\">n.a. ( 4)</span> │ <span style=\"color: #008000; text-decoration-color: #008000\">Z01.14.4_1</span> │ <span style=\"color: #008000; text-decoration-color: #008000\">Baramulla</span> │ <span style=\"color: #008000; text-decoration-color: #008000\">Z01.14_1</span> │ <span style=\"color: #008000; text-decoration-color: #008000\">Jammu and Kashmir</span> │ <span style=\"font-weight: bold\">&lt;</span><span style=\"color: #ff00ff; text-decoration-color: #ff00ff; font-weight: bold\">MULTIPOLYGON</span><span style=\"color: #000000; text-decoration-color: #000000\"> </span><span style=\"color: #000000; text-decoration-color: #000000; font-weight: bold\">(((</span><span style=\"color: #008080; text-decoration-color: #008080; font-weight: bold\">74.255</span><span style=\"color: #000000; text-decoration-color: #000000\"> </span><span style=\"color: #008080; text-decoration-color: #008080; font-weight: bold\">33.997</span><span style=\"color: #000000; text-decoration-color: #000000\">, </span><span style=\"color: #008080; text-decoration-color: #008080; font-weight: bold\">74.249</span><span style=\"color: #000000; text-decoration-color: #000000\"> </span><span style=\"color: #008080; text-decoration-color: #008080; font-weight: bold\">34.014</span><span style=\"color: #000000; text-decoration-color: #000000\">, </span><span style=\"color: #008080; text-decoration-color: #008080; font-weight: bold\">74.247</span><span style=\"color: #000000; text-decoration-color: #000000\"> </span><span style=\"color: #008080; text-decoration-color: #008080; font-weight: bold\">34.016</span><span style=\"color: #000000; text-decoration-color: #000000\">, </span><span style=\"color: #008080; text-decoration-color: #008080; font-weight: bold\">74.237</span><span style=\"color: #000000; text-decoration-color: #000000\"> </span><span style=\"color: #008080; text-decoration-color: #008080; font-weight: bold\">34.026</span><span style=\"color: #000000; text-decoration-color: #000000\">,</span><span style=\"color: #808000; text-decoration-color: #808000\">...</span><span style=\"font-weight: bold\">&gt;</span> │\n",
       "│ <span style=\"color: #008080; text-decoration-color: #008080; font-weight: bold\">20090101</span> │    <span style=\"color: #008080; text-decoration-color: #008080; font-weight: bold\">34.25</span> │     <span style=\"color: #008080; text-decoration-color: #008080; font-weight: bold\">74.25</span> │      <span style=\"color: #008080; text-decoration-color: #008080; font-weight: bold\">0</span> │ <span style=\"color: #008000; text-decoration-color: #008000\">0001  </span> │ <span style=\"color: #008080; text-decoration-color: #008080; font-weight: bold\">270.403259</span> │ <span style=\"font-weight: bold\">&lt;</span><span style=\"color: #ff00ff; text-decoration-color: #ff00ff; font-weight: bold\">POINT</span><span style=\"color: #000000; text-decoration-color: #000000\"> </span><span style=\"color: #000000; text-decoration-color: #000000; font-weight: bold\">(</span><span style=\"color: #008080; text-decoration-color: #008080; font-weight: bold\">74.25</span><span style=\"color: #000000; text-decoration-color: #000000\"> </span><span style=\"color: #008080; text-decoration-color: #008080; font-weight: bold\">34.25</span><span style=\"color: #000000; text-decoration-color: #000000; font-weight: bold\">)</span><span style=\"font-weight: bold\">&gt;</span> │ <span style=\"color: #008000; text-decoration-color: #008000\">Z01.14.4.1_1</span> │ <span style=\"color: #008000; text-decoration-color: #008000\">n.a. ( 4)</span> │ <span style=\"color: #008000; text-decoration-color: #008000\">Z01.14.4_1</span> │ <span style=\"color: #008000; text-decoration-color: #008000\">Baramulla</span> │ <span style=\"color: #008000; text-decoration-color: #008000\">Z01.14_1</span> │ <span style=\"color: #008000; text-decoration-color: #008000\">Jammu and Kashmir</span> │ <span style=\"font-weight: bold\">&lt;</span><span style=\"color: #ff00ff; text-decoration-color: #ff00ff; font-weight: bold\">MULTIPOLYGON</span><span style=\"color: #000000; text-decoration-color: #000000\"> </span><span style=\"color: #000000; text-decoration-color: #000000; font-weight: bold\">(((</span><span style=\"color: #008080; text-decoration-color: #008080; font-weight: bold\">74.255</span><span style=\"color: #000000; text-decoration-color: #000000\"> </span><span style=\"color: #008080; text-decoration-color: #008080; font-weight: bold\">33.997</span><span style=\"color: #000000; text-decoration-color: #000000\">, </span><span style=\"color: #008080; text-decoration-color: #008080; font-weight: bold\">74.249</span><span style=\"color: #000000; text-decoration-color: #000000\"> </span><span style=\"color: #008080; text-decoration-color: #008080; font-weight: bold\">34.014</span><span style=\"color: #000000; text-decoration-color: #000000\">, </span><span style=\"color: #008080; text-decoration-color: #008080; font-weight: bold\">74.247</span><span style=\"color: #000000; text-decoration-color: #000000\"> </span><span style=\"color: #008080; text-decoration-color: #008080; font-weight: bold\">34.016</span><span style=\"color: #000000; text-decoration-color: #000000\">, </span><span style=\"color: #008080; text-decoration-color: #008080; font-weight: bold\">74.237</span><span style=\"color: #000000; text-decoration-color: #000000\"> </span><span style=\"color: #008080; text-decoration-color: #008080; font-weight: bold\">34.026</span><span style=\"color: #000000; text-decoration-color: #000000\">,</span><span style=\"color: #808000; text-decoration-color: #808000\">...</span><span style=\"font-weight: bold\">&gt;</span> │\n",
       "│        <span style=\"color: #7f7f7f; text-decoration-color: #7f7f7f\">…</span> │        <span style=\"color: #7f7f7f; text-decoration-color: #7f7f7f\">…</span> │         <span style=\"color: #7f7f7f; text-decoration-color: #7f7f7f\">…</span> │      <span style=\"color: #7f7f7f; text-decoration-color: #7f7f7f\">…</span> │ <span style=\"color: #7f7f7f; text-decoration-color: #7f7f7f\">…</span>      │          <span style=\"color: #7f7f7f; text-decoration-color: #7f7f7f\">…</span> │ <span style=\"color: #7f7f7f; text-decoration-color: #7f7f7f\">…</span>                     │ <span style=\"color: #7f7f7f; text-decoration-color: #7f7f7f\">…</span>            │ <span style=\"color: #7f7f7f; text-decoration-color: #7f7f7f\">…</span>         │ <span style=\"color: #7f7f7f; text-decoration-color: #7f7f7f\">…</span>          │ <span style=\"color: #7f7f7f; text-decoration-color: #7f7f7f\">…</span>         │ <span style=\"color: #7f7f7f; text-decoration-color: #7f7f7f\">…</span>        │ <span style=\"color: #7f7f7f; text-decoration-color: #7f7f7f\">…</span>                 │ <span style=\"color: #7f7f7f; text-decoration-color: #7f7f7f\">…</span>                                                                                │\n",
       "└──────────┴──────────┴───────────┴────────┴────────┴────────────┴───────────────────────┴──────────────┴───────────┴────────────┴───────────┴──────────┴───────────────────┴──────────────────────────────────────────────────────────────────────────────────┘\n",
       "</pre>\n"
      ],
      "text/plain": [
       "┏━━━━━━━━━━┳━━━━━━━━━━┳━━━━━━━━━━━┳━━━━━━━━┳━━━━━━━━┳━━━━━━━━━━━━┳━━━━━━━━━━━━━━━━━━━━━━━┳━━━━━━━━━━━━━━┳━━━━━━━━━━━┳━━━━━━━━━━━━┳━━━━━━━━━━━┳━━━━━━━━━━┳━━━━━━━━━━━━━━━━━━━┳━━━━━━━━━━━━━━━━━━━━━━━━━━━━━━━━━━━━━━━━━━━━━━━━━━━━━━━━━━━━━━━━━━━━━━━━━━━━━━━━━━┓\n",
       "┃\u001b[1m \u001b[0m\u001b[1mdate\u001b[0m\u001b[1m    \u001b[0m\u001b[1m \u001b[0m┃\u001b[1m \u001b[0m\u001b[1mlatitude\u001b[0m\u001b[1m \u001b[0m┃\u001b[1m \u001b[0m\u001b[1mlongitude\u001b[0m\u001b[1m \u001b[0m┃\u001b[1m \u001b[0m\u001b[1mnumber\u001b[0m\u001b[1m \u001b[0m┃\u001b[1m \u001b[0m\u001b[1mexpver\u001b[0m\u001b[1m \u001b[0m┃\u001b[1m \u001b[0m\u001b[1mt2m\u001b[0m\u001b[1m       \u001b[0m\u001b[1m \u001b[0m┃\u001b[1m \u001b[0m\u001b[1mpoint\u001b[0m\u001b[1m                \u001b[0m\u001b[1m \u001b[0m┃\u001b[1m \u001b[0m\u001b[1mGID_3\u001b[0m\u001b[1m       \u001b[0m\u001b[1m \u001b[0m┃\u001b[1m \u001b[0m\u001b[1mNAME_3\u001b[0m\u001b[1m   \u001b[0m\u001b[1m \u001b[0m┃\u001b[1m \u001b[0m\u001b[1mGID_2\u001b[0m\u001b[1m     \u001b[0m\u001b[1m \u001b[0m┃\u001b[1m \u001b[0m\u001b[1mNAME_2\u001b[0m\u001b[1m   \u001b[0m\u001b[1m \u001b[0m┃\u001b[1m \u001b[0m\u001b[1mGID_1\u001b[0m\u001b[1m   \u001b[0m\u001b[1m \u001b[0m┃\u001b[1m \u001b[0m\u001b[1mNAME_1\u001b[0m\u001b[1m           \u001b[0m\u001b[1m \u001b[0m┃\u001b[1m \u001b[0m\u001b[1mgeometry\u001b[0m\u001b[1m                                                                        \u001b[0m\u001b[1m \u001b[0m┃\n",
       "┡━━━━━━━━━━╇━━━━━━━━━━╇━━━━━━━━━━━╇━━━━━━━━╇━━━━━━━━╇━━━━━━━━━━━━╇━━━━━━━━━━━━━━━━━━━━━━━╇━━━━━━━━━━━━━━╇━━━━━━━━━━━╇━━━━━━━━━━━━╇━━━━━━━━━━━╇━━━━━━━━━━╇━━━━━━━━━━━━━━━━━━━╇━━━━━━━━━━━━━━━━━━━━━━━━━━━━━━━━━━━━━━━━━━━━━━━━━━━━━━━━━━━━━━━━━━━━━━━━━━━━━━━━━━┩\n",
       "│ \u001b[2mint64\u001b[0m    │ \u001b[2mfloat64\u001b[0m  │ \u001b[2mfloat64\u001b[0m   │ \u001b[2mint64\u001b[0m  │ \u001b[2mstring\u001b[0m │ \u001b[2mfloat32\u001b[0m    │ \u001b[2mpoint:geometry\u001b[0m        │ \u001b[2mstring\u001b[0m       │ \u001b[2mstring\u001b[0m    │ \u001b[2mstring\u001b[0m     │ \u001b[2mstring\u001b[0m    │ \u001b[2mstring\u001b[0m   │ \u001b[2mstring\u001b[0m            │ \u001b[2mgeospatial:geometry\u001b[0m                                                              │\n",
       "├──────────┼──────────┼───────────┼────────┼────────┼────────────┼───────────────────────┼──────────────┼───────────┼────────────┼───────────┼──────────┼───────────────────┼──────────────────────────────────────────────────────────────────────────────────┤\n",
       "│ \u001b[1;36m20090101\u001b[0m │    \u001b[1;36m34.00\u001b[0m │     \u001b[1;36m75.25\u001b[0m │      \u001b[1;36m0\u001b[0m │ \u001b[32m0001  \u001b[0m │ \u001b[1;36m266.682556\u001b[0m │ \u001b[1m<\u001b[0m\u001b[1;95mPOINT\u001b[0m\u001b[39m \u001b[0m\u001b[1;39m(\u001b[0m\u001b[1;36m75.25\u001b[0m\u001b[39m \u001b[0m\u001b[1;36m34\u001b[0m\u001b[1;39m)\u001b[0m\u001b[1m>\u001b[0m    │ \u001b[32mZ01.14.1.1_1\u001b[0m │ \u001b[32mn.a. ( 6)\u001b[0m │ \u001b[32mZ01.14.1_1\u001b[0m │ \u001b[32mAnantnag \u001b[0m │ \u001b[32mZ01.14_1\u001b[0m │ \u001b[32mJammu and Kashmir\u001b[0m │ \u001b[1m<\u001b[0m\u001b[1;95mMULTIPOLYGON\u001b[0m\u001b[39m \u001b[0m\u001b[1;39m(\u001b[0m\u001b[1;39m(\u001b[0m\u001b[1;39m(\u001b[0m\u001b[1;36m75.486\u001b[0m\u001b[39m \u001b[0m\u001b[1;36m33.41\u001b[0m\u001b[39m, \u001b[0m\u001b[1;36m75.478\u001b[0m\u001b[39m \u001b[0m\u001b[1;36m33.398\u001b[0m\u001b[39m, \u001b[0m\u001b[1;36m75.462\u001b[0m\u001b[39m \u001b[0m\u001b[1;36m33.398\u001b[0m\u001b[39m, \u001b[0m\u001b[1;36m75.456\u001b[0m\u001b[39m \u001b[0m\u001b[1;36m33.387\u001b[0m\u001b[39m, \u001b[0m\u001b[33m...\u001b[0m\u001b[1m>\u001b[0m │\n",
       "│ \u001b[1;36m20090101\u001b[0m │    \u001b[1;36m33.75\u001b[0m │     \u001b[1;36m75.25\u001b[0m │      \u001b[1;36m0\u001b[0m │ \u001b[32m0001  \u001b[0m │ \u001b[1;36m270.426697\u001b[0m │ \u001b[1m<\u001b[0m\u001b[1;95mPOINT\u001b[0m\u001b[39m \u001b[0m\u001b[1;39m(\u001b[0m\u001b[1;36m75.25\u001b[0m\u001b[39m \u001b[0m\u001b[1;36m33.75\u001b[0m\u001b[1;39m)\u001b[0m\u001b[1m>\u001b[0m │ \u001b[32mZ01.14.1.1_1\u001b[0m │ \u001b[32mn.a. ( 6)\u001b[0m │ \u001b[32mZ01.14.1_1\u001b[0m │ \u001b[32mAnantnag \u001b[0m │ \u001b[32mZ01.14_1\u001b[0m │ \u001b[32mJammu and Kashmir\u001b[0m │ \u001b[1m<\u001b[0m\u001b[1;95mMULTIPOLYGON\u001b[0m\u001b[39m \u001b[0m\u001b[1;39m(\u001b[0m\u001b[1;39m(\u001b[0m\u001b[1;39m(\u001b[0m\u001b[1;36m75.486\u001b[0m\u001b[39m \u001b[0m\u001b[1;36m33.41\u001b[0m\u001b[39m, \u001b[0m\u001b[1;36m75.478\u001b[0m\u001b[39m \u001b[0m\u001b[1;36m33.398\u001b[0m\u001b[39m, \u001b[0m\u001b[1;36m75.462\u001b[0m\u001b[39m \u001b[0m\u001b[1;36m33.398\u001b[0m\u001b[39m, \u001b[0m\u001b[1;36m75.456\u001b[0m\u001b[39m \u001b[0m\u001b[1;36m33.387\u001b[0m\u001b[39m, \u001b[0m\u001b[33m...\u001b[0m\u001b[1m>\u001b[0m │\n",
       "│ \u001b[1;36m20090101\u001b[0m │    \u001b[1;36m34.00\u001b[0m │     \u001b[1;36m74.50\u001b[0m │      \u001b[1;36m0\u001b[0m │ \u001b[32m0001  \u001b[0m │ \u001b[1;36m271.473572\u001b[0m │ \u001b[1m<\u001b[0m\u001b[1;95mPOINT\u001b[0m\u001b[39m \u001b[0m\u001b[1;39m(\u001b[0m\u001b[1;36m74.5\u001b[0m\u001b[39m \u001b[0m\u001b[1;36m34\u001b[0m\u001b[1;39m)\u001b[0m\u001b[1m>\u001b[0m     │ \u001b[32mZ01.14.2.1_1\u001b[0m │ \u001b[32mn.a. ( 8)\u001b[0m │ \u001b[32mZ01.14.2_1\u001b[0m │ \u001b[32mBadgam   \u001b[0m │ \u001b[32mZ01.14_1\u001b[0m │ \u001b[32mJammu and Kashmir\u001b[0m │ \u001b[1m<\u001b[0m\u001b[1;95mMULTIPOLYGON\u001b[0m\u001b[39m \u001b[0m\u001b[1;39m(\u001b[0m\u001b[1;39m(\u001b[0m\u001b[1;39m(\u001b[0m\u001b[1;36m74.561\u001b[0m\u001b[39m \u001b[0m\u001b[1;36m33.703\u001b[0m\u001b[39m, \u001b[0m\u001b[1;36m74.552\u001b[0m\u001b[39m \u001b[0m\u001b[1;36m33.696\u001b[0m\u001b[39m, \u001b[0m\u001b[1;36m74.544\u001b[0m\u001b[39m \u001b[0m\u001b[1;36m33.691\u001b[0m\u001b[39m, \u001b[0m\u001b[1;36m74.535\u001b[0m\u001b[39m \u001b[0m\u001b[1;36m33.686\u001b[0m\u001b[39m,\u001b[0m\u001b[33m...\u001b[0m\u001b[1m>\u001b[0m │\n",
       "│ \u001b[1;36m20090101\u001b[0m │    \u001b[1;36m34.00\u001b[0m │     \u001b[1;36m74.75\u001b[0m │      \u001b[1;36m0\u001b[0m │ \u001b[32m0001  \u001b[0m │ \u001b[1;36m273.565369\u001b[0m │ \u001b[1m<\u001b[0m\u001b[1;95mPOINT\u001b[0m\u001b[39m \u001b[0m\u001b[1;39m(\u001b[0m\u001b[1;36m74.75\u001b[0m\u001b[39m \u001b[0m\u001b[1;36m34\u001b[0m\u001b[1;39m)\u001b[0m\u001b[1m>\u001b[0m    │ \u001b[32mZ01.14.2.1_1\u001b[0m │ \u001b[32mn.a. ( 8)\u001b[0m │ \u001b[32mZ01.14.2_1\u001b[0m │ \u001b[32mBadgam   \u001b[0m │ \u001b[32mZ01.14_1\u001b[0m │ \u001b[32mJammu and Kashmir\u001b[0m │ \u001b[1m<\u001b[0m\u001b[1;95mMULTIPOLYGON\u001b[0m\u001b[39m \u001b[0m\u001b[1;39m(\u001b[0m\u001b[1;39m(\u001b[0m\u001b[1;39m(\u001b[0m\u001b[1;36m74.561\u001b[0m\u001b[39m \u001b[0m\u001b[1;36m33.703\u001b[0m\u001b[39m, \u001b[0m\u001b[1;36m74.552\u001b[0m\u001b[39m \u001b[0m\u001b[1;36m33.696\u001b[0m\u001b[39m, \u001b[0m\u001b[1;36m74.544\u001b[0m\u001b[39m \u001b[0m\u001b[1;36m33.691\u001b[0m\u001b[39m, \u001b[0m\u001b[1;36m74.535\u001b[0m\u001b[39m \u001b[0m\u001b[1;36m33.686\u001b[0m\u001b[39m,\u001b[0m\u001b[33m...\u001b[0m\u001b[1m>\u001b[0m │\n",
       "│ \u001b[1;36m20090101\u001b[0m │    \u001b[1;36m33.75\u001b[0m │     \u001b[1;36m74.50\u001b[0m │      \u001b[1;36m0\u001b[0m │ \u001b[32m0001  \u001b[0m │ \u001b[1;36m269.899353\u001b[0m │ \u001b[1m<\u001b[0m\u001b[1;95mPOINT\u001b[0m\u001b[39m \u001b[0m\u001b[1;39m(\u001b[0m\u001b[1;36m74.5\u001b[0m\u001b[39m \u001b[0m\u001b[1;36m33.75\u001b[0m\u001b[1;39m)\u001b[0m\u001b[1m>\u001b[0m  │ \u001b[32mZ01.14.2.1_1\u001b[0m │ \u001b[32mn.a. ( 8)\u001b[0m │ \u001b[32mZ01.14.2_1\u001b[0m │ \u001b[32mBadgam   \u001b[0m │ \u001b[32mZ01.14_1\u001b[0m │ \u001b[32mJammu and Kashmir\u001b[0m │ \u001b[1m<\u001b[0m\u001b[1;95mMULTIPOLYGON\u001b[0m\u001b[39m \u001b[0m\u001b[1;39m(\u001b[0m\u001b[1;39m(\u001b[0m\u001b[1;39m(\u001b[0m\u001b[1;36m74.561\u001b[0m\u001b[39m \u001b[0m\u001b[1;36m33.703\u001b[0m\u001b[39m, \u001b[0m\u001b[1;36m74.552\u001b[0m\u001b[39m \u001b[0m\u001b[1;36m33.696\u001b[0m\u001b[39m, \u001b[0m\u001b[1;36m74.544\u001b[0m\u001b[39m \u001b[0m\u001b[1;36m33.691\u001b[0m\u001b[39m, \u001b[0m\u001b[1;36m74.535\u001b[0m\u001b[39m \u001b[0m\u001b[1;36m33.686\u001b[0m\u001b[39m,\u001b[0m\u001b[33m...\u001b[0m\u001b[1m>\u001b[0m │\n",
       "│ \u001b[1;36m20090101\u001b[0m │    \u001b[1;36m34.50\u001b[0m │     \u001b[1;36m74.75\u001b[0m │      \u001b[1;36m0\u001b[0m │ \u001b[32m0001  \u001b[0m │ \u001b[1;36m267.184509\u001b[0m │ \u001b[1m<\u001b[0m\u001b[1;95mPOINT\u001b[0m\u001b[39m \u001b[0m\u001b[1;39m(\u001b[0m\u001b[1;36m74.75\u001b[0m\u001b[39m \u001b[0m\u001b[1;36m34.5\u001b[0m\u001b[1;39m)\u001b[0m\u001b[1m>\u001b[0m  │ \u001b[32mZ01.14.3.1_1\u001b[0m │ \u001b[32mn.a. ( 4)\u001b[0m │ \u001b[32mZ01.14.3_1\u001b[0m │ \u001b[32mBandipore\u001b[0m │ \u001b[32mZ01.14_1\u001b[0m │ \u001b[32mJammu and Kashmir\u001b[0m │ \u001b[1m<\u001b[0m\u001b[1;95mMULTIPOLYGON\u001b[0m\u001b[39m \u001b[0m\u001b[1;39m(\u001b[0m\u001b[1;39m(\u001b[0m\u001b[1;39m(\u001b[0m\u001b[1;36m74.577\u001b[0m\u001b[39m \u001b[0m\u001b[1;36m34.769\u001b[0m\u001b[39m, \u001b[0m\u001b[1;36m74.58\u001b[0m\u001b[39m \u001b[0m\u001b[1;36m34.77\u001b[0m\u001b[39m, \u001b[0m\u001b[1;36m74.612\u001b[0m\u001b[39m \u001b[0m\u001b[1;36m34.746\u001b[0m\u001b[39m, \u001b[0m\u001b[1;36m74.618\u001b[0m\u001b[39m \u001b[0m\u001b[1;36m34.742\u001b[0m\u001b[39m, \u001b[0m\u001b[1;36m7\u001b[0m\u001b[33m...\u001b[0m\u001b[1m>\u001b[0m │\n",
       "│ \u001b[1;36m20090101\u001b[0m │    \u001b[1;36m34.50\u001b[0m │     \u001b[1;36m75.00\u001b[0m │      \u001b[1;36m0\u001b[0m │ \u001b[32m0001  \u001b[0m │ \u001b[1;36m261.362244\u001b[0m │ \u001b[1m<\u001b[0m\u001b[1;95mPOINT\u001b[0m\u001b[39m \u001b[0m\u001b[1;39m(\u001b[0m\u001b[1;36m75\u001b[0m\u001b[39m \u001b[0m\u001b[1;36m34.5\u001b[0m\u001b[1;39m)\u001b[0m\u001b[1m>\u001b[0m     │ \u001b[32mZ01.14.3.1_1\u001b[0m │ \u001b[32mn.a. ( 4)\u001b[0m │ \u001b[32mZ01.14.3_1\u001b[0m │ \u001b[32mBandipore\u001b[0m │ \u001b[32mZ01.14_1\u001b[0m │ \u001b[32mJammu and Kashmir\u001b[0m │ \u001b[1m<\u001b[0m\u001b[1;95mMULTIPOLYGON\u001b[0m\u001b[39m \u001b[0m\u001b[1;39m(\u001b[0m\u001b[1;39m(\u001b[0m\u001b[1;39m(\u001b[0m\u001b[1;36m74.577\u001b[0m\u001b[39m \u001b[0m\u001b[1;36m34.769\u001b[0m\u001b[39m, \u001b[0m\u001b[1;36m74.58\u001b[0m\u001b[39m \u001b[0m\u001b[1;36m34.77\u001b[0m\u001b[39m, \u001b[0m\u001b[1;36m74.612\u001b[0m\u001b[39m \u001b[0m\u001b[1;36m34.746\u001b[0m\u001b[39m, \u001b[0m\u001b[1;36m74.618\u001b[0m\u001b[39m \u001b[0m\u001b[1;36m34.742\u001b[0m\u001b[39m, \u001b[0m\u001b[1;36m7\u001b[0m\u001b[33m...\u001b[0m\u001b[1m>\u001b[0m │\n",
       "│ \u001b[1;36m20090101\u001b[0m │    \u001b[1;36m34.50\u001b[0m │     \u001b[1;36m75.25\u001b[0m │      \u001b[1;36m0\u001b[0m │ \u001b[32m0001  \u001b[0m │ \u001b[1;36m258.766541\u001b[0m │ \u001b[1m<\u001b[0m\u001b[1;95mPOINT\u001b[0m\u001b[39m \u001b[0m\u001b[1;39m(\u001b[0m\u001b[1;36m75.25\u001b[0m\u001b[39m \u001b[0m\u001b[1;36m34.5\u001b[0m\u001b[1;39m)\u001b[0m\u001b[1m>\u001b[0m  │ \u001b[32mZ01.14.3.1_1\u001b[0m │ \u001b[32mn.a. ( 4)\u001b[0m │ \u001b[32mZ01.14.3_1\u001b[0m │ \u001b[32mBandipore\u001b[0m │ \u001b[32mZ01.14_1\u001b[0m │ \u001b[32mJammu and Kashmir\u001b[0m │ \u001b[1m<\u001b[0m\u001b[1;95mMULTIPOLYGON\u001b[0m\u001b[39m \u001b[0m\u001b[1;39m(\u001b[0m\u001b[1;39m(\u001b[0m\u001b[1;39m(\u001b[0m\u001b[1;36m74.577\u001b[0m\u001b[39m \u001b[0m\u001b[1;36m34.769\u001b[0m\u001b[39m, \u001b[0m\u001b[1;36m74.58\u001b[0m\u001b[39m \u001b[0m\u001b[1;36m34.77\u001b[0m\u001b[39m, \u001b[0m\u001b[1;36m74.612\u001b[0m\u001b[39m \u001b[0m\u001b[1;36m34.746\u001b[0m\u001b[39m, \u001b[0m\u001b[1;36m74.618\u001b[0m\u001b[39m \u001b[0m\u001b[1;36m34.742\u001b[0m\u001b[39m, \u001b[0m\u001b[1;36m7\u001b[0m\u001b[33m...\u001b[0m\u001b[1m>\u001b[0m │\n",
       "│ \u001b[1;36m20090101\u001b[0m │    \u001b[1;36m34.50\u001b[0m │     \u001b[1;36m74.50\u001b[0m │      \u001b[1;36m0\u001b[0m │ \u001b[32m0001  \u001b[0m │ \u001b[1;36m268.680603\u001b[0m │ \u001b[1m<\u001b[0m\u001b[1;95mPOINT\u001b[0m\u001b[39m \u001b[0m\u001b[1;39m(\u001b[0m\u001b[1;36m74.5\u001b[0m\u001b[39m \u001b[0m\u001b[1;36m34.5\u001b[0m\u001b[1;39m)\u001b[0m\u001b[1m>\u001b[0m   │ \u001b[32mZ01.14.4.1_1\u001b[0m │ \u001b[32mn.a. ( 4)\u001b[0m │ \u001b[32mZ01.14.4_1\u001b[0m │ \u001b[32mBaramulla\u001b[0m │ \u001b[32mZ01.14_1\u001b[0m │ \u001b[32mJammu and Kashmir\u001b[0m │ \u001b[1m<\u001b[0m\u001b[1;95mMULTIPOLYGON\u001b[0m\u001b[39m \u001b[0m\u001b[1;39m(\u001b[0m\u001b[1;39m(\u001b[0m\u001b[1;39m(\u001b[0m\u001b[1;36m74.255\u001b[0m\u001b[39m \u001b[0m\u001b[1;36m33.997\u001b[0m\u001b[39m, \u001b[0m\u001b[1;36m74.249\u001b[0m\u001b[39m \u001b[0m\u001b[1;36m34.014\u001b[0m\u001b[39m, \u001b[0m\u001b[1;36m74.247\u001b[0m\u001b[39m \u001b[0m\u001b[1;36m34.016\u001b[0m\u001b[39m, \u001b[0m\u001b[1;36m74.237\u001b[0m\u001b[39m \u001b[0m\u001b[1;36m34.026\u001b[0m\u001b[39m,\u001b[0m\u001b[33m...\u001b[0m\u001b[1m>\u001b[0m │\n",
       "│ \u001b[1;36m20090101\u001b[0m │    \u001b[1;36m34.25\u001b[0m │     \u001b[1;36m74.25\u001b[0m │      \u001b[1;36m0\u001b[0m │ \u001b[32m0001  \u001b[0m │ \u001b[1;36m270.403259\u001b[0m │ \u001b[1m<\u001b[0m\u001b[1;95mPOINT\u001b[0m\u001b[39m \u001b[0m\u001b[1;39m(\u001b[0m\u001b[1;36m74.25\u001b[0m\u001b[39m \u001b[0m\u001b[1;36m34.25\u001b[0m\u001b[1;39m)\u001b[0m\u001b[1m>\u001b[0m │ \u001b[32mZ01.14.4.1_1\u001b[0m │ \u001b[32mn.a. ( 4)\u001b[0m │ \u001b[32mZ01.14.4_1\u001b[0m │ \u001b[32mBaramulla\u001b[0m │ \u001b[32mZ01.14_1\u001b[0m │ \u001b[32mJammu and Kashmir\u001b[0m │ \u001b[1m<\u001b[0m\u001b[1;95mMULTIPOLYGON\u001b[0m\u001b[39m \u001b[0m\u001b[1;39m(\u001b[0m\u001b[1;39m(\u001b[0m\u001b[1;39m(\u001b[0m\u001b[1;36m74.255\u001b[0m\u001b[39m \u001b[0m\u001b[1;36m33.997\u001b[0m\u001b[39m, \u001b[0m\u001b[1;36m74.249\u001b[0m\u001b[39m \u001b[0m\u001b[1;36m34.014\u001b[0m\u001b[39m, \u001b[0m\u001b[1;36m74.247\u001b[0m\u001b[39m \u001b[0m\u001b[1;36m34.016\u001b[0m\u001b[39m, \u001b[0m\u001b[1;36m74.237\u001b[0m\u001b[39m \u001b[0m\u001b[1;36m34.026\u001b[0m\u001b[39m,\u001b[0m\u001b[33m...\u001b[0m\u001b[1m>\u001b[0m │\n",
       "│        \u001b[2m…\u001b[0m │        \u001b[2m…\u001b[0m │         \u001b[2m…\u001b[0m │      \u001b[2m…\u001b[0m │ \u001b[2m…\u001b[0m      │          \u001b[2m…\u001b[0m │ \u001b[2m…\u001b[0m                     │ \u001b[2m…\u001b[0m            │ \u001b[2m…\u001b[0m         │ \u001b[2m…\u001b[0m          │ \u001b[2m…\u001b[0m         │ \u001b[2m…\u001b[0m        │ \u001b[2m…\u001b[0m                 │ \u001b[2m…\u001b[0m                                                                                │\n",
       "└──────────┴──────────┴───────────┴────────┴────────┴────────────┴───────────────────────┴──────────────┴───────────┴────────────┴───────────┴──────────┴───────────────────┴──────────────────────────────────────────────────────────────────────────────────┘"
      ]
     },
     "execution_count": 52,
     "metadata": {},
     "output_type": "execute_result"
    }
   ],
   "source": [
    "combined.group_by(['date'])"
   ]
  },
  {
   "cell_type": "code",
   "execution_count": 37,
   "metadata": {},
   "outputs": [
    {
     "name": "stderr",
     "output_type": "stream",
     "text": [
      "/home/denis/.cache/pypoetry/virtualenvs/india-climate-agri-database-dWLTZUkq-py3.12/lib/python3.12/site-packages/lonboard/_geoarrow/ops/reproject.py:33: UserWarning: No CRS exists on data. If no data is shown on the map, double check that your CRS is WGS84.\n",
      "  warn(\n"
     ]
    },
    {
     "data": {
      "application/vnd.jupyter.widget-view+json": {
       "model_id": "67e067c8f4ab4dbd8adfa66e70be90d8",
       "version_major": 2,
       "version_minor": 1
      },
      "text/plain": [
       "Map(basemap_style=<CartoBasemap.DarkMatter: 'https://basemaps.cartocdn.com/gl/dark-matter-gl-style/style.json'…"
      ]
     },
     "execution_count": 37,
     "metadata": {},
     "output_type": "execute_result"
    }
   ],
   "source": [
    "lonboard.viz(t)"
   ]
  },
  {
   "cell_type": "code",
   "execution_count": 53,
   "metadata": {},
   "outputs": [
    {
     "ename": "ParserException",
     "evalue": "Parser Error: Expected a constant as type modifier",
     "output_type": "error",
     "traceback": [
      "\u001b[0;31m---------------------------------------------------------------------------\u001b[0m",
      "\u001b[0;31mParserException\u001b[0m                           Traceback (most recent call last)",
      "Cell \u001b[0;32mIn[53], line 7\u001b[0m\n\u001b[1;32m      3\u001b[0m updated_table \u001b[38;5;241m=\u001b[39m table\u001b[38;5;241m.\u001b[39mmutate(\n\u001b[1;32m      4\u001b[0m     point\u001b[38;5;241m=\u001b[39mtable\u001b[38;5;241m.\u001b[39mlongitude\u001b[38;5;241m.\u001b[39mpoint(table\u001b[38;5;241m.\u001b[39mlatitude)\n\u001b[1;32m      5\u001b[0m )\n\u001b[1;32m      6\u001b[0m \u001b[38;5;66;03m# Save changes to a new table with \"_updated\" suffix\u001b[39;00m\n\u001b[0;32m----> 7\u001b[0m \u001b[43mcon\u001b[49m\u001b[38;5;241;43m.\u001b[39;49m\u001b[43mcreate_table\u001b[49m\u001b[43m(\u001b[49m\n\u001b[1;32m      8\u001b[0m \u001b[43m    \u001b[49m\u001b[43mname\u001b[49m\u001b[43m \u001b[49m\u001b[38;5;241;43m=\u001b[39;49m\u001b[43m \u001b[49m\u001b[43mt\u001b[49m\u001b[43m,\u001b[49m\n\u001b[1;32m      9\u001b[0m \u001b[43m    \u001b[49m\u001b[43mobj\u001b[49m\u001b[43m \u001b[49m\u001b[38;5;241;43m=\u001b[39;49m\u001b[43m \u001b[49m\u001b[43mupdated_table\u001b[49m\u001b[43m,\u001b[49m\n\u001b[1;32m     10\u001b[0m \u001b[43m    \u001b[49m\u001b[43moverwrite\u001b[49m\u001b[38;5;241;43m=\u001b[39;49m\u001b[38;5;28;43;01mTrue\u001b[39;49;00m\n\u001b[1;32m     11\u001b[0m \u001b[43m\u001b[49m\u001b[43m)\u001b[49m\n",
      "File \u001b[0;32m~/.cache/pypoetry/virtualenvs/india-climate-agri-database-dWLTZUkq-py3.12/lib/python3.12/site-packages/ibis/backends/duckdb/__init__.py:197\u001b[0m, in \u001b[0;36mBackend.create_table\u001b[0;34m(self, name, obj, schema, database, temp, overwrite)\u001b[0m\n\u001b[1;32m    193\u001b[0m \u001b[38;5;66;03m# This is the same table as initial_table unless overwrite == True\u001b[39;00m\n\u001b[1;32m    194\u001b[0m final_table \u001b[38;5;241m=\u001b[39m sg\u001b[38;5;241m.\u001b[39mtable(\n\u001b[1;32m    195\u001b[0m     name, catalog\u001b[38;5;241m=\u001b[39mcatalog, db\u001b[38;5;241m=\u001b[39mdatabase, quoted\u001b[38;5;241m=\u001b[39m\u001b[38;5;28mself\u001b[39m\u001b[38;5;241m.\u001b[39mcompiler\u001b[38;5;241m.\u001b[39mquoted\n\u001b[1;32m    196\u001b[0m )\n\u001b[0;32m--> 197\u001b[0m \u001b[43m\u001b[49m\u001b[38;5;28;43;01mwith\u001b[39;49;00m\u001b[43m \u001b[49m\u001b[38;5;28;43mself\u001b[39;49m\u001b[38;5;241;43m.\u001b[39;49m\u001b[43m_safe_raw_sql\u001b[49m\u001b[43m(\u001b[49m\u001b[43mcreate_stmt\u001b[49m\u001b[43m)\u001b[49m\u001b[43m \u001b[49m\u001b[38;5;28;43;01mas\u001b[39;49;00m\u001b[43m \u001b[49m\u001b[43mcur\u001b[49m\u001b[43m:\u001b[49m\n\u001b[1;32m    198\u001b[0m \u001b[43m    \u001b[49m\u001b[38;5;28;43;01mif\u001b[39;49;00m\u001b[43m \u001b[49m\u001b[43mquery\u001b[49m\u001b[43m \u001b[49m\u001b[38;5;129;43;01mis\u001b[39;49;00m\u001b[43m \u001b[49m\u001b[38;5;129;43;01mnot\u001b[39;49;00m\u001b[43m \u001b[49m\u001b[38;5;28;43;01mNone\u001b[39;49;00m\u001b[43m:\u001b[49m\n\u001b[1;32m    199\u001b[0m \u001b[43m        \u001b[49m\u001b[43minsert_stmt\u001b[49m\u001b[43m \u001b[49m\u001b[38;5;241;43m=\u001b[39;49m\u001b[43m \u001b[49m\u001b[43msge\u001b[49m\u001b[38;5;241;43m.\u001b[39;49m\u001b[43minsert\u001b[49m\u001b[43m(\u001b[49m\u001b[43mquery\u001b[49m\u001b[43m,\u001b[49m\u001b[43m \u001b[49m\u001b[43minto\u001b[49m\u001b[38;5;241;43m=\u001b[39;49m\u001b[43minitial_table\u001b[49m\u001b[43m)\u001b[49m\u001b[38;5;241;43m.\u001b[39;49m\u001b[43msql\u001b[49m\u001b[43m(\u001b[49m\u001b[38;5;28;43mself\u001b[39;49m\u001b[38;5;241;43m.\u001b[39;49m\u001b[43mname\u001b[49m\u001b[43m)\u001b[49m\n",
      "File \u001b[0;32m/usr/lib/python3.12/contextlib.py:137\u001b[0m, in \u001b[0;36m_GeneratorContextManager.__enter__\u001b[0;34m(self)\u001b[0m\n\u001b[1;32m    135\u001b[0m \u001b[38;5;28;01mdel\u001b[39;00m \u001b[38;5;28mself\u001b[39m\u001b[38;5;241m.\u001b[39margs, \u001b[38;5;28mself\u001b[39m\u001b[38;5;241m.\u001b[39mkwds, \u001b[38;5;28mself\u001b[39m\u001b[38;5;241m.\u001b[39mfunc\n\u001b[1;32m    136\u001b[0m \u001b[38;5;28;01mtry\u001b[39;00m:\n\u001b[0;32m--> 137\u001b[0m     \u001b[38;5;28;01mreturn\u001b[39;00m \u001b[38;5;28;43mnext\u001b[39;49m\u001b[43m(\u001b[49m\u001b[38;5;28;43mself\u001b[39;49m\u001b[38;5;241;43m.\u001b[39;49m\u001b[43mgen\u001b[49m\u001b[43m)\u001b[49m\n\u001b[1;32m    138\u001b[0m \u001b[38;5;28;01mexcept\u001b[39;00m \u001b[38;5;167;01mStopIteration\u001b[39;00m:\n\u001b[1;32m    139\u001b[0m     \u001b[38;5;28;01mraise\u001b[39;00m \u001b[38;5;167;01mRuntimeError\u001b[39;00m(\u001b[38;5;124m\"\u001b[39m\u001b[38;5;124mgenerator didn\u001b[39m\u001b[38;5;124m'\u001b[39m\u001b[38;5;124mt yield\u001b[39m\u001b[38;5;124m\"\u001b[39m) \u001b[38;5;28;01mfrom\u001b[39;00m \u001b[38;5;28;01mNone\u001b[39;00m\n",
      "File \u001b[0;32m~/.cache/pypoetry/virtualenvs/india-climate-agri-database-dWLTZUkq-py3.12/lib/python3.12/site-packages/ibis/backends/duckdb/__init__.py:323\u001b[0m, in \u001b[0;36mBackend._safe_raw_sql\u001b[0;34m(self, *args, **kwargs)\u001b[0m\n\u001b[1;32m    321\u001b[0m \u001b[38;5;129m@contextlib\u001b[39m\u001b[38;5;241m.\u001b[39mcontextmanager\n\u001b[1;32m    322\u001b[0m \u001b[38;5;28;01mdef\u001b[39;00m \u001b[38;5;21m_safe_raw_sql\u001b[39m(\u001b[38;5;28mself\u001b[39m, \u001b[38;5;241m*\u001b[39margs, \u001b[38;5;241m*\u001b[39m\u001b[38;5;241m*\u001b[39mkwargs):\n\u001b[0;32m--> 323\u001b[0m     \u001b[38;5;28;01myield\u001b[39;00m \u001b[38;5;28;43mself\u001b[39;49m\u001b[38;5;241;43m.\u001b[39;49m\u001b[43mraw_sql\u001b[49m\u001b[43m(\u001b[49m\u001b[38;5;241;43m*\u001b[39;49m\u001b[43margs\u001b[49m\u001b[43m,\u001b[49m\u001b[43m \u001b[49m\u001b[38;5;241;43m*\u001b[39;49m\u001b[38;5;241;43m*\u001b[39;49m\u001b[43mkwargs\u001b[49m\u001b[43m)\u001b[49m\n",
      "File \u001b[0;32m~/.cache/pypoetry/virtualenvs/india-climate-agri-database-dWLTZUkq-py3.12/lib/python3.12/site-packages/ibis/backends/duckdb/__init__.py:97\u001b[0m, in \u001b[0;36mBackend.raw_sql\u001b[0;34m(self, query, **kwargs)\u001b[0m\n\u001b[1;32m     95\u001b[0m \u001b[38;5;28;01mwith\u001b[39;00m contextlib\u001b[38;5;241m.\u001b[39msuppress(\u001b[38;5;167;01mAttributeError\u001b[39;00m):\n\u001b[1;32m     96\u001b[0m     query \u001b[38;5;241m=\u001b[39m query\u001b[38;5;241m.\u001b[39msql(dialect\u001b[38;5;241m=\u001b[39m\u001b[38;5;28mself\u001b[39m\u001b[38;5;241m.\u001b[39mname)\n\u001b[0;32m---> 97\u001b[0m \u001b[38;5;28;01mreturn\u001b[39;00m \u001b[38;5;28;43mself\u001b[39;49m\u001b[38;5;241;43m.\u001b[39;49m\u001b[43mcon\u001b[49m\u001b[38;5;241;43m.\u001b[39;49m\u001b[43mexecute\u001b[49m\u001b[43m(\u001b[49m\u001b[43mquery\u001b[49m\u001b[43m,\u001b[49m\u001b[43m \u001b[49m\u001b[38;5;241;43m*\u001b[39;49m\u001b[38;5;241;43m*\u001b[39;49m\u001b[43mkwargs\u001b[49m\u001b[43m)\u001b[49m\n",
      "\u001b[0;31mParserException\u001b[0m: Parser Error: Expected a constant as type modifier"
     ]
    }
   ],
   "source": [
    "for t in climate_tables:\n",
    "    table = con.table(t, database='climate')\n",
    "    updated_table = table.mutate(\n",
    "        point=table.longitude.point(table.latitude)\n",
    "    )\n",
    "    # Save changes to a new table with \"_updated\" suffix\n",
    "    con.create_table(\n",
    "        name = t,\n",
    "        obj = updated_table,\n",
    "        overwrite=True\n",
    "    )\n",
    "    "
   ]
  },
  {
   "cell_type": "code",
   "execution_count": 51,
   "metadata": {},
   "outputs": [
    {
     "data": {
      "text/html": [
       "<pre style=\"white-space:pre;overflow-x:auto;line-height:normal;font-family:Menlo,'DejaVu Sans Mono',consolas,'Courier New',monospace\">┏━━━━━━━━━━┳━━━━━━━━━━┳━━━━━━━━━━━┳━━━━━━━━┳━━━━━━━━┳━━━━━━━━━━━┳━━━━━━━━━━━━━━━━━━━━┓\n",
       "┃<span style=\"font-weight: bold\"> date     </span>┃<span style=\"font-weight: bold\"> latitude </span>┃<span style=\"font-weight: bold\"> longitude </span>┃<span style=\"font-weight: bold\"> number </span>┃<span style=\"font-weight: bold\"> expver </span>┃<span style=\"font-weight: bold\"> v10       </span>┃<span style=\"font-weight: bold\"> point              </span>┃\n",
       "┡━━━━━━━━━━╇━━━━━━━━━━╇━━━━━━━━━━━╇━━━━━━━━╇━━━━━━━━╇━━━━━━━━━━━╇━━━━━━━━━━━━━━━━━━━━┩\n",
       "│ <span style=\"color: #7f7f7f; text-decoration-color: #7f7f7f\">int64</span>    │ <span style=\"color: #7f7f7f; text-decoration-color: #7f7f7f\">float64</span>  │ <span style=\"color: #7f7f7f; text-decoration-color: #7f7f7f\">float64</span>   │ <span style=\"color: #7f7f7f; text-decoration-color: #7f7f7f\">int64</span>  │ <span style=\"color: #7f7f7f; text-decoration-color: #7f7f7f\">string</span> │ <span style=\"color: #7f7f7f; text-decoration-color: #7f7f7f\">float32</span>   │ <span style=\"color: #7f7f7f; text-decoration-color: #7f7f7f\">point:geometry</span>     │\n",
       "├──────────┼──────────┼───────────┼────────┼────────┼───────────┼────────────────────┤\n",
       "│ <span style=\"color: #008080; text-decoration-color: #008080; font-weight: bold\">20090101</span> │     <span style=\"color: #008080; text-decoration-color: #008080; font-weight: bold\">38.0</span> │     <span style=\"color: #008080; text-decoration-color: #008080; font-weight: bold\">68.00</span> │      <span style=\"color: #008080; text-decoration-color: #008080; font-weight: bold\">0</span> │ <span style=\"color: #008000; text-decoration-color: #008000\">0001  </span> │  <span style=\"color: #008080; text-decoration-color: #008080; font-weight: bold\">0.268668</span> │ <span style=\"font-weight: bold\">&lt;</span><span style=\"color: #ff00ff; text-decoration-color: #ff00ff; font-weight: bold\">POINT</span><span style=\"color: #000000; text-decoration-color: #000000\"> </span><span style=\"color: #000000; text-decoration-color: #000000; font-weight: bold\">(</span><span style=\"color: #008080; text-decoration-color: #008080; font-weight: bold\">68</span><span style=\"color: #000000; text-decoration-color: #000000\"> </span><span style=\"color: #008080; text-decoration-color: #008080; font-weight: bold\">38</span><span style=\"color: #000000; text-decoration-color: #000000; font-weight: bold\">)</span><span style=\"font-weight: bold\">&gt;</span>    │\n",
       "│ <span style=\"color: #008080; text-decoration-color: #008080; font-weight: bold\">20090101</span> │     <span style=\"color: #008080; text-decoration-color: #008080; font-weight: bold\">38.0</span> │     <span style=\"color: #008080; text-decoration-color: #008080; font-weight: bold\">68.25</span> │      <span style=\"color: #008080; text-decoration-color: #008080; font-weight: bold\">0</span> │ <span style=\"color: #008000; text-decoration-color: #008000\">0001  </span> │ <span style=\"color: #008080; text-decoration-color: #008080; font-weight: bold\">-0.024789</span> │ <span style=\"font-weight: bold\">&lt;</span><span style=\"color: #ff00ff; text-decoration-color: #ff00ff; font-weight: bold\">POINT</span><span style=\"color: #000000; text-decoration-color: #000000\"> </span><span style=\"color: #000000; text-decoration-color: #000000; font-weight: bold\">(</span><span style=\"color: #008080; text-decoration-color: #008080; font-weight: bold\">68.25</span><span style=\"color: #000000; text-decoration-color: #000000\"> </span><span style=\"color: #008080; text-decoration-color: #008080; font-weight: bold\">38</span><span style=\"color: #000000; text-decoration-color: #000000; font-weight: bold\">)</span><span style=\"font-weight: bold\">&gt;</span> │\n",
       "│ <span style=\"color: #008080; text-decoration-color: #008080; font-weight: bold\">20090101</span> │     <span style=\"color: #008080; text-decoration-color: #008080; font-weight: bold\">38.0</span> │     <span style=\"color: #008080; text-decoration-color: #008080; font-weight: bold\">68.50</span> │      <span style=\"color: #008080; text-decoration-color: #008080; font-weight: bold\">0</span> │ <span style=\"color: #008000; text-decoration-color: #008000\">0001  </span> │ <span style=\"color: #008080; text-decoration-color: #008080; font-weight: bold\">-0.416879</span> │ <span style=\"font-weight: bold\">&lt;</span><span style=\"color: #ff00ff; text-decoration-color: #ff00ff; font-weight: bold\">POINT</span><span style=\"color: #000000; text-decoration-color: #000000\"> </span><span style=\"color: #000000; text-decoration-color: #000000; font-weight: bold\">(</span><span style=\"color: #008080; text-decoration-color: #008080; font-weight: bold\">68.5</span><span style=\"color: #000000; text-decoration-color: #000000\"> </span><span style=\"color: #008080; text-decoration-color: #008080; font-weight: bold\">38</span><span style=\"color: #000000; text-decoration-color: #000000; font-weight: bold\">)</span><span style=\"font-weight: bold\">&gt;</span>  │\n",
       "│ <span style=\"color: #008080; text-decoration-color: #008080; font-weight: bold\">20090101</span> │     <span style=\"color: #008080; text-decoration-color: #008080; font-weight: bold\">38.0</span> │     <span style=\"color: #008080; text-decoration-color: #008080; font-weight: bold\">68.75</span> │      <span style=\"color: #008080; text-decoration-color: #008080; font-weight: bold\">0</span> │ <span style=\"color: #008000; text-decoration-color: #008000\">0001  </span> │ <span style=\"color: #008080; text-decoration-color: #008080; font-weight: bold\">-0.877816</span> │ <span style=\"font-weight: bold\">&lt;</span><span style=\"color: #ff00ff; text-decoration-color: #ff00ff; font-weight: bold\">POINT</span><span style=\"color: #000000; text-decoration-color: #000000\"> </span><span style=\"color: #000000; text-decoration-color: #000000; font-weight: bold\">(</span><span style=\"color: #008080; text-decoration-color: #008080; font-weight: bold\">68.75</span><span style=\"color: #000000; text-decoration-color: #000000\"> </span><span style=\"color: #008080; text-decoration-color: #008080; font-weight: bold\">38</span><span style=\"color: #000000; text-decoration-color: #000000; font-weight: bold\">)</span><span style=\"font-weight: bold\">&gt;</span> │\n",
       "│ <span style=\"color: #008080; text-decoration-color: #008080; font-weight: bold\">20090101</span> │     <span style=\"color: #008080; text-decoration-color: #008080; font-weight: bold\">38.0</span> │     <span style=\"color: #008080; text-decoration-color: #008080; font-weight: bold\">69.00</span> │      <span style=\"color: #008080; text-decoration-color: #008080; font-weight: bold\">0</span> │ <span style=\"color: #008000; text-decoration-color: #008000\">0001  </span> │ <span style=\"color: #008080; text-decoration-color: #008080; font-weight: bold\">-0.818246</span> │ <span style=\"font-weight: bold\">&lt;</span><span style=\"color: #ff00ff; text-decoration-color: #ff00ff; font-weight: bold\">POINT</span><span style=\"color: #000000; text-decoration-color: #000000\"> </span><span style=\"color: #000000; text-decoration-color: #000000; font-weight: bold\">(</span><span style=\"color: #008080; text-decoration-color: #008080; font-weight: bold\">69</span><span style=\"color: #000000; text-decoration-color: #000000\"> </span><span style=\"color: #008080; text-decoration-color: #008080; font-weight: bold\">38</span><span style=\"color: #000000; text-decoration-color: #000000; font-weight: bold\">)</span><span style=\"font-weight: bold\">&gt;</span>    │\n",
       "│ <span style=\"color: #008080; text-decoration-color: #008080; font-weight: bold\">20090101</span> │     <span style=\"color: #008080; text-decoration-color: #008080; font-weight: bold\">38.0</span> │     <span style=\"color: #008080; text-decoration-color: #008080; font-weight: bold\">69.25</span> │      <span style=\"color: #008080; text-decoration-color: #008080; font-weight: bold\">0</span> │ <span style=\"color: #008000; text-decoration-color: #008000\">0001  </span> │ <span style=\"color: #008080; text-decoration-color: #008080; font-weight: bold\">-0.950570</span> │ <span style=\"font-weight: bold\">&lt;</span><span style=\"color: #ff00ff; text-decoration-color: #ff00ff; font-weight: bold\">POINT</span><span style=\"color: #000000; text-decoration-color: #000000\"> </span><span style=\"color: #000000; text-decoration-color: #000000; font-weight: bold\">(</span><span style=\"color: #008080; text-decoration-color: #008080; font-weight: bold\">69.25</span><span style=\"color: #000000; text-decoration-color: #000000\"> </span><span style=\"color: #008080; text-decoration-color: #008080; font-weight: bold\">38</span><span style=\"color: #000000; text-decoration-color: #000000; font-weight: bold\">)</span><span style=\"font-weight: bold\">&gt;</span> │\n",
       "│ <span style=\"color: #008080; text-decoration-color: #008080; font-weight: bold\">20090101</span> │     <span style=\"color: #008080; text-decoration-color: #008080; font-weight: bold\">38.0</span> │     <span style=\"color: #008080; text-decoration-color: #008080; font-weight: bold\">69.50</span> │      <span style=\"color: #008080; text-decoration-color: #008080; font-weight: bold\">0</span> │ <span style=\"color: #008000; text-decoration-color: #008000\">0001  </span> │ <span style=\"color: #008080; text-decoration-color: #008080; font-weight: bold\">-0.682504</span> │ <span style=\"font-weight: bold\">&lt;</span><span style=\"color: #ff00ff; text-decoration-color: #ff00ff; font-weight: bold\">POINT</span><span style=\"color: #000000; text-decoration-color: #000000\"> </span><span style=\"color: #000000; text-decoration-color: #000000; font-weight: bold\">(</span><span style=\"color: #008080; text-decoration-color: #008080; font-weight: bold\">69.5</span><span style=\"color: #000000; text-decoration-color: #000000\"> </span><span style=\"color: #008080; text-decoration-color: #008080; font-weight: bold\">38</span><span style=\"color: #000000; text-decoration-color: #000000; font-weight: bold\">)</span><span style=\"font-weight: bold\">&gt;</span>  │\n",
       "│ <span style=\"color: #008080; text-decoration-color: #008080; font-weight: bold\">20090101</span> │     <span style=\"color: #008080; text-decoration-color: #008080; font-weight: bold\">38.0</span> │     <span style=\"color: #008080; text-decoration-color: #008080; font-weight: bold\">69.75</span> │      <span style=\"color: #008080; text-decoration-color: #008080; font-weight: bold\">0</span> │ <span style=\"color: #008000; text-decoration-color: #008000\">0001  </span> │ <span style=\"color: #008080; text-decoration-color: #008080; font-weight: bold\">-0.304086</span> │ <span style=\"font-weight: bold\">&lt;</span><span style=\"color: #ff00ff; text-decoration-color: #ff00ff; font-weight: bold\">POINT</span><span style=\"color: #000000; text-decoration-color: #000000\"> </span><span style=\"color: #000000; text-decoration-color: #000000; font-weight: bold\">(</span><span style=\"color: #008080; text-decoration-color: #008080; font-weight: bold\">69.75</span><span style=\"color: #000000; text-decoration-color: #000000\"> </span><span style=\"color: #008080; text-decoration-color: #008080; font-weight: bold\">38</span><span style=\"color: #000000; text-decoration-color: #000000; font-weight: bold\">)</span><span style=\"font-weight: bold\">&gt;</span> │\n",
       "│ <span style=\"color: #008080; text-decoration-color: #008080; font-weight: bold\">20090101</span> │     <span style=\"color: #008080; text-decoration-color: #008080; font-weight: bold\">38.0</span> │     <span style=\"color: #008080; text-decoration-color: #008080; font-weight: bold\">70.00</span> │      <span style=\"color: #008080; text-decoration-color: #008080; font-weight: bold\">0</span> │ <span style=\"color: #008000; text-decoration-color: #008000\">0001  </span> │ <span style=\"color: #008080; text-decoration-color: #008080; font-weight: bold\">-0.027719</span> │ <span style=\"font-weight: bold\">&lt;</span><span style=\"color: #ff00ff; text-decoration-color: #ff00ff; font-weight: bold\">POINT</span><span style=\"color: #000000; text-decoration-color: #000000\"> </span><span style=\"color: #000000; text-decoration-color: #000000; font-weight: bold\">(</span><span style=\"color: #008080; text-decoration-color: #008080; font-weight: bold\">70</span><span style=\"color: #000000; text-decoration-color: #000000\"> </span><span style=\"color: #008080; text-decoration-color: #008080; font-weight: bold\">38</span><span style=\"color: #000000; text-decoration-color: #000000; font-weight: bold\">)</span><span style=\"font-weight: bold\">&gt;</span>    │\n",
       "│ <span style=\"color: #008080; text-decoration-color: #008080; font-weight: bold\">20090101</span> │     <span style=\"color: #008080; text-decoration-color: #008080; font-weight: bold\">38.0</span> │     <span style=\"color: #008080; text-decoration-color: #008080; font-weight: bold\">70.25</span> │      <span style=\"color: #008080; text-decoration-color: #008080; font-weight: bold\">0</span> │ <span style=\"color: #008000; text-decoration-color: #008000\">0001  </span> │  <span style=\"color: #008080; text-decoration-color: #008080; font-weight: bold\">0.094352</span> │ <span style=\"font-weight: bold\">&lt;</span><span style=\"color: #ff00ff; text-decoration-color: #ff00ff; font-weight: bold\">POINT</span><span style=\"color: #000000; text-decoration-color: #000000\"> </span><span style=\"color: #000000; text-decoration-color: #000000; font-weight: bold\">(</span><span style=\"color: #008080; text-decoration-color: #008080; font-weight: bold\">70.25</span><span style=\"color: #000000; text-decoration-color: #000000\"> </span><span style=\"color: #008080; text-decoration-color: #008080; font-weight: bold\">38</span><span style=\"color: #000000; text-decoration-color: #000000; font-weight: bold\">)</span><span style=\"font-weight: bold\">&gt;</span> │\n",
       "│        <span style=\"color: #7f7f7f; text-decoration-color: #7f7f7f\">…</span> │        <span style=\"color: #7f7f7f; text-decoration-color: #7f7f7f\">…</span> │         <span style=\"color: #7f7f7f; text-decoration-color: #7f7f7f\">…</span> │      <span style=\"color: #7f7f7f; text-decoration-color: #7f7f7f\">…</span> │ <span style=\"color: #7f7f7f; text-decoration-color: #7f7f7f\">…</span>      │         <span style=\"color: #7f7f7f; text-decoration-color: #7f7f7f\">…</span> │ <span style=\"color: #7f7f7f; text-decoration-color: #7f7f7f\">…</span>                  │\n",
       "└──────────┴──────────┴───────────┴────────┴────────┴───────────┴────────────────────┘\n",
       "</pre>\n"
      ],
      "text/plain": [
       "┏━━━━━━━━━━┳━━━━━━━━━━┳━━━━━━━━━━━┳━━━━━━━━┳━━━━━━━━┳━━━━━━━━━━━┳━━━━━━━━━━━━━━━━━━━━┓\n",
       "┃\u001b[1m \u001b[0m\u001b[1mdate\u001b[0m\u001b[1m    \u001b[0m\u001b[1m \u001b[0m┃\u001b[1m \u001b[0m\u001b[1mlatitude\u001b[0m\u001b[1m \u001b[0m┃\u001b[1m \u001b[0m\u001b[1mlongitude\u001b[0m\u001b[1m \u001b[0m┃\u001b[1m \u001b[0m\u001b[1mnumber\u001b[0m\u001b[1m \u001b[0m┃\u001b[1m \u001b[0m\u001b[1mexpver\u001b[0m\u001b[1m \u001b[0m┃\u001b[1m \u001b[0m\u001b[1mv10\u001b[0m\u001b[1m      \u001b[0m\u001b[1m \u001b[0m┃\u001b[1m \u001b[0m\u001b[1mpoint\u001b[0m\u001b[1m             \u001b[0m\u001b[1m \u001b[0m┃\n",
       "┡━━━━━━━━━━╇━━━━━━━━━━╇━━━━━━━━━━━╇━━━━━━━━╇━━━━━━━━╇━━━━━━━━━━━╇━━━━━━━━━━━━━━━━━━━━┩\n",
       "│ \u001b[2mint64\u001b[0m    │ \u001b[2mfloat64\u001b[0m  │ \u001b[2mfloat64\u001b[0m   │ \u001b[2mint64\u001b[0m  │ \u001b[2mstring\u001b[0m │ \u001b[2mfloat32\u001b[0m   │ \u001b[2mpoint:geometry\u001b[0m     │\n",
       "├──────────┼──────────┼───────────┼────────┼────────┼───────────┼────────────────────┤\n",
       "│ \u001b[1;36m20090101\u001b[0m │     \u001b[1;36m38.0\u001b[0m │     \u001b[1;36m68.00\u001b[0m │      \u001b[1;36m0\u001b[0m │ \u001b[32m0001  \u001b[0m │  \u001b[1;36m0.268668\u001b[0m │ \u001b[1m<\u001b[0m\u001b[1;95mPOINT\u001b[0m\u001b[39m \u001b[0m\u001b[1;39m(\u001b[0m\u001b[1;36m68\u001b[0m\u001b[39m \u001b[0m\u001b[1;36m38\u001b[0m\u001b[1;39m)\u001b[0m\u001b[1m>\u001b[0m    │\n",
       "│ \u001b[1;36m20090101\u001b[0m │     \u001b[1;36m38.0\u001b[0m │     \u001b[1;36m68.25\u001b[0m │      \u001b[1;36m0\u001b[0m │ \u001b[32m0001  \u001b[0m │ \u001b[1;36m-0.024789\u001b[0m │ \u001b[1m<\u001b[0m\u001b[1;95mPOINT\u001b[0m\u001b[39m \u001b[0m\u001b[1;39m(\u001b[0m\u001b[1;36m68.25\u001b[0m\u001b[39m \u001b[0m\u001b[1;36m38\u001b[0m\u001b[1;39m)\u001b[0m\u001b[1m>\u001b[0m │\n",
       "│ \u001b[1;36m20090101\u001b[0m │     \u001b[1;36m38.0\u001b[0m │     \u001b[1;36m68.50\u001b[0m │      \u001b[1;36m0\u001b[0m │ \u001b[32m0001  \u001b[0m │ \u001b[1;36m-0.416879\u001b[0m │ \u001b[1m<\u001b[0m\u001b[1;95mPOINT\u001b[0m\u001b[39m \u001b[0m\u001b[1;39m(\u001b[0m\u001b[1;36m68.5\u001b[0m\u001b[39m \u001b[0m\u001b[1;36m38\u001b[0m\u001b[1;39m)\u001b[0m\u001b[1m>\u001b[0m  │\n",
       "│ \u001b[1;36m20090101\u001b[0m │     \u001b[1;36m38.0\u001b[0m │     \u001b[1;36m68.75\u001b[0m │      \u001b[1;36m0\u001b[0m │ \u001b[32m0001  \u001b[0m │ \u001b[1;36m-0.877816\u001b[0m │ \u001b[1m<\u001b[0m\u001b[1;95mPOINT\u001b[0m\u001b[39m \u001b[0m\u001b[1;39m(\u001b[0m\u001b[1;36m68.75\u001b[0m\u001b[39m \u001b[0m\u001b[1;36m38\u001b[0m\u001b[1;39m)\u001b[0m\u001b[1m>\u001b[0m │\n",
       "│ \u001b[1;36m20090101\u001b[0m │     \u001b[1;36m38.0\u001b[0m │     \u001b[1;36m69.00\u001b[0m │      \u001b[1;36m0\u001b[0m │ \u001b[32m0001  \u001b[0m │ \u001b[1;36m-0.818246\u001b[0m │ \u001b[1m<\u001b[0m\u001b[1;95mPOINT\u001b[0m\u001b[39m \u001b[0m\u001b[1;39m(\u001b[0m\u001b[1;36m69\u001b[0m\u001b[39m \u001b[0m\u001b[1;36m38\u001b[0m\u001b[1;39m)\u001b[0m\u001b[1m>\u001b[0m    │\n",
       "│ \u001b[1;36m20090101\u001b[0m │     \u001b[1;36m38.0\u001b[0m │     \u001b[1;36m69.25\u001b[0m │      \u001b[1;36m0\u001b[0m │ \u001b[32m0001  \u001b[0m │ \u001b[1;36m-0.950570\u001b[0m │ \u001b[1m<\u001b[0m\u001b[1;95mPOINT\u001b[0m\u001b[39m \u001b[0m\u001b[1;39m(\u001b[0m\u001b[1;36m69.25\u001b[0m\u001b[39m \u001b[0m\u001b[1;36m38\u001b[0m\u001b[1;39m)\u001b[0m\u001b[1m>\u001b[0m │\n",
       "│ \u001b[1;36m20090101\u001b[0m │     \u001b[1;36m38.0\u001b[0m │     \u001b[1;36m69.50\u001b[0m │      \u001b[1;36m0\u001b[0m │ \u001b[32m0001  \u001b[0m │ \u001b[1;36m-0.682504\u001b[0m │ \u001b[1m<\u001b[0m\u001b[1;95mPOINT\u001b[0m\u001b[39m \u001b[0m\u001b[1;39m(\u001b[0m\u001b[1;36m69.5\u001b[0m\u001b[39m \u001b[0m\u001b[1;36m38\u001b[0m\u001b[1;39m)\u001b[0m\u001b[1m>\u001b[0m  │\n",
       "│ \u001b[1;36m20090101\u001b[0m │     \u001b[1;36m38.0\u001b[0m │     \u001b[1;36m69.75\u001b[0m │      \u001b[1;36m0\u001b[0m │ \u001b[32m0001  \u001b[0m │ \u001b[1;36m-0.304086\u001b[0m │ \u001b[1m<\u001b[0m\u001b[1;95mPOINT\u001b[0m\u001b[39m \u001b[0m\u001b[1;39m(\u001b[0m\u001b[1;36m69.75\u001b[0m\u001b[39m \u001b[0m\u001b[1;36m38\u001b[0m\u001b[1;39m)\u001b[0m\u001b[1m>\u001b[0m │\n",
       "│ \u001b[1;36m20090101\u001b[0m │     \u001b[1;36m38.0\u001b[0m │     \u001b[1;36m70.00\u001b[0m │      \u001b[1;36m0\u001b[0m │ \u001b[32m0001  \u001b[0m │ \u001b[1;36m-0.027719\u001b[0m │ \u001b[1m<\u001b[0m\u001b[1;95mPOINT\u001b[0m\u001b[39m \u001b[0m\u001b[1;39m(\u001b[0m\u001b[1;36m70\u001b[0m\u001b[39m \u001b[0m\u001b[1;36m38\u001b[0m\u001b[1;39m)\u001b[0m\u001b[1m>\u001b[0m    │\n",
       "│ \u001b[1;36m20090101\u001b[0m │     \u001b[1;36m38.0\u001b[0m │     \u001b[1;36m70.25\u001b[0m │      \u001b[1;36m0\u001b[0m │ \u001b[32m0001  \u001b[0m │  \u001b[1;36m0.094352\u001b[0m │ \u001b[1m<\u001b[0m\u001b[1;95mPOINT\u001b[0m\u001b[39m \u001b[0m\u001b[1;39m(\u001b[0m\u001b[1;36m70.25\u001b[0m\u001b[39m \u001b[0m\u001b[1;36m38\u001b[0m\u001b[1;39m)\u001b[0m\u001b[1m>\u001b[0m │\n",
       "│        \u001b[2m…\u001b[0m │        \u001b[2m…\u001b[0m │         \u001b[2m…\u001b[0m │      \u001b[2m…\u001b[0m │ \u001b[2m…\u001b[0m      │         \u001b[2m…\u001b[0m │ \u001b[2m…\u001b[0m                  │\n",
       "└──────────┴──────────┴───────────┴────────┴────────┴───────────┴────────────────────┘"
      ]
     },
     "execution_count": 51,
     "metadata": {},
     "output_type": "execute_result"
    }
   ],
   "source": [
    "updated_table"
   ]
  },
  {
   "cell_type": "markdown",
   "metadata": {},
   "source": [
    "#### Explore the data"
   ]
  },
  {
   "cell_type": "code",
   "execution_count": 54,
   "metadata": {},
   "outputs": [],
   "source": [
    "import ibis\n",
    "import lonboard\n",
    "\n",
    "ibis.options.interactive = True"
   ]
  },
  {
   "cell_type": "code",
   "execution_count": 55,
   "metadata": {},
   "outputs": [],
   "source": [
    "# Connect to DB\n",
    "con = ibis.duckdb.connect('db/india_model.ddb', extensions = ['spatial'])"
   ]
  },
  {
   "cell_type": "code",
   "execution_count": 56,
   "metadata": {},
   "outputs": [
    {
     "data": {
      "text/plain": [
       "['climate', 'information_schema', 'main', 'pg_catalog']"
      ]
     },
     "execution_count": 56,
     "metadata": {},
     "output_type": "execute_result"
    }
   ],
   "source": [
    "con.list_databases()"
   ]
  },
  {
   "cell_type": "code",
   "execution_count": 57,
   "metadata": {},
   "outputs": [
    {
     "data": {
      "text/plain": [
       "['soil_water_layer1',\n",
       " 'surface_solar_radiation_downwards',\n",
       " 'temperature_2m',\n",
       " 'total_precipitation',\n",
       " 'wind_u_component_10m',\n",
       " 'wind_v_component_10m']"
      ]
     },
     "execution_count": 57,
     "metadata": {},
     "output_type": "execute_result"
    }
   ],
   "source": [
    "con.list_tables(database='climate')"
   ]
  },
  {
   "cell_type": "code",
   "execution_count": 59,
   "metadata": {},
   "outputs": [
    {
     "ename": "AttributeError",
     "evalue": "module 'ibis' has no attribute 'point'. ",
     "output_type": "error",
     "traceback": [
      "\u001b[0;31m---------------------------------------------------------------------------\u001b[0m",
      "\u001b[0;31mAttributeError\u001b[0m                            Traceback (most recent call last)",
      "Cell \u001b[0;32mIn[59], line 3\u001b[0m\n\u001b[1;32m      1\u001b[0m t \u001b[38;5;241m=\u001b[39m con\u001b[38;5;241m.\u001b[39mtable(\u001b[38;5;124m'\u001b[39m\u001b[38;5;124mtemperature_2m\u001b[39m\u001b[38;5;124m'\u001b[39m, database\u001b[38;5;241m=\u001b[39m\u001b[38;5;124m'\u001b[39m\u001b[38;5;124mclimate\u001b[39m\u001b[38;5;124m'\u001b[39m)\n\u001b[0;32m----> 3\u001b[0m t\u001b[38;5;241m.\u001b[39mmutate(point\u001b[38;5;241m=\u001b[39m\u001b[43mibis\u001b[49m\u001b[38;5;241;43m.\u001b[39;49m\u001b[43mpoint\u001b[49m(t[\u001b[38;5;124m'\u001b[39m\u001b[38;5;124mlongitude\u001b[39m\u001b[38;5;124m'\u001b[39m], t[\u001b[38;5;124m'\u001b[39m\u001b[38;5;124mlatitude\u001b[39m\u001b[38;5;124m'\u001b[39m]))\n",
      "File \u001b[0;32m~/.cache/pypoetry/virtualenvs/india-climate-agri-database-dWLTZUkq-py3.12/lib/python3.12/site-packages/ibis/__init__.py:142\u001b[0m, in \u001b[0;36m__getattr__\u001b[0;34m(name)\u001b[0m\n\u001b[1;32m    140\u001b[0m     \u001b[38;5;28;01mreturn\u001b[39;00m null()  \u001b[38;5;66;03m# noqa: F405\u001b[39;00m\n\u001b[1;32m    141\u001b[0m \u001b[38;5;28;01melse\u001b[39;00m:\n\u001b[0;32m--> 142\u001b[0m     \u001b[38;5;28;01mreturn\u001b[39;00m \u001b[43mload_backend\u001b[49m\u001b[43m(\u001b[49m\u001b[43mname\u001b[49m\u001b[43m)\u001b[49m\n",
      "File \u001b[0;32m~/.cache/pypoetry/virtualenvs/india-climate-agri-database-dWLTZUkq-py3.12/lib/python3.12/site-packages/ibis/__init__.py:66\u001b[0m, in \u001b[0;36mload_backend\u001b[0;34m(name)\u001b[0m\n\u001b[1;32m     63\u001b[0m     \u001b[38;5;28;01mif\u001b[39;00m name \u001b[38;5;129;01min\u001b[39;00m _KNOWN_BACKENDS:\n\u001b[1;32m     64\u001b[0m         msg \u001b[38;5;241m+\u001b[39m\u001b[38;5;241m=\u001b[39m \u001b[38;5;124mf\u001b[39m\u001b[38;5;124m\"\"\"\u001b[39m\u001b[38;5;124mIf you are trying to access the \u001b[39m\u001b[38;5;124m'\u001b[39m\u001b[38;5;132;01m{\u001b[39;00mname\u001b[38;5;132;01m}\u001b[39;00m\u001b[38;5;124m'\u001b[39m\u001b[38;5;124m backend,\u001b[39m\n\u001b[1;32m     65\u001b[0m \u001b[38;5;124m                try installing it first with `pip install \u001b[39m\u001b[38;5;124m'\u001b[39m\u001b[38;5;124mibis-framework[\u001b[39m\u001b[38;5;132;01m{\u001b[39;00mname\u001b[38;5;132;01m}\u001b[39;00m\u001b[38;5;124m]\u001b[39m\u001b[38;5;124m'\u001b[39m\u001b[38;5;124m`\u001b[39m\u001b[38;5;124m\"\"\"\u001b[39m\n\u001b[0;32m---> 66\u001b[0m     \u001b[38;5;28;01mraise\u001b[39;00m \u001b[38;5;167;01mAttributeError\u001b[39;00m(msg)\n\u001b[1;32m     68\u001b[0m \u001b[38;5;28;01mif\u001b[39;00m \u001b[38;5;28mlen\u001b[39m(entry_points) \u001b[38;5;241m>\u001b[39m \u001b[38;5;241m1\u001b[39m:\n\u001b[1;32m     69\u001b[0m     \u001b[38;5;28;01mraise\u001b[39;00m \u001b[38;5;167;01mRuntimeError\u001b[39;00m(\n\u001b[1;32m     70\u001b[0m         \u001b[38;5;124mf\u001b[39m\u001b[38;5;124m\"\u001b[39m\u001b[38;5;132;01m{\u001b[39;00m\u001b[38;5;28mlen\u001b[39m(entry_points)\u001b[38;5;132;01m}\u001b[39;00m\u001b[38;5;124m packages found for backend \u001b[39m\u001b[38;5;124m'\u001b[39m\u001b[38;5;132;01m{\u001b[39;00mname\u001b[38;5;132;01m}\u001b[39;00m\u001b[38;5;124m'\u001b[39m\u001b[38;5;124m: \u001b[39m\u001b[38;5;124m\"\u001b[39m\n\u001b[1;32m     71\u001b[0m         \u001b[38;5;124mf\u001b[39m\u001b[38;5;124m\"\u001b[39m\u001b[38;5;132;01m{\u001b[39;00mentry_points\u001b[38;5;132;01m}\u001b[39;00m\u001b[38;5;130;01m\\n\u001b[39;00m\u001b[38;5;124m\"\u001b[39m\n\u001b[1;32m     72\u001b[0m         \u001b[38;5;124m\"\u001b[39m\u001b[38;5;124mThere should be only one, please uninstall the unused packages \u001b[39m\u001b[38;5;124m\"\u001b[39m\n\u001b[1;32m     73\u001b[0m         \u001b[38;5;124m\"\u001b[39m\u001b[38;5;124mand just leave the one that needs to be used.\u001b[39m\u001b[38;5;124m\"\u001b[39m\n\u001b[1;32m     74\u001b[0m     )\n",
      "\u001b[0;31mAttributeError\u001b[0m: module 'ibis' has no attribute 'point'. "
     ]
    }
   ],
   "source": [
    "t = con.table('temperature_2m', database='climate')\n",
    "\n",
    "t.mutate(point=ibis.point(t['longitude'], t['latitude']))"
   ]
  },
  {
   "cell_type": "markdown",
   "metadata": {},
   "source": [
    "#### ERA5 Monthly Climate Data Download Summary\n",
    "\n",
    "This notebook downloads monthly-averaged reanalysis climate data for India from the ERA5 dataset using the CDS API. It retrieves the following variables for each month from 2009 to 2023:\n",
    "\n",
    "- 2m temperature (average air temperature at 2 meters)\n",
    "- Total precipitation\n",
    "- Volumetric soil water layer 1 (topsoil moisture)\n",
    "- 10m u-component of wind (east-west wind)\n",
    "- 10m v-component of wind (north-south wind)\n",
    "- Surface solar radiation downwards\n",
    "\n",
    "The data covers the full geographic extent of India and is saved in NetCDF format for further processing."
   ]
  }
 ],
 "metadata": {
  "kernelspec": {
   "display_name": ".venv",
   "language": "python",
   "name": "python3"
  },
  "language_info": {
   "codemirror_mode": {
    "name": "ipython",
    "version": 3
   },
   "file_extension": ".py",
   "mimetype": "text/x-python",
   "name": "python",
   "nbconvert_exporter": "python",
   "pygments_lexer": "ipython3",
   "version": "3.13.0"
  }
 },
 "nbformat": 4,
 "nbformat_minor": 2
}
