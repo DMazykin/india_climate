{
 "cells": [
  {
   "cell_type": "code",
   "execution_count": 1,
   "id": "bd4088e2",
   "metadata": {},
   "outputs": [],
   "source": [
    "from ClimateAggregator import ClimateAggregator\n",
    "\n",
    "aggregator = ClimateAggregator(\n",
    "    era5_file=\"era5_daily_2m_temperature_2024_2025.nc\"\n",
    ")"
   ]
  },
  {
   "cell_type": "code",
   "execution_count": null,
   "id": "ac0c2c8a",
   "metadata": {},
   "outputs": [
    {
     "name": "stderr",
     "output_type": "stream",
     "text": [
      "Rasterising polygons (ADM2): 100%|██████████| 676/676 [00:01<00:00, 600.29it/s]\n"
     ]
    },
    {
     "name": "stdout",
     "output_type": "stream",
     "text": [
      "✅ Saved mapping table → output/grid_to_adm2_mapping.parquet\n"
     ]
    },
    {
     "data": {
      "text/html": [
       "<div>\n",
       "<style scoped>\n",
       "    .dataframe tbody tr th:only-of-type {\n",
       "        vertical-align: middle;\n",
       "    }\n",
       "\n",
       "    .dataframe tbody tr th {\n",
       "        vertical-align: top;\n",
       "    }\n",
       "\n",
       "    .dataframe thead th {\n",
       "        text-align: right;\n",
       "    }\n",
       "</style>\n",
       "<table border=\"1\" class=\"dataframe\">\n",
       "  <thead>\n",
       "    <tr style=\"text-align: right;\">\n",
       "      <th></th>\n",
       "      <th>GID_2</th>\n",
       "      <th>i</th>\n",
       "      <th>j</th>\n",
       "      <th>lat</th>\n",
       "      <th>lon</th>\n",
       "      <th>weight</th>\n",
       "    </tr>\n",
       "  </thead>\n",
       "  <tbody>\n",
       "    <tr>\n",
       "      <th>0</th>\n",
       "      <td>IND.1.1_1</td>\n",
       "      <td>120</td>\n",
       "      <td>102</td>\n",
       "      <td>8.00</td>\n",
       "      <td>93.50</td>\n",
       "      <td>0.499426</td>\n",
       "    </tr>\n",
       "    <tr>\n",
       "      <th>1</th>\n",
       "      <td>IND.1.1_1</td>\n",
       "      <td>124</td>\n",
       "      <td>103</td>\n",
       "      <td>7.00</td>\n",
       "      <td>93.75</td>\n",
       "      <td>0.500574</td>\n",
       "    </tr>\n",
       "    <tr>\n",
       "      <th>2</th>\n",
       "      <td>IND.1.2_1</td>\n",
       "      <td>98</td>\n",
       "      <td>100</td>\n",
       "      <td>13.50</td>\n",
       "      <td>93.00</td>\n",
       "      <td>0.199476</td>\n",
       "    </tr>\n",
       "    <tr>\n",
       "      <th>3</th>\n",
       "      <td>IND.1.2_1</td>\n",
       "      <td>99</td>\n",
       "      <td>100</td>\n",
       "      <td>13.25</td>\n",
       "      <td>93.00</td>\n",
       "      <td>0.199683</td>\n",
       "    </tr>\n",
       "    <tr>\n",
       "      <th>4</th>\n",
       "      <td>IND.1.2_1</td>\n",
       "      <td>101</td>\n",
       "      <td>99</td>\n",
       "      <td>12.75</td>\n",
       "      <td>92.75</td>\n",
       "      <td>0.200086</td>\n",
       "    </tr>\n",
       "    <tr>\n",
       "      <th>...</th>\n",
       "      <td>...</td>\n",
       "      <td>...</td>\n",
       "      <td>...</td>\n",
       "      <td>...</td>\n",
       "      <td>...</td>\n",
       "      <td>...</td>\n",
       "    </tr>\n",
       "    <tr>\n",
       "      <th>4476</th>\n",
       "      <td>IND.30.3_1</td>\n",
       "      <td>43</td>\n",
       "      <td>82</td>\n",
       "      <td>27.25</td>\n",
       "      <td>88.50</td>\n",
       "      <td>1.000000</td>\n",
       "    </tr>\n",
       "    <tr>\n",
       "      <th>4477</th>\n",
       "      <td>IND.32.2_1</td>\n",
       "      <td>82</td>\n",
       "      <td>42</td>\n",
       "      <td>17.50</td>\n",
       "      <td>78.50</td>\n",
       "      <td>1.000000</td>\n",
       "    </tr>\n",
       "    <tr>\n",
       "      <th>4478</th>\n",
       "      <td>Z05.35.3_1</td>\n",
       "      <td>29</td>\n",
       "      <td>48</td>\n",
       "      <td>30.75</td>\n",
       "      <td>80.00</td>\n",
       "      <td>1.000000</td>\n",
       "    </tr>\n",
       "    <tr>\n",
       "      <th>4479</th>\n",
       "      <td>Z05.35.9_1</td>\n",
       "      <td>29</td>\n",
       "      <td>49</td>\n",
       "      <td>30.75</td>\n",
       "      <td>80.25</td>\n",
       "      <td>1.000000</td>\n",
       "    </tr>\n",
       "    <tr>\n",
       "      <th>4480</th>\n",
       "      <td>IND.36.11_1</td>\n",
       "      <td>62</td>\n",
       "      <td>81</td>\n",
       "      <td>22.50</td>\n",
       "      <td>88.25</td>\n",
       "      <td>1.000000</td>\n",
       "    </tr>\n",
       "  </tbody>\n",
       "</table>\n",
       "<p>4481 rows × 6 columns</p>\n",
       "</div>"
      ],
      "text/plain": [
       "            GID_2    i    j    lat    lon    weight\n",
       "0       IND.1.1_1  120  102   8.00  93.50  0.499426\n",
       "1       IND.1.1_1  124  103   7.00  93.75  0.500574\n",
       "2       IND.1.2_1   98  100  13.50  93.00  0.199476\n",
       "3       IND.1.2_1   99  100  13.25  93.00  0.199683\n",
       "4       IND.1.2_1  101   99  12.75  92.75  0.200086\n",
       "...           ...  ...  ...    ...    ...       ...\n",
       "4476   IND.30.3_1   43   82  27.25  88.50  1.000000\n",
       "4477   IND.32.2_1   82   42  17.50  78.50  1.000000\n",
       "4478   Z05.35.3_1   29   48  30.75  80.00  1.000000\n",
       "4479   Z05.35.9_1   29   49  30.75  80.25  1.000000\n",
       "4480  IND.36.11_1   62   81  22.50  88.25  1.000000\n",
       "\n",
       "[4481 rows x 6 columns]"
      ]
     },
     "execution_count": 2,
     "metadata": {},
     "output_type": "execute_result"
    }
   ],
   "source": [
    "aggregator.build_and_export_weight_matrix(adm_level=1, mapping_out=\"grid_to_adm1_mapping.parquet\")\n",
    "aggregator.build_and_export_weight_matrix(adm_level=2, mapping_out=\"grid_to_adm2_mapping.parquet\")\n",
    "aggregator.build_and_export_weight_matrix(adm_level=3, mapping_out=\"grid_to_adm3_mapping.parquet\")"
   ]
  },
  {
   "cell_type": "code",
   "execution_count": 2,
   "id": "0100f9ca",
   "metadata": {},
   "outputs": [
    {
     "name": "stdout",
     "output_type": "stream",
     "text": [
      "✅ Saved ADM1 t2m timeseries to output/adm1_t2m_timeseries.parquet\n",
      "✅ Saved ADM1 metadata to output/adm1_metadata_t2m.parquet\n"
     ]
    },
    {
     "data": {
      "text/html": [
       "<div>\n",
       "<style scoped>\n",
       "    .dataframe tbody tr th:only-of-type {\n",
       "        vertical-align: middle;\n",
       "    }\n",
       "\n",
       "    .dataframe tbody tr th {\n",
       "        vertical-align: top;\n",
       "    }\n",
       "\n",
       "    .dataframe thead th {\n",
       "        text-align: right;\n",
       "    }\n",
       "</style>\n",
       "<table border=\"1\" class=\"dataframe\">\n",
       "  <thead>\n",
       "    <tr style=\"text-align: right;\">\n",
       "      <th></th>\n",
       "      <th>GID</th>\n",
       "      <th>NAME</th>\n",
       "      <th>adm_level</th>\n",
       "      <th>indicator</th>\n",
       "      <th>units</th>\n",
       "      <th>series_id</th>\n",
       "      <th>title</th>\n",
       "    </tr>\n",
       "  </thead>\n",
       "  <tbody>\n",
       "    <tr>\n",
       "      <th>0</th>\n",
       "      <td>IND.10_1</td>\n",
       "      <td>Goa</td>\n",
       "      <td>1</td>\n",
       "      <td>t2m</td>\n",
       "      <td>Celsius</td>\n",
       "      <td>IND.10_1_t2m</td>\n",
       "      <td>Goa (IND.10_1) - T2M</td>\n",
       "    </tr>\n",
       "    <tr>\n",
       "      <th>1</th>\n",
       "      <td>IND.11_1</td>\n",
       "      <td>Gujarat</td>\n",
       "      <td>1</td>\n",
       "      <td>t2m</td>\n",
       "      <td>Celsius</td>\n",
       "      <td>IND.11_1_t2m</td>\n",
       "      <td>Gujarat (IND.11_1) - T2M</td>\n",
       "    </tr>\n",
       "    <tr>\n",
       "      <th>2</th>\n",
       "      <td>IND.12_1</td>\n",
       "      <td>Haryana</td>\n",
       "      <td>1</td>\n",
       "      <td>t2m</td>\n",
       "      <td>Celsius</td>\n",
       "      <td>IND.12_1_t2m</td>\n",
       "      <td>Haryana (IND.12_1) - T2M</td>\n",
       "    </tr>\n",
       "    <tr>\n",
       "      <th>3</th>\n",
       "      <td>IND.13_1</td>\n",
       "      <td>Himachal Pradesh</td>\n",
       "      <td>1</td>\n",
       "      <td>t2m</td>\n",
       "      <td>Celsius</td>\n",
       "      <td>IND.13_1_t2m</td>\n",
       "      <td>Himachal Pradesh (IND.13_1) - T2M</td>\n",
       "    </tr>\n",
       "    <tr>\n",
       "      <th>4</th>\n",
       "      <td>IND.15_1</td>\n",
       "      <td>Jharkhand</td>\n",
       "      <td>1</td>\n",
       "      <td>t2m</td>\n",
       "      <td>Celsius</td>\n",
       "      <td>IND.15_1_t2m</td>\n",
       "      <td>Jharkhand (IND.15_1) - T2M</td>\n",
       "    </tr>\n",
       "    <tr>\n",
       "      <th>5</th>\n",
       "      <td>IND.16_1</td>\n",
       "      <td>Karnataka</td>\n",
       "      <td>1</td>\n",
       "      <td>t2m</td>\n",
       "      <td>Celsius</td>\n",
       "      <td>IND.16_1_t2m</td>\n",
       "      <td>Karnataka (IND.16_1) - T2M</td>\n",
       "    </tr>\n",
       "    <tr>\n",
       "      <th>6</th>\n",
       "      <td>IND.17_1</td>\n",
       "      <td>Kerala</td>\n",
       "      <td>1</td>\n",
       "      <td>t2m</td>\n",
       "      <td>Celsius</td>\n",
       "      <td>IND.17_1_t2m</td>\n",
       "      <td>Kerala (IND.17_1) - T2M</td>\n",
       "    </tr>\n",
       "    <tr>\n",
       "      <th>7</th>\n",
       "      <td>IND.18_1</td>\n",
       "      <td>Lakshadweep</td>\n",
       "      <td>1</td>\n",
       "      <td>t2m</td>\n",
       "      <td>Celsius</td>\n",
       "      <td>IND.18_1_t2m</td>\n",
       "      <td>Lakshadweep (IND.18_1) - T2M</td>\n",
       "    </tr>\n",
       "    <tr>\n",
       "      <th>8</th>\n",
       "      <td>IND.19_1</td>\n",
       "      <td>Madhya Pradesh</td>\n",
       "      <td>1</td>\n",
       "      <td>t2m</td>\n",
       "      <td>Celsius</td>\n",
       "      <td>IND.19_1_t2m</td>\n",
       "      <td>Madhya Pradesh (IND.19_1) - T2M</td>\n",
       "    </tr>\n",
       "    <tr>\n",
       "      <th>9</th>\n",
       "      <td>IND.1_1</td>\n",
       "      <td>Andaman and Nicobar</td>\n",
       "      <td>1</td>\n",
       "      <td>t2m</td>\n",
       "      <td>Celsius</td>\n",
       "      <td>IND.1_1_t2m</td>\n",
       "      <td>Andaman and Nicobar (IND.1_1) - T2M</td>\n",
       "    </tr>\n",
       "    <tr>\n",
       "      <th>10</th>\n",
       "      <td>IND.20_1</td>\n",
       "      <td>Maharashtra</td>\n",
       "      <td>1</td>\n",
       "      <td>t2m</td>\n",
       "      <td>Celsius</td>\n",
       "      <td>IND.20_1_t2m</td>\n",
       "      <td>Maharashtra (IND.20_1) - T2M</td>\n",
       "    </tr>\n",
       "    <tr>\n",
       "      <th>11</th>\n",
       "      <td>IND.21_1</td>\n",
       "      <td>Manipur</td>\n",
       "      <td>1</td>\n",
       "      <td>t2m</td>\n",
       "      <td>Celsius</td>\n",
       "      <td>IND.21_1_t2m</td>\n",
       "      <td>Manipur (IND.21_1) - T2M</td>\n",
       "    </tr>\n",
       "    <tr>\n",
       "      <th>12</th>\n",
       "      <td>IND.22_1</td>\n",
       "      <td>Meghalaya</td>\n",
       "      <td>1</td>\n",
       "      <td>t2m</td>\n",
       "      <td>Celsius</td>\n",
       "      <td>IND.22_1_t2m</td>\n",
       "      <td>Meghalaya (IND.22_1) - T2M</td>\n",
       "    </tr>\n",
       "    <tr>\n",
       "      <th>13</th>\n",
       "      <td>IND.23_1</td>\n",
       "      <td>Mizoram</td>\n",
       "      <td>1</td>\n",
       "      <td>t2m</td>\n",
       "      <td>Celsius</td>\n",
       "      <td>IND.23_1_t2m</td>\n",
       "      <td>Mizoram (IND.23_1) - T2M</td>\n",
       "    </tr>\n",
       "    <tr>\n",
       "      <th>14</th>\n",
       "      <td>IND.24_1</td>\n",
       "      <td>Nagaland</td>\n",
       "      <td>1</td>\n",
       "      <td>t2m</td>\n",
       "      <td>Celsius</td>\n",
       "      <td>IND.24_1_t2m</td>\n",
       "      <td>Nagaland (IND.24_1) - T2M</td>\n",
       "    </tr>\n",
       "    <tr>\n",
       "      <th>15</th>\n",
       "      <td>IND.25_1</td>\n",
       "      <td>NCT of Delhi</td>\n",
       "      <td>1</td>\n",
       "      <td>t2m</td>\n",
       "      <td>Celsius</td>\n",
       "      <td>IND.25_1_t2m</td>\n",
       "      <td>NCT of Delhi (IND.25_1) - T2M</td>\n",
       "    </tr>\n",
       "    <tr>\n",
       "      <th>16</th>\n",
       "      <td>IND.26_1</td>\n",
       "      <td>Odisha</td>\n",
       "      <td>1</td>\n",
       "      <td>t2m</td>\n",
       "      <td>Celsius</td>\n",
       "      <td>IND.26_1_t2m</td>\n",
       "      <td>Odisha (IND.26_1) - T2M</td>\n",
       "    </tr>\n",
       "    <tr>\n",
       "      <th>17</th>\n",
       "      <td>IND.27_1</td>\n",
       "      <td>Puducherry</td>\n",
       "      <td>1</td>\n",
       "      <td>t2m</td>\n",
       "      <td>Celsius</td>\n",
       "      <td>IND.27_1_t2m</td>\n",
       "      <td>Puducherry (IND.27_1) - T2M</td>\n",
       "    </tr>\n",
       "    <tr>\n",
       "      <th>18</th>\n",
       "      <td>IND.28_1</td>\n",
       "      <td>Punjab</td>\n",
       "      <td>1</td>\n",
       "      <td>t2m</td>\n",
       "      <td>Celsius</td>\n",
       "      <td>IND.28_1_t2m</td>\n",
       "      <td>Punjab (IND.28_1) - T2M</td>\n",
       "    </tr>\n",
       "    <tr>\n",
       "      <th>19</th>\n",
       "      <td>IND.29_1</td>\n",
       "      <td>Rajasthan</td>\n",
       "      <td>1</td>\n",
       "      <td>t2m</td>\n",
       "      <td>Celsius</td>\n",
       "      <td>IND.29_1_t2m</td>\n",
       "      <td>Rajasthan (IND.29_1) - T2M</td>\n",
       "    </tr>\n",
       "    <tr>\n",
       "      <th>20</th>\n",
       "      <td>IND.2_1</td>\n",
       "      <td>Andhra Pradesh</td>\n",
       "      <td>1</td>\n",
       "      <td>t2m</td>\n",
       "      <td>Celsius</td>\n",
       "      <td>IND.2_1_t2m</td>\n",
       "      <td>Andhra Pradesh (IND.2_1) - T2M</td>\n",
       "    </tr>\n",
       "    <tr>\n",
       "      <th>21</th>\n",
       "      <td>IND.30_1</td>\n",
       "      <td>Sikkim</td>\n",
       "      <td>1</td>\n",
       "      <td>t2m</td>\n",
       "      <td>Celsius</td>\n",
       "      <td>IND.30_1_t2m</td>\n",
       "      <td>Sikkim (IND.30_1) - T2M</td>\n",
       "    </tr>\n",
       "    <tr>\n",
       "      <th>22</th>\n",
       "      <td>IND.31_1</td>\n",
       "      <td>Tamil Nadu</td>\n",
       "      <td>1</td>\n",
       "      <td>t2m</td>\n",
       "      <td>Celsius</td>\n",
       "      <td>IND.31_1_t2m</td>\n",
       "      <td>Tamil Nadu (IND.31_1) - T2M</td>\n",
       "    </tr>\n",
       "    <tr>\n",
       "      <th>23</th>\n",
       "      <td>IND.32_1</td>\n",
       "      <td>Telangana</td>\n",
       "      <td>1</td>\n",
       "      <td>t2m</td>\n",
       "      <td>Celsius</td>\n",
       "      <td>IND.32_1_t2m</td>\n",
       "      <td>Telangana (IND.32_1) - T2M</td>\n",
       "    </tr>\n",
       "    <tr>\n",
       "      <th>24</th>\n",
       "      <td>IND.33_1</td>\n",
       "      <td>Tripura</td>\n",
       "      <td>1</td>\n",
       "      <td>t2m</td>\n",
       "      <td>Celsius</td>\n",
       "      <td>IND.33_1_t2m</td>\n",
       "      <td>Tripura (IND.33_1) - T2M</td>\n",
       "    </tr>\n",
       "    <tr>\n",
       "      <th>25</th>\n",
       "      <td>IND.34_1</td>\n",
       "      <td>Uttar Pradesh</td>\n",
       "      <td>1</td>\n",
       "      <td>t2m</td>\n",
       "      <td>Celsius</td>\n",
       "      <td>IND.34_1_t2m</td>\n",
       "      <td>Uttar Pradesh (IND.34_1) - T2M</td>\n",
       "    </tr>\n",
       "    <tr>\n",
       "      <th>26</th>\n",
       "      <td>IND.35_1</td>\n",
       "      <td>Uttarakhand</td>\n",
       "      <td>1</td>\n",
       "      <td>t2m</td>\n",
       "      <td>Celsius</td>\n",
       "      <td>IND.35_1_t2m</td>\n",
       "      <td>Uttarakhand (IND.35_1) - T2M</td>\n",
       "    </tr>\n",
       "    <tr>\n",
       "      <th>27</th>\n",
       "      <td>IND.36_1</td>\n",
       "      <td>West Bengal</td>\n",
       "      <td>1</td>\n",
       "      <td>t2m</td>\n",
       "      <td>Celsius</td>\n",
       "      <td>IND.36_1_t2m</td>\n",
       "      <td>West Bengal (IND.36_1) - T2M</td>\n",
       "    </tr>\n",
       "    <tr>\n",
       "      <th>28</th>\n",
       "      <td>IND.3_1</td>\n",
       "      <td>Arunachal Pradesh</td>\n",
       "      <td>1</td>\n",
       "      <td>t2m</td>\n",
       "      <td>Celsius</td>\n",
       "      <td>IND.3_1_t2m</td>\n",
       "      <td>Arunachal Pradesh (IND.3_1) - T2M</td>\n",
       "    </tr>\n",
       "    <tr>\n",
       "      <th>29</th>\n",
       "      <td>IND.4_1</td>\n",
       "      <td>Assam</td>\n",
       "      <td>1</td>\n",
       "      <td>t2m</td>\n",
       "      <td>Celsius</td>\n",
       "      <td>IND.4_1_t2m</td>\n",
       "      <td>Assam (IND.4_1) - T2M</td>\n",
       "    </tr>\n",
       "    <tr>\n",
       "      <th>30</th>\n",
       "      <td>IND.5_1</td>\n",
       "      <td>Bihar</td>\n",
       "      <td>1</td>\n",
       "      <td>t2m</td>\n",
       "      <td>Celsius</td>\n",
       "      <td>IND.5_1_t2m</td>\n",
       "      <td>Bihar (IND.5_1) - T2M</td>\n",
       "    </tr>\n",
       "    <tr>\n",
       "      <th>31</th>\n",
       "      <td>IND.6_1</td>\n",
       "      <td>Chandigarh</td>\n",
       "      <td>1</td>\n",
       "      <td>t2m</td>\n",
       "      <td>Celsius</td>\n",
       "      <td>IND.6_1_t2m</td>\n",
       "      <td>Chandigarh (IND.6_1) - T2M</td>\n",
       "    </tr>\n",
       "    <tr>\n",
       "      <th>32</th>\n",
       "      <td>IND.7_1</td>\n",
       "      <td>Chhattisgarh</td>\n",
       "      <td>1</td>\n",
       "      <td>t2m</td>\n",
       "      <td>Celsius</td>\n",
       "      <td>IND.7_1_t2m</td>\n",
       "      <td>Chhattisgarh (IND.7_1) - T2M</td>\n",
       "    </tr>\n",
       "    <tr>\n",
       "      <th>33</th>\n",
       "      <td>IND.8_1</td>\n",
       "      <td>Dadra and Nagar Haveli</td>\n",
       "      <td>1</td>\n",
       "      <td>t2m</td>\n",
       "      <td>Celsius</td>\n",
       "      <td>IND.8_1_t2m</td>\n",
       "      <td>Dadra and Nagar Haveli (IND.8_1) - T2M</td>\n",
       "    </tr>\n",
       "    <tr>\n",
       "      <th>34</th>\n",
       "      <td>IND.9_1</td>\n",
       "      <td>Daman and Diu</td>\n",
       "      <td>1</td>\n",
       "      <td>t2m</td>\n",
       "      <td>Celsius</td>\n",
       "      <td>IND.9_1_t2m</td>\n",
       "      <td>Daman and Diu (IND.9_1) - T2M</td>\n",
       "    </tr>\n",
       "    <tr>\n",
       "      <th>35</th>\n",
       "      <td>Z01.14_1</td>\n",
       "      <td>Jammu and Kashmir</td>\n",
       "      <td>1</td>\n",
       "      <td>t2m</td>\n",
       "      <td>Celsius</td>\n",
       "      <td>Z01.14_1_t2m</td>\n",
       "      <td>Jammu and Kashmir (Z01.14_1) - T2M</td>\n",
       "    </tr>\n",
       "    <tr>\n",
       "      <th>36</th>\n",
       "      <td>Z04.13_1</td>\n",
       "      <td>Himachal Pradesh</td>\n",
       "      <td>1</td>\n",
       "      <td>t2m</td>\n",
       "      <td>Celsius</td>\n",
       "      <td>Z04.13_1_t2m</td>\n",
       "      <td>Himachal Pradesh (Z04.13_1) - T2M</td>\n",
       "    </tr>\n",
       "    <tr>\n",
       "      <th>37</th>\n",
       "      <td>Z05.35_1</td>\n",
       "      <td>Uttarakhand</td>\n",
       "      <td>1</td>\n",
       "      <td>t2m</td>\n",
       "      <td>Celsius</td>\n",
       "      <td>Z05.35_1_t2m</td>\n",
       "      <td>Uttarakhand (Z05.35_1) - T2M</td>\n",
       "    </tr>\n",
       "    <tr>\n",
       "      <th>38</th>\n",
       "      <td>Z07.3_1</td>\n",
       "      <td>Arunachal Pradesh</td>\n",
       "      <td>1</td>\n",
       "      <td>t2m</td>\n",
       "      <td>Celsius</td>\n",
       "      <td>Z07.3_1_t2m</td>\n",
       "      <td>Arunachal Pradesh (Z07.3_1) - T2M</td>\n",
       "    </tr>\n",
       "    <tr>\n",
       "      <th>39</th>\n",
       "      <td>Z09.13_1</td>\n",
       "      <td>Himachal Pradesh</td>\n",
       "      <td>1</td>\n",
       "      <td>t2m</td>\n",
       "      <td>Celsius</td>\n",
       "      <td>Z09.13_1_t2m</td>\n",
       "      <td>Himachal Pradesh (Z09.13_1) - T2M</td>\n",
       "    </tr>\n",
       "    <tr>\n",
       "      <th>40</th>\n",
       "      <td>Z09.35_1</td>\n",
       "      <td>Uttarakhand</td>\n",
       "      <td>1</td>\n",
       "      <td>t2m</td>\n",
       "      <td>Celsius</td>\n",
       "      <td>Z09.35_1_t2m</td>\n",
       "      <td>Uttarakhand (Z09.35_1) - T2M</td>\n",
       "    </tr>\n",
       "  </tbody>\n",
       "</table>\n",
       "</div>"
      ],
      "text/plain": [
       "         GID                    NAME  adm_level indicator    units  \\\n",
       "0   IND.10_1                     Goa          1       t2m  Celsius   \n",
       "1   IND.11_1                 Gujarat          1       t2m  Celsius   \n",
       "2   IND.12_1                 Haryana          1       t2m  Celsius   \n",
       "3   IND.13_1        Himachal Pradesh          1       t2m  Celsius   \n",
       "4   IND.15_1               Jharkhand          1       t2m  Celsius   \n",
       "5   IND.16_1               Karnataka          1       t2m  Celsius   \n",
       "6   IND.17_1                  Kerala          1       t2m  Celsius   \n",
       "7   IND.18_1             Lakshadweep          1       t2m  Celsius   \n",
       "8   IND.19_1          Madhya Pradesh          1       t2m  Celsius   \n",
       "9    IND.1_1     Andaman and Nicobar          1       t2m  Celsius   \n",
       "10  IND.20_1             Maharashtra          1       t2m  Celsius   \n",
       "11  IND.21_1                 Manipur          1       t2m  Celsius   \n",
       "12  IND.22_1               Meghalaya          1       t2m  Celsius   \n",
       "13  IND.23_1                 Mizoram          1       t2m  Celsius   \n",
       "14  IND.24_1                Nagaland          1       t2m  Celsius   \n",
       "15  IND.25_1            NCT of Delhi          1       t2m  Celsius   \n",
       "16  IND.26_1                  Odisha          1       t2m  Celsius   \n",
       "17  IND.27_1              Puducherry          1       t2m  Celsius   \n",
       "18  IND.28_1                  Punjab          1       t2m  Celsius   \n",
       "19  IND.29_1               Rajasthan          1       t2m  Celsius   \n",
       "20   IND.2_1          Andhra Pradesh          1       t2m  Celsius   \n",
       "21  IND.30_1                  Sikkim          1       t2m  Celsius   \n",
       "22  IND.31_1              Tamil Nadu          1       t2m  Celsius   \n",
       "23  IND.32_1               Telangana          1       t2m  Celsius   \n",
       "24  IND.33_1                 Tripura          1       t2m  Celsius   \n",
       "25  IND.34_1           Uttar Pradesh          1       t2m  Celsius   \n",
       "26  IND.35_1             Uttarakhand          1       t2m  Celsius   \n",
       "27  IND.36_1             West Bengal          1       t2m  Celsius   \n",
       "28   IND.3_1       Arunachal Pradesh          1       t2m  Celsius   \n",
       "29   IND.4_1                   Assam          1       t2m  Celsius   \n",
       "30   IND.5_1                   Bihar          1       t2m  Celsius   \n",
       "31   IND.6_1              Chandigarh          1       t2m  Celsius   \n",
       "32   IND.7_1            Chhattisgarh          1       t2m  Celsius   \n",
       "33   IND.8_1  Dadra and Nagar Haveli          1       t2m  Celsius   \n",
       "34   IND.9_1           Daman and Diu          1       t2m  Celsius   \n",
       "35  Z01.14_1       Jammu and Kashmir          1       t2m  Celsius   \n",
       "36  Z04.13_1        Himachal Pradesh          1       t2m  Celsius   \n",
       "37  Z05.35_1             Uttarakhand          1       t2m  Celsius   \n",
       "38   Z07.3_1       Arunachal Pradesh          1       t2m  Celsius   \n",
       "39  Z09.13_1        Himachal Pradesh          1       t2m  Celsius   \n",
       "40  Z09.35_1             Uttarakhand          1       t2m  Celsius   \n",
       "\n",
       "       series_id                                   title  \n",
       "0   IND.10_1_t2m                    Goa (IND.10_1) - T2M  \n",
       "1   IND.11_1_t2m                Gujarat (IND.11_1) - T2M  \n",
       "2   IND.12_1_t2m                Haryana (IND.12_1) - T2M  \n",
       "3   IND.13_1_t2m       Himachal Pradesh (IND.13_1) - T2M  \n",
       "4   IND.15_1_t2m              Jharkhand (IND.15_1) - T2M  \n",
       "5   IND.16_1_t2m              Karnataka (IND.16_1) - T2M  \n",
       "6   IND.17_1_t2m                 Kerala (IND.17_1) - T2M  \n",
       "7   IND.18_1_t2m            Lakshadweep (IND.18_1) - T2M  \n",
       "8   IND.19_1_t2m         Madhya Pradesh (IND.19_1) - T2M  \n",
       "9    IND.1_1_t2m     Andaman and Nicobar (IND.1_1) - T2M  \n",
       "10  IND.20_1_t2m            Maharashtra (IND.20_1) - T2M  \n",
       "11  IND.21_1_t2m                Manipur (IND.21_1) - T2M  \n",
       "12  IND.22_1_t2m              Meghalaya (IND.22_1) - T2M  \n",
       "13  IND.23_1_t2m                Mizoram (IND.23_1) - T2M  \n",
       "14  IND.24_1_t2m               Nagaland (IND.24_1) - T2M  \n",
       "15  IND.25_1_t2m           NCT of Delhi (IND.25_1) - T2M  \n",
       "16  IND.26_1_t2m                 Odisha (IND.26_1) - T2M  \n",
       "17  IND.27_1_t2m             Puducherry (IND.27_1) - T2M  \n",
       "18  IND.28_1_t2m                 Punjab (IND.28_1) - T2M  \n",
       "19  IND.29_1_t2m              Rajasthan (IND.29_1) - T2M  \n",
       "20   IND.2_1_t2m          Andhra Pradesh (IND.2_1) - T2M  \n",
       "21  IND.30_1_t2m                 Sikkim (IND.30_1) - T2M  \n",
       "22  IND.31_1_t2m             Tamil Nadu (IND.31_1) - T2M  \n",
       "23  IND.32_1_t2m              Telangana (IND.32_1) - T2M  \n",
       "24  IND.33_1_t2m                Tripura (IND.33_1) - T2M  \n",
       "25  IND.34_1_t2m          Uttar Pradesh (IND.34_1) - T2M  \n",
       "26  IND.35_1_t2m            Uttarakhand (IND.35_1) - T2M  \n",
       "27  IND.36_1_t2m            West Bengal (IND.36_1) - T2M  \n",
       "28   IND.3_1_t2m       Arunachal Pradesh (IND.3_1) - T2M  \n",
       "29   IND.4_1_t2m                   Assam (IND.4_1) - T2M  \n",
       "30   IND.5_1_t2m                   Bihar (IND.5_1) - T2M  \n",
       "31   IND.6_1_t2m              Chandigarh (IND.6_1) - T2M  \n",
       "32   IND.7_1_t2m            Chhattisgarh (IND.7_1) - T2M  \n",
       "33   IND.8_1_t2m  Dadra and Nagar Haveli (IND.8_1) - T2M  \n",
       "34   IND.9_1_t2m           Daman and Diu (IND.9_1) - T2M  \n",
       "35  Z01.14_1_t2m      Jammu and Kashmir (Z01.14_1) - T2M  \n",
       "36  Z04.13_1_t2m       Himachal Pradesh (Z04.13_1) - T2M  \n",
       "37  Z05.35_1_t2m            Uttarakhand (Z05.35_1) - T2M  \n",
       "38   Z07.3_1_t2m       Arunachal Pradesh (Z07.3_1) - T2M  \n",
       "39  Z09.13_1_t2m       Himachal Pradesh (Z09.13_1) - T2M  \n",
       "40  Z09.35_1_t2m            Uttarakhand (Z09.35_1) - T2M  "
      ]
     },
     "execution_count": 2,
     "metadata": {},
     "output_type": "execute_result"
    }
   ],
   "source": [
    "level = 1\n",
    "aggregator.weighted_mean_indicator_timeseries(var=\"t2m\", adm_level=level)\n",
    "aggregator.timeseries_metadata(indicator=\"t2m\", units=\"Celsius\", adm_level=level)"
   ]
  },
  {
   "cell_type": "code",
   "execution_count": 5,
   "id": "8c9ed5f1",
   "metadata": {},
   "outputs": [
    {
     "name": "stdout",
     "output_type": "stream",
     "text": [
      "✅ Saved ADM2 t2m timeseries to output/adm2_t2m_timeseries.parquet\n",
      "✅ Saved ADM2 metadata to output/adm2_metadata_t2m.parquet\n"
     ]
    },
    {
     "data": {
      "text/html": [
       "<div>\n",
       "<style scoped>\n",
       "    .dataframe tbody tr th:only-of-type {\n",
       "        vertical-align: middle;\n",
       "    }\n",
       "\n",
       "    .dataframe tbody tr th {\n",
       "        vertical-align: top;\n",
       "    }\n",
       "\n",
       "    .dataframe thead th {\n",
       "        text-align: right;\n",
       "    }\n",
       "</style>\n",
       "<table border=\"1\" class=\"dataframe\">\n",
       "  <thead>\n",
       "    <tr style=\"text-align: right;\">\n",
       "      <th></th>\n",
       "      <th>GID</th>\n",
       "      <th>NAME</th>\n",
       "      <th>adm_level</th>\n",
       "      <th>indicator</th>\n",
       "      <th>units</th>\n",
       "      <th>series_id</th>\n",
       "      <th>title</th>\n",
       "    </tr>\n",
       "  </thead>\n",
       "  <tbody>\n",
       "    <tr>\n",
       "      <th>0</th>\n",
       "      <td>IND.1.1_1</td>\n",
       "      <td>Nicobar Islands</td>\n",
       "      <td>2</td>\n",
       "      <td>t2m</td>\n",
       "      <td>Celsius</td>\n",
       "      <td>IND.1.1_1_t2m</td>\n",
       "      <td>Nicobar Islands (IND.1.1_1) - T2M</td>\n",
       "    </tr>\n",
       "    <tr>\n",
       "      <th>1</th>\n",
       "      <td>IND.1.2_1</td>\n",
       "      <td>North and Middle Andaman</td>\n",
       "      <td>2</td>\n",
       "      <td>t2m</td>\n",
       "      <td>Celsius</td>\n",
       "      <td>IND.1.2_1_t2m</td>\n",
       "      <td>North and Middle Andaman (IND.1.2_1) - T2M</td>\n",
       "    </tr>\n",
       "    <tr>\n",
       "      <th>2</th>\n",
       "      <td>IND.1.3_1</td>\n",
       "      <td>South Andaman</td>\n",
       "      <td>2</td>\n",
       "      <td>t2m</td>\n",
       "      <td>Celsius</td>\n",
       "      <td>IND.1.3_1_t2m</td>\n",
       "      <td>South Andaman (IND.1.3_1) - T2M</td>\n",
       "    </tr>\n",
       "    <tr>\n",
       "      <th>3</th>\n",
       "      <td>IND.10.1_1</td>\n",
       "      <td>North Goa</td>\n",
       "      <td>2</td>\n",
       "      <td>t2m</td>\n",
       "      <td>Celsius</td>\n",
       "      <td>IND.10.1_1_t2m</td>\n",
       "      <td>North Goa (IND.10.1_1) - T2M</td>\n",
       "    </tr>\n",
       "    <tr>\n",
       "      <th>4</th>\n",
       "      <td>IND.10.2_1</td>\n",
       "      <td>South Goa</td>\n",
       "      <td>2</td>\n",
       "      <td>t2m</td>\n",
       "      <td>Celsius</td>\n",
       "      <td>IND.10.2_1_t2m</td>\n",
       "      <td>South Goa (IND.10.2_1) - T2M</td>\n",
       "    </tr>\n",
       "    <tr>\n",
       "      <th>...</th>\n",
       "      <td>...</td>\n",
       "      <td>...</td>\n",
       "      <td>...</td>\n",
       "      <td>...</td>\n",
       "      <td>...</td>\n",
       "      <td>...</td>\n",
       "      <td>...</td>\n",
       "    </tr>\n",
       "    <tr>\n",
       "      <th>671</th>\n",
       "      <td>Z07.3.6_1</td>\n",
       "      <td>Kurung Kumey</td>\n",
       "      <td>2</td>\n",
       "      <td>t2m</td>\n",
       "      <td>Celsius</td>\n",
       "      <td>Z07.3.6_1_t2m</td>\n",
       "      <td>Kurung Kumey (Z07.3.6_1) - T2M</td>\n",
       "    </tr>\n",
       "    <tr>\n",
       "      <th>672</th>\n",
       "      <td>Z07.3.7_1</td>\n",
       "      <td>Lohit</td>\n",
       "      <td>2</td>\n",
       "      <td>t2m</td>\n",
       "      <td>Celsius</td>\n",
       "      <td>Z07.3.7_1_t2m</td>\n",
       "      <td>Lohit (Z07.3.7_1) - T2M</td>\n",
       "    </tr>\n",
       "    <tr>\n",
       "      <th>673</th>\n",
       "      <td>Z07.3.9_1</td>\n",
       "      <td>Lower Dibang Valley</td>\n",
       "      <td>2</td>\n",
       "      <td>t2m</td>\n",
       "      <td>Celsius</td>\n",
       "      <td>Z07.3.9_1_t2m</td>\n",
       "      <td>Lower Dibang Valley (Z07.3.9_1) - T2M</td>\n",
       "    </tr>\n",
       "    <tr>\n",
       "      <th>674</th>\n",
       "      <td>Z09.13.5_1</td>\n",
       "      <td>Kinnaur</td>\n",
       "      <td>2</td>\n",
       "      <td>t2m</td>\n",
       "      <td>Celsius</td>\n",
       "      <td>Z09.13.5_1_t2m</td>\n",
       "      <td>Kinnaur (Z09.13.5_1) - T2M</td>\n",
       "    </tr>\n",
       "    <tr>\n",
       "      <th>675</th>\n",
       "      <td>Z09.35.13_1</td>\n",
       "      <td>Uttarkashi</td>\n",
       "      <td>2</td>\n",
       "      <td>t2m</td>\n",
       "      <td>Celsius</td>\n",
       "      <td>Z09.35.13_1_t2m</td>\n",
       "      <td>Uttarkashi (Z09.35.13_1) - T2M</td>\n",
       "    </tr>\n",
       "  </tbody>\n",
       "</table>\n",
       "<p>676 rows × 7 columns</p>\n",
       "</div>"
      ],
      "text/plain": [
       "             GID                      NAME  adm_level indicator    units  \\\n",
       "0      IND.1.1_1           Nicobar Islands          2       t2m  Celsius   \n",
       "1      IND.1.2_1  North and Middle Andaman          2       t2m  Celsius   \n",
       "2      IND.1.3_1             South Andaman          2       t2m  Celsius   \n",
       "3     IND.10.1_1                 North Goa          2       t2m  Celsius   \n",
       "4     IND.10.2_1                 South Goa          2       t2m  Celsius   \n",
       "..           ...                       ...        ...       ...      ...   \n",
       "671    Z07.3.6_1              Kurung Kumey          2       t2m  Celsius   \n",
       "672    Z07.3.7_1                     Lohit          2       t2m  Celsius   \n",
       "673    Z07.3.9_1       Lower Dibang Valley          2       t2m  Celsius   \n",
       "674   Z09.13.5_1                   Kinnaur          2       t2m  Celsius   \n",
       "675  Z09.35.13_1                Uttarkashi          2       t2m  Celsius   \n",
       "\n",
       "           series_id                                       title  \n",
       "0      IND.1.1_1_t2m           Nicobar Islands (IND.1.1_1) - T2M  \n",
       "1      IND.1.2_1_t2m  North and Middle Andaman (IND.1.2_1) - T2M  \n",
       "2      IND.1.3_1_t2m             South Andaman (IND.1.3_1) - T2M  \n",
       "3     IND.10.1_1_t2m                North Goa (IND.10.1_1) - T2M  \n",
       "4     IND.10.2_1_t2m                South Goa (IND.10.2_1) - T2M  \n",
       "..               ...                                         ...  \n",
       "671    Z07.3.6_1_t2m              Kurung Kumey (Z07.3.6_1) - T2M  \n",
       "672    Z07.3.7_1_t2m                     Lohit (Z07.3.7_1) - T2M  \n",
       "673    Z07.3.9_1_t2m       Lower Dibang Valley (Z07.3.9_1) - T2M  \n",
       "674   Z09.13.5_1_t2m                  Kinnaur (Z09.13.5_1) - T2M  \n",
       "675  Z09.35.13_1_t2m              Uttarkashi (Z09.35.13_1) - T2M  \n",
       "\n",
       "[676 rows x 7 columns]"
      ]
     },
     "execution_count": 5,
     "metadata": {},
     "output_type": "execute_result"
    }
   ],
   "source": [
    "level = 2\n",
    "aggregator.weighted_mean_indicator_timeseries(var=\"t2m\", adm_level=level)\n",
    "aggregator.timeseries_metadata(indicator=\"t2m\", units=\"Celsius\", adm_level=level)\n",
    "\n"
   ]
  },
  {
   "cell_type": "code",
   "execution_count": 6,
   "id": "915ef165",
   "metadata": {},
   "outputs": [
    {
     "name": "stdout",
     "output_type": "stream",
     "text": [
      "✅ Saved ADM3 t2m timeseries to output/adm3_t2m_timeseries.parquet\n",
      "✅ Saved ADM3 metadata to output/adm3_metadata_t2m.parquet\n"
     ]
    },
    {
     "data": {
      "text/html": [
       "<div>\n",
       "<style scoped>\n",
       "    .dataframe tbody tr th:only-of-type {\n",
       "        vertical-align: middle;\n",
       "    }\n",
       "\n",
       "    .dataframe tbody tr th {\n",
       "        vertical-align: top;\n",
       "    }\n",
       "\n",
       "    .dataframe thead th {\n",
       "        text-align: right;\n",
       "    }\n",
       "</style>\n",
       "<table border=\"1\" class=\"dataframe\">\n",
       "  <thead>\n",
       "    <tr style=\"text-align: right;\">\n",
       "      <th></th>\n",
       "      <th>GID</th>\n",
       "      <th>NAME</th>\n",
       "      <th>adm_level</th>\n",
       "      <th>indicator</th>\n",
       "      <th>units</th>\n",
       "      <th>series_id</th>\n",
       "      <th>title</th>\n",
       "    </tr>\n",
       "  </thead>\n",
       "  <tbody>\n",
       "    <tr>\n",
       "      <th>0</th>\n",
       "      <td>IND.1.1.1_1</td>\n",
       "      <td>n.a. ( 2304)</td>\n",
       "      <td>3</td>\n",
       "      <td>t2m</td>\n",
       "      <td>Celsius</td>\n",
       "      <td>IND.1.1.1_1_t2m</td>\n",
       "      <td>n.a. ( 2304) (IND.1.1.1_1) - T2M</td>\n",
       "    </tr>\n",
       "    <tr>\n",
       "      <th>1</th>\n",
       "      <td>IND.1.2.1_1</td>\n",
       "      <td>n.a. ( 2178)</td>\n",
       "      <td>3</td>\n",
       "      <td>t2m</td>\n",
       "      <td>Celsius</td>\n",
       "      <td>IND.1.2.1_1_t2m</td>\n",
       "      <td>n.a. ( 2178) (IND.1.2.1_1) - T2M</td>\n",
       "    </tr>\n",
       "    <tr>\n",
       "      <th>2</th>\n",
       "      <td>IND.1.3.1_1</td>\n",
       "      <td>n.a. ( 2178)</td>\n",
       "      <td>3</td>\n",
       "      <td>t2m</td>\n",
       "      <td>Celsius</td>\n",
       "      <td>IND.1.3.1_1_t2m</td>\n",
       "      <td>n.a. ( 2178) (IND.1.3.1_1) - T2M</td>\n",
       "    </tr>\n",
       "    <tr>\n",
       "      <th>3</th>\n",
       "      <td>IND.10.1.1_1</td>\n",
       "      <td>Dicholi</td>\n",
       "      <td>3</td>\n",
       "      <td>t2m</td>\n",
       "      <td>Celsius</td>\n",
       "      <td>IND.10.1.1_1_t2m</td>\n",
       "      <td>Dicholi (IND.10.1.1_1) - T2M</td>\n",
       "    </tr>\n",
       "    <tr>\n",
       "      <th>4</th>\n",
       "      <td>IND.10.1.2_1</td>\n",
       "      <td>Mapuca</td>\n",
       "      <td>3</td>\n",
       "      <td>t2m</td>\n",
       "      <td>Celsius</td>\n",
       "      <td>IND.10.1.2_1_t2m</td>\n",
       "      <td>Mapuca (IND.10.1.2_1) - T2M</td>\n",
       "    </tr>\n",
       "    <tr>\n",
       "      <th>...</th>\n",
       "      <td>...</td>\n",
       "      <td>...</td>\n",
       "      <td>...</td>\n",
       "      <td>...</td>\n",
       "      <td>...</td>\n",
       "      <td>...</td>\n",
       "      <td>...</td>\n",
       "    </tr>\n",
       "    <tr>\n",
       "      <th>2342</th>\n",
       "      <td>Z07.3.7.1_1</td>\n",
       "      <td>Tezu</td>\n",
       "      <td>3</td>\n",
       "      <td>t2m</td>\n",
       "      <td>Celsius</td>\n",
       "      <td>Z07.3.7.1_1_t2m</td>\n",
       "      <td>Tezu (Z07.3.7.1_1) - T2M</td>\n",
       "    </tr>\n",
       "    <tr>\n",
       "      <th>2343</th>\n",
       "      <td>Z07.3.9.1_1</td>\n",
       "      <td>Amini</td>\n",
       "      <td>3</td>\n",
       "      <td>t2m</td>\n",
       "      <td>Celsius</td>\n",
       "      <td>Z07.3.9.1_1_t2m</td>\n",
       "      <td>Amini (Z07.3.9.1_1) - T2M</td>\n",
       "    </tr>\n",
       "    <tr>\n",
       "      <th>2344</th>\n",
       "      <td>Z09.13.5.2_1</td>\n",
       "      <td>Morang</td>\n",
       "      <td>3</td>\n",
       "      <td>t2m</td>\n",
       "      <td>Celsius</td>\n",
       "      <td>Z09.13.5.2_1_t2m</td>\n",
       "      <td>Morang (Z09.13.5.2_1) - T2M</td>\n",
       "    </tr>\n",
       "    <tr>\n",
       "      <th>2345</th>\n",
       "      <td>Z09.13.5.6_1</td>\n",
       "      <td>Sangla</td>\n",
       "      <td>3</td>\n",
       "      <td>t2m</td>\n",
       "      <td>Celsius</td>\n",
       "      <td>Z09.13.5.6_1_t2m</td>\n",
       "      <td>Sangla (Z09.13.5.6_1) - T2M</td>\n",
       "    </tr>\n",
       "    <tr>\n",
       "      <th>2346</th>\n",
       "      <td>Z09.35.13.1_1</td>\n",
       "      <td>Bhatwari</td>\n",
       "      <td>3</td>\n",
       "      <td>t2m</td>\n",
       "      <td>Celsius</td>\n",
       "      <td>Z09.35.13.1_1_t2m</td>\n",
       "      <td>Bhatwari (Z09.35.13.1_1) - T2M</td>\n",
       "    </tr>\n",
       "  </tbody>\n",
       "</table>\n",
       "<p>2347 rows × 7 columns</p>\n",
       "</div>"
      ],
      "text/plain": [
       "                GID          NAME  adm_level indicator    units  \\\n",
       "0       IND.1.1.1_1  n.a. ( 2304)          3       t2m  Celsius   \n",
       "1       IND.1.2.1_1  n.a. ( 2178)          3       t2m  Celsius   \n",
       "2       IND.1.3.1_1  n.a. ( 2178)          3       t2m  Celsius   \n",
       "3      IND.10.1.1_1       Dicholi          3       t2m  Celsius   \n",
       "4      IND.10.1.2_1        Mapuca          3       t2m  Celsius   \n",
       "...             ...           ...        ...       ...      ...   \n",
       "2342    Z07.3.7.1_1          Tezu          3       t2m  Celsius   \n",
       "2343    Z07.3.9.1_1         Amini          3       t2m  Celsius   \n",
       "2344   Z09.13.5.2_1        Morang          3       t2m  Celsius   \n",
       "2345   Z09.13.5.6_1        Sangla          3       t2m  Celsius   \n",
       "2346  Z09.35.13.1_1      Bhatwari          3       t2m  Celsius   \n",
       "\n",
       "              series_id                             title  \n",
       "0       IND.1.1.1_1_t2m  n.a. ( 2304) (IND.1.1.1_1) - T2M  \n",
       "1       IND.1.2.1_1_t2m  n.a. ( 2178) (IND.1.2.1_1) - T2M  \n",
       "2       IND.1.3.1_1_t2m  n.a. ( 2178) (IND.1.3.1_1) - T2M  \n",
       "3      IND.10.1.1_1_t2m      Dicholi (IND.10.1.1_1) - T2M  \n",
       "4      IND.10.1.2_1_t2m       Mapuca (IND.10.1.2_1) - T2M  \n",
       "...                 ...                               ...  \n",
       "2342    Z07.3.7.1_1_t2m          Tezu (Z07.3.7.1_1) - T2M  \n",
       "2343    Z07.3.9.1_1_t2m         Amini (Z07.3.9.1_1) - T2M  \n",
       "2344   Z09.13.5.2_1_t2m       Morang (Z09.13.5.2_1) - T2M  \n",
       "2345   Z09.13.5.6_1_t2m       Sangla (Z09.13.5.6_1) - T2M  \n",
       "2346  Z09.35.13.1_1_t2m    Bhatwari (Z09.35.13.1_1) - T2M  \n",
       "\n",
       "[2347 rows x 7 columns]"
      ]
     },
     "execution_count": 6,
     "metadata": {},
     "output_type": "execute_result"
    }
   ],
   "source": [
    "level = 3\n",
    "aggregator.weighted_mean_indicator_timeseries(var=\"t2m\", adm_level=level)\n",
    "aggregator.timeseries_metadata(indicator=\"t2m\", units=\"Celsius\", adm_level=level)"
   ]
  },
  {
   "cell_type": "code",
   "execution_count": 23,
   "id": "243aa7df",
   "metadata": {},
   "outputs": [
    {
     "name": "stdout",
     "output_type": "stream",
     "text": [
      "Total weight for GID_3 = IND.2.5.10_1: 1.0\n"
     ]
    },
    {
     "data": {
      "application/vnd.plotly.v1+json": {
       "config": {
        "plotlyServerURL": "https://plot.ly"
       },
       "data": [
        {
         "customdata": [
          [
           "IND.2.5.10_1",
           0.4996742903715746
          ],
          [
           "IND.2.5.10_1",
           0.5003257096284254
          ]
         ],
         "hovertemplate": "lat=%{lat}<br>lon=%{lon}<br>GID_3=%{customdata[0]}<br>weight=%{marker.color}<extra></extra>",
         "lat": {
          "bdata": "AAAAAADAMEAAAAAAAIAwQA==",
          "dtype": "f8"
         },
         "legendgroup": "",
         "lon": {
          "bdata": "AAAAAAAgVEAAAAAAADBUQA==",
          "dtype": "f8"
         },
         "marker": {
          "color": {
           "bdata": "IhHz36n63z9vdwYQqwLgPw==",
           "dtype": "f8"
          },
          "coloraxis": "coloraxis"
         },
         "mode": "markers",
         "name": "",
         "showlegend": false,
         "subplot": "map",
         "type": "scattermap"
        },
        {
         "lat": [
          16.434511185000076,
          16.461589813000046,
          16.490209580000112,
          16.506490707000125,
          16.52003097500011,
          16.535860061000108,
          16.557931900000142,
          16.576602934999983,
          16.588350296000044,
          16.59490966800007,
          16.59733009399997,
          16.59324264500009,
          16.604190826000092,
          16.606809616000078,
          16.611549378000007,
          16.614610672000026,
          16.621440889000155,
          16.628070832000105,
          16.625339509000128,
          16.628990173000034,
          16.625890732000187,
          16.63062286400003,
          16.637741090000134,
          16.642320632000178,
          16.650638580000077,
          16.65524101300008,
          16.660079957000107,
          16.66894912800001,
          16.678300858,
          16.682800294000174,
          16.680492401000038,
          16.691352844999983,
          16.69792938300003,
          16.70325088500016,
          16.70651817300012,
          16.71306991500012,
          16.72714042700005,
          16.739240645999985,
          16.75228119000019,
          16.758850098000153,
          16.76255035400004,
          16.772310256000083,
          16.777349472000083,
          16.78650093100015,
          16.79915809700003,
          16.80648040700015,
          16.790029526000126,
          16.788320541000076,
          16.784950256000172,
          16.781311035000044,
          16.77585983200015,
          16.76993751500015,
          16.768768310000098,
          16.770059586000002,
          16.76765823300019,
          16.762830733999976,
          16.770750046000103,
          16.785089492000168,
          16.7877597800001,
          16.79203033500005,
          16.797918321000168,
          16.806659697999976,
          16.812099458000148,
          16.817100525000114,
          16.817129136000062,
          16.818410874000108,
          16.82478904800007,
          16.83632087800015,
          16.842561723000188,
          16.849910737000016,
          16.869039536000116,
          16.87310028100012,
          16.87393951399997,
          16.887161255000024,
          16.89060974200015,
          16.89677810600017,
          16.90310287500006,
          16.904321672000094,
          16.907131196000023,
          16.91163062999999,
          16.916669846000048,
          16.92651939500007,
          16.924970626999993,
          16.925380706000112,
          16.930091857000093,
          16.920291900000052,
          16.917610169000113,
          16.911529542000153,
          16.905820847000086,
          16.903400421000185,
          16.895530700000165,
          16.886360168000067,
          16.878601074000073,
          16.87463951100011,
          16.873680116000003,
          16.865169525000113,
          16.85926056000011,
          16.849580764000166,
          16.84605026200012,
          16.843240737000087,
          16.83806037900007,
          16.832031250000114,
          16.824979782000014,
          16.82319069000016,
          16.816579818000093,
          16.81019973900004,
          16.808219909,
          16.809980393000046,
          16.810079576000135,
          16.811401368000077,
          16.8164005270001,
          16.81857109100008,
          16.8107509620001,
          16.81418037500009,
          16.820819854000092,
          16.825210572000117,
          16.829959870000152,
          16.82796096900006,
          16.820489884000153,
          16.80846977300007,
          16.786279678000028,
          16.784402848000184,
          16.775060655000175,
          16.7396411900001,
          16.728811265000104,
          16.723960878000184,
          16.706501007000156,
          16.694749832000127,
          16.68345070000015,
          16.673921586000063,
          16.665100097000163,
          16.661079406000113,
          16.64518165600009,
          16.645549774000187,
          16.634340286000167,
          16.6315498350001,
          16.617958068000007,
          16.605672837000043,
          16.594039916999975,
          16.584159852000084,
          16.578910828000062,
          16.57373809900008,
          16.564012528000035,
          16.559221268000044,
          16.556430817000034,
          16.548980713000162,
          16.538871765000067,
          16.534679413000106,
          16.532220841000083,
          16.538980484999968,
          16.539039613000114,
          16.532978058000083,
          16.52886009299999,
          16.52177810600017,
          16.514560700000175,
          16.513750077000168,
          16.509611131000042,
          16.502729416000022,
          16.49284935100013,
          16.48953056300013,
          16.48509025700008,
          16.478282928000056,
          16.464550019000058,
          16.456157684000118,
          16.455059051999967,
          16.45120048600012,
          16.45857811000019,
          16.464059829000178,
          16.475791931000117,
          16.478410721000046,
          16.487911224000186,
          16.486129761000143,
          16.4912204740001,
          16.4978103630001,
          16.497051240000076,
          16.487440110000136,
          16.488269806000005,
          16.475400925000088,
          16.4710998540001,
          16.464040756000088,
          16.457439424000142,
          16.462499619000027,
          16.4651107790001,
          16.453800201000035,
          16.44647026000007,
          16.432739259000016,
          16.429008484000178,
          16.428840637000064,
          16.405300141000055,
          16.40195274400014,
          16.402910234000103,
          16.401540757000078,
          16.393629074000103,
          16.39308929400005,
          16.396118165000075,
          16.402151107999998,
          16.407630920000088,
          16.408740996999995,
          16.412281038000117,
          16.40080070500011,
          16.395561219,
          16.39110946599999,
          16.387331009000093,
          16.38235092300016,
          16.362119675000088,
          16.35642051800005,
          16.34991073500015,
          16.32995033200018,
          16.324050903000114,
          16.325929642000006,
          16.32335090600003,
          16.319210052000074,
          16.317579270000124,
          16.30834007200002,
          16.304889677999995,
          16.30033111700004,
          16.29528999300004,
          16.291210175000117,
          16.286268234999966,
          16.27989959700011,
          16.273719788000108,
          16.275730134000185,
          16.275079726000172,
          16.29618072500017,
          16.31740951500001,
          16.342411041000105,
          16.372571945000175,
          16.434511185000076
         ],
         "line": {
          "color": "black",
          "width": 2
         },
         "lon": [
          80.68049621600017,
          80.66355896000016,
          80.63613128700018,
          80.6101531970001,
          80.58429718000014,
          80.55766296500008,
          80.52793884200014,
          80.49962616000005,
          80.47457885700015,
          80.43873596200007,
          80.40615844800004,
          80.38820648200004,
          80.38902282700019,
          80.39463043299997,
          80.39459228600015,
          80.39138793900014,
          80.39330291800019,
          80.39714813300014,
          80.4035873420001,
          80.40576934700005,
          80.41562652700014,
          80.42005920400015,
          80.42930603000019,
          80.43669128400018,
          80.4343566890002,
          80.43981170700016,
          80.44367980900012,
          80.44995880100004,
          80.454421997,
          80.45865631100008,
          80.46718597500006,
          80.47416687000009,
          80.47975158700007,
          80.48677825900006,
          80.48789215100004,
          80.48790740900006,
          80.48459625300018,
          80.48060607900004,
          80.47901153700013,
          80.47650909499998,
          80.46933746400003,
          80.4593811040001,
          80.45674896100019,
          80.4429702760001,
          80.44986724900008,
          80.45507812500011,
          80.45639800999999,
          80.47101593000014,
          80.47905731200007,
          80.48464965800002,
          80.48953247000009,
          80.51098632800012,
          80.51806640700016,
          80.53005981400014,
          80.54650879000008,
          80.56281280600012,
          80.56933593700012,
          80.59751892000003,
          80.60410308900009,
          80.59777832000003,
          80.59364318799999,
          80.58584594800004,
          80.57176971400014,
          80.5670089730001,
          80.5612487800002,
          80.55602264300006,
          80.55458068800004,
          80.56243133599997,
          80.56400299000018,
          80.56482696600017,
          80.56497192500012,
          80.57650756800007,
          80.58674621500018,
          80.58577728200004,
          80.58335876400014,
          80.58123779200014,
          80.58212280300006,
          80.58587646500018,
          80.58936309800009,
          80.5903091420002,
          80.58914184500014,
          80.58419036800018,
          80.59879303000014,
          80.6053619380001,
          80.61058807500007,
          80.63461303800005,
          80.64605712900004,
          80.65270233100011,
          80.65544891400003,
          80.65373229900007,
          80.657341003,
          80.65191650400016,
          80.64910125700004,
          80.65962982300005,
          80.6678466800002,
          80.67462158300003,
          80.67280578600014,
          80.66754150400016,
          80.65393829400011,
          80.65125274600013,
          80.65100097600009,
          80.65614318900003,
          80.66543579000017,
          80.67106628400012,
          80.67279815700016,
          80.68322753900014,
          80.69133758600015,
          80.69954681400009,
          80.71063232500012,
          80.72380828800004,
          80.72731018000007,
          80.73258209199997,
          80.74595642100019,
          80.74785614000007,
          80.74938201900011,
          80.75263977100019,
          80.75450134300019,
          80.75800323500005,
          80.76032257100013,
          80.7600402830002,
          80.7525024420001,
          80.75496673600009,
          80.75108337400013,
          80.72821044900002,
          80.71906280500008,
          80.71811676100015,
          80.70530700600011,
          80.69552612300004,
          80.6894378670001,
          80.67967987000014,
          80.67266082800006,
          80.66655731200007,
          80.65415954700006,
          80.64888000400009,
          80.6456604010001,
          80.64119720400004,
          80.63842010400009,
          80.637298584,
          80.6376266470001,
          80.62744140700005,
          80.61789703500011,
          80.61518859800009,
          80.60729217500017,
          80.61054992599998,
          80.62111663800016,
          80.63176727300004,
          80.63197326700003,
          80.6345062260001,
          80.64057159500004,
          80.64428710900012,
          80.65135192800017,
          80.67259979300007,
          80.69021606400008,
          80.70362854000012,
          80.7207489020002,
          80.7315902700002,
          80.75118255600012,
          80.75966644300019,
          80.76859283400006,
          80.7750930790001,
          80.77881622300015,
          80.77658081100009,
          80.76355743300007,
          80.76080322200016,
          80.77307128900014,
          80.79300689799999,
          80.79471588100012,
          80.79383850200009,
          80.79496002200011,
          80.79207611200007,
          80.7969360350001,
          80.79293823199998,
          80.80063629100005,
          80.80155181800001,
          80.81413269000001,
          80.814979553,
          80.81030273400006,
          80.81022644000012,
          80.8268508910001,
          80.82852172900016,
          80.821662903,
          80.80738067600004,
          80.80467987000003,
          80.79989624100011,
          80.79946136500018,
          80.80224609300018,
          80.81829071000016,
          80.83439636200012,
          80.83328247000014,
          80.8297729480002,
          80.81395721500019,
          80.80834960900017,
          80.80150604300007,
          80.79862976100009,
          80.79299926800007,
          80.78679657000004,
          80.78533172599998,
          80.779518128,
          80.7740478520002,
          80.77027893000013,
          80.76750946100003,
          80.77394104000007,
          80.78395080600012,
          80.783920287,
          80.7808761600001,
          80.79724883900008,
          80.79933166400019,
          80.79657745300011,
          80.80940246600017,
          80.81523895200007,
          80.82047271700014,
          80.82425689700005,
          80.83067321800007,
          80.82868194500008,
          80.82277679500015,
          80.82025146500013,
          80.81529998800016,
          80.81748199500015,
          80.8217468270002,
          80.82077789400006,
          80.81783294600012,
          80.8039398200001,
          80.80005645800009,
          80.78510284500015,
          80.76674652000003,
          80.74904632600015,
          80.72907257200006,
          80.68049621600017
         ],
         "mode": "lines",
         "name": "IND.2.5.10_1 boundary",
         "type": "scattermap"
        }
       ],
       "layout": {
        "coloraxis": {
         "colorbar": {
          "title": {
           "text": "weight"
          }
         },
         "colorscale": [
          [
           0,
           "#0d0887"
          ],
          [
           0.1111111111111111,
           "#46039f"
          ],
          [
           0.2222222222222222,
           "#7201a8"
          ],
          [
           0.3333333333333333,
           "#9c179e"
          ],
          [
           0.4444444444444444,
           "#bd3786"
          ],
          [
           0.5555555555555556,
           "#d8576b"
          ],
          [
           0.6666666666666666,
           "#ed7953"
          ],
          [
           0.7777777777777778,
           "#fb9f3a"
          ],
          [
           0.8888888888888888,
           "#fdca26"
          ],
          [
           1,
           "#f0f921"
          ]
         ]
        },
        "height": 700,
        "legend": {
         "tracegroupgap": 0
        },
        "map": {
         "center": {
          "lat": 16.625,
          "lon": 80.625
         },
         "domain": {
          "x": [
           0,
           1
          ],
          "y": [
           0,
           1
          ]
         },
         "zoom": 5
        },
        "mapbox": {
         "center": {
          "lat": 16.625,
          "lon": 80.625
         },
         "zoom": 5
        },
        "template": {
         "data": {
          "bar": [
           {
            "error_x": {
             "color": "#2a3f5f"
            },
            "error_y": {
             "color": "#2a3f5f"
            },
            "marker": {
             "line": {
              "color": "#E5ECF6",
              "width": 0.5
             },
             "pattern": {
              "fillmode": "overlay",
              "size": 10,
              "solidity": 0.2
             }
            },
            "type": "bar"
           }
          ],
          "barpolar": [
           {
            "marker": {
             "line": {
              "color": "#E5ECF6",
              "width": 0.5
             },
             "pattern": {
              "fillmode": "overlay",
              "size": 10,
              "solidity": 0.2
             }
            },
            "type": "barpolar"
           }
          ],
          "carpet": [
           {
            "aaxis": {
             "endlinecolor": "#2a3f5f",
             "gridcolor": "white",
             "linecolor": "white",
             "minorgridcolor": "white",
             "startlinecolor": "#2a3f5f"
            },
            "baxis": {
             "endlinecolor": "#2a3f5f",
             "gridcolor": "white",
             "linecolor": "white",
             "minorgridcolor": "white",
             "startlinecolor": "#2a3f5f"
            },
            "type": "carpet"
           }
          ],
          "choropleth": [
           {
            "colorbar": {
             "outlinewidth": 0,
             "ticks": ""
            },
            "type": "choropleth"
           }
          ],
          "contour": [
           {
            "colorbar": {
             "outlinewidth": 0,
             "ticks": ""
            },
            "colorscale": [
             [
              0,
              "#0d0887"
             ],
             [
              0.1111111111111111,
              "#46039f"
             ],
             [
              0.2222222222222222,
              "#7201a8"
             ],
             [
              0.3333333333333333,
              "#9c179e"
             ],
             [
              0.4444444444444444,
              "#bd3786"
             ],
             [
              0.5555555555555556,
              "#d8576b"
             ],
             [
              0.6666666666666666,
              "#ed7953"
             ],
             [
              0.7777777777777778,
              "#fb9f3a"
             ],
             [
              0.8888888888888888,
              "#fdca26"
             ],
             [
              1,
              "#f0f921"
             ]
            ],
            "type": "contour"
           }
          ],
          "contourcarpet": [
           {
            "colorbar": {
             "outlinewidth": 0,
             "ticks": ""
            },
            "type": "contourcarpet"
           }
          ],
          "heatmap": [
           {
            "colorbar": {
             "outlinewidth": 0,
             "ticks": ""
            },
            "colorscale": [
             [
              0,
              "#0d0887"
             ],
             [
              0.1111111111111111,
              "#46039f"
             ],
             [
              0.2222222222222222,
              "#7201a8"
             ],
             [
              0.3333333333333333,
              "#9c179e"
             ],
             [
              0.4444444444444444,
              "#bd3786"
             ],
             [
              0.5555555555555556,
              "#d8576b"
             ],
             [
              0.6666666666666666,
              "#ed7953"
             ],
             [
              0.7777777777777778,
              "#fb9f3a"
             ],
             [
              0.8888888888888888,
              "#fdca26"
             ],
             [
              1,
              "#f0f921"
             ]
            ],
            "type": "heatmap"
           }
          ],
          "histogram": [
           {
            "marker": {
             "pattern": {
              "fillmode": "overlay",
              "size": 10,
              "solidity": 0.2
             }
            },
            "type": "histogram"
           }
          ],
          "histogram2d": [
           {
            "colorbar": {
             "outlinewidth": 0,
             "ticks": ""
            },
            "colorscale": [
             [
              0,
              "#0d0887"
             ],
             [
              0.1111111111111111,
              "#46039f"
             ],
             [
              0.2222222222222222,
              "#7201a8"
             ],
             [
              0.3333333333333333,
              "#9c179e"
             ],
             [
              0.4444444444444444,
              "#bd3786"
             ],
             [
              0.5555555555555556,
              "#d8576b"
             ],
             [
              0.6666666666666666,
              "#ed7953"
             ],
             [
              0.7777777777777778,
              "#fb9f3a"
             ],
             [
              0.8888888888888888,
              "#fdca26"
             ],
             [
              1,
              "#f0f921"
             ]
            ],
            "type": "histogram2d"
           }
          ],
          "histogram2dcontour": [
           {
            "colorbar": {
             "outlinewidth": 0,
             "ticks": ""
            },
            "colorscale": [
             [
              0,
              "#0d0887"
             ],
             [
              0.1111111111111111,
              "#46039f"
             ],
             [
              0.2222222222222222,
              "#7201a8"
             ],
             [
              0.3333333333333333,
              "#9c179e"
             ],
             [
              0.4444444444444444,
              "#bd3786"
             ],
             [
              0.5555555555555556,
              "#d8576b"
             ],
             [
              0.6666666666666666,
              "#ed7953"
             ],
             [
              0.7777777777777778,
              "#fb9f3a"
             ],
             [
              0.8888888888888888,
              "#fdca26"
             ],
             [
              1,
              "#f0f921"
             ]
            ],
            "type": "histogram2dcontour"
           }
          ],
          "mesh3d": [
           {
            "colorbar": {
             "outlinewidth": 0,
             "ticks": ""
            },
            "type": "mesh3d"
           }
          ],
          "parcoords": [
           {
            "line": {
             "colorbar": {
              "outlinewidth": 0,
              "ticks": ""
             }
            },
            "type": "parcoords"
           }
          ],
          "pie": [
           {
            "automargin": true,
            "type": "pie"
           }
          ],
          "scatter": [
           {
            "fillpattern": {
             "fillmode": "overlay",
             "size": 10,
             "solidity": 0.2
            },
            "type": "scatter"
           }
          ],
          "scatter3d": [
           {
            "line": {
             "colorbar": {
              "outlinewidth": 0,
              "ticks": ""
             }
            },
            "marker": {
             "colorbar": {
              "outlinewidth": 0,
              "ticks": ""
             }
            },
            "type": "scatter3d"
           }
          ],
          "scattercarpet": [
           {
            "marker": {
             "colorbar": {
              "outlinewidth": 0,
              "ticks": ""
             }
            },
            "type": "scattercarpet"
           }
          ],
          "scattergeo": [
           {
            "marker": {
             "colorbar": {
              "outlinewidth": 0,
              "ticks": ""
             }
            },
            "type": "scattergeo"
           }
          ],
          "scattergl": [
           {
            "marker": {
             "colorbar": {
              "outlinewidth": 0,
              "ticks": ""
             }
            },
            "type": "scattergl"
           }
          ],
          "scattermap": [
           {
            "marker": {
             "colorbar": {
              "outlinewidth": 0,
              "ticks": ""
             }
            },
            "type": "scattermap"
           }
          ],
          "scattermapbox": [
           {
            "marker": {
             "colorbar": {
              "outlinewidth": 0,
              "ticks": ""
             }
            },
            "type": "scattermapbox"
           }
          ],
          "scatterpolar": [
           {
            "marker": {
             "colorbar": {
              "outlinewidth": 0,
              "ticks": ""
             }
            },
            "type": "scatterpolar"
           }
          ],
          "scatterpolargl": [
           {
            "marker": {
             "colorbar": {
              "outlinewidth": 0,
              "ticks": ""
             }
            },
            "type": "scatterpolargl"
           }
          ],
          "scatterternary": [
           {
            "marker": {
             "colorbar": {
              "outlinewidth": 0,
              "ticks": ""
             }
            },
            "type": "scatterternary"
           }
          ],
          "surface": [
           {
            "colorbar": {
             "outlinewidth": 0,
             "ticks": ""
            },
            "colorscale": [
             [
              0,
              "#0d0887"
             ],
             [
              0.1111111111111111,
              "#46039f"
             ],
             [
              0.2222222222222222,
              "#7201a8"
             ],
             [
              0.3333333333333333,
              "#9c179e"
             ],
             [
              0.4444444444444444,
              "#bd3786"
             ],
             [
              0.5555555555555556,
              "#d8576b"
             ],
             [
              0.6666666666666666,
              "#ed7953"
             ],
             [
              0.7777777777777778,
              "#fb9f3a"
             ],
             [
              0.8888888888888888,
              "#fdca26"
             ],
             [
              1,
              "#f0f921"
             ]
            ],
            "type": "surface"
           }
          ],
          "table": [
           {
            "cells": {
             "fill": {
              "color": "#EBF0F8"
             },
             "line": {
              "color": "white"
             }
            },
            "header": {
             "fill": {
              "color": "#C8D4E3"
             },
             "line": {
              "color": "white"
             }
            },
            "type": "table"
           }
          ]
         },
         "layout": {
          "annotationdefaults": {
           "arrowcolor": "#2a3f5f",
           "arrowhead": 0,
           "arrowwidth": 1
          },
          "autotypenumbers": "strict",
          "coloraxis": {
           "colorbar": {
            "outlinewidth": 0,
            "ticks": ""
           }
          },
          "colorscale": {
           "diverging": [
            [
             0,
             "#8e0152"
            ],
            [
             0.1,
             "#c51b7d"
            ],
            [
             0.2,
             "#de77ae"
            ],
            [
             0.3,
             "#f1b6da"
            ],
            [
             0.4,
             "#fde0ef"
            ],
            [
             0.5,
             "#f7f7f7"
            ],
            [
             0.6,
             "#e6f5d0"
            ],
            [
             0.7,
             "#b8e186"
            ],
            [
             0.8,
             "#7fbc41"
            ],
            [
             0.9,
             "#4d9221"
            ],
            [
             1,
             "#276419"
            ]
           ],
           "sequential": [
            [
             0,
             "#0d0887"
            ],
            [
             0.1111111111111111,
             "#46039f"
            ],
            [
             0.2222222222222222,
             "#7201a8"
            ],
            [
             0.3333333333333333,
             "#9c179e"
            ],
            [
             0.4444444444444444,
             "#bd3786"
            ],
            [
             0.5555555555555556,
             "#d8576b"
            ],
            [
             0.6666666666666666,
             "#ed7953"
            ],
            [
             0.7777777777777778,
             "#fb9f3a"
            ],
            [
             0.8888888888888888,
             "#fdca26"
            ],
            [
             1,
             "#f0f921"
            ]
           ],
           "sequentialminus": [
            [
             0,
             "#0d0887"
            ],
            [
             0.1111111111111111,
             "#46039f"
            ],
            [
             0.2222222222222222,
             "#7201a8"
            ],
            [
             0.3333333333333333,
             "#9c179e"
            ],
            [
             0.4444444444444444,
             "#bd3786"
            ],
            [
             0.5555555555555556,
             "#d8576b"
            ],
            [
             0.6666666666666666,
             "#ed7953"
            ],
            [
             0.7777777777777778,
             "#fb9f3a"
            ],
            [
             0.8888888888888888,
             "#fdca26"
            ],
            [
             1,
             "#f0f921"
            ]
           ]
          },
          "colorway": [
           "#636efa",
           "#EF553B",
           "#00cc96",
           "#ab63fa",
           "#FFA15A",
           "#19d3f3",
           "#FF6692",
           "#B6E880",
           "#FF97FF",
           "#FECB52"
          ],
          "font": {
           "color": "#2a3f5f"
          },
          "geo": {
           "bgcolor": "white",
           "lakecolor": "white",
           "landcolor": "#E5ECF6",
           "showlakes": true,
           "showland": true,
           "subunitcolor": "white"
          },
          "hoverlabel": {
           "align": "left"
          },
          "hovermode": "closest",
          "mapbox": {
           "style": "light"
          },
          "paper_bgcolor": "white",
          "plot_bgcolor": "#E5ECF6",
          "polar": {
           "angularaxis": {
            "gridcolor": "white",
            "linecolor": "white",
            "ticks": ""
           },
           "bgcolor": "#E5ECF6",
           "radialaxis": {
            "gridcolor": "white",
            "linecolor": "white",
            "ticks": ""
           }
          },
          "scene": {
           "xaxis": {
            "backgroundcolor": "#E5ECF6",
            "gridcolor": "white",
            "gridwidth": 2,
            "linecolor": "white",
            "showbackground": true,
            "ticks": "",
            "zerolinecolor": "white"
           },
           "yaxis": {
            "backgroundcolor": "#E5ECF6",
            "gridcolor": "white",
            "gridwidth": 2,
            "linecolor": "white",
            "showbackground": true,
            "ticks": "",
            "zerolinecolor": "white"
           },
           "zaxis": {
            "backgroundcolor": "#E5ECF6",
            "gridcolor": "white",
            "gridwidth": 2,
            "linecolor": "white",
            "showbackground": true,
            "ticks": "",
            "zerolinecolor": "white"
           }
          },
          "shapedefaults": {
           "line": {
            "color": "#2a3f5f"
           }
          },
          "ternary": {
           "aaxis": {
            "gridcolor": "white",
            "linecolor": "white",
            "ticks": ""
           },
           "baxis": {
            "gridcolor": "white",
            "linecolor": "white",
            "ticks": ""
           },
           "bgcolor": "#E5ECF6",
           "caxis": {
            "gridcolor": "white",
            "linecolor": "white",
            "ticks": ""
           }
          },
          "title": {
           "x": 0.05
          },
          "xaxis": {
           "automargin": true,
           "gridcolor": "white",
           "linecolor": "white",
           "ticks": "",
           "title": {
            "standoff": 15
           },
           "zerolinecolor": "white",
           "zerolinewidth": 2
          },
          "yaxis": {
           "automargin": true,
           "gridcolor": "white",
           "linecolor": "white",
           "ticks": "",
           "title": {
            "standoff": 15
           },
           "zerolinecolor": "white",
           "zerolinewidth": 2
          }
         }
        },
        "title": {
         "text": "ERA5 Grid Cells Assigned to GID_3 IND.2.5.10_1 (Total weight: 1.000)"
        }
       }
      }
     },
     "metadata": {},
     "output_type": "display_data"
    }
   ],
   "source": [
    "import pandas as pd\n",
    "import plotly.express as px\n",
    "import plotly.graph_objects as go\n",
    "import geopandas as gpd\n",
    "\n",
    "# Choose the mapping file and GID column for the admin level you want to visualize\n",
    "adm_level = 3  # ADM2\n",
    "mapping_file = f\"output/grid_to_adm{adm_level}_mapping.parquet\"\n",
    "gid_col = f\"GID_{adm_level}\"\n",
    "\n",
    "# Load the mapping file\n",
    "mapping = pd.read_parquet(mapping_file)\n",
    "\n",
    "# Select a single ADM2 (e.g., 20th in the file)\n",
    "selected_gid = mapping[gid_col].iloc[100]\n",
    "filtered = mapping[mapping[gid_col] == selected_gid]\n",
    "\n",
    "# Sum all weights for this ADM2\n",
    "total_weight = filtered['weight'].sum()\n",
    "print(f\"Total weight for {gid_col} = {selected_gid}: {total_weight}\")\n",
    "\n",
    "# Load ADM2 polygons from GADM\n",
    "adm3_gdf = gpd.read_file(\"input/gadm41_IND.gpkg\", layer=\"ADM_ADM_3\")\n",
    "selected_poly = adm3_gdf[adm3_gdf[gid_col] == selected_gid]\n",
    "\n",
    "# Plot grid cell centroids for this ADM2\n",
    "fig = px.scatter_map(\n",
    "    filtered,\n",
    "    lat=\"lat\",\n",
    "    lon=\"lon\",\n",
    "    color=\"weight\",\n",
    "    hover_data=[gid_col, \"weight\"],\n",
    "    zoom=5,\n",
    "    height=700,\n",
    "    title=f\"ERA5 Grid Cells Assigned to {gid_col} {selected_gid} (Total weight: {total_weight:.3f})\"\n",
    ")\n",
    "\n",
    "# Add ADM2 polygon outline using go.Scattermap (not go.Scattermapbox)\n",
    "if not selected_poly.empty:\n",
    "    for _, row in selected_poly.iterrows():\n",
    "        if row.geometry.geom_type == 'MultiPolygon':\n",
    "            for poly in row.geometry.geoms:\n",
    "                lons, lats = poly.exterior.coords.xy\n",
    "                fig.add_trace(go.Scattermap(\n",
    "                    lon=list(lons),\n",
    "                    lat=list(lats),\n",
    "                    mode='lines',\n",
    "                    line=dict(color='black', width=2),\n",
    "                    name=f\"{selected_gid} boundary\"\n",
    "                ))\n",
    "        else:\n",
    "            lons, lats = row.geometry.exterior.coords.xy\n",
    "            fig.add_trace(go.Scattermap(\n",
    "                lon=list(lons),\n",
    "                lat=list(lats),\n",
    "                mode='lines',\n",
    "                line=dict(color='black', width=2),\n",
    "                name=f\"{selected_gid} boundary\"\n",
    "            ))\n",
    "fig.show()\n"
   ]
  },
  {
   "cell_type": "code",
   "execution_count": 8,
   "id": "3900341d",
   "metadata": {},
   "outputs": [
    {
     "data": {
      "text/plain": [
       "11    0.036941\n",
       "12    0.036941\n",
       "13    0.036941\n",
       "14    0.036941\n",
       "15    0.036941\n",
       "16    0.036983\n",
       "17    0.036983\n",
       "18    0.036983\n",
       "19    0.036983\n",
       "20    0.036983\n",
       "21    0.037026\n",
       "22    0.037026\n",
       "23    0.037026\n",
       "24    0.037026\n",
       "25    0.037067\n",
       "26    0.037067\n",
       "27    0.037067\n",
       "28    0.037067\n",
       "29    0.037067\n",
       "30    0.037108\n",
       "31    0.037108\n",
       "32    0.037108\n",
       "33    0.037108\n",
       "34    0.037108\n",
       "35    0.037108\n",
       "36    0.037148\n",
       "37    0.037148\n",
       "Name: weight, dtype: float64"
      ]
     },
     "execution_count": 8,
     "metadata": {},
     "output_type": "execute_result"
    }
   ],
   "source": [
    "filtered['weight']"
   ]
  },
  {
   "cell_type": "code",
   "execution_count": 25,
   "id": "5fc378d0",
   "metadata": {},
   "outputs": [
    {
     "name": "stdout",
     "output_type": "stream",
     "text": [
      "Columns in joined: Index(['index_left', 'GID_3_left', 'i', 'j', 'lat', 'lon', 'weight',\n",
      "       'GID_3_right', 'geometry'],\n",
      "      dtype='object')\n",
      "Number of ADM3 regions with no mapping points inside their polygon: 0\n"
     ]
    },
    {
     "data": {
      "text/html": [
       "<div>\n",
       "<style scoped>\n",
       "    .dataframe tbody tr th:only-of-type {\n",
       "        vertical-align: middle;\n",
       "    }\n",
       "\n",
       "    .dataframe tbody tr th {\n",
       "        vertical-align: top;\n",
       "    }\n",
       "\n",
       "    .dataframe thead th {\n",
       "        text-align: right;\n",
       "    }\n",
       "</style>\n",
       "<table border=\"1\" class=\"dataframe\">\n",
       "  <thead>\n",
       "    <tr style=\"text-align: right;\">\n",
       "      <th></th>\n",
       "      <th>GID_3</th>\n",
       "      <th>NAME_3</th>\n",
       "    </tr>\n",
       "  </thead>\n",
       "  <tbody>\n",
       "  </tbody>\n",
       "</table>\n",
       "</div>"
      ],
      "text/plain": [
       "Empty DataFrame\n",
       "Columns: [GID_3, NAME_3]\n",
       "Index: []"
      ]
     },
     "execution_count": 25,
     "metadata": {},
     "output_type": "execute_result"
    }
   ],
   "source": [
    "import geopandas as gpd\n",
    "import pandas as pd\n",
    "\n",
    "# Load ADM3 polygons and mapping\n",
    "adm3_gdf = gpd.read_file(\"input/gadm41_IND.gpkg\", layer=\"ADM_ADM_3\")\n",
    "mapping = pd.read_parquet(\"output/grid_to_adm3_mapping.parquet\")\n",
    "\n",
    "# Create GeoDataFrame of mapping points\n",
    "points_gdf = gpd.GeoDataFrame(\n",
    "    mapping,\n",
    "    geometry=gpd.points_from_xy(mapping['lon'], mapping['lat']),\n",
    "    crs=adm3_gdf.crs\n",
    ")\n",
    "\n",
    "# Spatial join: which points fall inside which ADM3 polygon\n",
    "joined = gpd.sjoin(points_gdf, adm3_gdf[[\"GID_3\", \"geometry\"]], how=\"right\", predicate=\"within\")\n",
    "\n",
    "# Check columns in joined to debug KeyError\n",
    "print(\"Columns in joined:\", joined.columns)\n",
    "# If 'GID_3_right' exists, use that for grouping\n",
    "if 'GID_3' in joined.columns:\n",
    "    group_col = 'GID_3'\n",
    "elif 'GID_3_right' in joined.columns:\n",
    "    group_col = 'GID_3_right'\n",
    "else:\n",
    "    raise KeyError(\"No GID_3 column found in joined GeoDataFrame\")\n",
    "\n",
    "points_per_adm3 = joined.groupby(group_col).size()\n",
    "\n",
    "adm3_with_no_points = adm3_gdf.loc[~adm3_gdf[\"GID_3\"].isin(points_per_adm3.index)]\n",
    "print(f\"Number of ADM3 regions with no mapping points inside their polygon: {len(adm3_with_no_points)}\")\n",
    "adm3_with_no_points[[\"GID_3\", \"NAME_3\"]].head()"
   ]
  },
  {
   "cell_type": "code",
   "execution_count": 29,
   "id": "38a4c9b4",
   "metadata": {},
   "outputs": [
    {
     "data": {
      "text/html": [
       "<div>\n",
       "<style scoped>\n",
       "    .dataframe tbody tr th:only-of-type {\n",
       "        vertical-align: middle;\n",
       "    }\n",
       "\n",
       "    .dataframe tbody tr th {\n",
       "        vertical-align: top;\n",
       "    }\n",
       "\n",
       "    .dataframe thead th {\n",
       "        text-align: right;\n",
       "    }\n",
       "</style>\n",
       "<table border=\"1\" class=\"dataframe\">\n",
       "  <thead>\n",
       "    <tr style=\"text-align: right;\">\n",
       "      <th></th>\n",
       "      <th>GID_3</th>\n",
       "      <th>GID_0</th>\n",
       "      <th>COUNTRY</th>\n",
       "      <th>GID_1</th>\n",
       "      <th>NAME_1</th>\n",
       "      <th>NL_NAME_1</th>\n",
       "      <th>GID_2</th>\n",
       "      <th>NAME_2</th>\n",
       "      <th>NL_NAME_2</th>\n",
       "      <th>NAME_3</th>\n",
       "      <th>VARNAME_3</th>\n",
       "      <th>NL_NAME_3</th>\n",
       "      <th>TYPE_3</th>\n",
       "      <th>ENGTYPE_3</th>\n",
       "      <th>CC_3</th>\n",
       "      <th>HASC_3</th>\n",
       "      <th>geometry</th>\n",
       "    </tr>\n",
       "  </thead>\n",
       "  <tbody>\n",
       "    <tr>\n",
       "      <th>0</th>\n",
       "      <td>IND.1.1.1_1</td>\n",
       "      <td>IND</td>\n",
       "      <td>India</td>\n",
       "      <td>IND.1_1</td>\n",
       "      <td>Andaman and Nicobar</td>\n",
       "      <td>NA</td>\n",
       "      <td>IND.1.1_1</td>\n",
       "      <td>Nicobar Islands</td>\n",
       "      <td>NA</td>\n",
       "      <td>n.a. ( 2304)</td>\n",
       "      <td>NA</td>\n",
       "      <td>NA</td>\n",
       "      <td>Taluk</td>\n",
       "      <td>Taluk</td>\n",
       "      <td>NA</td>\n",
       "      <td>NA</td>\n",
       "      <td>MULTIPOLYGON (((93.78988 6.85201, 93.79015 6.8...</td>\n",
       "    </tr>\n",
       "    <tr>\n",
       "      <th>1</th>\n",
       "      <td>IND.1.2.1_1</td>\n",
       "      <td>IND</td>\n",
       "      <td>India</td>\n",
       "      <td>IND.1_1</td>\n",
       "      <td>Andaman and Nicobar</td>\n",
       "      <td>NA</td>\n",
       "      <td>IND.1.2_1</td>\n",
       "      <td>North and Middle Andaman</td>\n",
       "      <td>NA</td>\n",
       "      <td>n.a. ( 2178)</td>\n",
       "      <td>NA</td>\n",
       "      <td>NA</td>\n",
       "      <td>Taluk</td>\n",
       "      <td>Taluk</td>\n",
       "      <td>NA</td>\n",
       "      <td>NA</td>\n",
       "      <td>MULTIPOLYGON (((92.84441 12.14969, 92.84466 12...</td>\n",
       "    </tr>\n",
       "    <tr>\n",
       "      <th>2</th>\n",
       "      <td>IND.1.3.1_1</td>\n",
       "      <td>IND</td>\n",
       "      <td>India</td>\n",
       "      <td>IND.1_1</td>\n",
       "      <td>Andaman and Nicobar</td>\n",
       "      <td>NA</td>\n",
       "      <td>IND.1.3_1</td>\n",
       "      <td>South Andaman</td>\n",
       "      <td>NA</td>\n",
       "      <td>n.a. ( 2178)</td>\n",
       "      <td>NA</td>\n",
       "      <td>NA</td>\n",
       "      <td>Taluk</td>\n",
       "      <td>Taluk</td>\n",
       "      <td>NA</td>\n",
       "      <td>NA</td>\n",
       "      <td>MULTIPOLYGON (((92.52111 10.89694, 92.52306 10...</td>\n",
       "    </tr>\n",
       "    <tr>\n",
       "      <th>3</th>\n",
       "      <td>IND.2.1.1_1</td>\n",
       "      <td>IND</td>\n",
       "      <td>India</td>\n",
       "      <td>IND.2_1</td>\n",
       "      <td>Andhra Pradesh</td>\n",
       "      <td>NA</td>\n",
       "      <td>IND.2.1_1</td>\n",
       "      <td>Anantapur</td>\n",
       "      <td>NA</td>\n",
       "      <td>Anantapur</td>\n",
       "      <td>NA</td>\n",
       "      <td>NA</td>\n",
       "      <td>Taluk</td>\n",
       "      <td>Taluk</td>\n",
       "      <td>NA</td>\n",
       "      <td>NA</td>\n",
       "      <td>MULTIPOLYGON (((77.84469 14.58576, 77.83913 14...</td>\n",
       "    </tr>\n",
       "    <tr>\n",
       "      <th>4</th>\n",
       "      <td>IND.2.1.2_1</td>\n",
       "      <td>IND</td>\n",
       "      <td>India</td>\n",
       "      <td>IND.2_1</td>\n",
       "      <td>Andhra Pradesh</td>\n",
       "      <td>NA</td>\n",
       "      <td>IND.2.1_1</td>\n",
       "      <td>Anantapur</td>\n",
       "      <td>NA</td>\n",
       "      <td>Dharmavaram</td>\n",
       "      <td>NA</td>\n",
       "      <td>NA</td>\n",
       "      <td>Taluk</td>\n",
       "      <td>Taluk</td>\n",
       "      <td>NA</td>\n",
       "      <td>NA</td>\n",
       "      <td>MULTIPOLYGON (((77.35452 14.52155, 77.35507 14...</td>\n",
       "    </tr>\n",
       "    <tr>\n",
       "      <th>...</th>\n",
       "      <td>...</td>\n",
       "      <td>...</td>\n",
       "      <td>...</td>\n",
       "      <td>...</td>\n",
       "      <td>...</td>\n",
       "      <td>...</td>\n",
       "      <td>...</td>\n",
       "      <td>...</td>\n",
       "      <td>...</td>\n",
       "      <td>...</td>\n",
       "      <td>...</td>\n",
       "      <td>...</td>\n",
       "      <td>...</td>\n",
       "      <td>...</td>\n",
       "      <td>...</td>\n",
       "      <td>...</td>\n",
       "      <td>...</td>\n",
       "    </tr>\n",
       "    <tr>\n",
       "      <th>2342</th>\n",
       "      <td>IND.36.19.1_1</td>\n",
       "      <td>IND</td>\n",
       "      <td>India</td>\n",
       "      <td>IND.36_1</td>\n",
       "      <td>West Bengal</td>\n",
       "      <td>NA</td>\n",
       "      <td>IND.36.19_1</td>\n",
       "      <td>South 24 Parganas</td>\n",
       "      <td>NA</td>\n",
       "      <td>Diamond Harbour</td>\n",
       "      <td>NA</td>\n",
       "      <td>NA</td>\n",
       "      <td>Taluk</td>\n",
       "      <td>Taluk</td>\n",
       "      <td>NA</td>\n",
       "      <td>NA</td>\n",
       "      <td>MULTIPOLYGON (((88.02055 21.57222, 88.02139 21...</td>\n",
       "    </tr>\n",
       "    <tr>\n",
       "      <th>2343</th>\n",
       "      <td>IND.36.19.2_1</td>\n",
       "      <td>IND</td>\n",
       "      <td>India</td>\n",
       "      <td>IND.36_1</td>\n",
       "      <td>West Bengal</td>\n",
       "      <td>NA</td>\n",
       "      <td>IND.36.19_1</td>\n",
       "      <td>South 24 Parganas</td>\n",
       "      <td>NA</td>\n",
       "      <td>n.a. ( 1187)</td>\n",
       "      <td>NA</td>\n",
       "      <td>NA</td>\n",
       "      <td>Taluk</td>\n",
       "      <td>Taluk</td>\n",
       "      <td>NA</td>\n",
       "      <td>NA</td>\n",
       "      <td>MULTIPOLYGON (((88.73339 22.0436, 88.73342 22....</td>\n",
       "    </tr>\n",
       "    <tr>\n",
       "      <th>2344</th>\n",
       "      <td>IND.36.19.3_1</td>\n",
       "      <td>IND</td>\n",
       "      <td>India</td>\n",
       "      <td>IND.36_1</td>\n",
       "      <td>West Bengal</td>\n",
       "      <td>NA</td>\n",
       "      <td>IND.36.19_1</td>\n",
       "      <td>South 24 Parganas</td>\n",
       "      <td>NA</td>\n",
       "      <td>n.a. ( 1229)</td>\n",
       "      <td>NA</td>\n",
       "      <td>NA</td>\n",
       "      <td>Taluk</td>\n",
       "      <td>Taluk</td>\n",
       "      <td>NA</td>\n",
       "      <td>NA</td>\n",
       "      <td>MULTIPOLYGON (((88.49973 21.5975, 88.50222 21....</td>\n",
       "    </tr>\n",
       "    <tr>\n",
       "      <th>2345</th>\n",
       "      <td>IND.36.20.1_1</td>\n",
       "      <td>IND</td>\n",
       "      <td>India</td>\n",
       "      <td>IND.36_1</td>\n",
       "      <td>West Bengal</td>\n",
       "      <td>NA</td>\n",
       "      <td>IND.36.20_1</td>\n",
       "      <td>Uttar Dinajpur</td>\n",
       "      <td>NA</td>\n",
       "      <td>Islampur</td>\n",
       "      <td>NA</td>\n",
       "      <td>NA</td>\n",
       "      <td>Taluk</td>\n",
       "      <td>Taluk</td>\n",
       "      <td>NA</td>\n",
       "      <td>NA</td>\n",
       "      <td>MULTIPOLYGON (((88.3592 26.2426, 88.35914 26.2...</td>\n",
       "    </tr>\n",
       "    <tr>\n",
       "      <th>2346</th>\n",
       "      <td>IND.36.20.2_1</td>\n",
       "      <td>IND</td>\n",
       "      <td>India</td>\n",
       "      <td>IND.36_1</td>\n",
       "      <td>West Bengal</td>\n",
       "      <td>NA</td>\n",
       "      <td>IND.36.20_1</td>\n",
       "      <td>Uttar Dinajpur</td>\n",
       "      <td>NA</td>\n",
       "      <td>Raiganj</td>\n",
       "      <td>NA</td>\n",
       "      <td>NA</td>\n",
       "      <td>Taluk</td>\n",
       "      <td>Taluk</td>\n",
       "      <td>NA</td>\n",
       "      <td>NA</td>\n",
       "      <td>MULTIPOLYGON (((88.45433 25.663, 88.45429 25.6...</td>\n",
       "    </tr>\n",
       "  </tbody>\n",
       "</table>\n",
       "<p>2347 rows × 17 columns</p>\n",
       "</div>"
      ],
      "text/plain": [
       "              GID_3 GID_0 COUNTRY     GID_1               NAME_1 NL_NAME_1  \\\n",
       "0       IND.1.1.1_1   IND   India   IND.1_1  Andaman and Nicobar        NA   \n",
       "1       IND.1.2.1_1   IND   India   IND.1_1  Andaman and Nicobar        NA   \n",
       "2       IND.1.3.1_1   IND   India   IND.1_1  Andaman and Nicobar        NA   \n",
       "3       IND.2.1.1_1   IND   India   IND.2_1       Andhra Pradesh        NA   \n",
       "4       IND.2.1.2_1   IND   India   IND.2_1       Andhra Pradesh        NA   \n",
       "...             ...   ...     ...       ...                  ...       ...   \n",
       "2342  IND.36.19.1_1   IND   India  IND.36_1          West Bengal        NA   \n",
       "2343  IND.36.19.2_1   IND   India  IND.36_1          West Bengal        NA   \n",
       "2344  IND.36.19.3_1   IND   India  IND.36_1          West Bengal        NA   \n",
       "2345  IND.36.20.1_1   IND   India  IND.36_1          West Bengal        NA   \n",
       "2346  IND.36.20.2_1   IND   India  IND.36_1          West Bengal        NA   \n",
       "\n",
       "            GID_2                    NAME_2 NL_NAME_2           NAME_3  \\\n",
       "0       IND.1.1_1           Nicobar Islands        NA     n.a. ( 2304)   \n",
       "1       IND.1.2_1  North and Middle Andaman        NA     n.a. ( 2178)   \n",
       "2       IND.1.3_1             South Andaman        NA     n.a. ( 2178)   \n",
       "3       IND.2.1_1                 Anantapur        NA        Anantapur   \n",
       "4       IND.2.1_1                 Anantapur        NA      Dharmavaram   \n",
       "...           ...                       ...       ...              ...   \n",
       "2342  IND.36.19_1         South 24 Parganas        NA  Diamond Harbour   \n",
       "2343  IND.36.19_1         South 24 Parganas        NA     n.a. ( 1187)   \n",
       "2344  IND.36.19_1         South 24 Parganas        NA     n.a. ( 1229)   \n",
       "2345  IND.36.20_1            Uttar Dinajpur        NA         Islampur   \n",
       "2346  IND.36.20_1            Uttar Dinajpur        NA          Raiganj   \n",
       "\n",
       "     VARNAME_3 NL_NAME_3 TYPE_3 ENGTYPE_3 CC_3 HASC_3  \\\n",
       "0           NA        NA  Taluk     Taluk   NA     NA   \n",
       "1           NA        NA  Taluk     Taluk   NA     NA   \n",
       "2           NA        NA  Taluk     Taluk   NA     NA   \n",
       "3           NA        NA  Taluk     Taluk   NA     NA   \n",
       "4           NA        NA  Taluk     Taluk   NA     NA   \n",
       "...        ...       ...    ...       ...  ...    ...   \n",
       "2342        NA        NA  Taluk     Taluk   NA     NA   \n",
       "2343        NA        NA  Taluk     Taluk   NA     NA   \n",
       "2344        NA        NA  Taluk     Taluk   NA     NA   \n",
       "2345        NA        NA  Taluk     Taluk   NA     NA   \n",
       "2346        NA        NA  Taluk     Taluk   NA     NA   \n",
       "\n",
       "                                               geometry  \n",
       "0     MULTIPOLYGON (((93.78988 6.85201, 93.79015 6.8...  \n",
       "1     MULTIPOLYGON (((92.84441 12.14969, 92.84466 12...  \n",
       "2     MULTIPOLYGON (((92.52111 10.89694, 92.52306 10...  \n",
       "3     MULTIPOLYGON (((77.84469 14.58576, 77.83913 14...  \n",
       "4     MULTIPOLYGON (((77.35452 14.52155, 77.35507 14...  \n",
       "...                                                 ...  \n",
       "2342  MULTIPOLYGON (((88.02055 21.57222, 88.02139 21...  \n",
       "2343  MULTIPOLYGON (((88.73339 22.0436, 88.73342 22....  \n",
       "2344  MULTIPOLYGON (((88.49973 21.5975, 88.50222 21....  \n",
       "2345  MULTIPOLYGON (((88.3592 26.2426, 88.35914 26.2...  \n",
       "2346  MULTIPOLYGON (((88.45433 25.663, 88.45429 25.6...  \n",
       "\n",
       "[2347 rows x 17 columns]"
      ]
     },
     "execution_count": 29,
     "metadata": {},
     "output_type": "execute_result"
    }
   ],
   "source": [
    "adm3_gdf"
   ]
  },
  {
   "cell_type": "code",
   "execution_count": 32,
   "id": "14c10117",
   "metadata": {},
   "outputs": [
    {
     "data": {
      "text/plain": [
       "array(['IND.1.1.1_1', 'IND.1.2.1_1', 'IND.1.3.1_1', ..., 'IND.36.11.1_1',\n",
       "       'IND.36.15.2_1', 'IND.36.19.3_1'], shape=(2347,), dtype=object)"
      ]
     },
     "execution_count": 32,
     "metadata": {},
     "output_type": "execute_result"
    }
   ],
   "source": [
    "points_gdf.GID_3.unique()"
   ]
  }
 ],
 "metadata": {
  "kernelspec": {
   "display_name": "india_climate",
   "language": "python",
   "name": "python3"
  },
  "language_info": {
   "codemirror_mode": {
    "name": "ipython",
    "version": 3
   },
   "file_extension": ".py",
   "mimetype": "text/x-python",
   "name": "python",
   "nbconvert_exporter": "python",
   "pygments_lexer": "ipython3",
   "version": "3.13.0"
  }
 },
 "nbformat": 4,
 "nbformat_minor": 5
}
