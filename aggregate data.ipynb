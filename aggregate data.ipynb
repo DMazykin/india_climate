{
 "cells": [
  {
   "cell_type": "code",
   "execution_count": 15,
   "id": "e437d86e",
   "metadata": {},
   "outputs": [
    {
     "name": "stdout",
     "output_type": "stream",
     "text": [
      "Aggregated climate data per ADM3 saved to output/climate_agg_by_adm3.parquet with primary_key and title columns added. Temperature is now in Celsius.\n"
     ]
    }
   ],
   "source": [
    "# aggregate_climate_by_adm3.py\n",
    "\n",
    "import duckdb\n",
    "import pandas as pd\n",
    "\n",
    "# Connect to DuckDB database (with spatial extension)\n",
    "con = duckdb.connect('db/india_model.ddb')\n",
    "con.execute(\"INSTALL spatial; LOAD spatial;\")\n",
    "\n",
    "# Aggregate climate data by ADM3 region and date using correct column names\n",
    "query = \"\"\"\n",
    "SELECT\n",
    "    m.GID_3 as gid,\n",
    "    m.NAME_3 as name,\n",
    "    c.date,\n",
    "    AVG(c.t2m) AS avg_temperature,\n",
    "    SUM(c.tp) AS total_precipitation,\n",
    "    AVG(c.swvl1) AS avg_soil_moisture,\n",
    "    AVG(c.u10) AS avg_wind_u,\n",
    "    AVG(c.v10) AS avg_wind_v,\n",
    "    AVG(c.ssrd) AS avg_solar_radiation\n",
    "FROM climate_data AS c\n",
    "LEFT JOIN point_to_region_mapping AS m\n",
    "    ON c.latitude = m.latitude AND c.longitude = m.longitude\n",
    "WHERE m.GID_3 IS NOT NULL\n",
    "GROUP BY m.GID_3, m.NAME_3, c.date\n",
    "ORDER BY m.GID_3, c.date\n",
    "\"\"\"\n",
    "\n",
    "# Run the query and save the result\n",
    "df = con.execute(query).fetchdf()\n",
    "df['date'] = pd.to_datetime(df['date']).dt.date\n",
    "\n",
    "# Convert temperature from Kelvin to Celsius\n",
    "if 'avg_temperature' in df.columns:\n",
    "    df['avg_temperature'] = df['avg_temperature'] - 273.15\n",
    "\n",
    "# Add primary key and title columns\n",
    "df['primary_key'] = df['gid'].astype(str) + '_' + df['date'].astype(str)\n",
    "df['title'] = df['name'].astype(str) + ' - ' + df['date'].astype(str)\n",
    "\n",
    "\n",
    "# Move primary_key to the first column and title to the second\n",
    "cols = ['primary_key', 'title'] + [col for col in df.columns if col not in ['primary_key', 'title']]\n",
    "df = df[cols]\n",
    "\n",
    "df.to_parquet(\"output/climate_agg_by_adm3.parquet\")\n",
    "\n",
    "print(\"Aggregated climate data per ADM3 saved to output/climate_agg_by_adm3.parquet with primary_key and title columns added. Temperature is now in Celsius.\")"
   ]
  },
  {
   "cell_type": "markdown",
   "id": "b4271708",
   "metadata": {},
   "source": [
    "# Foundry Time Series Sync Format for Climate Data\n",
    "\n",
    "This notebook cell demonstrates how to transform aggregated climate data into the long-format structure required for Foundry time series syncs. Each row represents a single value for a region, parameter, and timestamp, making it easy to add new parameters and fully compatible with Foundry's time series tools."
   ]
  },
  {
   "cell_type": "code",
   "execution_count": 16,
   "id": "2493e4e9",
   "metadata": {},
   "outputs": [
    {
     "name": "stdout",
     "output_type": "stream",
     "text": [
      "Saved long-format time series sync file for Foundry: output/climate_agg_by_adm3_timeseries.parquet\n"
     ]
    }
   ],
   "source": [
    "# After df is created and temperature is converted to Celsius\n",
    "\n",
    "# Melt the DataFrame to long format for time series sync\n",
    "long_df = df.melt(\n",
    "    id_vars=[\"gid\", \"name\", \"date\", \"primary_key\", \"title\"],\n",
    "    value_vars=[\n",
    "        \"avg_temperature\",\n",
    "        \"total_precipitation\",\n",
    "        \"avg_soil_moisture\",\n",
    "        \"avg_wind_u\",\n",
    "        \"avg_wind_v\",\n",
    "        \"avg_solar_radiation\"\n",
    "    ],\n",
    "    var_name=\"parameter\",\n",
    "    value_name=\"value\"\n",
    ")\n",
    "\n",
    "# Rename columns to match Foundry time series sync requirements\n",
    "long_df = long_df.rename(columns={\n",
    "    \"gid\": \"series_id\",   # Series ID for the time series\n",
    "    \"date\": \"timestamp\"   # Timestamp column\n",
    "})\n",
    "\n",
    "# Select and order columns for Foundry time series sync\n",
    "long_df = long_df[[\n",
    "    \"series_id\",    # Region GID (ADM3)\n",
    "    \"timestamp\",    # Timestamp (date)\n",
    "    \"parameter\",    # Parameter name (e.g., avg_temperature)\n",
    "    \"value\",        # Value for the parameter\n",
    "    \"name\",         # Region name (optional, for context)\n",
    "    \"primary_key\",  # Unique row key (optional)\n",
    "    \"title\"         # Title (optional)\n",
    "]]\n",
    "\n",
    "# Save to Parquet for Foundry time series sync\n",
    "long_df.to_parquet(\"output/climate_agg_by_adm3_timeseries.parquet\")\n",
    "\n",
    "print(\"Saved long-format time series sync file for Foundry: output/climate_agg_by_adm3_timeseries.parquet\")"
   ]
  }
 ],
 "metadata": {
  "kernelspec": {
   "display_name": ".venv",
   "language": "python",
   "name": "python3"
  },
  "language_info": {
   "codemirror_mode": {
    "name": "ipython",
    "version": 3
   },
   "file_extension": ".py",
   "mimetype": "text/x-python",
   "name": "python",
   "nbconvert_exporter": "python",
   "pygments_lexer": "ipython3",
   "version": "3.13.0"
  }
 },
 "nbformat": 4,
 "nbformat_minor": 5
}
