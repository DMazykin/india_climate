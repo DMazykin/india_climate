{
 "cells": [
  {
   "cell_type": "markdown",
   "id": "1440e472",
   "metadata": {},
   "source": [
    "### Download data"
   ]
  },
  {
   "cell_type": "code",
   "execution_count": 1,
   "id": "3b678afd",
   "metadata": {},
   "outputs": [
    {
     "name": "stderr",
     "output_type": "stream",
     "text": [
      "2025-06-15 20:45:32,231 INFO [2025-06-10T00:00:00] To improve our C3S service, we need to hear from you! Please complete this very short [survey](https://confluence.ecmwf.int/x/E7uBEQ/). Thank you.\n",
      "2025-06-15 20:45:32,234 INFO [2024-09-26T00:00:00] Watch our [Forum](https://forum.ecmwf.int/) for Announcements, news and other discussed topics.\n",
      "2025-06-15 20:45:32,587 INFO Request ID is f707319c-4f79-4a7e-905d-c7f98f978f30\n",
      "2025-06-15 20:45:32,654 INFO status has been updated to accepted\n",
      "2025-06-15 20:45:53,915 INFO status has been updated to running\n",
      "2025-06-15 20:46:05,503 INFO status has been updated to successful\n"
     ]
    },
    {
     "data": {
      "application/vnd.jupyter.widget-view+json": {
       "model_id": "e4fee5fae56e4345a5c56ae13f778047",
       "version_major": 2,
       "version_minor": 0
      },
      "text/plain": [
       "dd1400a72bc7c7c3f969ebe874840a11.zip:   0%|          | 0.00/30.1M [00:00<?, ?B/s]"
      ]
     },
     "metadata": {},
     "output_type": "display_data"
    },
    {
     "data": {
      "text/plain": [
       "'era5_monthly_data_09_25.nc'"
      ]
     },
     "execution_count": 1,
     "metadata": {},
     "output_type": "execute_result"
    }
   ],
   "source": [
    "import cdsapi\n",
    "\n",
    "\n",
    "c = cdsapi.Client()\n",
    "\n",
    "c.retrieve(\n",
    "    'reanalysis-era5-single-levels-monthly-means',  # dataset for monthly averages\n",
    "    {\n",
    "        'product_type': 'monthly_averaged_reanalysis',\n",
    "        'variable': [\n",
    "            '2m_temperature',            # Average temperature at 2 meters\n",
    "            'total_precipitation',       # Total precipitation\n",
    "            'volumetric_soil_water_layer_1',  # Soil moisture\n",
    "            '10m_u_component_of_wind',   # Wind u-component at 10m\n",
    "            '10m_v_component_of_wind',   # Wind v-component at 10m\n",
    "            'surface_solar_radiation_downwards'  # Solar radiation\n",
    "        ],\n",
    "        'year': [str(year) for year in range(2009, 2025)],  # Last 15 years\n",
    "        'month': [\n",
    "            '01', '02', '03', '04', '05', '06', \n",
    "            '07', '08', '09', '10', '11', '12'\n",
    "        ],                              # Months for the entire year\n",
    "        'time': '00:00',\n",
    "        'area': [\n",
    "            38, 68, 6, 97,              # North, West, South, East for India\n",
    "        ],\n",
    "        'format': 'netcdf'              # Output format (netCDF is common for climate data)\n",
    "    },\n",
    "    'era5_monthly_data_09_25.nc')             # Save as file"
   ]
  }
 ],
 "metadata": {
  "kernelspec": {
   "display_name": ".venv",
   "language": "python",
   "name": "python3"
  },
  "language_info": {
   "codemirror_mode": {
    "name": "ipython",
    "version": 3
   },
   "file_extension": ".py",
   "mimetype": "text/x-python",
   "name": "python",
   "nbconvert_exporter": "python",
   "pygments_lexer": "ipython3",
   "version": "3.13.0"
  }
 },
 "nbformat": 4,
 "nbformat_minor": 5
}
